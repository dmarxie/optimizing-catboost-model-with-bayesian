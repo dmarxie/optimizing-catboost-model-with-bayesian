{
 "cells": [
  {
   "cell_type": "code",
   "execution_count": 1,
   "metadata": {},
   "outputs": [],
   "source": [
    "import pandas as pd\n",
    "import numpy as np\n",
    "from catboost import CatBoostClassifier, Pool"
   ]
  },
  {
   "cell_type": "code",
   "execution_count": 10,
   "metadata": {},
   "outputs": [],
   "source": [
    "# Example data with ICD-9 codes\n",
    "data = pd.DataFrame({\n",
    "    'diag1': ['250.00', '401.9', '414.01', '250.02', '403.01'],\n",
    "    'diag2': ['401.9', '250.00', '401.1', '403.01', '250.02'],\n",
    "    'diag3': ['414.01', '403.01', '401.9', '414.01', '250.00'],\n",
    "    'age': [45, 63, 50, 29, 77],\n",
    "    'target': [1, 0, 1, 0, 1]\n",
    "})"
   ]
  },
  {
   "cell_type": "code",
   "execution_count": 11,
   "metadata": {},
   "outputs": [],
   "source": [
    "X = data[['diag1', 'diag2', 'diag3', 'age']]\n",
    "y = data['target']\n",
    "\n",
    "cat_features = ['diag1', 'diag2', 'diag3']"
   ]
  },
  {
   "cell_type": "code",
   "execution_count": 12,
   "metadata": {},
   "outputs": [],
   "source": [
    "train_pool = Pool(data=X, label=y, cat_features=cat_features)\n"
   ]
  },
  {
   "cell_type": "code",
   "execution_count": 13,
   "metadata": {},
   "outputs": [
    {
     "data": {
      "text/plain": [
       "<catboost.core.CatBoostClassifier at 0x1717ea3e950>"
      ]
     },
     "execution_count": 13,
     "metadata": {},
     "output_type": "execute_result"
    }
   ],
   "source": [
    "model = CatBoostClassifier(iterations=50, depth=4, learning_rate=0.1, verbose=False)\n",
    "model.fit(train_pool)"
   ]
  },
  {
   "cell_type": "code",
   "execution_count": 16,
   "metadata": {},
   "outputs": [
    {
     "name": "stdout",
     "output_type": "stream",
     "text": [
      "Categorical Indices: [0, 1, 2]\n"
     ]
    }
   ],
   "source": [
    "cat_indices = train_pool.get_cat_feature_indices()\n",
    "print(\"Categorical Indices:\", cat_indices)"
   ]
  }
 ],
 "metadata": {
  "kernelspec": {
   "display_name": "env",
   "language": "python",
   "name": "python3"
  },
  "language_info": {
   "codemirror_mode": {
    "name": "ipython",
    "version": 3
   },
   "file_extension": ".py",
   "mimetype": "text/x-python",
   "name": "python",
   "nbconvert_exporter": "python",
   "pygments_lexer": "ipython3",
   "version": "3.11.0"
  }
 },
 "nbformat": 4,
 "nbformat_minor": 2
}
