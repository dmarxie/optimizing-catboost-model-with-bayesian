{
 "cells": [
  {
   "cell_type": "code",
   "execution_count": 1,
   "metadata": {},
   "outputs": [
    {
     "name": "stdout",
     "output_type": "stream",
     "text": [
      "---1---\n",
      "Requirement already satisfied: pandas in d:\\optimizing-catboost-model-with-bayesian\\env\\lib\\site-packages (2.2.3)\n",
      "Requirement already satisfied: numpy>=1.23.2 in d:\\optimizing-catboost-model-with-bayesian\\env\\lib\\site-packages (from pandas) (1.26.4)\n",
      "Requirement already satisfied: python-dateutil>=2.8.2 in d:\\optimizing-catboost-model-with-bayesian\\env\\lib\\site-packages (from pandas) (2.9.0.post0)\n",
      "Requirement already satisfied: pytz>=2020.1 in d:\\optimizing-catboost-model-with-bayesian\\env\\lib\\site-packages (from pandas) (2024.2)\n",
      "Requirement already satisfied: tzdata>=2022.7 in d:\\optimizing-catboost-model-with-bayesian\\env\\lib\\site-packages (from pandas) (2024.2)\n",
      "Requirement already satisfied: six>=1.5 in d:\\optimizing-catboost-model-with-bayesian\\env\\lib\\site-packages (from python-dateutil>=2.8.2->pandas) (1.17.0)\n",
      "Note: you may need to restart the kernel to use updated packages.\n",
      "---2---\n"
     ]
    },
    {
     "name": "stderr",
     "output_type": "stream",
     "text": [
      "\n",
      "[notice] A new release of pip is available: 24.3.1 -> 25.0.1\n",
      "[notice] To update, run: python.exe -m pip install --upgrade pip\n"
     ]
    },
    {
     "name": "stdout",
     "output_type": "stream",
     "text": [
      "Requirement already satisfied: seaborn in d:\\optimizing-catboost-model-with-bayesian\\env\\lib\\site-packages (0.13.2)\n",
      "Requirement already satisfied: numpy!=1.24.0,>=1.20 in d:\\optimizing-catboost-model-with-bayesian\\env\\lib\\site-packages (from seaborn) (1.26.4)\n",
      "Requirement already satisfied: pandas>=1.2 in d:\\optimizing-catboost-model-with-bayesian\\env\\lib\\site-packages (from seaborn) (2.2.3)\n",
      "Requirement already satisfied: matplotlib!=3.6.1,>=3.4 in d:\\optimizing-catboost-model-with-bayesian\\env\\lib\\site-packages (from seaborn) (3.10.0)\n",
      "Requirement already satisfied: contourpy>=1.0.1 in d:\\optimizing-catboost-model-with-bayesian\\env\\lib\\site-packages (from matplotlib!=3.6.1,>=3.4->seaborn) (1.3.1)\n",
      "Requirement already satisfied: cycler>=0.10 in d:\\optimizing-catboost-model-with-bayesian\\env\\lib\\site-packages (from matplotlib!=3.6.1,>=3.4->seaborn) (0.12.1)\n",
      "Requirement already satisfied: fonttools>=4.22.0 in d:\\optimizing-catboost-model-with-bayesian\\env\\lib\\site-packages (from matplotlib!=3.6.1,>=3.4->seaborn) (4.55.3)\n",
      "Requirement already satisfied: kiwisolver>=1.3.1 in d:\\optimizing-catboost-model-with-bayesian\\env\\lib\\site-packages (from matplotlib!=3.6.1,>=3.4->seaborn) (1.4.7)\n",
      "Requirement already satisfied: packaging>=20.0 in d:\\optimizing-catboost-model-with-bayesian\\env\\lib\\site-packages (from matplotlib!=3.6.1,>=3.4->seaborn) (24.2)\n",
      "Requirement already satisfied: pillow>=8 in d:\\optimizing-catboost-model-with-bayesian\\env\\lib\\site-packages (from matplotlib!=3.6.1,>=3.4->seaborn) (11.0.0)\n",
      "Requirement already satisfied: pyparsing>=2.3.1 in d:\\optimizing-catboost-model-with-bayesian\\env\\lib\\site-packages (from matplotlib!=3.6.1,>=3.4->seaborn) (3.2.0)\n",
      "Requirement already satisfied: python-dateutil>=2.7 in d:\\optimizing-catboost-model-with-bayesian\\env\\lib\\site-packages (from matplotlib!=3.6.1,>=3.4->seaborn) (2.9.0.post0)\n",
      "Requirement already satisfied: pytz>=2020.1 in d:\\optimizing-catboost-model-with-bayesian\\env\\lib\\site-packages (from pandas>=1.2->seaborn) (2024.2)\n",
      "Requirement already satisfied: tzdata>=2022.7 in d:\\optimizing-catboost-model-with-bayesian\\env\\lib\\site-packages (from pandas>=1.2->seaborn) (2024.2)\n",
      "Requirement already satisfied: six>=1.5 in d:\\optimizing-catboost-model-with-bayesian\\env\\lib\\site-packages (from python-dateutil>=2.7->matplotlib!=3.6.1,>=3.4->seaborn) (1.17.0)\n",
      "Note: you may need to restart the kernel to use updated packages.\n",
      "---3---\n"
     ]
    },
    {
     "name": "stderr",
     "output_type": "stream",
     "text": [
      "\n",
      "[notice] A new release of pip is available: 24.3.1 -> 25.0.1\n",
      "[notice] To update, run: python.exe -m pip install --upgrade pip\n"
     ]
    },
    {
     "name": "stdout",
     "output_type": "stream",
     "text": [
      "Requirement already satisfied: scikit-learn in d:\\optimizing-catboost-model-with-bayesian\\env\\lib\\site-packages (1.6.1)\n",
      "Requirement already satisfied: numpy>=1.19.5 in d:\\optimizing-catboost-model-with-bayesian\\env\\lib\\site-packages (from scikit-learn) (1.26.4)\n",
      "Requirement already satisfied: scipy>=1.6.0 in d:\\optimizing-catboost-model-with-bayesian\\env\\lib\\site-packages (from scikit-learn) (1.14.1)\n",
      "Requirement already satisfied: joblib>=1.2.0 in d:\\optimizing-catboost-model-with-bayesian\\env\\lib\\site-packages (from scikit-learn) (1.4.2)\n",
      "Requirement already satisfied: threadpoolctl>=3.1.0 in d:\\optimizing-catboost-model-with-bayesian\\env\\lib\\site-packages (from scikit-learn) (3.5.0)\n",
      "Note: you may need to restart the kernel to use updated packages.\n",
      "---4---\n"
     ]
    },
    {
     "name": "stderr",
     "output_type": "stream",
     "text": [
      "\n",
      "[notice] A new release of pip is available: 24.3.1 -> 25.0.1\n",
      "[notice] To update, run: python.exe -m pip install --upgrade pip\n"
     ]
    },
    {
     "name": "stdout",
     "output_type": "stream",
     "text": [
      "Requirement already satisfied: catboost in d:\\optimizing-catboost-model-with-bayesian\\env\\lib\\site-packages (1.2.7)\n",
      "Requirement already satisfied: graphviz in d:\\optimizing-catboost-model-with-bayesian\\env\\lib\\site-packages (from catboost) (0.20.3)\n",
      "Requirement already satisfied: matplotlib in d:\\optimizing-catboost-model-with-bayesian\\env\\lib\\site-packages (from catboost) (3.10.0)\n",
      "Requirement already satisfied: numpy<2.0,>=1.16.0 in d:\\optimizing-catboost-model-with-bayesian\\env\\lib\\site-packages (from catboost) (1.26.4)\n",
      "Requirement already satisfied: pandas>=0.24 in d:\\optimizing-catboost-model-with-bayesian\\env\\lib\\site-packages (from catboost) (2.2.3)\n",
      "Requirement already satisfied: scipy in d:\\optimizing-catboost-model-with-bayesian\\env\\lib\\site-packages (from catboost) (1.14.1)\n",
      "Requirement already satisfied: plotly in d:\\optimizing-catboost-model-with-bayesian\\env\\lib\\site-packages (from catboost) (5.24.1)\n",
      "Requirement already satisfied: six in d:\\optimizing-catboost-model-with-bayesian\\env\\lib\\site-packages (from catboost) (1.17.0)\n",
      "Requirement already satisfied: python-dateutil>=2.8.2 in d:\\optimizing-catboost-model-with-bayesian\\env\\lib\\site-packages (from pandas>=0.24->catboost) (2.9.0.post0)\n",
      "Requirement already satisfied: pytz>=2020.1 in d:\\optimizing-catboost-model-with-bayesian\\env\\lib\\site-packages (from pandas>=0.24->catboost) (2024.2)\n",
      "Requirement already satisfied: tzdata>=2022.7 in d:\\optimizing-catboost-model-with-bayesian\\env\\lib\\site-packages (from pandas>=0.24->catboost) (2024.2)\n",
      "Requirement already satisfied: contourpy>=1.0.1 in d:\\optimizing-catboost-model-with-bayesian\\env\\lib\\site-packages (from matplotlib->catboost) (1.3.1)\n",
      "Requirement already satisfied: cycler>=0.10 in d:\\optimizing-catboost-model-with-bayesian\\env\\lib\\site-packages (from matplotlib->catboost) (0.12.1)\n",
      "Requirement already satisfied: fonttools>=4.22.0 in d:\\optimizing-catboost-model-with-bayesian\\env\\lib\\site-packages (from matplotlib->catboost) (4.55.3)\n",
      "Requirement already satisfied: kiwisolver>=1.3.1 in d:\\optimizing-catboost-model-with-bayesian\\env\\lib\\site-packages (from matplotlib->catboost) (1.4.7)\n",
      "Requirement already satisfied: packaging>=20.0 in d:\\optimizing-catboost-model-with-bayesian\\env\\lib\\site-packages (from matplotlib->catboost) (24.2)\n",
      "Requirement already satisfied: pillow>=8 in d:\\optimizing-catboost-model-with-bayesian\\env\\lib\\site-packages (from matplotlib->catboost) (11.0.0)\n",
      "Requirement already satisfied: pyparsing>=2.3.1 in d:\\optimizing-catboost-model-with-bayesian\\env\\lib\\site-packages (from matplotlib->catboost) (3.2.0)\n",
      "Requirement already satisfied: tenacity>=6.2.0 in d:\\optimizing-catboost-model-with-bayesian\\env\\lib\\site-packages (from plotly->catboost) (9.0.0)\n",
      "Note: you may need to restart the kernel to use updated packages.\n",
      "---5---\n"
     ]
    },
    {
     "name": "stderr",
     "output_type": "stream",
     "text": [
      "\n",
      "[notice] A new release of pip is available: 24.3.1 -> 25.0.1\n",
      "[notice] To update, run: python.exe -m pip install --upgrade pip\n"
     ]
    },
    {
     "name": "stdout",
     "output_type": "stream",
     "text": [
      "Requirement already satisfied: ipywidgets in d:\\optimizing-catboost-model-with-bayesian\\env\\lib\\site-packages (8.1.5)\n",
      "Requirement already satisfied: comm>=0.1.3 in d:\\optimizing-catboost-model-with-bayesian\\env\\lib\\site-packages (from ipywidgets) (0.2.2)\n",
      "Requirement already satisfied: ipython>=6.1.0 in d:\\optimizing-catboost-model-with-bayesian\\env\\lib\\site-packages (from ipywidgets) (8.31.0)\n",
      "Requirement already satisfied: traitlets>=4.3.1 in d:\\optimizing-catboost-model-with-bayesian\\env\\lib\\site-packages (from ipywidgets) (5.14.3)\n",
      "Requirement already satisfied: widgetsnbextension~=4.0.12 in d:\\optimizing-catboost-model-with-bayesian\\env\\lib\\site-packages (from ipywidgets) (4.0.13)\n",
      "Requirement already satisfied: jupyterlab-widgets~=3.0.12 in d:\\optimizing-catboost-model-with-bayesian\\env\\lib\\site-packages (from ipywidgets) (3.0.13)\n",
      "Requirement already satisfied: colorama in d:\\optimizing-catboost-model-with-bayesian\\env\\lib\\site-packages (from ipython>=6.1.0->ipywidgets) (0.4.6)\n",
      "Requirement already satisfied: decorator in d:\\optimizing-catboost-model-with-bayesian\\env\\lib\\site-packages (from ipython>=6.1.0->ipywidgets) (5.1.1)\n",
      "Requirement already satisfied: jedi>=0.16 in d:\\optimizing-catboost-model-with-bayesian\\env\\lib\\site-packages (from ipython>=6.1.0->ipywidgets) (0.19.2)\n",
      "Requirement already satisfied: matplotlib-inline in d:\\optimizing-catboost-model-with-bayesian\\env\\lib\\site-packages (from ipython>=6.1.0->ipywidgets) (0.1.7)\n",
      "Requirement already satisfied: prompt_toolkit<3.1.0,>=3.0.41 in d:\\optimizing-catboost-model-with-bayesian\\env\\lib\\site-packages (from ipython>=6.1.0->ipywidgets) (3.0.50)\n",
      "Requirement already satisfied: pygments>=2.4.0 in d:\\optimizing-catboost-model-with-bayesian\\env\\lib\\site-packages (from ipython>=6.1.0->ipywidgets) (2.19.1)\n",
      "Requirement already satisfied: stack_data in d:\\optimizing-catboost-model-with-bayesian\\env\\lib\\site-packages (from ipython>=6.1.0->ipywidgets) (0.6.3)\n",
      "Requirement already satisfied: typing_extensions>=4.6 in d:\\optimizing-catboost-model-with-bayesian\\env\\lib\\site-packages (from ipython>=6.1.0->ipywidgets) (4.12.2)\n",
      "Requirement already satisfied: parso<0.9.0,>=0.8.4 in d:\\optimizing-catboost-model-with-bayesian\\env\\lib\\site-packages (from jedi>=0.16->ipython>=6.1.0->ipywidgets) (0.8.4)\n",
      "Requirement already satisfied: wcwidth in d:\\optimizing-catboost-model-with-bayesian\\env\\lib\\site-packages (from prompt_toolkit<3.1.0,>=3.0.41->ipython>=6.1.0->ipywidgets) (0.2.13)\n",
      "Requirement already satisfied: executing>=1.2.0 in d:\\optimizing-catboost-model-with-bayesian\\env\\lib\\site-packages (from stack_data->ipython>=6.1.0->ipywidgets) (2.1.0)\n",
      "Requirement already satisfied: asttokens>=2.1.0 in d:\\optimizing-catboost-model-with-bayesian\\env\\lib\\site-packages (from stack_data->ipython>=6.1.0->ipywidgets) (3.0.0)\n",
      "Requirement already satisfied: pure-eval in d:\\optimizing-catboost-model-with-bayesian\\env\\lib\\site-packages (from stack_data->ipython>=6.1.0->ipywidgets) (0.2.3)\n",
      "Note: you may need to restart the kernel to use updated packages.\n",
      "---6---\n"
     ]
    },
    {
     "name": "stderr",
     "output_type": "stream",
     "text": [
      "\n",
      "[notice] A new release of pip is available: 24.3.1 -> 25.0.1\n",
      "[notice] To update, run: python.exe -m pip install --upgrade pip\n"
     ]
    },
    {
     "name": "stdout",
     "output_type": "stream",
     "text": [
      "Requirement already satisfied: pandas in d:\\optimizing-catboost-model-with-bayesian\\env\\lib\\site-packages (2.2.3)\n",
      "Requirement already satisfied: openpyxl in d:\\optimizing-catboost-model-with-bayesian\\env\\lib\\site-packages (3.1.5)\n",
      "Requirement already satisfied: numpy>=1.23.2 in d:\\optimizing-catboost-model-with-bayesian\\env\\lib\\site-packages (from pandas) (1.26.4)\n",
      "Requirement already satisfied: python-dateutil>=2.8.2 in d:\\optimizing-catboost-model-with-bayesian\\env\\lib\\site-packages (from pandas) (2.9.0.post0)\n",
      "Requirement already satisfied: pytz>=2020.1 in d:\\optimizing-catboost-model-with-bayesian\\env\\lib\\site-packages (from pandas) (2024.2)\n",
      "Requirement already satisfied: tzdata>=2022.7 in d:\\optimizing-catboost-model-with-bayesian\\env\\lib\\site-packages (from pandas) (2024.2)\n",
      "Requirement already satisfied: et-xmlfile in d:\\optimizing-catboost-model-with-bayesian\\env\\lib\\site-packages (from openpyxl) (2.0.0)\n",
      "Requirement already satisfied: six>=1.5 in d:\\optimizing-catboost-model-with-bayesian\\env\\lib\\site-packages (from python-dateutil>=2.8.2->pandas) (1.17.0)\n",
      "Note: you may need to restart the kernel to use updated packages.\n"
     ]
    },
    {
     "name": "stderr",
     "output_type": "stream",
     "text": [
      "\n",
      "[notice] A new release of pip is available: 24.3.1 -> 25.0.1\n",
      "[notice] To update, run: python.exe -m pip install --upgrade pip\n"
     ]
    }
   ],
   "source": [
    "#PIP INSTALLATION\n",
    "print('---1---')\n",
    "%pip install pandas\n",
    "print('---2---')\n",
    "%pip install seaborn\n",
    "print('---3---')\n",
    "%pip install scikit-learn\n",
    "print('---4---')\n",
    "%pip install catboost\n",
    "print('---5---')\n",
    "%pip install ipywidgets\n",
    "print('---6---')\n",
    "%pip install pandas openpyxl"
   ]
  },
  {
   "cell_type": "code",
   "execution_count": 2,
   "metadata": {},
   "outputs": [],
   "source": [
    "#FROM LIBRARIES\n",
    "from sklearn.model_selection import train_test_split\n",
    "from sklearn.model_selection import StratifiedKFold\n",
    "from sklearn.preprocessing import StandardScaler\n",
    "from catboost import CatBoostClassifier, Pool\n",
    "from IPython.display import FileLink\n",
    "from sklearn.preprocessing import LabelEncoder\n",
    "from sklearn import metrics\n",
    "from typing import List, Optional\n",
    "from sklearn.metrics import (\n",
    "    accuracy_score, precision_score, recall_score, f1_score,\n",
    "    roc_auc_score, confusion_matrix, roc_curve\n",
    ")\n",
    "\n",
    "#IMPORT AS\n",
    "import numpy as np\n",
    "import pandas as pd\n",
    "import seaborn as sns\n",
    "import matplotlib.pyplot as plt\n",
    "\n",
    "%matplotlib inline\n",
    "plt.style.use('ggplot')"
   ]
  },
  {
   "cell_type": "code",
   "execution_count": 3,
   "metadata": {},
   "outputs": [
    {
     "data": {
      "text/html": [
       "<div>\n",
       "<style scoped>\n",
       "    .dataframe tbody tr th:only-of-type {\n",
       "        vertical-align: middle;\n",
       "    }\n",
       "\n",
       "    .dataframe tbody tr th {\n",
       "        vertical-align: top;\n",
       "    }\n",
       "\n",
       "    .dataframe thead th {\n",
       "        text-align: right;\n",
       "    }\n",
       "</style>\n",
       "<table border=\"1\" class=\"dataframe\">\n",
       "  <thead>\n",
       "    <tr style=\"text-align: right;\">\n",
       "      <th></th>\n",
       "      <th>encounter_id</th>\n",
       "      <th>patient_nbr</th>\n",
       "      <th>race</th>\n",
       "      <th>gender</th>\n",
       "      <th>age</th>\n",
       "      <th>weight</th>\n",
       "      <th>admission_type_id</th>\n",
       "      <th>discharge_disposition_id</th>\n",
       "      <th>admission_source_id</th>\n",
       "      <th>time_in_hospital</th>\n",
       "      <th>...</th>\n",
       "      <th>citoglipton</th>\n",
       "      <th>insulin</th>\n",
       "      <th>glyburide-metformin</th>\n",
       "      <th>glipizide-metformin</th>\n",
       "      <th>glimepiride-pioglitazone</th>\n",
       "      <th>metformin-rosiglitazone</th>\n",
       "      <th>metformin-pioglitazone</th>\n",
       "      <th>change</th>\n",
       "      <th>diabetesMed</th>\n",
       "      <th>readmitted</th>\n",
       "    </tr>\n",
       "  </thead>\n",
       "  <tbody>\n",
       "    <tr>\n",
       "      <th>0</th>\n",
       "      <td>2278392</td>\n",
       "      <td>8222157</td>\n",
       "      <td>Caucasian</td>\n",
       "      <td>Female</td>\n",
       "      <td>[0-10)</td>\n",
       "      <td>?</td>\n",
       "      <td>6</td>\n",
       "      <td>25</td>\n",
       "      <td>1</td>\n",
       "      <td>1</td>\n",
       "      <td>...</td>\n",
       "      <td>No</td>\n",
       "      <td>No</td>\n",
       "      <td>No</td>\n",
       "      <td>No</td>\n",
       "      <td>No</td>\n",
       "      <td>No</td>\n",
       "      <td>No</td>\n",
       "      <td>No</td>\n",
       "      <td>No</td>\n",
       "      <td>NO</td>\n",
       "    </tr>\n",
       "    <tr>\n",
       "      <th>1</th>\n",
       "      <td>149190</td>\n",
       "      <td>55629189</td>\n",
       "      <td>Caucasian</td>\n",
       "      <td>Female</td>\n",
       "      <td>[10-20)</td>\n",
       "      <td>?</td>\n",
       "      <td>1</td>\n",
       "      <td>1</td>\n",
       "      <td>7</td>\n",
       "      <td>3</td>\n",
       "      <td>...</td>\n",
       "      <td>No</td>\n",
       "      <td>Up</td>\n",
       "      <td>No</td>\n",
       "      <td>No</td>\n",
       "      <td>No</td>\n",
       "      <td>No</td>\n",
       "      <td>No</td>\n",
       "      <td>Ch</td>\n",
       "      <td>Yes</td>\n",
       "      <td>&gt;30</td>\n",
       "    </tr>\n",
       "    <tr>\n",
       "      <th>2</th>\n",
       "      <td>64410</td>\n",
       "      <td>86047875</td>\n",
       "      <td>AfricanAmerican</td>\n",
       "      <td>Female</td>\n",
       "      <td>[20-30)</td>\n",
       "      <td>?</td>\n",
       "      <td>1</td>\n",
       "      <td>1</td>\n",
       "      <td>7</td>\n",
       "      <td>2</td>\n",
       "      <td>...</td>\n",
       "      <td>No</td>\n",
       "      <td>No</td>\n",
       "      <td>No</td>\n",
       "      <td>No</td>\n",
       "      <td>No</td>\n",
       "      <td>No</td>\n",
       "      <td>No</td>\n",
       "      <td>No</td>\n",
       "      <td>Yes</td>\n",
       "      <td>NO</td>\n",
       "    </tr>\n",
       "    <tr>\n",
       "      <th>3</th>\n",
       "      <td>500364</td>\n",
       "      <td>82442376</td>\n",
       "      <td>Caucasian</td>\n",
       "      <td>Male</td>\n",
       "      <td>[30-40)</td>\n",
       "      <td>?</td>\n",
       "      <td>1</td>\n",
       "      <td>1</td>\n",
       "      <td>7</td>\n",
       "      <td>2</td>\n",
       "      <td>...</td>\n",
       "      <td>No</td>\n",
       "      <td>Up</td>\n",
       "      <td>No</td>\n",
       "      <td>No</td>\n",
       "      <td>No</td>\n",
       "      <td>No</td>\n",
       "      <td>No</td>\n",
       "      <td>Ch</td>\n",
       "      <td>Yes</td>\n",
       "      <td>NO</td>\n",
       "    </tr>\n",
       "    <tr>\n",
       "      <th>4</th>\n",
       "      <td>16680</td>\n",
       "      <td>42519267</td>\n",
       "      <td>Caucasian</td>\n",
       "      <td>Male</td>\n",
       "      <td>[40-50)</td>\n",
       "      <td>?</td>\n",
       "      <td>1</td>\n",
       "      <td>1</td>\n",
       "      <td>7</td>\n",
       "      <td>1</td>\n",
       "      <td>...</td>\n",
       "      <td>No</td>\n",
       "      <td>Steady</td>\n",
       "      <td>No</td>\n",
       "      <td>No</td>\n",
       "      <td>No</td>\n",
       "      <td>No</td>\n",
       "      <td>No</td>\n",
       "      <td>Ch</td>\n",
       "      <td>Yes</td>\n",
       "      <td>NO</td>\n",
       "    </tr>\n",
       "  </tbody>\n",
       "</table>\n",
       "<p>5 rows × 50 columns</p>\n",
       "</div>"
      ],
      "text/plain": [
       "   encounter_id  patient_nbr             race  gender      age weight  \\\n",
       "0       2278392      8222157        Caucasian  Female   [0-10)      ?   \n",
       "1        149190     55629189        Caucasian  Female  [10-20)      ?   \n",
       "2         64410     86047875  AfricanAmerican  Female  [20-30)      ?   \n",
       "3        500364     82442376        Caucasian    Male  [30-40)      ?   \n",
       "4         16680     42519267        Caucasian    Male  [40-50)      ?   \n",
       "\n",
       "   admission_type_id  discharge_disposition_id  admission_source_id  \\\n",
       "0                  6                        25                    1   \n",
       "1                  1                         1                    7   \n",
       "2                  1                         1                    7   \n",
       "3                  1                         1                    7   \n",
       "4                  1                         1                    7   \n",
       "\n",
       "   time_in_hospital  ... citoglipton insulin  glyburide-metformin  \\\n",
       "0                 1  ...          No      No                   No   \n",
       "1                 3  ...          No      Up                   No   \n",
       "2                 2  ...          No      No                   No   \n",
       "3                 2  ...          No      Up                   No   \n",
       "4                 1  ...          No  Steady                   No   \n",
       "\n",
       "   glipizide-metformin  glimepiride-pioglitazone  metformin-rosiglitazone  \\\n",
       "0                   No                        No                       No   \n",
       "1                   No                        No                       No   \n",
       "2                   No                        No                       No   \n",
       "3                   No                        No                       No   \n",
       "4                   No                        No                       No   \n",
       "\n",
       "   metformin-pioglitazone  change diabetesMed readmitted  \n",
       "0                      No      No          No         NO  \n",
       "1                      No      Ch         Yes        >30  \n",
       "2                      No      No         Yes         NO  \n",
       "3                      No      Ch         Yes         NO  \n",
       "4                      No      Ch         Yes         NO  \n",
       "\n",
       "[5 rows x 50 columns]"
      ]
     },
     "execution_count": 3,
     "metadata": {},
     "output_type": "execute_result"
    }
   ],
   "source": [
    "file_path = 'Dataset/diabetic_data.csv'\n",
    "df = pd.read_csv(file_path,keep_default_na=False)\n",
    "df_clean = df.copy()\n",
    "df_clean.head()\n"
   ]
  },
  {
   "cell_type": "markdown",
   "metadata": {},
   "source": [
    "DATA CLEANING"
   ]
  },
  {
   "cell_type": "code",
   "execution_count": 4,
   "metadata": {},
   "outputs": [],
   "source": [
    "#REMOVING DUPLICATE DATA'S\n",
    "df_clean['patient_nbr'].value_counts()\n",
    "df_clean = df_clean.drop_duplicates(subset=['patient_nbr'])"
   ]
  },
  {
   "cell_type": "code",
   "execution_count": 5,
   "metadata": {},
   "outputs": [],
   "source": [
    "features_drop_list = ['encounter_id', 'patient_nbr', 'weight', 'payer_code', 'medical_specialty', 'repaglinide', 'nateglinide', 'chlorpropamide', 'acarbose', 'miglitol', 'troglitazone', 'tolazamide', 'examide', 'citoglipton', 'glyburide-metformin', 'glipizide-metformin', 'glimepiride-pioglitazone', 'metformin-rosiglitazone','metformin-pioglitazone', 'acetohexamide', 'tolbutamide']\n",
    "df_clean.drop(features_drop_list, axis=1, inplace=True)"
   ]
  },
  {
   "cell_type": "code",
   "execution_count": 6,
   "metadata": {},
   "outputs": [],
   "source": [
    "#start by setting all values containing E or V into 0 (as one category)\n",
    "df_clean.loc[df_clean['diag_1'].str.contains('V',na=False,case=False), 'diag_1'] = 0\n",
    "df_clean.loc[df_clean['diag_1'].str.contains('E',na=False,case=False), 'diag_1'] = 0\n",
    "df_clean.loc[df_clean['diag_2'].str.contains('V',na=False,case=False), 'diag_2'] = 0\n",
    "df_clean.loc[df_clean['diag_2'].str.contains('E',na=False,case=False), 'diag_2'] = 0\n",
    "df_clean.loc[df_clean['diag_3'].str.contains('V',na=False,case=False), 'diag_3'] = 0\n",
    "df_clean.loc[df_clean['diag_3'].str.contains('E',na=False,case=False), 'diag_3'] = 0\n",
    "\n",
    "#setting all missing values into -1\n",
    "df_clean['diag_1'] = df_clean['diag_1'].replace('?', -1)\n",
    "df_clean['diag_2'] = df_clean['diag_2'].replace('?', -1)\n",
    "df_clean['diag_3'] = df_clean['diag_3'].replace('?', -1)\n",
    "\n",
    "#No all diag values can be converted into numeric values\n",
    "df_clean['diag_1'] = df_clean['diag_1'].astype(float)\n",
    "df_clean['diag_2'] = df_clean['diag_2'].astype(float)\n",
    "df_clean['diag_3'] = df_clean['diag_3'].astype(float)"
   ]
  },
  {
   "cell_type": "code",
   "execution_count": 7,
   "metadata": {},
   "outputs": [
    {
     "name": "stdout",
     "output_type": "stream",
     "text": [
      "   diag_1  diag_2  diag_3\n",
      "0     3.0     0.0     0.0\n",
      "1     3.0     3.0     3.0\n",
      "2    11.0     3.0     0.0\n",
      "3     1.0     3.0     7.0\n",
      "4     2.0     2.0     3.0\n"
     ]
    }
   ],
   "source": [
    "# Ensure 'diag_1', 'diag_2', 'diag_3' are numeric\n",
    "df_clean[['diag_1', 'diag_2', 'diag_3']] = df_clean[['diag_1', 'diag_2', 'diag_3']].apply(pd.to_numeric, errors='coerce')\n",
    "\n",
    "def categorize_diag(df_clean, col):\n",
    "    df_clean.loc[(df_clean[col] >= 1) & (df_clean[col] < 140), col] = 1\n",
    "    df_clean.loc[(df_clean[col] >= 140) & (df_clean[col] < 240), col] = 2\n",
    "    df_clean.loc[(df_clean[col] >= 240) & (df_clean[col] < 280), col] = 3\n",
    "    df_clean.loc[(df_clean[col] >= 280) & (df_clean[col] < 290), col] = 4\n",
    "    df_clean.loc[(df_clean[col] >= 290) & (df_clean[col] < 320), col] = 5\n",
    "    df_clean.loc[(df_clean[col] >= 320) & (df_clean[col] < 390), col] = 6\n",
    "    df_clean.loc[(df_clean[col] >= 390) & (df_clean[col] < 460), col] = 7\n",
    "    df_clean.loc[(df_clean[col] >= 460) & (df_clean[col] < 520), col] = 8\n",
    "    df_clean.loc[(df_clean[col] >= 520) & (df_clean[col] < 580), col] = 9\n",
    "    df_clean.loc[(df_clean[col] >= 580) & (df_clean[col] < 630), col] = 10\n",
    "    df_clean.loc[(df_clean[col] >= 630) & (df_clean[col] < 680), col] = 11\n",
    "    df_clean.loc[(df_clean[col] >= 680) & (df_clean[col] < 710), col] = 12\n",
    "    df_clean.loc[(df_clean[col] >= 710) & (df_clean[col] < 740), col] = 13\n",
    "    df_clean.loc[(df_clean[col] >= 740) & (df_clean[col] < 760), col] = 14\n",
    "    df_clean.loc[(df_clean[col] >= 760) & (df_clean[col] < 780), col] = 15\n",
    "    df_clean.loc[(df_clean[col] >= 780) & (df_clean[col] < 800), col] = 16\n",
    "    df_clean.loc[(df_clean[col] >= 800) & (df_clean[col] < 1000), col] = 17\n",
    "    df_clean.loc[df_clean[col] == -1, col] = 0  # Handle missing values\n",
    "    \n",
    "# Apply function to diagnosis columns\n",
    "for col in ['diag_1', 'diag_2', 'diag_3']:\n",
    "    categorize_diag(df_clean, col)\n",
    "\n",
    "# Print the result\n",
    "print(df_clean[['diag_1', 'diag_2', 'diag_3']].head())"
   ]
  },
  {
   "cell_type": "code",
   "execution_count": 8,
   "metadata": {},
   "outputs": [
    {
     "data": {
      "text/plain": [
       "array([ 0.,  3.,  2.,  7.,  8.,  4., 17., 13., 10.,  1.,  9., 12.,  6.,\n",
       "       16.,  5., 11., 14.])"
      ]
     },
     "execution_count": 8,
     "metadata": {},
     "output_type": "execute_result"
    }
   ],
   "source": [
    "df_clean.diag_2.unique()"
   ]
  },
  {
   "cell_type": "code",
   "execution_count": 9,
   "metadata": {},
   "outputs": [
    {
     "data": {
      "text/plain": [
       "race\n",
       "Caucasian          53491\n",
       "AfricanAmerican    12887\n",
       "Other               3126\n",
       "Hispanic            1517\n",
       "Asian                497\n",
       "Name: count, dtype: int64"
      ]
     },
     "execution_count": 9,
     "metadata": {},
     "output_type": "execute_result"
    }
   ],
   "source": [
    "df_clean['race'] = df_clean['race'].replace('?', 'Other')\n",
    "df_clean.race.value_counts()"
   ]
  },
  {
   "cell_type": "code",
   "execution_count": 10,
   "metadata": {},
   "outputs": [
    {
     "data": {
      "text/plain": [
       "gender\n",
       "Female    38028\n",
       "Male      33490\n",
       "Name: count, dtype: int64"
      ]
     },
     "execution_count": 10,
     "metadata": {},
     "output_type": "execute_result"
    }
   ],
   "source": [
    "df_clean['gender'] = df_clean['gender'].replace('Unknown/Invalid', 'Female')\n",
    "df_clean.gender.value_counts()"
   ]
  },
  {
   "cell_type": "code",
   "execution_count": 11,
   "metadata": {},
   "outputs": [
    {
     "name": "stderr",
     "output_type": "stream",
     "text": [
      "C:\\Users\\SnowPlay\\AppData\\Local\\Temp\\ipykernel_18776\\2177177959.py:2: FutureWarning: Downcasting behavior in `replace` is deprecated and will be removed in a future version. To retain the old behavior, explicitly call `result.infer_objects(copy=False)`. To opt-in to the future behavior, set `pd.set_option('future.no_silent_downcasting', True)`\n",
      "  df_clean['gender'] = df_clean['gender'].replace('Female', 0)\n"
     ]
    },
    {
     "data": {
      "text/plain": [
       "gender\n",
       "0    38028\n",
       "1    33490\n",
       "Name: count, dtype: int64"
      ]
     },
     "execution_count": 11,
     "metadata": {},
     "output_type": "execute_result"
    }
   ],
   "source": [
    "df_clean['gender'] = df_clean['gender'].replace('Male', 1)\n",
    "df_clean['gender'] = df_clean['gender'].replace('Female', 0)\n",
    "df_clean.gender.value_counts()"
   ]
  },
  {
   "cell_type": "code",
   "execution_count": 12,
   "metadata": {},
   "outputs": [
    {
     "name": "stderr",
     "output_type": "stream",
     "text": [
      "C:\\Users\\SnowPlay\\AppData\\Local\\Temp\\ipykernel_18776\\856190937.py:7: FutureWarning: Downcasting behavior in `replace` is deprecated and will be removed in a future version. To retain the old behavior, explicitly call `result.infer_objects(copy=False)`. To opt-in to the future behavior, set `pd.set_option('future.no_silent_downcasting', True)`\n",
      "  df_clean['age'] = df_clean['age'].replace(age_replacements)\n"
     ]
    },
    {
     "data": {
      "text/plain": [
       "age\n",
       "75    18210\n",
       "65    15960\n",
       "55    12466\n",
       "85    11589\n",
       "45     6878\n",
       "35     2699\n",
       "95     1900\n",
       "25     1127\n",
       "15      535\n",
       "5       154\n",
       "Name: count, dtype: int64"
      ]
     },
     "execution_count": 12,
     "metadata": {},
     "output_type": "execute_result"
    }
   ],
   "source": [
    "age_replacements = {}\n",
    "for i in range(0, 10):\n",
    "    age_range = f'[{10*i}-{10*(i+1)})'\n",
    "    midpoint = i*10 + 5\n",
    "    age_replacements[age_range] = midpoint\n",
    "\n",
    "df_clean['age'] = df_clean['age'].replace(age_replacements)\n",
    "\n",
    "df_clean['age'].value_counts()"
   ]
  },
  {
   "cell_type": "code",
   "execution_count": 13,
   "metadata": {},
   "outputs": [
    {
     "name": "stderr",
     "output_type": "stream",
     "text": [
      "C:\\Users\\SnowPlay\\AppData\\Local\\Temp\\ipykernel_18776\\3891844975.py:3: FutureWarning: Downcasting behavior in `replace` is deprecated and will be removed in a future version. To retain the old behavior, explicitly call `result.infer_objects(copy=False)`. To opt-in to the future behavior, set `pd.set_option('future.no_silent_downcasting', True)`\n",
      "  df_clean['readmitted']=df_clean['readmitted'].replace('<30', 2)\n"
     ]
    },
    {
     "data": {
      "text/plain": [
       "readmitted\n",
       "0    42985\n",
       "1    22240\n",
       "2     6293\n",
       "Name: count, dtype: int64"
      ]
     },
     "execution_count": 13,
     "metadata": {},
     "output_type": "execute_result"
    }
   ],
   "source": [
    "df_clean['readmitted']=df_clean['readmitted'].replace('NO', 0)\n",
    "df_clean['readmitted']=df_clean['readmitted'].replace('>30', 1)\n",
    "df_clean['readmitted']=df_clean['readmitted'].replace('<30', 2)\n",
    "df_clean.readmitted.value_counts()"
   ]
  },
  {
   "cell_type": "code",
   "execution_count": 14,
   "metadata": {},
   "outputs": [
    {
     "name": "stdout",
     "output_type": "stream",
     "text": [
      "<class 'pandas.core.frame.DataFrame'>\n",
      "Index: 71518 entries, 0 to 101765\n",
      "Data columns (total 33 columns):\n",
      " #   Column                    Non-Null Count  Dtype  \n",
      "---  ------                    --------------  -----  \n",
      " 0   gender                    71518 non-null  int64  \n",
      " 1   age                       71518 non-null  int64  \n",
      " 2   admission_type_id         71518 non-null  int64  \n",
      " 3   discharge_disposition_id  71518 non-null  int64  \n",
      " 4   admission_source_id       71518 non-null  int64  \n",
      " 5   time_in_hospital          71518 non-null  int64  \n",
      " 6   num_lab_procedures        71518 non-null  int64  \n",
      " 7   num_procedures            71518 non-null  int64  \n",
      " 8   num_medications           71518 non-null  int64  \n",
      " 9   number_outpatient         71518 non-null  int64  \n",
      " 10  number_emergency          71518 non-null  int64  \n",
      " 11  number_inpatient          71518 non-null  int64  \n",
      " 12  diag_1                    71518 non-null  float64\n",
      " 13  diag_2                    71518 non-null  float64\n",
      " 14  diag_3                    71518 non-null  float64\n",
      " 15  number_diagnoses          71518 non-null  int64  \n",
      " 16  max_glu_serum             71518 non-null  object \n",
      " 17  A1Cresult                 71518 non-null  object \n",
      " 18  metformin                 71518 non-null  object \n",
      " 19  glimepiride               71518 non-null  object \n",
      " 20  glipizide                 71518 non-null  object \n",
      " 21  glyburide                 71518 non-null  object \n",
      " 22  pioglitazone              71518 non-null  object \n",
      " 23  rosiglitazone             71518 non-null  object \n",
      " 24  insulin                   71518 non-null  object \n",
      " 25  change                    71518 non-null  object \n",
      " 26  diabetesMed               71518 non-null  object \n",
      " 27  readmitted                71518 non-null  int64  \n",
      " 28  race_AfricanAmerican      71518 non-null  bool   \n",
      " 29  race_Asian                71518 non-null  bool   \n",
      " 30  race_Caucasian            71518 non-null  bool   \n",
      " 31  race_Hispanic             71518 non-null  bool   \n",
      " 32  race_Other                71518 non-null  bool   \n",
      "dtypes: bool(5), float64(3), int64(14), object(11)\n",
      "memory usage: 16.2+ MB\n"
     ]
    }
   ],
   "source": [
    "df_clean = pd.concat([df_clean,pd.get_dummies(df_clean['race'], prefix='race')], axis=1).drop(['race'],axis=1)\n",
    "df_clean.info()"
   ]
  },
  {
   "cell_type": "code",
   "execution_count": 15,
   "metadata": {},
   "outputs": [
    {
     "name": "stdout",
     "output_type": "stream",
     "text": [
      "   race_AfricanAmerican  race_Asian  race_Caucasian  race_Hispanic  race_Other\n",
      "0                     0           0               1              0           0\n",
      "1                     0           0               1              0           0\n",
      "2                     1           0               0              0           0\n",
      "3                     0           0               1              0           0\n",
      "4                     0           0               1              0           0\n"
     ]
    }
   ],
   "source": [
    "race_columns = ['race_AfricanAmerican', 'race_Asian', 'race_Caucasian', 'race_Hispanic', 'race_Other']\n",
    "df_clean[race_columns] = df_clean[race_columns].astype(int)\n",
    "# Check the changes\n",
    "print(df_clean[race_columns].head())"
   ]
  },
  {
   "cell_type": "code",
   "execution_count": 16,
   "metadata": {},
   "outputs": [
    {
     "name": "stdout",
     "output_type": "stream",
     "text": [
      "<class 'pandas.core.frame.DataFrame'>\n",
      "Index: 71518 entries, 0 to 101765\n",
      "Data columns (total 33 columns):\n",
      " #   Column                    Non-Null Count  Dtype  \n",
      "---  ------                    --------------  -----  \n",
      " 0   gender                    71518 non-null  int64  \n",
      " 1   age                       71518 non-null  int64  \n",
      " 2   admission_type_id         71518 non-null  int64  \n",
      " 3   discharge_disposition_id  71518 non-null  int64  \n",
      " 4   admission_source_id       71518 non-null  int64  \n",
      " 5   time_in_hospital          71518 non-null  int64  \n",
      " 6   num_lab_procedures        71518 non-null  int64  \n",
      " 7   num_procedures            71518 non-null  int64  \n",
      " 8   num_medications           71518 non-null  int64  \n",
      " 9   number_outpatient         71518 non-null  int64  \n",
      " 10  number_emergency          71518 non-null  int64  \n",
      " 11  number_inpatient          71518 non-null  int64  \n",
      " 12  diag_1                    71518 non-null  float64\n",
      " 13  diag_2                    71518 non-null  float64\n",
      " 14  diag_3                    71518 non-null  float64\n",
      " 15  number_diagnoses          71518 non-null  int64  \n",
      " 16  max_glu_serum             71518 non-null  object \n",
      " 17  A1Cresult                 71518 non-null  object \n",
      " 18  metformin                 71518 non-null  object \n",
      " 19  glimepiride               71518 non-null  object \n",
      " 20  glipizide                 71518 non-null  object \n",
      " 21  glyburide                 71518 non-null  object \n",
      " 22  pioglitazone              71518 non-null  object \n",
      " 23  rosiglitazone             71518 non-null  object \n",
      " 24  insulin                   71518 non-null  object \n",
      " 25  change                    71518 non-null  object \n",
      " 26  diabetesMed               71518 non-null  object \n",
      " 27  readmitted                71518 non-null  int64  \n",
      " 28  race_AfricanAmerican      71518 non-null  int32  \n",
      " 29  race_Asian                71518 non-null  int32  \n",
      " 30  race_Caucasian            71518 non-null  int32  \n",
      " 31  race_Hispanic             71518 non-null  int32  \n",
      " 32  race_Other                71518 non-null  int32  \n",
      "dtypes: float64(3), int32(5), int64(14), object(11)\n",
      "memory usage: 17.2+ MB\n"
     ]
    }
   ],
   "source": [
    "df_clean.info()"
   ]
  },
  {
   "cell_type": "code",
   "execution_count": 17,
   "metadata": {},
   "outputs": [],
   "source": [
    "X = df_clean.drop('readmitted', axis=1)  # Features\n",
    "y = df_clean['readmitted']               # Target variable"
   ]
  },
  {
   "cell_type": "code",
   "execution_count": 18,
   "metadata": {},
   "outputs": [],
   "source": [
    "X_train, X_test, y_train, y_test = train_test_split(X, y, test_size=0.2, random_state=42)\n",
    "\n",
    "cat_features = [col for col in X.columns if X[col].dtype == 'object']\n"
   ]
  },
  {
   "cell_type": "code",
   "execution_count": 19,
   "metadata": {},
   "outputs": [],
   "source": [
    "class MultiClassCVEvaluator:\n",
    "    def __init__(\n",
    "        self,\n",
    "        models: List,\n",
    "        X_train: pd.DataFrame,\n",
    "        y_train: pd.Series,\n",
    "        X_test: pd.DataFrame,\n",
    "        y_test: pd.Series,\n",
    "        cat_features: List[int]\n",
    "    ):\n",
    "        self.models = models\n",
    "        self.X_train = X_train\n",
    "        self.y_train = y_train\n",
    "        self.X_test = X_test\n",
    "        self.y_test = y_test\n",
    "        self.cat_features = cat_features\n",
    "        \n",
    "        # Calculate predictions for each fold's model\n",
    "        self.fold_predictions = []\n",
    "        self.fold_probabilities = []\n",
    "        for model in self.models:\n",
    "            self.fold_predictions.append(model.predict(X_test))\n",
    "            self.fold_probabilities.append(model.predict_proba(X_test))\n",
    "            \n",
    "    def plot_learning_curves(self, fold_idx: Optional[int] = None, figsize: tuple = (12, 5)):\n",
    "        \"\"\"Plot learning curves for a specific fold or all folds.\"\"\"\n",
    "        plt.figure(figsize=figsize)\n",
    "        \n",
    "        if fold_idx is not None:\n",
    "            model = self.models[fold_idx]\n",
    "            train_loss = model.get_evals_result()['learn']['MultiClass']\n",
    "            if 'validation' in model.get_evals_result():\n",
    "                val_loss = model.get_evals_result()['validation']['MultiClass']\n",
    "            \n",
    "            plt.plot(train_loss, label=f'Training Loss Fold {fold_idx}')\n",
    "            if 'validation' in model.get_evals_result():\n",
    "                plt.plot(val_loss, label=f'Validation Loss Fold {fold_idx}')\n",
    "        else:\n",
    "            for i, model in enumerate(self.models):\n",
    "                train_loss = model.get_evals_result()['learn']['MultiClass']\n",
    "                if 'validation' in model.get_evals_result():\n",
    "                    val_loss = model.get_evals_result()['validation']['MultiClass']\n",
    "                \n",
    "                plt.plot(train_loss, alpha=0.3, color='blue')\n",
    "                if 'validation' in model.get_evals_result():\n",
    "                    plt.plot(val_loss, alpha=0.3, color='orange')\n",
    "            \n",
    "            plt.plot([], [], color='blue', label='Training Loss (all folds)')\n",
    "            plt.plot([], [], color='orange', label='Validation Loss (all folds)')\n",
    "        \n",
    "        plt.title('Learning Curves')\n",
    "        plt.xlabel('Iterations')\n",
    "        plt.ylabel('MultiClass Loss')\n",
    "        plt.legend()\n",
    "        plt.grid(True)\n",
    "        plt.show()\n",
    "\n",
    "    def plot_feature_importance(self, top_n: Optional[int] = 20, figsize: tuple = (10, 6)):\n",
    "        \"\"\"Plot average feature importance across all folds.\"\"\"\n",
    "        importance_matrices = []\n",
    "        for model in self.models:\n",
    "            importance = pd.DataFrame({\n",
    "                'Feature': self.X_train.columns,\n",
    "                'Importance': model.get_feature_importance()\n",
    "            })\n",
    "            importance_matrices.append(importance.set_index('Feature')['Importance'])\n",
    "        \n",
    "        mean_importance = pd.concat(importance_matrices, axis=1).mean(axis=1)\n",
    "        std_importance = pd.concat(importance_matrices, axis=1).std(axis=1)\n",
    "        \n",
    "        importance_df = pd.DataFrame({\n",
    "            'Feature': mean_importance.index,\n",
    "            'Importance': mean_importance.values,\n",
    "            'Std': std_importance.values\n",
    "        }).sort_values('Importance', ascending=False)\n",
    "        \n",
    "        if top_n:\n",
    "            importance_df = importance_df.head(top_n)\n",
    "        \n",
    "        plt.figure(figsize=figsize)\n",
    "        plt.errorbar(\n",
    "            importance_df['Importance'],\n",
    "            range(len(importance_df)),\n",
    "            xerr=importance_df['Std'],\n",
    "            fmt='o',\n",
    "            capsize=5\n",
    "        )\n",
    "        plt.yticks(range(len(importance_df)), importance_df['Feature'])\n",
    "        plt.title(f'Top {top_n} Feature Importance (averaged across folds)' if top_n else 'Feature Importance')\n",
    "        plt.xlabel('Importance Score')\n",
    "        plt.tight_layout()\n",
    "        plt.show()\n",
    "\n",
    "    def plot_confusion_matrices(self, figsize: tuple = (15, 5)):\n",
    "        \"\"\"Plot confusion matrices for all folds and mean.\"\"\"\n",
    "        n_folds = len(self.models)\n",
    "        fig, axes = plt.subplots(1, n_folds + 1, figsize=figsize)\n",
    "        \n",
    "        fold_cms = []\n",
    "        for i, y_pred in enumerate(self.fold_predictions):\n",
    "            cm = confusion_matrix(self.y_test, y_pred)\n",
    "            fold_cms.append(cm)\n",
    "            \n",
    "            sns.heatmap(cm, annot=True, fmt='d', cmap='Blues', ax=axes[i])\n",
    "            axes[i].set_title(f'Fold {i+1}')\n",
    "            axes[i].set_ylabel('True Label')\n",
    "            axes[i].set_xlabel('Predicted Label')\n",
    "        \n",
    "        mean_cm = np.mean(fold_cms, axis=0)\n",
    "        sns.heatmap(mean_cm, annot=True, fmt='.1f', cmap='Blues', ax=axes[-1])\n",
    "        axes[-1].set_title('Mean Confusion Matrix')\n",
    "        axes[-1].set_ylabel('True Label')\n",
    "        axes[-1].set_xlabel('Predicted Label')\n",
    "        \n",
    "        plt.tight_layout()\n",
    "        plt.show()\n",
    "\n",
    "    def get_metrics(self) -> dict:\n",
    "        \"\"\"Calculate and return mean metrics across all folds.\"\"\"\n",
    "        fold_metrics = []\n",
    "        \n",
    "        for y_pred, y_pred_proba in zip(self.fold_predictions, self.fold_probabilities):\n",
    "            metrics = {\n",
    "                'Accuracy': accuracy_score(self.y_test, y_pred),\n",
    "                'Precision': precision_score(self.y_test, y_pred, average='weighted'),\n",
    "                'Recall': recall_score(self.y_test, y_pred, average='weighted'),\n",
    "                'F1 Score': f1_score(self.y_test, y_pred, average='weighted')\n",
    "            }\n",
    "            \n",
    "            # Add multiclass ROC AUC if applicable\n",
    "            try:\n",
    "                metrics['ROC AUC'] = roc_auc_score(\n",
    "                    self.y_test, \n",
    "                    y_pred_proba,\n",
    "                    multi_class='ovr',\n",
    "                    average='weighted'\n",
    "                )\n",
    "            except:\n",
    "                pass\n",
    "                \n",
    "            fold_metrics.append(metrics)\n",
    "        \n",
    "        mean_metrics = {}\n",
    "        std_metrics = {}\n",
    "        for metric in fold_metrics[0].keys():\n",
    "            values = [m[metric] for m in fold_metrics]\n",
    "            mean_metrics[metric] = np.mean(values)\n",
    "            std_metrics[metric] = np.std(values)\n",
    "        \n",
    "        return {\n",
    "            'fold_metrics': fold_metrics,\n",
    "            'mean_metrics': mean_metrics,\n",
    "            'std_metrics': std_metrics\n",
    "        }\n",
    "\n",
    "    def print_metrics(self):\n",
    "        \"\"\"Print all metrics in a formatted way.\"\"\"\n",
    "        metrics = self.get_metrics()\n",
    "        \n",
    "        print(\"\\nModel Performance Metrics:\")\n",
    "        print(\"-------------------------\")\n",
    "        \n",
    "        for i, fold_metric in enumerate(metrics['fold_metrics']):\n",
    "            print(f\"\\nFold {i+1}:\")\n",
    "            for metric, value in fold_metric.items():\n",
    "                print(f\"{metric}: {value:.4f}\")\n",
    "        \n",
    "        print(\"\\nMean Metrics (± std):\")\n",
    "        for metric in metrics['mean_metrics'].keys():\n",
    "            mean_value = metrics['mean_metrics'][metric]\n",
    "            std_value = metrics['std_metrics'][metric]\n",
    "            print(f\"{metric}: {mean_value:.4f} ± {std_value:.4f}\")\n",
    "\n",
    "    def evaluate_all(self):\n",
    "        \"\"\"Run all evaluations and plots.\"\"\"\n",
    "        self.print_metrics()\n",
    "        self.plot_learning_curves()\n",
    "        self.plot_feature_importance()\n",
    "        self.plot_confusion_matrices()"
   ]
  },
  {
   "cell_type": "code",
   "execution_count": 20,
   "metadata": {},
   "outputs": [
    {
     "name": "stdout",
     "output_type": "stream",
     "text": [
      "\n",
      "Training fold 1\n"
     ]
    },
    {
     "data": {
      "application/vnd.jupyter.widget-view+json": {
       "model_id": "96e5a135aece4c07979fc64ef17f2209",
       "version_major": 2,
       "version_minor": 0
      },
      "text/plain": [
       "MetricVisualizer(layout=Layout(align_self='stretch', height='500px'))"
      ]
     },
     "metadata": {},
     "output_type": "display_data"
    },
    {
     "name": "stdout",
     "output_type": "stream",
     "text": [
      "0:\tlearn: 1.0553416\ttest: 1.0551948\tbest: 1.0551948 (0)\ttotal: 653ms\tremaining: 5m 25s\n",
      "100:\tlearn: 0.8188685\ttest: 0.8291383\tbest: 0.8291383 (100)\ttotal: 1.97s\tremaining: 7.76s\n",
      "200:\tlearn: 0.8058110\ttest: 0.8250476\tbest: 0.8250476 (200)\ttotal: 3.37s\tremaining: 5.02s\n",
      "300:\tlearn: 0.7960337\ttest: 0.8234052\tbest: 0.8233679 (298)\ttotal: 4.92s\tremaining: 3.25s\n",
      "400:\tlearn: 0.7907433\ttest: 0.8228571\tbest: 0.8228571 (400)\ttotal: 6.35s\tremaining: 1.57s\n",
      "499:\tlearn: 0.7865062\ttest: 0.8224448\tbest: 0.8224417 (498)\ttotal: 7.85s\tremaining: 0us\n",
      "bestTest = 0.8224416985\n",
      "bestIteration = 498\n",
      "Shrink model to first 499 iterations.\n",
      "Fold 1 accuracy: 0.6214\n",
      "\n",
      "Training fold 2\n"
     ]
    },
    {
     "data": {
      "application/vnd.jupyter.widget-view+json": {
       "model_id": "2d4915cb0a3946ca8e6ea5592e5f3f8b",
       "version_major": 2,
       "version_minor": 0
      },
      "text/plain": [
       "MetricVisualizer(layout=Layout(align_self='stretch', height='500px'))"
      ]
     },
     "metadata": {},
     "output_type": "display_data"
    },
    {
     "name": "stdout",
     "output_type": "stream",
     "text": [
      "0:\tlearn: 1.0552167\ttest: 1.0552763\tbest: 1.0552763 (0)\ttotal: 21.5ms\tremaining: 10.7s\n",
      "100:\tlearn: 0.8164295\ttest: 0.8331752\tbest: 0.8331752 (100)\ttotal: 1.33s\tremaining: 5.26s\n",
      "200:\tlearn: 0.8029564\ttest: 0.8295929\tbest: 0.8295849 (199)\ttotal: 2.62s\tremaining: 3.9s\n",
      "bestTest = 0.8292166691\n",
      "bestIteration = 216\n",
      "Shrink model to first 217 iterations.\n",
      "Fold 2 accuracy: 0.6183\n",
      "\n",
      "Training fold 3\n"
     ]
    },
    {
     "data": {
      "application/vnd.jupyter.widget-view+json": {
       "model_id": "d312bcd61ee44ee9b396586428016829",
       "version_major": 2,
       "version_minor": 0
      },
      "text/plain": [
       "MetricVisualizer(layout=Layout(align_self='stretch', height='500px'))"
      ]
     },
     "metadata": {},
     "output_type": "display_data"
    },
    {
     "name": "stdout",
     "output_type": "stream",
     "text": [
      "0:\tlearn: 1.0552235\ttest: 1.0555382\tbest: 1.0555382 (0)\ttotal: 15.6ms\tremaining: 7.81s\n",
      "100:\tlearn: 0.8161635\ttest: 0.8322671\tbest: 0.8322671 (100)\ttotal: 1.52s\tremaining: 6.02s\n",
      "200:\tlearn: 0.8009738\ttest: 0.8287888\tbest: 0.8287873 (199)\ttotal: 2.84s\tremaining: 4.22s\n",
      "300:\tlearn: 0.7929650\ttest: 0.8279414\tbest: 0.8279414 (300)\ttotal: 4.13s\tremaining: 2.73s\n",
      "400:\tlearn: 0.7864228\ttest: 0.8272081\tbest: 0.8271882 (397)\ttotal: 5.45s\tremaining: 1.35s\n",
      "499:\tlearn: 0.7810559\ttest: 0.8267373\tbest: 0.8267286 (493)\ttotal: 6.74s\tremaining: 0us\n",
      "bestTest = 0.8267286331\n",
      "bestIteration = 493\n",
      "Shrink model to first 494 iterations.\n",
      "Fold 3 accuracy: 0.6216\n",
      "\n",
      "Training fold 4\n"
     ]
    },
    {
     "data": {
      "application/vnd.jupyter.widget-view+json": {
       "model_id": "8f1bccff2d1b46c9bf9433f6638f69d0",
       "version_major": 2,
       "version_minor": 0
      },
      "text/plain": [
       "MetricVisualizer(layout=Layout(align_self='stretch', height='500px'))"
      ]
     },
     "metadata": {},
     "output_type": "display_data"
    },
    {
     "name": "stdout",
     "output_type": "stream",
     "text": [
      "0:\tlearn: 1.0551418\ttest: 1.0555786\tbest: 1.0555786 (0)\ttotal: 15.5ms\tremaining: 7.74s\n",
      "100:\tlearn: 0.8166153\ttest: 0.8326078\tbest: 0.8326078 (100)\ttotal: 1.39s\tremaining: 5.5s\n",
      "200:\tlearn: 0.8031437\ttest: 0.8287451\tbest: 0.8286828 (193)\ttotal: 2.75s\tremaining: 4.09s\n",
      "300:\tlearn: 0.7941069\ttest: 0.8277767\tbest: 0.8277350 (292)\ttotal: 4.12s\tremaining: 2.72s\n",
      "400:\tlearn: 0.7869755\ttest: 0.8273292\tbest: 0.8273292 (400)\ttotal: 5.41s\tremaining: 1.34s\n",
      "499:\tlearn: 0.7811814\ttest: 0.8273346\tbest: 0.8271770 (458)\ttotal: 6.67s\tremaining: 0us\n",
      "bestTest = 0.8271769772\n",
      "bestIteration = 458\n",
      "Shrink model to first 459 iterations.\n",
      "Fold 4 accuracy: 0.6225\n",
      "\n",
      "Training fold 5\n"
     ]
    },
    {
     "data": {
      "application/vnd.jupyter.widget-view+json": {
       "model_id": "2ac79a8647d04d1abcf4f481faf48896",
       "version_major": 2,
       "version_minor": 0
      },
      "text/plain": [
       "MetricVisualizer(layout=Layout(align_self='stretch', height='500px'))"
      ]
     },
     "metadata": {},
     "output_type": "display_data"
    },
    {
     "name": "stdout",
     "output_type": "stream",
     "text": [
      "0:\tlearn: 1.0552413\ttest: 1.0552891\tbest: 1.0552891 (0)\ttotal: 14.7ms\tremaining: 7.35s\n",
      "100:\tlearn: 0.8184050\ttest: 0.8278167\tbest: 0.8278167 (100)\ttotal: 1.3s\tremaining: 5.14s\n",
      "200:\tlearn: 0.8046858\ttest: 0.8248649\tbest: 0.8248470 (198)\ttotal: 2.56s\tremaining: 3.81s\n",
      "300:\tlearn: 0.7969128\ttest: 0.8235787\tbest: 0.8235610 (298)\ttotal: 3.97s\tremaining: 2.63s\n",
      "400:\tlearn: 0.7890021\ttest: 0.8231202\tbest: 0.8228764 (389)\ttotal: 5.31s\tremaining: 1.31s\n",
      "bestTest = 0.8228764289\n",
      "bestIteration = 389\n",
      "Shrink model to first 390 iterations.\n",
      "Fold 5 accuracy: 0.6186\n",
      "\n",
      "Cross-validation results:\n",
      "Mean accuracy: 0.6205 (+/- 0.0034)\n"
     ]
    }
   ],
   "source": [
    "skf = StratifiedKFold(n_splits=5, shuffle=True, random_state=42)\n",
    "\n",
    "# Lists to store models and their performance\n",
    "trained_models = []\n",
    "fold_scores = []\n",
    "\n",
    "# Perform cross-validation\n",
    "for fold, (train_index, test_index) in enumerate(skf.split(X, y), 1):\n",
    "    print(f\"\\nTraining fold {fold}\")\n",
    "    \n",
    "    # Split data for this fold\n",
    "    X_train_fold, X_test_fold = X.iloc[train_index], X.iloc[test_index]\n",
    "    y_train_fold, y_test_fold = y.iloc[train_index], y.iloc[test_index]\n",
    "    \n",
    "    # Create Pool objects with categorical features\n",
    "    train_pool = Pool(\n",
    "        data=X_train_fold,\n",
    "        label=y_train_fold,\n",
    "        cat_features=cat_features\n",
    "    )\n",
    "    \n",
    "    test_pool = Pool(\n",
    "        data=X_test_fold,\n",
    "        label=y_test_fold,\n",
    "        cat_features=cat_features\n",
    "    )\n",
    "    \n",
    "    # Initialize CatBoost model with multiclass parameters\n",
    "    model = CatBoostClassifier(\n",
    "        learning_rate=0.1,\n",
    "        depth=6,\n",
    "        iterations=500,\n",
    "        l2_leaf_reg=3,\n",
    "        border_count=32,\n",
    "        bootstrap_type='Bernoulli',\n",
    "        subsample=0.8,\n",
    "        loss_function='MultiClass',  # Explicitly set for multiclass\n",
    "        eval_metric='MultiClass',    # Use multiclass evaluation metric\n",
    "        classes_count=len(np.unique(y)),  # Specify number of classes\n",
    "        random_state=42,\n",
    "        task_type=\"GPU\",\n",
    "        verbose=100\n",
    "    )\n",
    "    \n",
    "    # Train the model\n",
    "    model.fit(\n",
    "        train_pool,\n",
    "        eval_set=test_pool,\n",
    "        early_stopping_rounds=50,\n",
    "        verbose=100,\n",
    "        plot=True  # Enable training visualization if in notebook\n",
    "    )\n",
    "    \n",
    "    # Make predictions on test fold\n",
    "    y_pred = model.predict(X_test_fold)\n",
    "    \n",
    "    # Calculate and store fold score\n",
    "    fold_score = model.score(X_test_fold, y_test_fold)\n",
    "    fold_scores.append(fold_score)\n",
    "    \n",
    "    # Store the trained model\n",
    "    trained_models.append(model)\n",
    "    \n",
    "    print(f\"Fold {fold} accuracy: {fold_score:.4f}\")\n",
    "\n",
    "# Print overall cross-validation results\n",
    "print(\"\\nCross-validation results:\")\n",
    "print(f\"Mean accuracy: {np.mean(fold_scores):.4f} (+/- {np.std(fold_scores) * 2:.4f})\")"
   ]
  },
  {
   "cell_type": "code",
   "execution_count": 21,
   "metadata": {},
   "outputs": [
    {
     "name": "stdout",
     "output_type": "stream",
     "text": [
      "\n",
      "Model Performance Metrics:\n",
      "-------------------------\n",
      "\n",
      "Fold 1:\n",
      "Accuracy: 0.6400\n",
      "Precision: 0.6303\n",
      "Recall: 0.6400\n",
      "F1 Score: 0.5700\n",
      "ROC AUC: 0.7042\n",
      "\n",
      "Fold 2:\n",
      "Accuracy: 0.6330\n",
      "Precision: 0.6049\n",
      "Recall: 0.6330\n",
      "F1 Score: 0.5573\n",
      "ROC AUC: 0.6915\n",
      "\n",
      "Fold 3:\n",
      "Accuracy: 0.6409\n",
      "Precision: 0.6328\n",
      "Recall: 0.6409\n",
      "F1 Score: 0.5713\n",
      "ROC AUC: 0.7074\n",
      "\n",
      "Fold 4:\n",
      "Accuracy: 0.6408\n",
      "Precision: 0.6248\n",
      "Recall: 0.6408\n",
      "F1 Score: 0.5722\n",
      "ROC AUC: 0.7079\n",
      "\n",
      "Fold 5:\n",
      "Accuracy: 0.6398\n",
      "Precision: 0.6275\n",
      "Recall: 0.6398\n",
      "F1 Score: 0.5665\n",
      "ROC AUC: 0.7030\n",
      "\n",
      "Mean Metrics (± std):\n",
      "Accuracy: 0.6389 ± 0.0030\n",
      "Precision: 0.6241 ± 0.0099\n",
      "Recall: 0.6389 ± 0.0030\n",
      "F1 Score: 0.5674 ± 0.0054\n",
      "ROC AUC: 0.7028 ± 0.0060\n"
     ]
    },
    {
     "data": {
      "image/png": "[encoded data removed]",
      "text/plain": [
       "<Figure size 1200x500 with 1 Axes>"
      ]
     },
     "metadata": {},
     "output_type": "display_data"
    },
    {
     "data": {
      "image/png": "[encoded data removed]",
      "text/plain": [
       "<Figure size 1000x600 with 1 Axes>"
      ]
     },
     "metadata": {},
     "output_type": "display_data"
    },
    {
     "data": {
      "image/png": "[encoded data removed]",
      "text/plain": [
       "<Figure size 1500x500 with 12 Axes>"
      ]
     },
     "metadata": {},
     "output_type": "display_data"
    }
   ],
   "source": [
    "# Initialize the evaluator with your trained models\n",
    "evaluator = MultiClassCVEvaluator(\n",
    "    models=trained_models,\n",
    "    X_train=X_train,\n",
    "    y_train=y_train,\n",
    "    X_test=X_test,\n",
    "    y_test=y_test,\n",
    "    cat_features=cat_features\n",
    ")\n",
    "\n",
    "# Run all evaluations\n",
    "evaluator.evaluate_all()\n"
   ]
  }
 ],
 "metadata": {
  "kernelspec": {
   "display_name": "env",
   "language": "python",
   "name": "python3"
  },
  "language_info": {
   "codemirror_mode": {
    "name": "ipython",
    "version": 3
   },
   "file_extension": ".py",
   "mimetype": "text/x-python",
   "name": "python",
   "nbconvert_exporter": "python",
   "pygments_lexer": "ipython3",
   "version": "3.11.0"
  }
 },
 "nbformat": 4,
 "nbformat_minor": 2
}
