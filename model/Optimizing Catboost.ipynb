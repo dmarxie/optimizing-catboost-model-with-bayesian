{
 "cells": [
  {
   "cell_type": "code",
   "execution_count": 132,
   "id": "681983cb-0f3b-48a5-8276-c42dd3d0d47a",
   "metadata": {},
   "outputs": [
    {
     "name": "stdout",
     "output_type": "stream",
     "text": [
      "---1---\n",
      "Requirement already satisfied: pandas in d:\\optimizing-catboost-model-with-bayesian\\env\\lib\\site-packages (2.2.3)\n",
      "Requirement already satisfied: numpy>=1.23.2 in d:\\optimizing-catboost-model-with-bayesian\\env\\lib\\site-packages (from pandas) (1.26.4)\n",
      "Requirement already satisfied: python-dateutil>=2.8.2 in d:\\optimizing-catboost-model-with-bayesian\\env\\lib\\site-packages (from pandas) (2.9.0.post0)\n",
      "Requirement already satisfied: pytz>=2020.1 in d:\\optimizing-catboost-model-with-bayesian\\env\\lib\\site-packages (from pandas) (2024.2)\n",
      "Requirement already satisfied: tzdata>=2022.7 in d:\\optimizing-catboost-model-with-bayesian\\env\\lib\\site-packages (from pandas) (2024.2)\n",
      "Requirement already satisfied: six>=1.5 in d:\\optimizing-catboost-model-with-bayesian\\env\\lib\\site-packages (from python-dateutil>=2.8.2->pandas) (1.17.0)\n",
      "Note: you may need to restart the kernel to use updated packages.\n",
      "---2---\n"
     ]
    },
    {
     "name": "stderr",
     "output_type": "stream",
     "text": [
      "\n",
      "[notice] A new release of pip is available: 24.3.1 -> 25.0\n",
      "[notice] To update, run: python.exe -m pip install --upgrade pip\n"
     ]
    },
    {
     "name": "stdout",
     "output_type": "stream",
     "text": [
      "Requirement already satisfied: seaborn in d:\\optimizing-catboost-model-with-bayesian\\env\\lib\\site-packages (0.13.2)\n",
      "Requirement already satisfied: numpy!=1.24.0,>=1.20 in d:\\optimizing-catboost-model-with-bayesian\\env\\lib\\site-packages (from seaborn) (1.26.4)\n",
      "Requirement already satisfied: pandas>=1.2 in d:\\optimizing-catboost-model-with-bayesian\\env\\lib\\site-packages (from seaborn) (2.2.3)\n",
      "Requirement already satisfied: matplotlib!=3.6.1,>=3.4 in d:\\optimizing-catboost-model-with-bayesian\\env\\lib\\site-packages (from seaborn) (3.10.0)\n",
      "Requirement already satisfied: contourpy>=1.0.1 in d:\\optimizing-catboost-model-with-bayesian\\env\\lib\\site-packages (from matplotlib!=3.6.1,>=3.4->seaborn) (1.3.1)\n",
      "Requirement already satisfied: cycler>=0.10 in d:\\optimizing-catboost-model-with-bayesian\\env\\lib\\site-packages (from matplotlib!=3.6.1,>=3.4->seaborn) (0.12.1)\n",
      "Requirement already satisfied: fonttools>=4.22.0 in d:\\optimizing-catboost-model-with-bayesian\\env\\lib\\site-packages (from matplotlib!=3.6.1,>=3.4->seaborn) (4.55.3)\n",
      "Requirement already satisfied: kiwisolver>=1.3.1 in d:\\optimizing-catboost-model-with-bayesian\\env\\lib\\site-packages (from matplotlib!=3.6.1,>=3.4->seaborn) (1.4.7)\n",
      "Requirement already satisfied: packaging>=20.0 in d:\\optimizing-catboost-model-with-bayesian\\env\\lib\\site-packages (from matplotlib!=3.6.1,>=3.4->seaborn) (24.2)\n",
      "Requirement already satisfied: pillow>=8 in d:\\optimizing-catboost-model-with-bayesian\\env\\lib\\site-packages (from matplotlib!=3.6.1,>=3.4->seaborn) (11.0.0)\n",
      "Requirement already satisfied: pyparsing>=2.3.1 in d:\\optimizing-catboost-model-with-bayesian\\env\\lib\\site-packages (from matplotlib!=3.6.1,>=3.4->seaborn) (3.2.0)\n",
      "Requirement already satisfied: python-dateutil>=2.7 in d:\\optimizing-catboost-model-with-bayesian\\env\\lib\\site-packages (from matplotlib!=3.6.1,>=3.4->seaborn) (2.9.0.post0)\n",
      "Requirement already satisfied: pytz>=2020.1 in d:\\optimizing-catboost-model-with-bayesian\\env\\lib\\site-packages (from pandas>=1.2->seaborn) (2024.2)\n",
      "Requirement already satisfied: tzdata>=2022.7 in d:\\optimizing-catboost-model-with-bayesian\\env\\lib\\site-packages (from pandas>=1.2->seaborn) (2024.2)\n",
      "Requirement already satisfied: six>=1.5 in d:\\optimizing-catboost-model-with-bayesian\\env\\lib\\site-packages (from python-dateutil>=2.7->matplotlib!=3.6.1,>=3.4->seaborn) (1.17.0)\n",
      "Note: you may need to restart the kernel to use updated packages.\n",
      "---3---\n"
     ]
    },
    {
     "name": "stderr",
     "output_type": "stream",
     "text": [
      "\n",
      "[notice] A new release of pip is available: 24.3.1 -> 25.0\n",
      "[notice] To update, run: python.exe -m pip install --upgrade pip\n"
     ]
    },
    {
     "name": "stdout",
     "output_type": "stream",
     "text": [
      "Requirement already satisfied: scikit-learn in d:\\optimizing-catboost-model-with-bayesian\\env\\lib\\site-packages (1.6.1)\n",
      "Requirement already satisfied: numpy>=1.19.5 in d:\\optimizing-catboost-model-with-bayesian\\env\\lib\\site-packages (from scikit-learn) (1.26.4)\n",
      "Requirement already satisfied: scipy>=1.6.0 in d:\\optimizing-catboost-model-with-bayesian\\env\\lib\\site-packages (from scikit-learn) (1.14.1)\n",
      "Requirement already satisfied: joblib>=1.2.0 in d:\\optimizing-catboost-model-with-bayesian\\env\\lib\\site-packages (from scikit-learn) (1.4.2)\n",
      "Requirement already satisfied: threadpoolctl>=3.1.0 in d:\\optimizing-catboost-model-with-bayesian\\env\\lib\\site-packages (from scikit-learn) (3.5.0)\n",
      "Note: you may need to restart the kernel to use updated packages.\n",
      "---4---\n"
     ]
    },
    {
     "name": "stderr",
     "output_type": "stream",
     "text": [
      "\n",
      "[notice] A new release of pip is available: 24.3.1 -> 25.0\n",
      "[notice] To update, run: python.exe -m pip install --upgrade pip\n"
     ]
    },
    {
     "name": "stdout",
     "output_type": "stream",
     "text": [
      "Requirement already satisfied: catboost in d:\\optimizing-catboost-model-with-bayesian\\env\\lib\\site-packages (1.2.7)\n",
      "Requirement already satisfied: graphviz in d:\\optimizing-catboost-model-with-bayesian\\env\\lib\\site-packages (from catboost) (0.20.3)\n",
      "Requirement already satisfied: matplotlib in d:\\optimizing-catboost-model-with-bayesian\\env\\lib\\site-packages (from catboost) (3.10.0)\n",
      "Requirement already satisfied: numpy<2.0,>=1.16.0 in d:\\optimizing-catboost-model-with-bayesian\\env\\lib\\site-packages (from catboost) (1.26.4)\n",
      "Requirement already satisfied: pandas>=0.24 in d:\\optimizing-catboost-model-with-bayesian\\env\\lib\\site-packages (from catboost) (2.2.3)\n",
      "Requirement already satisfied: scipy in d:\\optimizing-catboost-model-with-bayesian\\env\\lib\\site-packages (from catboost) (1.14.1)\n",
      "Requirement already satisfied: plotly in d:\\optimizing-catboost-model-with-bayesian\\env\\lib\\site-packages (from catboost) (5.24.1)\n",
      "Requirement already satisfied: six in d:\\optimizing-catboost-model-with-bayesian\\env\\lib\\site-packages (from catboost) (1.17.0)\n",
      "Requirement already satisfied: python-dateutil>=2.8.2 in d:\\optimizing-catboost-model-with-bayesian\\env\\lib\\site-packages (from pandas>=0.24->catboost) (2.9.0.post0)\n",
      "Requirement already satisfied: pytz>=2020.1 in d:\\optimizing-catboost-model-with-bayesian\\env\\lib\\site-packages (from pandas>=0.24->catboost) (2024.2)\n",
      "Requirement already satisfied: tzdata>=2022.7 in d:\\optimizing-catboost-model-with-bayesian\\env\\lib\\site-packages (from pandas>=0.24->catboost) (2024.2)\n",
      "Requirement already satisfied: contourpy>=1.0.1 in d:\\optimizing-catboost-model-with-bayesian\\env\\lib\\site-packages (from matplotlib->catboost) (1.3.1)\n",
      "Requirement already satisfied: cycler>=0.10 in d:\\optimizing-catboost-model-with-bayesian\\env\\lib\\site-packages (from matplotlib->catboost) (0.12.1)\n",
      "Requirement already satisfied: fonttools>=4.22.0 in d:\\optimizing-catboost-model-with-bayesian\\env\\lib\\site-packages (from matplotlib->catboost) (4.55.3)\n",
      "Requirement already satisfied: kiwisolver>=1.3.1 in d:\\optimizing-catboost-model-with-bayesian\\env\\lib\\site-packages (from matplotlib->catboost) (1.4.7)\n",
      "Requirement already satisfied: packaging>=20.0 in d:\\optimizing-catboost-model-with-bayesian\\env\\lib\\site-packages (from matplotlib->catboost) (24.2)\n",
      "Requirement already satisfied: pillow>=8 in d:\\optimizing-catboost-model-with-bayesian\\env\\lib\\site-packages (from matplotlib->catboost) (11.0.0)\n",
      "Requirement already satisfied: pyparsing>=2.3.1 in d:\\optimizing-catboost-model-with-bayesian\\env\\lib\\site-packages (from matplotlib->catboost) (3.2.0)\n",
      "Requirement already satisfied: tenacity>=6.2.0 in d:\\optimizing-catboost-model-with-bayesian\\env\\lib\\site-packages (from plotly->catboost) (9.0.0)\n",
      "Note: you may need to restart the kernel to use updated packages.\n",
      "---5---\n"
     ]
    },
    {
     "name": "stderr",
     "output_type": "stream",
     "text": [
      "\n",
      "[notice] A new release of pip is available: 24.3.1 -> 25.0\n",
      "[notice] To update, run: python.exe -m pip install --upgrade pip\n"
     ]
    },
    {
     "name": "stdout",
     "output_type": "stream",
     "text": [
      "Requirement already satisfied: ipywidgets in d:\\optimizing-catboost-model-with-bayesian\\env\\lib\\site-packages (8.1.5)\n",
      "Requirement already satisfied: comm>=0.1.3 in d:\\optimizing-catboost-model-with-bayesian\\env\\lib\\site-packages (from ipywidgets) (0.2.2)\n",
      "Requirement already satisfied: ipython>=6.1.0 in d:\\optimizing-catboost-model-with-bayesian\\env\\lib\\site-packages (from ipywidgets) (8.31.0)\n",
      "Requirement already satisfied: traitlets>=4.3.1 in d:\\optimizing-catboost-model-with-bayesian\\env\\lib\\site-packages (from ipywidgets) (5.14.3)\n",
      "Requirement already satisfied: widgetsnbextension~=4.0.12 in d:\\optimizing-catboost-model-with-bayesian\\env\\lib\\site-packages (from ipywidgets) (4.0.13)\n",
      "Requirement already satisfied: jupyterlab-widgets~=3.0.12 in d:\\optimizing-catboost-model-with-bayesian\\env\\lib\\site-packages (from ipywidgets) (3.0.13)\n",
      "Requirement already satisfied: colorama in d:\\optimizing-catboost-model-with-bayesian\\env\\lib\\site-packages (from ipython>=6.1.0->ipywidgets) (0.4.6)\n",
      "Requirement already satisfied: decorator in d:\\optimizing-catboost-model-with-bayesian\\env\\lib\\site-packages (from ipython>=6.1.0->ipywidgets) (5.1.1)\n",
      "Requirement already satisfied: jedi>=0.16 in d:\\optimizing-catboost-model-with-bayesian\\env\\lib\\site-packages (from ipython>=6.1.0->ipywidgets) (0.19.2)\n",
      "Requirement already satisfied: matplotlib-inline in d:\\optimizing-catboost-model-with-bayesian\\env\\lib\\site-packages (from ipython>=6.1.0->ipywidgets) (0.1.7)\n",
      "Requirement already satisfied: prompt_toolkit<3.1.0,>=3.0.41 in d:\\optimizing-catboost-model-with-bayesian\\env\\lib\\site-packages (from ipython>=6.1.0->ipywidgets) (3.0.50)\n",
      "Requirement already satisfied: pygments>=2.4.0 in d:\\optimizing-catboost-model-with-bayesian\\env\\lib\\site-packages (from ipython>=6.1.0->ipywidgets) (2.19.1)\n",
      "Requirement already satisfied: stack_data in d:\\optimizing-catboost-model-with-bayesian\\env\\lib\\site-packages (from ipython>=6.1.0->ipywidgets) (0.6.3)\n",
      "Requirement already satisfied: typing_extensions>=4.6 in d:\\optimizing-catboost-model-with-bayesian\\env\\lib\\site-packages (from ipython>=6.1.0->ipywidgets) (4.12.2)\n",
      "Requirement already satisfied: parso<0.9.0,>=0.8.4 in d:\\optimizing-catboost-model-with-bayesian\\env\\lib\\site-packages (from jedi>=0.16->ipython>=6.1.0->ipywidgets) (0.8.4)\n",
      "Requirement already satisfied: wcwidth in d:\\optimizing-catboost-model-with-bayesian\\env\\lib\\site-packages (from prompt_toolkit<3.1.0,>=3.0.41->ipython>=6.1.0->ipywidgets) (0.2.13)\n",
      "Requirement already satisfied: executing>=1.2.0 in d:\\optimizing-catboost-model-with-bayesian\\env\\lib\\site-packages (from stack_data->ipython>=6.1.0->ipywidgets) (2.1.0)\n",
      "Requirement already satisfied: asttokens>=2.1.0 in d:\\optimizing-catboost-model-with-bayesian\\env\\lib\\site-packages (from stack_data->ipython>=6.1.0->ipywidgets) (3.0.0)\n",
      "Requirement already satisfied: pure-eval in d:\\optimizing-catboost-model-with-bayesian\\env\\lib\\site-packages (from stack_data->ipython>=6.1.0->ipywidgets) (0.2.3)\n",
      "Note: you may need to restart the kernel to use updated packages.\n",
      "---6---\n"
     ]
    },
    {
     "name": "stderr",
     "output_type": "stream",
     "text": [
      "\n",
      "[notice] A new release of pip is available: 24.3.1 -> 25.0\n",
      "[notice] To update, run: python.exe -m pip install --upgrade pip\n"
     ]
    },
    {
     "name": "stdout",
     "output_type": "stream",
     "text": [
      "Requirement already satisfied: pandas in d:\\optimizing-catboost-model-with-bayesian\\env\\lib\\site-packages (2.2.3)\n",
      "Requirement already satisfied: openpyxl in d:\\optimizing-catboost-model-with-bayesian\\env\\lib\\site-packages (3.1.5)\n",
      "Requirement already satisfied: numpy>=1.23.2 in d:\\optimizing-catboost-model-with-bayesian\\env\\lib\\site-packages (from pandas) (1.26.4)\n",
      "Requirement already satisfied: python-dateutil>=2.8.2 in d:\\optimizing-catboost-model-with-bayesian\\env\\lib\\site-packages (from pandas) (2.9.0.post0)\n",
      "Requirement already satisfied: pytz>=2020.1 in d:\\optimizing-catboost-model-with-bayesian\\env\\lib\\site-packages (from pandas) (2024.2)\n",
      "Requirement already satisfied: tzdata>=2022.7 in d:\\optimizing-catboost-model-with-bayesian\\env\\lib\\site-packages (from pandas) (2024.2)\n",
      "Requirement already satisfied: et-xmlfile in d:\\optimizing-catboost-model-with-bayesian\\env\\lib\\site-packages (from openpyxl) (2.0.0)\n",
      "Requirement already satisfied: six>=1.5 in d:\\optimizing-catboost-model-with-bayesian\\env\\lib\\site-packages (from python-dateutil>=2.8.2->pandas) (1.17.0)\n",
      "Note: you may need to restart the kernel to use updated packages.\n",
      "---7---\n"
     ]
    },
    {
     "name": "stderr",
     "output_type": "stream",
     "text": [
      "\n",
      "[notice] A new release of pip is available: 24.3.1 -> 25.0\n",
      "[notice] To update, run: python.exe -m pip install --upgrade pip\n"
     ]
    },
    {
     "name": "stdout",
     "output_type": "stream",
     "text": [
      "Requirement already satisfied: bayesian-optimization in d:\\optimizing-catboost-model-with-bayesian\\env\\lib\\site-packages (2.0.3)\n",
      "Requirement already satisfied: colorama<0.5.0,>=0.4.6 in d:\\optimizing-catboost-model-with-bayesian\\env\\lib\\site-packages (from bayesian-optimization) (0.4.6)\n",
      "Requirement already satisfied: numpy>=1.25 in d:\\optimizing-catboost-model-with-bayesian\\env\\lib\\site-packages (from bayesian-optimization) (1.26.4)\n",
      "Requirement already satisfied: scikit-learn<2.0.0,>=1.0.0 in d:\\optimizing-catboost-model-with-bayesian\\env\\lib\\site-packages (from bayesian-optimization) (1.6.1)\n",
      "Requirement already satisfied: scipy<2.0.0,>=1.0.0 in d:\\optimizing-catboost-model-with-bayesian\\env\\lib\\site-packages (from bayesian-optimization) (1.14.1)\n",
      "Requirement already satisfied: joblib>=1.2.0 in d:\\optimizing-catboost-model-with-bayesian\\env\\lib\\site-packages (from scikit-learn<2.0.0,>=1.0.0->bayesian-optimization) (1.4.2)\n",
      "Requirement already satisfied: threadpoolctl>=3.1.0 in d:\\optimizing-catboost-model-with-bayesian\\env\\lib\\site-packages (from scikit-learn<2.0.0,>=1.0.0->bayesian-optimization) (3.5.0)\n",
      "Note: you may need to restart the kernel to use updated packages.\n"
     ]
    },
    {
     "name": "stderr",
     "output_type": "stream",
     "text": [
      "\n",
      "[notice] A new release of pip is available: 24.3.1 -> 25.0\n",
      "[notice] To update, run: python.exe -m pip install --upgrade pip\n"
     ]
    }
   ],
   "source": [
    "#PIP INSTALLATION\n",
    "print('---1---')\n",
    "%pip install pandas\n",
    "print('---2---')\n",
    "%pip install seaborn\n",
    "print('---3---')\n",
    "%pip install scikit-learn\n",
    "print('---4---')\n",
    "%pip install catboost\n",
    "print('---5---')\n",
    "%pip install ipywidgets\n",
    "print('---6---')\n",
    "%pip install pandas openpyxl\n",
    "print('---7---')\n",
    "%pip install bayesian-optimization\n"
   ]
  },
  {
   "cell_type": "code",
   "execution_count": 133,
   "id": "6e7ab83d",
   "metadata": {},
   "outputs": [
    {
     "name": "stdout",
     "output_type": "stream",
     "text": [
      "Package               Version\n",
      "--------------------- -----------\n",
      "asttokens             3.0.0\n",
      "bayesian-optimization 2.0.3\n",
      "blinker               1.9.0\n",
      "catboost              1.2.7\n",
      "category_encoders     2.8.0\n",
      "click                 8.1.7\n",
      "colorama              0.4.6\n",
      "comm                  0.2.2\n",
      "contourpy             1.3.1\n",
      "cycler                0.12.1\n",
      "debugpy               1.8.12\n",
      "decorator             5.1.1\n",
      "et_xmlfile            2.0.0\n",
      "executing             2.1.0\n",
      "Flask                 3.1.0\n",
      "Flask-SQLAlchemy      3.1.1\n",
      "fonttools             4.55.3\n",
      "graphviz              0.20.3\n",
      "greenlet              3.1.1\n",
      "ipykernel             6.29.5\n",
      "ipython               8.31.0\n",
      "ipywidgets            8.1.5\n",
      "itsdangerous          2.2.0\n",
      "jedi                  0.19.2\n",
      "Jinja2                3.1.4\n",
      "joblib                1.4.2\n",
      "jupyter_client        8.6.3\n",
      "jupyter_core          5.7.2\n",
      "jupyterlab_widgets    3.0.13\n",
      "kiwisolver            1.4.7\n",
      "MarkupSafe            3.0.2\n",
      "matplotlib            3.10.0\n",
      "matplotlib-inline     0.1.7\n",
      "nest-asyncio          1.6.0\n",
      "numpy                 1.26.4\n",
      "openpyxl              3.1.5\n",
      "packaging             24.2\n",
      "pandas                2.2.3\n",
      "parso                 0.8.4\n",
      "patsy                 1.0.1\n",
      "pillow                11.0.0\n",
      "pip                   24.3.1\n",
      "platformdirs          4.3.6\n",
      "plotly                5.24.1\n",
      "prompt_toolkit        3.0.50\n",
      "psutil                6.1.1\n",
      "pure_eval             0.2.3\n",
      "Pygments              2.19.1\n",
      "pyparsing             3.2.0\n",
      "python-dateutil       2.9.0.post0\n",
      "pytz                  2024.2\n",
      "pywin32               308\n",
      "pyzmq                 26.2.0\n",
      "scikit-learn          1.6.1\n",
      "scipy                 1.14.1\n",
      "seaborn               0.13.2\n",
      "setuptools            75.6.0\n",
      "six                   1.17.0\n",
      "SQLAlchemy            2.0.36\n",
      "stack-data            0.6.3\n",
      "statsmodels           0.14.4\n",
      "tenacity              9.0.0\n",
      "threadpoolctl         3.5.0\n",
      "tornado               6.4.2\n",
      "traitlets             5.14.3\n",
      "typing_extensions     4.12.2\n",
      "tzdata                2024.2\n",
      "wcwidth               0.2.13\n",
      "Werkzeug              3.1.3\n",
      "wheel                 0.45.1\n",
      "widgetsnbextension    4.0.13\n",
      "Note: you may need to restart the kernel to use updated packages.\n"
     ]
    }
   ],
   "source": [
    "%pip list"
   ]
  },
  {
   "cell_type": "code",
   "execution_count": 134,
   "id": "007b7ecb-c7f7-40c7-a50a-b7d8bd468704",
   "metadata": {},
   "outputs": [],
   "source": [
    "#FROM LIBRARIES\n",
    "from bayes_opt import BayesianOptimization\n",
    "from sklearn.model_selection import train_test_split\n",
    "from sklearn.model_selection import StratifiedKFold\n",
    "from sklearn.preprocessing import StandardScaler\n",
    "from catboost import CatBoostClassifier, Pool\n",
    "from IPython.display import FileLink\n",
    "from sklearn.preprocessing import LabelEncoder\n",
    "from sklearn import metrics\n",
    "from sklearn.metrics import accuracy_score, f1_score, confusion_matrix, roc_curve, auc, classification_report\n",
    "\n",
    "#IMPORT AS\n",
    "import numpy as np\n",
    "import pandas as pd\n",
    "import seaborn as sns\n",
    "import sklearn\n",
    "import matplotlib.pyplot as plt\n",
    "%matplotlib inline\n",
    "plt.style.use('ggplot')"
   ]
  },
  {
   "cell_type": "code",
   "execution_count": 135,
   "id": "d92e7141-3441-4a97-835a-ef1897779b0f",
   "metadata": {},
   "outputs": [
    {
     "data": {
      "text/html": [
       "<div>\n",
       "<style scoped>\n",
       "    .dataframe tbody tr th:only-of-type {\n",
       "        vertical-align: middle;\n",
       "    }\n",
       "\n",
       "    .dataframe tbody tr th {\n",
       "        vertical-align: top;\n",
       "    }\n",
       "\n",
       "    .dataframe thead th {\n",
       "        text-align: right;\n",
       "    }\n",
       "</style>\n",
       "<table border=\"1\" class=\"dataframe\">\n",
       "  <thead>\n",
       "    <tr style=\"text-align: right;\">\n",
       "      <th></th>\n",
       "      <th>encounter_id</th>\n",
       "      <th>patient_nbr</th>\n",
       "      <th>race</th>\n",
       "      <th>gender</th>\n",
       "      <th>age</th>\n",
       "      <th>weight</th>\n",
       "      <th>admission_type_id</th>\n",
       "      <th>discharge_disposition_id</th>\n",
       "      <th>admission_source_id</th>\n",
       "      <th>time_in_hospital</th>\n",
       "      <th>...</th>\n",
       "      <th>citoglipton</th>\n",
       "      <th>insulin</th>\n",
       "      <th>glyburide-metformin</th>\n",
       "      <th>glipizide-metformin</th>\n",
       "      <th>glimepiride-pioglitazone</th>\n",
       "      <th>metformin-rosiglitazone</th>\n",
       "      <th>metformin-pioglitazone</th>\n",
       "      <th>change</th>\n",
       "      <th>diabetesMed</th>\n",
       "      <th>readmitted</th>\n",
       "    </tr>\n",
       "  </thead>\n",
       "  <tbody>\n",
       "    <tr>\n",
       "      <th>0</th>\n",
       "      <td>2278392</td>\n",
       "      <td>8222157</td>\n",
       "      <td>Caucasian</td>\n",
       "      <td>Female</td>\n",
       "      <td>[0-10)</td>\n",
       "      <td>?</td>\n",
       "      <td>6</td>\n",
       "      <td>25</td>\n",
       "      <td>1</td>\n",
       "      <td>1</td>\n",
       "      <td>...</td>\n",
       "      <td>No</td>\n",
       "      <td>No</td>\n",
       "      <td>No</td>\n",
       "      <td>No</td>\n",
       "      <td>No</td>\n",
       "      <td>No</td>\n",
       "      <td>No</td>\n",
       "      <td>No</td>\n",
       "      <td>No</td>\n",
       "      <td>NO</td>\n",
       "    </tr>\n",
       "    <tr>\n",
       "      <th>1</th>\n",
       "      <td>149190</td>\n",
       "      <td>55629189</td>\n",
       "      <td>Caucasian</td>\n",
       "      <td>Female</td>\n",
       "      <td>[10-20)</td>\n",
       "      <td>?</td>\n",
       "      <td>1</td>\n",
       "      <td>1</td>\n",
       "      <td>7</td>\n",
       "      <td>3</td>\n",
       "      <td>...</td>\n",
       "      <td>No</td>\n",
       "      <td>Up</td>\n",
       "      <td>No</td>\n",
       "      <td>No</td>\n",
       "      <td>No</td>\n",
       "      <td>No</td>\n",
       "      <td>No</td>\n",
       "      <td>Ch</td>\n",
       "      <td>Yes</td>\n",
       "      <td>&gt;30</td>\n",
       "    </tr>\n",
       "    <tr>\n",
       "      <th>2</th>\n",
       "      <td>64410</td>\n",
       "      <td>86047875</td>\n",
       "      <td>AfricanAmerican</td>\n",
       "      <td>Female</td>\n",
       "      <td>[20-30)</td>\n",
       "      <td>?</td>\n",
       "      <td>1</td>\n",
       "      <td>1</td>\n",
       "      <td>7</td>\n",
       "      <td>2</td>\n",
       "      <td>...</td>\n",
       "      <td>No</td>\n",
       "      <td>No</td>\n",
       "      <td>No</td>\n",
       "      <td>No</td>\n",
       "      <td>No</td>\n",
       "      <td>No</td>\n",
       "      <td>No</td>\n",
       "      <td>No</td>\n",
       "      <td>Yes</td>\n",
       "      <td>NO</td>\n",
       "    </tr>\n",
       "    <tr>\n",
       "      <th>3</th>\n",
       "      <td>500364</td>\n",
       "      <td>82442376</td>\n",
       "      <td>Caucasian</td>\n",
       "      <td>Male</td>\n",
       "      <td>[30-40)</td>\n",
       "      <td>?</td>\n",
       "      <td>1</td>\n",
       "      <td>1</td>\n",
       "      <td>7</td>\n",
       "      <td>2</td>\n",
       "      <td>...</td>\n",
       "      <td>No</td>\n",
       "      <td>Up</td>\n",
       "      <td>No</td>\n",
       "      <td>No</td>\n",
       "      <td>No</td>\n",
       "      <td>No</td>\n",
       "      <td>No</td>\n",
       "      <td>Ch</td>\n",
       "      <td>Yes</td>\n",
       "      <td>NO</td>\n",
       "    </tr>\n",
       "    <tr>\n",
       "      <th>4</th>\n",
       "      <td>16680</td>\n",
       "      <td>42519267</td>\n",
       "      <td>Caucasian</td>\n",
       "      <td>Male</td>\n",
       "      <td>[40-50)</td>\n",
       "      <td>?</td>\n",
       "      <td>1</td>\n",
       "      <td>1</td>\n",
       "      <td>7</td>\n",
       "      <td>1</td>\n",
       "      <td>...</td>\n",
       "      <td>No</td>\n",
       "      <td>Steady</td>\n",
       "      <td>No</td>\n",
       "      <td>No</td>\n",
       "      <td>No</td>\n",
       "      <td>No</td>\n",
       "      <td>No</td>\n",
       "      <td>Ch</td>\n",
       "      <td>Yes</td>\n",
       "      <td>NO</td>\n",
       "    </tr>\n",
       "  </tbody>\n",
       "</table>\n",
       "<p>5 rows × 50 columns</p>\n",
       "</div>"
      ],
      "text/plain": [
       "   encounter_id  patient_nbr             race  gender      age weight  \\\n",
       "0       2278392      8222157        Caucasian  Female   [0-10)      ?   \n",
       "1        149190     55629189        Caucasian  Female  [10-20)      ?   \n",
       "2         64410     86047875  AfricanAmerican  Female  [20-30)      ?   \n",
       "3        500364     82442376        Caucasian    Male  [30-40)      ?   \n",
       "4         16680     42519267        Caucasian    Male  [40-50)      ?   \n",
       "\n",
       "   admission_type_id  discharge_disposition_id  admission_source_id  \\\n",
       "0                  6                        25                    1   \n",
       "1                  1                         1                    7   \n",
       "2                  1                         1                    7   \n",
       "3                  1                         1                    7   \n",
       "4                  1                         1                    7   \n",
       "\n",
       "   time_in_hospital  ... citoglipton insulin  glyburide-metformin  \\\n",
       "0                 1  ...          No      No                   No   \n",
       "1                 3  ...          No      Up                   No   \n",
       "2                 2  ...          No      No                   No   \n",
       "3                 2  ...          No      Up                   No   \n",
       "4                 1  ...          No  Steady                   No   \n",
       "\n",
       "   glipizide-metformin  glimepiride-pioglitazone  metformin-rosiglitazone  \\\n",
       "0                   No                        No                       No   \n",
       "1                   No                        No                       No   \n",
       "2                   No                        No                       No   \n",
       "3                   No                        No                       No   \n",
       "4                   No                        No                       No   \n",
       "\n",
       "   metformin-pioglitazone  change diabetesMed readmitted  \n",
       "0                      No      No          No         NO  \n",
       "1                      No      Ch         Yes        >30  \n",
       "2                      No      No         Yes         NO  \n",
       "3                      No      Ch         Yes         NO  \n",
       "4                      No      Ch         Yes         NO  \n",
       "\n",
       "[5 rows x 50 columns]"
      ]
     },
     "execution_count": 135,
     "metadata": {},
     "output_type": "execute_result"
    }
   ],
   "source": [
    "file_path = 'Dataset/diabetic_data.csv'\n",
    "df = pd.read_csv(file_path,keep_default_na=False)\n",
    "df_clean = df.copy()\n",
    "df_clean.head()"
   ]
  },
  {
   "cell_type": "code",
   "execution_count": 136,
   "id": "66f03d94-b072-4b51-b344-bdc5c5e6c1e2",
   "metadata": {},
   "outputs": [
    {
     "data": {
      "text/html": [
       "<div>\n",
       "<style scoped>\n",
       "    .dataframe tbody tr th:only-of-type {\n",
       "        vertical-align: middle;\n",
       "    }\n",
       "\n",
       "    .dataframe tbody tr th {\n",
       "        vertical-align: top;\n",
       "    }\n",
       "\n",
       "    .dataframe thead th {\n",
       "        text-align: right;\n",
       "    }\n",
       "</style>\n",
       "<table border=\"1\" class=\"dataframe\">\n",
       "  <thead>\n",
       "    <tr style=\"text-align: right;\">\n",
       "      <th></th>\n",
       "      <th>encounter_id</th>\n",
       "      <th>patient_nbr</th>\n",
       "      <th>admission_type_id</th>\n",
       "      <th>discharge_disposition_id</th>\n",
       "      <th>admission_source_id</th>\n",
       "      <th>time_in_hospital</th>\n",
       "      <th>num_lab_procedures</th>\n",
       "      <th>num_procedures</th>\n",
       "      <th>num_medications</th>\n",
       "      <th>number_outpatient</th>\n",
       "      <th>number_emergency</th>\n",
       "      <th>number_inpatient</th>\n",
       "      <th>number_diagnoses</th>\n",
       "    </tr>\n",
       "  </thead>\n",
       "  <tbody>\n",
       "    <tr>\n",
       "      <th>count</th>\n",
       "      <td>1.017660e+05</td>\n",
       "      <td>1.017660e+05</td>\n",
       "      <td>101766.000000</td>\n",
       "      <td>101766.000000</td>\n",
       "      <td>101766.000000</td>\n",
       "      <td>101766.000000</td>\n",
       "      <td>101766.000000</td>\n",
       "      <td>101766.000000</td>\n",
       "      <td>101766.000000</td>\n",
       "      <td>101766.000000</td>\n",
       "      <td>101766.000000</td>\n",
       "      <td>101766.000000</td>\n",
       "      <td>101766.000000</td>\n",
       "    </tr>\n",
       "    <tr>\n",
       "      <th>mean</th>\n",
       "      <td>1.652016e+08</td>\n",
       "      <td>5.433040e+07</td>\n",
       "      <td>2.024006</td>\n",
       "      <td>3.715642</td>\n",
       "      <td>5.754437</td>\n",
       "      <td>4.395987</td>\n",
       "      <td>43.095641</td>\n",
       "      <td>1.339730</td>\n",
       "      <td>16.021844</td>\n",
       "      <td>0.369357</td>\n",
       "      <td>0.197836</td>\n",
       "      <td>0.635566</td>\n",
       "      <td>7.422607</td>\n",
       "    </tr>\n",
       "    <tr>\n",
       "      <th>std</th>\n",
       "      <td>1.026403e+08</td>\n",
       "      <td>3.869636e+07</td>\n",
       "      <td>1.445403</td>\n",
       "      <td>5.280166</td>\n",
       "      <td>4.064081</td>\n",
       "      <td>2.985108</td>\n",
       "      <td>19.674362</td>\n",
       "      <td>1.705807</td>\n",
       "      <td>8.127566</td>\n",
       "      <td>1.267265</td>\n",
       "      <td>0.930472</td>\n",
       "      <td>1.262863</td>\n",
       "      <td>1.933600</td>\n",
       "    </tr>\n",
       "    <tr>\n",
       "      <th>min</th>\n",
       "      <td>1.252200e+04</td>\n",
       "      <td>1.350000e+02</td>\n",
       "      <td>1.000000</td>\n",
       "      <td>1.000000</td>\n",
       "      <td>1.000000</td>\n",
       "      <td>1.000000</td>\n",
       "      <td>1.000000</td>\n",
       "      <td>0.000000</td>\n",
       "      <td>1.000000</td>\n",
       "      <td>0.000000</td>\n",
       "      <td>0.000000</td>\n",
       "      <td>0.000000</td>\n",
       "      <td>1.000000</td>\n",
       "    </tr>\n",
       "    <tr>\n",
       "      <th>25%</th>\n",
       "      <td>8.496119e+07</td>\n",
       "      <td>2.341322e+07</td>\n",
       "      <td>1.000000</td>\n",
       "      <td>1.000000</td>\n",
       "      <td>1.000000</td>\n",
       "      <td>2.000000</td>\n",
       "      <td>31.000000</td>\n",
       "      <td>0.000000</td>\n",
       "      <td>10.000000</td>\n",
       "      <td>0.000000</td>\n",
       "      <td>0.000000</td>\n",
       "      <td>0.000000</td>\n",
       "      <td>6.000000</td>\n",
       "    </tr>\n",
       "    <tr>\n",
       "      <th>50%</th>\n",
       "      <td>1.523890e+08</td>\n",
       "      <td>4.550514e+07</td>\n",
       "      <td>1.000000</td>\n",
       "      <td>1.000000</td>\n",
       "      <td>7.000000</td>\n",
       "      <td>4.000000</td>\n",
       "      <td>44.000000</td>\n",
       "      <td>1.000000</td>\n",
       "      <td>15.000000</td>\n",
       "      <td>0.000000</td>\n",
       "      <td>0.000000</td>\n",
       "      <td>0.000000</td>\n",
       "      <td>8.000000</td>\n",
       "    </tr>\n",
       "    <tr>\n",
       "      <th>75%</th>\n",
       "      <td>2.302709e+08</td>\n",
       "      <td>8.754595e+07</td>\n",
       "      <td>3.000000</td>\n",
       "      <td>4.000000</td>\n",
       "      <td>7.000000</td>\n",
       "      <td>6.000000</td>\n",
       "      <td>57.000000</td>\n",
       "      <td>2.000000</td>\n",
       "      <td>20.000000</td>\n",
       "      <td>0.000000</td>\n",
       "      <td>0.000000</td>\n",
       "      <td>1.000000</td>\n",
       "      <td>9.000000</td>\n",
       "    </tr>\n",
       "    <tr>\n",
       "      <th>max</th>\n",
       "      <td>4.438672e+08</td>\n",
       "      <td>1.895026e+08</td>\n",
       "      <td>8.000000</td>\n",
       "      <td>28.000000</td>\n",
       "      <td>25.000000</td>\n",
       "      <td>14.000000</td>\n",
       "      <td>132.000000</td>\n",
       "      <td>6.000000</td>\n",
       "      <td>81.000000</td>\n",
       "      <td>42.000000</td>\n",
       "      <td>76.000000</td>\n",
       "      <td>21.000000</td>\n",
       "      <td>16.000000</td>\n",
       "    </tr>\n",
       "  </tbody>\n",
       "</table>\n",
       "</div>"
      ],
      "text/plain": [
       "       encounter_id   patient_nbr  admission_type_id  \\\n",
       "count  1.017660e+05  1.017660e+05      101766.000000   \n",
       "mean   1.652016e+08  5.433040e+07           2.024006   \n",
       "std    1.026403e+08  3.869636e+07           1.445403   \n",
       "min    1.252200e+04  1.350000e+02           1.000000   \n",
       "25%    8.496119e+07  2.341322e+07           1.000000   \n",
       "50%    1.523890e+08  4.550514e+07           1.000000   \n",
       "75%    2.302709e+08  8.754595e+07           3.000000   \n",
       "max    4.438672e+08  1.895026e+08           8.000000   \n",
       "\n",
       "       discharge_disposition_id  admission_source_id  time_in_hospital  \\\n",
       "count             101766.000000        101766.000000     101766.000000   \n",
       "mean                   3.715642             5.754437          4.395987   \n",
       "std                    5.280166             4.064081          2.985108   \n",
       "min                    1.000000             1.000000          1.000000   \n",
       "25%                    1.000000             1.000000          2.000000   \n",
       "50%                    1.000000             7.000000          4.000000   \n",
       "75%                    4.000000             7.000000          6.000000   \n",
       "max                   28.000000            25.000000         14.000000   \n",
       "\n",
       "       num_lab_procedures  num_procedures  num_medications  number_outpatient  \\\n",
       "count       101766.000000   101766.000000    101766.000000      101766.000000   \n",
       "mean            43.095641        1.339730        16.021844           0.369357   \n",
       "std             19.674362        1.705807         8.127566           1.267265   \n",
       "min              1.000000        0.000000         1.000000           0.000000   \n",
       "25%             31.000000        0.000000        10.000000           0.000000   \n",
       "50%             44.000000        1.000000        15.000000           0.000000   \n",
       "75%             57.000000        2.000000        20.000000           0.000000   \n",
       "max            132.000000        6.000000        81.000000          42.000000   \n",
       "\n",
       "       number_emergency  number_inpatient  number_diagnoses  \n",
       "count     101766.000000     101766.000000     101766.000000  \n",
       "mean           0.197836          0.635566          7.422607  \n",
       "std            0.930472          1.262863          1.933600  \n",
       "min            0.000000          0.000000          1.000000  \n",
       "25%            0.000000          0.000000          6.000000  \n",
       "50%            0.000000          0.000000          8.000000  \n",
       "75%            0.000000          1.000000          9.000000  \n",
       "max           76.000000         21.000000         16.000000  "
      ]
     },
     "execution_count": 136,
     "metadata": {},
     "output_type": "execute_result"
    }
   ],
   "source": [
    "df_clean.describe()"
   ]
  },
  {
   "cell_type": "code",
   "execution_count": 137,
   "id": "6d140a4d-da7c-41d0-8890-54c4f35d3405",
   "metadata": {},
   "outputs": [
    {
     "name": "stdout",
     "output_type": "stream",
     "text": [
      "['encounter_id', 'patient_nbr', 'race', 'gender', 'age', 'weight', 'admission_type_id', 'discharge_disposition_id', 'admission_source_id', 'time_in_hospital', 'payer_code', 'medical_specialty', 'num_lab_procedures', 'num_procedures', 'num_medications', 'number_outpatient', 'number_emergency', 'number_inpatient', 'diag_1', 'diag_2', 'diag_3', 'number_diagnoses', 'max_glu_serum', 'A1Cresult', 'metformin', 'repaglinide', 'nateglinide', 'chlorpropamide', 'glimepiride', 'acetohexamide', 'glipizide', 'glyburide', 'tolbutamide', 'pioglitazone', 'rosiglitazone', 'acarbose', 'miglitol', 'troglitazone', 'tolazamide', 'examide', 'citoglipton', 'insulin', 'glyburide-metformin', 'glipizide-metformin', 'glimepiride-pioglitazone', 'metformin-rosiglitazone', 'metformin-pioglitazone', 'change', 'diabetesMed', 'readmitted']\n"
     ]
    }
   ],
   "source": [
    "print(list(df_clean))"
   ]
  },
  {
   "cell_type": "markdown",
   "id": "afc4d879",
   "metadata": {},
   "source": [
    "Data Cleaning "
   ]
  },
  {
   "cell_type": "code",
   "execution_count": 138,
   "id": "63b3c087-2e7b-4086-bc7a-4d2f5420f08e",
   "metadata": {},
   "outputs": [],
   "source": [
    "#REMOVING DUPLICATE DATA'S\n",
    "df_clean['patient_nbr'].value_counts()\n",
    "df_clean = df_clean.drop_duplicates(subset=['patient_nbr'])"
   ]
  },
  {
   "cell_type": "markdown",
   "id": "215ec990",
   "metadata": {},
   "source": [
    "There are 30,248 total of Duplicate Data's which the unique data consist only 71,518"
   ]
  },
  {
   "cell_type": "code",
   "execution_count": 139,
   "id": "1bca7cd8-29bc-472c-89ae-75e1512ab0c8",
   "metadata": {},
   "outputs": [
    {
     "name": "stdout",
     "output_type": "stream",
     "text": [
      "<class 'pandas.core.frame.DataFrame'>\n",
      "Index: 71518 entries, 0 to 101765\n",
      "Data columns (total 50 columns):\n",
      " #   Column                    Non-Null Count  Dtype \n",
      "---  ------                    --------------  ----- \n",
      " 0   encounter_id              71518 non-null  int64 \n",
      " 1   patient_nbr               71518 non-null  int64 \n",
      " 2   race                      71518 non-null  object\n",
      " 3   gender                    71518 non-null  object\n",
      " 4   age                       71518 non-null  object\n",
      " 5   weight                    71518 non-null  object\n",
      " 6   admission_type_id         71518 non-null  int64 \n",
      " 7   discharge_disposition_id  71518 non-null  int64 \n",
      " 8   admission_source_id       71518 non-null  int64 \n",
      " 9   time_in_hospital          71518 non-null  int64 \n",
      " 10  payer_code                71518 non-null  object\n",
      " 11  medical_specialty         71518 non-null  object\n",
      " 12  num_lab_procedures        71518 non-null  int64 \n",
      " 13  num_procedures            71518 non-null  int64 \n",
      " 14  num_medications           71518 non-null  int64 \n",
      " 15  number_outpatient         71518 non-null  int64 \n",
      " 16  number_emergency          71518 non-null  int64 \n",
      " 17  number_inpatient          71518 non-null  int64 \n",
      " 18  diag_1                    71518 non-null  object\n",
      " 19  diag_2                    71518 non-null  object\n",
      " 20  diag_3                    71518 non-null  object\n",
      " 21  number_diagnoses          71518 non-null  int64 \n",
      " 22  max_glu_serum             71518 non-null  object\n",
      " 23  A1Cresult                 71518 non-null  object\n",
      " 24  metformin                 71518 non-null  object\n",
      " 25  repaglinide               71518 non-null  object\n",
      " 26  nateglinide               71518 non-null  object\n",
      " 27  chlorpropamide            71518 non-null  object\n",
      " 28  glimepiride               71518 non-null  object\n",
      " 29  acetohexamide             71518 non-null  object\n",
      " 30  glipizide                 71518 non-null  object\n",
      " 31  glyburide                 71518 non-null  object\n",
      " 32  tolbutamide               71518 non-null  object\n",
      " 33  pioglitazone              71518 non-null  object\n",
      " 34  rosiglitazone             71518 non-null  object\n",
      " 35  acarbose                  71518 non-null  object\n",
      " 36  miglitol                  71518 non-null  object\n",
      " 37  troglitazone              71518 non-null  object\n",
      " 38  tolazamide                71518 non-null  object\n",
      " 39  examide                   71518 non-null  object\n",
      " 40  citoglipton               71518 non-null  object\n",
      " 41  insulin                   71518 non-null  object\n",
      " 42  glyburide-metformin       71518 non-null  object\n",
      " 43  glipizide-metformin       71518 non-null  object\n",
      " 44  glimepiride-pioglitazone  71518 non-null  object\n",
      " 45  metformin-rosiglitazone   71518 non-null  object\n",
      " 46  metformin-pioglitazone    71518 non-null  object\n",
      " 47  change                    71518 non-null  object\n",
      " 48  diabetesMed               71518 non-null  object\n",
      " 49  readmitted                71518 non-null  object\n",
      "dtypes: int64(13), object(37)\n",
      "memory usage: 27.8+ MB\n"
     ]
    }
   ],
   "source": [
    "df_clean.info()"
   ]
  },
  {
   "cell_type": "code",
   "execution_count": 140,
   "id": "fa05a2a5",
   "metadata": {},
   "outputs": [
    {
     "name": "stdout",
     "output_type": "stream",
     "text": [
      "metformin\n",
      "No        56527\n",
      "Steady    13718\n",
      "Up          838\n",
      "Down        435\n",
      "Name: count, dtype: int64\n",
      "-----------------------------\n",
      "repaglinide\n",
      "No        70592\n",
      "Steady      824\n",
      "Up           73\n",
      "Down         29\n",
      "Name: count, dtype: int64\n",
      "-----------------------------\n",
      "nateglinide\n",
      "No        71020\n",
      "Steady      474\n",
      "Up           16\n",
      "Down          8\n",
      "Name: count, dtype: int64\n",
      "-----------------------------\n",
      "chlorpropamide\n",
      "No        71446\n",
      "Steady       67\n",
      "Up            4\n",
      "Down          1\n",
      "Name: count, dtype: int64\n"
     ]
    }
   ],
   "source": [
    "print(df_clean['metformin'].value_counts())\n",
    "print(\"-----------------------------\")\n",
    "print(df_clean['repaglinide'].value_counts())\n",
    "print(\"-----------------------------\")\n",
    "print(df_clean['nateglinide'].value_counts())\n",
    "print(\"-----------------------------\")\n",
    "print(df_clean['chlorpropamide'].value_counts())"
   ]
  },
  {
   "cell_type": "code",
   "execution_count": 141,
   "id": "a937c13b",
   "metadata": {},
   "outputs": [
    {
     "name": "stdout",
     "output_type": "stream",
     "text": [
      "glimepiride\n",
      "No        67773\n",
      "Steady     3372\n",
      "Up          235\n",
      "Down        138\n",
      "Name: count, dtype: int64\n",
      "-----------------------------\n",
      "acetohexamide\n",
      "No        71517\n",
      "Steady        1\n",
      "Name: count, dtype: int64\n",
      "-----------------------------\n",
      "glipizide\n",
      "No        62412\n",
      "Steady     8150\n",
      "Up          578\n",
      "Down        378\n",
      "Name: count, dtype: int64\n",
      "-----------------------------\n",
      "glyburide\n",
      "No        63664\n",
      "Steady     6812\n",
      "Up          621\n",
      "Down        421\n",
      "Name: count, dtype: int64\n"
     ]
    }
   ],
   "source": [
    "print(df_clean['glimepiride'].value_counts())\n",
    "print(\"-----------------------------\")\n",
    "print(df_clean['acetohexamide'].value_counts())\n",
    "print(\"-----------------------------\")\n",
    "print(df_clean['glipizide'].value_counts())\n",
    "print(\"-----------------------------\")\n",
    "print(df_clean['glyburide'].value_counts())\n"
   ]
  },
  {
   "cell_type": "code",
   "execution_count": 142,
   "id": "b77cbf2f",
   "metadata": {},
   "outputs": [
    {
     "name": "stdout",
     "output_type": "stream",
     "text": [
      "tolbutamide\n",
      "No        71499\n",
      "Steady       19\n",
      "Name: count, dtype: int64\n",
      "-----------------------------\n",
      "pioglitazone\n",
      "No        66210\n",
      "Steady     5047\n",
      "Up          180\n",
      "Down         81\n",
      "Name: count, dtype: int64\n",
      "-----------------------------\n",
      "rosiglitazone\n",
      "No        66817\n",
      "Steady     4490\n",
      "Up          136\n",
      "Down         75\n",
      "Name: count, dtype: int64\n",
      "-----------------------------\n",
      "acarbose\n",
      "No        71316\n",
      "Steady      192\n",
      "Up           10\n",
      "Name: count, dtype: int64\n"
     ]
    }
   ],
   "source": [
    "print(df_clean['tolbutamide'].value_counts())\n",
    "print(\"-----------------------------\")\n",
    "print(df_clean['pioglitazone'].value_counts())\n",
    "print(\"-----------------------------\")\n",
    "print(df_clean['rosiglitazone'].value_counts())\n",
    "print(\"-----------------------------\")\n",
    "print(df_clean['acarbose'].value_counts())"
   ]
  },
  {
   "cell_type": "code",
   "execution_count": 143,
   "id": "685bd26e",
   "metadata": {},
   "outputs": [
    {
     "name": "stdout",
     "output_type": "stream",
     "text": [
      "miglitol\n",
      "No        71498\n",
      "Steady       18\n",
      "Down          1\n",
      "Up            1\n",
      "Name: count, dtype: int64\n",
      "-----------------------------\n",
      "troglitazone\n",
      "No        71515\n",
      "Steady        3\n",
      "Name: count, dtype: int64\n",
      "-----------------------------\n",
      "tolazamide\n",
      "No        71488\n",
      "Steady       30\n",
      "Name: count, dtype: int64\n",
      "-----------------------------\n",
      "examide\n",
      "No    71518\n",
      "Name: count, dtype: int64\n"
     ]
    }
   ],
   "source": [
    "print(df_clean['miglitol'].value_counts())\n",
    "print(\"-----------------------------\")\n",
    "print(df_clean['troglitazone'].value_counts())\n",
    "print(\"-----------------------------\")\n",
    "print(df_clean['tolazamide'].value_counts())\n",
    "print(\"-----------------------------\")\n",
    "print(df_clean['examide'].value_counts())"
   ]
  },
  {
   "cell_type": "code",
   "execution_count": 144,
   "id": "94e8826b",
   "metadata": {},
   "outputs": [
    {
     "name": "stdout",
     "output_type": "stream",
     "text": [
      "citoglipton\n",
      "No    71518\n",
      "Name: count, dtype: int64\n",
      "-----------------------------\n",
      "insulin\n",
      "No        34921\n",
      "Steady    22129\n",
      "Down       7505\n",
      "Up         6963\n",
      "Name: count, dtype: int64\n",
      "-----------------------------\n",
      "glyburide-metformin\n",
      "No        71016\n",
      "Steady      491\n",
      "Up            7\n",
      "Down          4\n",
      "Name: count, dtype: int64\n",
      "-----------------------------\n",
      "glipizide-metformin\n",
      "No        71511\n",
      "Steady        7\n",
      "Name: count, dtype: int64\n"
     ]
    }
   ],
   "source": [
    "print(df_clean['citoglipton'].value_counts())\n",
    "print(\"-----------------------------\")\n",
    "print(df_clean['insulin'].value_counts())\n",
    "print(\"-----------------------------\")\n",
    "print(df_clean['glyburide-metformin'].value_counts())\n",
    "print(\"-----------------------------\")\n",
    "print(df_clean['glipizide-metformin'].value_counts())"
   ]
  },
  {
   "cell_type": "code",
   "execution_count": 145,
   "id": "e52eb279",
   "metadata": {},
   "outputs": [
    {
     "name": "stdout",
     "output_type": "stream",
     "text": [
      "glimepiride-pioglitazone\n",
      "No    71518\n",
      "Name: count, dtype: int64\n",
      "-----------------------------\n",
      "metformin-rosiglitazone\n",
      "No        71516\n",
      "Steady        2\n",
      "Name: count, dtype: int64\n",
      "-----------------------------\n",
      "metformin-pioglitazone\n",
      "No        71517\n",
      "Steady        1\n",
      "Name: count, dtype: int64\n"
     ]
    }
   ],
   "source": [
    "print(df_clean['glimepiride-pioglitazone'].value_counts())\n",
    "print(\"-----------------------------\")\n",
    "print(df_clean['metformin-rosiglitazone'].value_counts())\n",
    "print(\"-----------------------------\")\n",
    "print(df_clean['metformin-pioglitazone'].value_counts())"
   ]
  },
  {
   "cell_type": "code",
   "execution_count": 146,
   "id": "a9c81d85",
   "metadata": {},
   "outputs": [
    {
     "data": {
      "text/plain": [
       "medical_specialty\n",
       "?                                   48.207444\n",
       "InternalMedicine                    15.267485\n",
       "Family/GeneralPractice               7.156240\n",
       "Emergency/Trauma                     6.243184\n",
       "Cardiology                           5.964932\n",
       "                                      ...    \n",
       "SportsMedicine                       0.001398\n",
       "Dermatology                          0.001398\n",
       "Proctology                           0.001398\n",
       "Surgery-PlasticwithinHeadandNeck     0.001398\n",
       "Resident                             0.001398\n",
       "Name: proportion, Length: 71, dtype: float64"
      ]
     },
     "execution_count": 146,
     "metadata": {},
     "output_type": "execute_result"
    }
   ],
   "source": [
    "(df_clean.medical_specialty.value_counts(normalize=True, dropna=False) * 100)\n"
   ]
  },
  {
   "cell_type": "markdown",
   "id": "3cead83d",
   "metadata": {},
   "source": [
    "Removing features that is not useful for our target readmittied\n",
    "\n",
    "encounter_id  > Irrelevant \n",
    "\n",
    "Patient_nbr > Irrelevant\n",
    "\n",
    "Weight > Consist of 97% missing value\n",
    "\n",
    "Payer_code > Irrelevant\n",
    "\n",
    "Medicial_Speciality > 48% missing value\n",
    "\n",
    "Repaglinide\t> 71K samples not using the drug\n",
    "\n",
    "Nateglinide\t> 71K samples not using the drug\n",
    "\n",
    "Chlorpropamide > 71K samples not using the drug\n",
    "\n",
    "Acarbose > 71k samples not using the drug\n",
    "\n",
    "Miglitol > 71k samples not using the drug\n",
    "\n",
    "Troglitazone > Only 3 patients using the drug\n",
    "\n",
    "Tolazamide > Only 39 patients using the drug\n",
    "\n",
    "Examide\t> All patients not using the drug\n",
    "\n",
    "Citoglipton\t> All patients not using the drug\n",
    "\n",
    "Glyburide_metformin\t> 71k samples not using the drug\n",
    "\n",
    "Glipizide_metfotmin > Only 13 patients using the drug\n",
    "\n",
    "Glimepiride_pioglitazone > Only 1 patient using the drug\n",
    "\n",
    "Metformin_rosiglitazone > Only 2 patients using the drug\n",
    "\n",
    "Metformin_pioglitazone > Only 1 patient using the drug\n",
    "\n",
    "Acetohexamide > Only 1 patient using the drug\n",
    "\n",
    "tolbutamide > Only 23 patients using the drug\n",
    "\n"
   ]
  },
  {
   "cell_type": "code",
   "execution_count": 147,
   "id": "d4b2a6e2-c9e2-4380-bdf4-0b45a6047333",
   "metadata": {},
   "outputs": [],
   "source": [
    "features_drop_list = ['encounter_id', 'patient_nbr', 'weight', 'payer_code', 'medical_specialty', 'repaglinide', 'nateglinide', 'chlorpropamide', 'acarbose', 'miglitol', 'troglitazone', 'tolazamide', 'examide', 'citoglipton', 'glyburide-metformin', 'glipizide-metformin', 'glimepiride-pioglitazone', 'metformin-rosiglitazone','metformin-pioglitazone', 'acetohexamide', 'tolbutamide']\n",
    "df_clean.drop(features_drop_list, axis=1, inplace=True)"
   ]
  },
  {
   "cell_type": "markdown",
   "id": "f4e9bc5b",
   "metadata": {},
   "source": [
    "ICD 9 codes"
   ]
  },
  {
   "cell_type": "code",
   "execution_count": 148,
   "id": "b1729aef-e47e-4b74-bd68-b7bcd4f0f896",
   "metadata": {},
   "outputs": [],
   "source": [
    "#start by setting all values containing E or V into 0 (as one category)\n",
    "df_clean.loc[df_clean['diag_1'].str.contains('V',na=False,case=False), 'diag_1'] = 0\n",
    "df_clean.loc[df_clean['diag_1'].str.contains('E',na=False,case=False), 'diag_1'] = 0\n",
    "df_clean.loc[df_clean['diag_2'].str.contains('V',na=False,case=False), 'diag_2'] = 0\n",
    "df_clean.loc[df_clean['diag_2'].str.contains('E',na=False,case=False), 'diag_2'] = 0\n",
    "df_clean.loc[df_clean['diag_3'].str.contains('V',na=False,case=False), 'diag_3'] = 0\n",
    "df_clean.loc[df_clean['diag_3'].str.contains('E',na=False,case=False), 'diag_3'] = 0\n",
    "\n",
    "#setting all missing values into -1\n",
    "df_clean['diag_1'] = df_clean['diag_1'].replace('?', -1)\n",
    "df_clean['diag_2'] = df_clean['diag_2'].replace('?', -1)\n",
    "df_clean['diag_3'] = df_clean['diag_3'].replace('?', -1)\n",
    "\n",
    "#No all diag values can be converted into numeric values\n",
    "df_clean['diag_1'] = df_clean['diag_1'].astype(float)\n",
    "df_clean['diag_2'] = df_clean['diag_2'].astype(float)\n",
    "df_clean['diag_3'] = df_clean['diag_3'].astype(float)"
   ]
  },
  {
   "cell_type": "code",
   "execution_count": 149,
   "id": "9b38dcdd",
   "metadata": {},
   "outputs": [
    {
     "name": "stdout",
     "output_type": "stream",
     "text": [
      "   diag_1  diag_2  diag_3\n",
      "0     3.0     0.0     0.0\n",
      "1     3.0     3.0     3.0\n",
      "2    11.0     3.0     0.0\n",
      "3     1.0     3.0     7.0\n",
      "4     2.0     2.0     3.0\n"
     ]
    }
   ],
   "source": [
    "# Ensure 'diag_1', 'diag_2', 'diag_3' are numeric\n",
    "df_clean[['diag_1', 'diag_2', 'diag_3']] = df_clean[['diag_1', 'diag_2', 'diag_3']].apply(pd.to_numeric, errors='coerce')\n",
    "\n",
    "def categorize_diag(df_clean, col):\n",
    "    df_clean.loc[(df_clean[col] >= 1) & (df_clean[col] < 140), col] = 1\n",
    "    df_clean.loc[(df_clean[col] >= 140) & (df_clean[col] < 240), col] = 2\n",
    "    df_clean.loc[(df_clean[col] >= 240) & (df_clean[col] < 280), col] = 3\n",
    "    df_clean.loc[(df_clean[col] >= 280) & (df_clean[col] < 290), col] = 4\n",
    "    df_clean.loc[(df_clean[col] >= 290) & (df_clean[col] < 320), col] = 5\n",
    "    df_clean.loc[(df_clean[col] >= 320) & (df_clean[col] < 390), col] = 6\n",
    "    df_clean.loc[(df_clean[col] >= 390) & (df_clean[col] < 460), col] = 7\n",
    "    df_clean.loc[(df_clean[col] >= 460) & (df_clean[col] < 520), col] = 8\n",
    "    df_clean.loc[(df_clean[col] >= 520) & (df_clean[col] < 580), col] = 9\n",
    "    df_clean.loc[(df_clean[col] >= 580) & (df_clean[col] < 630), col] = 10\n",
    "    df_clean.loc[(df_clean[col] >= 630) & (df_clean[col] < 680), col] = 11\n",
    "    df_clean.loc[(df_clean[col] >= 680) & (df_clean[col] < 710), col] = 12\n",
    "    df_clean.loc[(df_clean[col] >= 710) & (df_clean[col] < 740), col] = 13\n",
    "    df_clean.loc[(df_clean[col] >= 740) & (df_clean[col] < 760), col] = 14\n",
    "    df_clean.loc[(df_clean[col] >= 760) & (df_clean[col] < 780), col] = 15\n",
    "    df_clean.loc[(df_clean[col] >= 780) & (df_clean[col] < 800), col] = 16\n",
    "    df_clean.loc[(df_clean[col] >= 800) & (df_clean[col] < 1000), col] = 17\n",
    "    df_clean.loc[df_clean[col] == -1, col] = 0  # Handle missing values\n",
    "    \n",
    "# Apply function to diagnosis columns\n",
    "for col in ['diag_1', 'diag_2', 'diag_3']:\n",
    "    categorize_diag(df_clean, col)\n",
    "\n",
    "# Print the result\n",
    "print(df_clean[['diag_1', 'diag_2', 'diag_3']].head())"
   ]
  },
  {
   "cell_type": "code",
   "execution_count": 150,
   "id": "683674e6",
   "metadata": {},
   "outputs": [
    {
     "name": "stdout",
     "output_type": "stream",
     "text": [
      "0          0.0\n",
      "1          3.0\n",
      "2          3.0\n",
      "3          3.0\n",
      "4          2.0\n",
      "          ... \n",
      "101754     9.0\n",
      "101755    10.0\n",
      "101756    10.0\n",
      "101758     1.0\n",
      "101765     9.0\n",
      "Name: diag_2, Length: 71518, dtype: float64\n"
     ]
    }
   ],
   "source": [
    "print(df_clean['diag_2'])"
   ]
  },
  {
   "cell_type": "code",
   "execution_count": 151,
   "id": "a498f8de",
   "metadata": {},
   "outputs": [
    {
     "data": {
      "text/plain": [
       "array([ 0.,  3.,  2.,  7.,  8.,  4., 17., 13., 10.,  1.,  9., 12.,  6.,\n",
       "       16.,  5., 11., 14.])"
      ]
     },
     "execution_count": 151,
     "metadata": {},
     "output_type": "execute_result"
    }
   ],
   "source": [
    "#check the results\n",
    "df_clean.diag_2.unique()"
   ]
  },
  {
   "cell_type": "code",
   "execution_count": 152,
   "id": "63eeb9cf-5505-478c-b949-b5f71ce4f9c9",
   "metadata": {},
   "outputs": [
    {
     "data": {
      "text/plain": [
       "race\n",
       "Caucasian          53491\n",
       "AfricanAmerican    12887\n",
       "Other               3126\n",
       "Hispanic            1517\n",
       "Asian                497\n",
       "Name: count, dtype: int64"
      ]
     },
     "execution_count": 152,
     "metadata": {},
     "output_type": "execute_result"
    }
   ],
   "source": [
    "df_clean['race'] = df_clean['race'].replace('?', 'Other')\n",
    "df_clean.race.value_counts()"
   ]
  },
  {
   "cell_type": "code",
   "execution_count": 153,
   "id": "7a695780-852d-4087-8cb5-5938dfca2120",
   "metadata": {},
   "outputs": [
    {
     "data": {
      "text/plain": [
       "gender\n",
       "Female    38028\n",
       "Male      33490\n",
       "Name: count, dtype: int64"
      ]
     },
     "execution_count": 153,
     "metadata": {},
     "output_type": "execute_result"
    }
   ],
   "source": [
    "df_clean['gender'] = df_clean['gender'].replace('Unknown/Invalid', 'Female')\n",
    "df_clean.gender.value_counts()"
   ]
  },
  {
   "cell_type": "code",
   "execution_count": 154,
   "id": "8ea34506-7da3-4d4d-b62e-530f16e921f2",
   "metadata": {},
   "outputs": [
    {
     "name": "stderr",
     "output_type": "stream",
     "text": [
      "C:\\Users\\SnowPlay\\AppData\\Local\\Temp\\ipykernel_17176\\2177177959.py:2: FutureWarning: Downcasting behavior in `replace` is deprecated and will be removed in a future version. To retain the old behavior, explicitly call `result.infer_objects(copy=False)`. To opt-in to the future behavior, set `pd.set_option('future.no_silent_downcasting', True)`\n",
      "  df_clean['gender'] = df_clean['gender'].replace('Female', 0)\n"
     ]
    },
    {
     "data": {
      "text/plain": [
       "gender\n",
       "0    38028\n",
       "1    33490\n",
       "Name: count, dtype: int64"
      ]
     },
     "execution_count": 154,
     "metadata": {},
     "output_type": "execute_result"
    }
   ],
   "source": [
    "df_clean['gender'] = df_clean['gender'].replace('Male', 1)\n",
    "df_clean['gender'] = df_clean['gender'].replace('Female', 0)\n",
    "df_clean.gender.value_counts()"
   ]
  },
  {
   "cell_type": "code",
   "execution_count": 155,
   "id": "992a430a-4e86-4fac-8dea-a43dcd878a23",
   "metadata": {},
   "outputs": [
    {
     "name": "stderr",
     "output_type": "stream",
     "text": [
      "C:\\Users\\SnowPlay\\AppData\\Local\\Temp\\ipykernel_17176\\856190937.py:7: FutureWarning: Downcasting behavior in `replace` is deprecated and will be removed in a future version. To retain the old behavior, explicitly call `result.infer_objects(copy=False)`. To opt-in to the future behavior, set `pd.set_option('future.no_silent_downcasting', True)`\n",
      "  df_clean['age'] = df_clean['age'].replace(age_replacements)\n"
     ]
    },
    {
     "data": {
      "text/plain": [
       "age\n",
       "75    18210\n",
       "65    15960\n",
       "55    12466\n",
       "85    11589\n",
       "45     6878\n",
       "35     2699\n",
       "95     1900\n",
       "25     1127\n",
       "15      535\n",
       "5       154\n",
       "Name: count, dtype: int64"
      ]
     },
     "execution_count": 155,
     "metadata": {},
     "output_type": "execute_result"
    }
   ],
   "source": [
    "age_replacements = {}\n",
    "for i in range(0, 10):\n",
    "    age_range = f'[{10*i}-{10*(i+1)})'\n",
    "    midpoint = i*10 + 5\n",
    "    age_replacements[age_range] = midpoint\n",
    "\n",
    "df_clean['age'] = df_clean['age'].replace(age_replacements)\n",
    "\n",
    "df_clean['age'].value_counts()"
   ]
  },
  {
   "cell_type": "code",
   "execution_count": 156,
   "id": "2adaab1c-287a-429a-af24-8cf3807ad94c",
   "metadata": {},
   "outputs": [
    {
     "data": {
      "text/plain": [
       "age\n",
       "75    18210\n",
       "65    15960\n",
       "55    12466\n",
       "85    11589\n",
       "45     6878\n",
       "35     2699\n",
       "95     1900\n",
       "25     1127\n",
       "15      535\n",
       "5       154\n",
       "Name: count, dtype: int64"
      ]
     },
     "execution_count": 156,
     "metadata": {},
     "output_type": "execute_result"
    }
   ],
   "source": [
    "df_clean['age'].value_counts()"
   ]
  },
  {
   "cell_type": "code",
   "execution_count": 157,
   "id": "bb554076",
   "metadata": {},
   "outputs": [
    {
     "name": "stderr",
     "output_type": "stream",
     "text": [
      "C:\\Users\\SnowPlay\\AppData\\Local\\Temp\\ipykernel_17176\\3724688615.py:3: FutureWarning: Downcasting behavior in `replace` is deprecated and will be removed in a future version. To retain the old behavior, explicitly call `result.infer_objects(copy=False)`. To opt-in to the future behavior, set `pd.set_option('future.no_silent_downcasting', True)`\n",
      "  df['readmitted']=df['readmitted'].replace('<30', 2)\n"
     ]
    },
    {
     "data": {
      "text/plain": [
       "readmitted\n",
       "0    54864\n",
       "1    35545\n",
       "2    11357\n",
       "Name: count, dtype: int64"
      ]
     },
     "execution_count": 157,
     "metadata": {},
     "output_type": "execute_result"
    }
   ],
   "source": [
    "df['readmitted']=df['readmitted'].replace('NO', 0)\n",
    "df['readmitted']=df['readmitted'].replace('>30', 1)\n",
    "df['readmitted']=df['readmitted'].replace('<30', 2)\n",
    "df.readmitted.value_counts()"
   ]
  },
  {
   "cell_type": "code",
   "execution_count": 158,
   "id": "4dccca70",
   "metadata": {},
   "outputs": [
    {
     "name": "stdout",
     "output_type": "stream",
     "text": [
      "   race_AfricanAmerican  race_Asian  race_Caucasian  race_Hispanic  race_Other\n",
      "0                     0           0               1              0           0\n",
      "1                     0           0               1              0           0\n",
      "2                     1           0               0              0           0\n",
      "3                     0           0               1              0           0\n",
      "4                     0           0               1              0           0\n"
     ]
    }
   ],
   "source": [
    "df_clean = pd.concat([df_clean,pd.get_dummies(df_clean['race'], prefix='race')], axis=1).drop(['race'],axis=1)\n",
    "\n",
    "race_columns = ['race_AfricanAmerican', 'race_Asian', 'race_Caucasian', 'race_Hispanic', 'race_Other']\n",
    "df_clean[race_columns] = df_clean[race_columns].astype(int)\n",
    "# Check the changes\n",
    "print(df_clean[race_columns].head())"
   ]
  },
  {
   "cell_type": "markdown",
   "id": "ee6053a2",
   "metadata": {},
   "source": [
    "-- Algorithm --"
   ]
  },
  {
   "cell_type": "code",
   "execution_count": 159,
   "id": "8db28a23-d17d-47c9-a9c7-a97fd9d615d5",
   "metadata": {},
   "outputs": [],
   "source": [
    "X = df_clean.drop('readmitted', axis=1)  # Features\n",
    "y = df_clean['readmitted']               # Target variable\n"
   ]
  },
  {
   "cell_type": "code",
   "execution_count": 160,
   "id": "09dba003",
   "metadata": {},
   "outputs": [],
   "source": [
    "cat_features = [col for col in X.columns if X[col].dtype == 'object']"
   ]
  },
  {
   "cell_type": "code",
   "execution_count": null,
   "id": "3fc0aff4",
   "metadata": {},
   "outputs": [],
   "source": [
    "class CatBoostBayesianOptimizer:\n",
    "    def __init__(self, X_train, y_train, cat_features, eval_metric='f1', random_state=42):\n",
    "        self.X_train = X_train\n",
    "        self.y_train = y_train\n",
    "        self.cat_features = cat_features\n",
    "        self.eval_metric = eval_metric\n",
    "        self.random_state = random_state\n",
    "        \n",
    "    def _objective(self, iterations, learning_rate, depth, l2_leaf_reg, \n",
    "                  border_count, colsample_bylevel):\n",
    "        \n",
    "        try:\n",
    "            params = {\n",
    "                'iterations': int(iterations),\n",
    "                'learning_rate': float(learning_rate),\n",
    "                'depth': int(depth),\n",
    "                'l2_leaf_reg': float(l2_leaf_reg),\n",
    "                'border_count': int(border_count),\n",
    "                'colsample_bylevel': float(colsample_bylevel),\n",
    "                'random_state': self.random_state,\n",
    "                'verbose': False,\n",
    "            }\n",
    "            \n",
    "            # Prepare data\n",
    "            X = self.X_train.copy()\n",
    "            X[self.cat_features] = X[self.cat_features].astype(str)\n",
    "            train_pool = Pool(X, label=self.y_train, cat_features=self.cat_features)\n",
    "            \n",
    "            # Initialize and train model\n",
    "            model = CatBoostClassifier(\n",
    "                loss_function='MultiClass',\n",
    "                **params\n",
    "            )\n",
    "            \n",
    "            model.fit(train_pool, verbose=False)\n",
    "            y_pred = model.predict(X)\n",
    "            \n",
    "            # Calculate score\n",
    "            if self.eval_metric == 'f1':\n",
    "                score = f1_score(self.y_train, y_pred, average='weighted')\n",
    "            else:\n",
    "                score = (y_pred == self.y_train).mean()\n",
    "                \n",
    "            return score\n",
    "            \n",
    "        except Exception as e:\n",
    "            print(f\"Error in optimization: {str(e)}\")\n",
    "            return None\n",
    "    \n",
    "    def optimize(self, n_iter, n_init_points):\n",
    "        \"\"\"\n",
    "        Run Bayesian optimization to find the best hyperparameters.\n",
    "        \"\"\"\n",
    "        if n_iter <= n_init_points:\n",
    "            raise ValueError(\"Number of iterations (n_iter) must be greater than the number of initial points (n_init_points).\")\n",
    "        \n",
    "        # Define parameter bounds with valid CatBoost ranges, excluding subsample and bootstrap_type\n",
    "        pbounds = {\n",
    "            'iterations': (100, 2000),          # Number of trees\n",
    "            'learning_rate': (0.01, 0.3),       # Learning rate\n",
    "            'depth': (3, 12),                   # Tree depth\n",
    "            'l2_leaf_reg': (0.1, 10.0),         # L2 regularization\n",
    "            'border_count': (32, 254),          # Must be integer between 1 and 255\n",
    "            'colsample_bylevel': (0.3, 1.0)     # Feature subsample ratio\n",
    "        }\n",
    "        \n",
    "        optimizer = BayesianOptimization(\n",
    "            f=self._objective,\n",
    "            pbounds=pbounds,\n",
    "            random_state=self.random_state\n",
    "        )\n",
    "        \n",
    "        optimizer.maximize(\n",
    "            init_points=n_init_points,\n",
    "            n_iter=n_iter\n",
    "        )\n",
    "        \n",
    "        # Print results\n",
    "        print(\"\\nBest parameters found:\")\n",
    "        best_params = optimizer.max['params']\n",
    "        for param, value in best_params.items():\n",
    "            if param in ['depth', 'border_count', 'iterations']:\n",
    "                print(f\"{param}: {int(value)}\")\n",
    "            else:\n",
    "                print(f\"{param}: {value:.4f}\")\n",
    "        print(f\"\\nBest {self.eval_metric} score: {optimizer.max['target']:.4f}\")\n",
    "    \n",
    "        return best_params\n",
    "    \n",
    "    def train_final_model(self, best_params):\n",
    "        X_train = self.X_train.copy()\n",
    "        X_train[self.cat_features] = X_train[self.cat_features].astype(str)\n",
    "\n",
    "        train_pool = Pool(X_train, label=self.y_train, cat_features=self.cat_features)\n",
    "\n",
    "        final_model = CatBoostClassifier(\n",
    "            loss_function='MultiClass',\n",
    "            iterations=int(best_params['iterations']),  # Use optimized iterations\n",
    "            learning_rate=best_params['learning_rate'],\n",
    "            depth=int(best_params['depth']),\n",
    "            l2_leaf_reg=best_params['l2_leaf_reg'],\n",
    "            border_count=int(best_params['border_count']),\n",
    "            colsample_bylevel=best_params['colsample_bylevel'],\n",
    "            random_state=self.random_state,\n",
    "            verbose=100\n",
    "        )\n",
    "        final_model.fit(train_pool, verbose=100)\n",
    "        return final_model"
   ]
  },
  {
   "cell_type": "code",
   "execution_count": 176,
   "id": "27e85083",
   "metadata": {},
   "outputs": [
    {
     "name": "stdout",
     "output_type": "stream",
     "text": [
      "|   iter    |  target   | border... | colsam... |   depth   | iterat... | l2_lea... | learni... |\n",
      "-------------------------------------------------------------------------------------------------\n",
      "| \u001b[39m1        \u001b[39m | \u001b[39m0.7577   \u001b[39m | \u001b[39m115.1    \u001b[39m | \u001b[39m0.9655   \u001b[39m | \u001b[39m9.588    \u001b[39m | \u001b[39m1.237e+03\u001b[39m | \u001b[39m1.645    \u001b[39m | \u001b[39m0.05524  \u001b[39m |\n",
      "| \u001b[35m2        \u001b[39m | \u001b[35m0.9688   \u001b[39m | \u001b[35m44.89    \u001b[39m | \u001b[35m0.9063   \u001b[39m | \u001b[35m8.41     \u001b[39m | \u001b[35m1.445e+03\u001b[39m | \u001b[35m0.3038   \u001b[39m | \u001b[35m0.2913   \u001b[39m |\n",
      "| \u001b[39m3        \u001b[39m | \u001b[39m0.5562   \u001b[39m | \u001b[39m216.8    \u001b[39m | \u001b[39m0.4486   \u001b[39m | \u001b[39m4.636    \u001b[39m | \u001b[39m448.5    \u001b[39m | \u001b[39m3.112    \u001b[39m | \u001b[39m0.1622   \u001b[39m |\n",
      "| \u001b[39m4        \u001b[39m | \u001b[39m0.6109   \u001b[39m | \u001b[39m127.9    \u001b[39m | \u001b[39m0.5039   \u001b[39m | \u001b[39m8.507    \u001b[39m | \u001b[39m365.0    \u001b[39m | \u001b[39m2.992    \u001b[39m | \u001b[39m0.1162   \u001b[39m |\n",
      "| \u001b[39m5        \u001b[39m | \u001b[39m0.5372   \u001b[39m | \u001b[39m133.2    \u001b[39m | \u001b[39m0.8496   \u001b[39m | \u001b[39m4.797    \u001b[39m | \u001b[39m1.077e+03\u001b[39m | \u001b[39m5.965    \u001b[39m | \u001b[39m0.02347  \u001b[39m |\n",
      "| \u001b[39m6        \u001b[39m | \u001b[39m0.581    \u001b[39m | \u001b[39m166.9    \u001b[39m | \u001b[39m0.4194   \u001b[39m | \u001b[39m3.585    \u001b[39m | \u001b[39m1.903e+03\u001b[39m | \u001b[39m9.66     \u001b[39m | \u001b[39m0.2444   \u001b[39m |\n",
      "| \u001b[39m7        \u001b[39m | \u001b[39m0.8842   \u001b[39m | \u001b[39m99.62    \u001b[39m | \u001b[39m0.3684   \u001b[39m | \u001b[39m9.158    \u001b[39m | \u001b[39m936.3    \u001b[39m | \u001b[39m1.308    \u001b[39m | \u001b[39m0.1536   \u001b[39m |\n",
      "| \u001b[39m8        \u001b[39m | \u001b[39m0.626    \u001b[39m | \u001b[39m39.63    \u001b[39m | \u001b[39m0.9365   \u001b[39m | \u001b[39m5.329    \u001b[39m | \u001b[39m1.359e+03\u001b[39m | \u001b[39m3.186    \u001b[39m | \u001b[39m0.1608   \u001b[39m |\n",
      "| \u001b[35m9        \u001b[39m | \u001b[35m0.9732   \u001b[39m | \u001b[35m153.4    \u001b[39m | \u001b[35m0.4294   \u001b[39m | \u001b[35m11.73    \u001b[39m | \u001b[35m1.573e+03\u001b[39m | \u001b[35m9.401    \u001b[39m | \u001b[35m0.2695   \u001b[39m |\n",
      "| \u001b[39m10       \u001b[39m | \u001b[39m0.5431   \u001b[39m | \u001b[39m164.7    \u001b[39m | \u001b[39m0.9453   \u001b[39m | \u001b[39m3.796    \u001b[39m | \u001b[39m472.4    \u001b[39m | \u001b[39m0.5478   \u001b[39m | \u001b[39m0.1043   \u001b[39m |\n",
      "| \u001b[39m11       \u001b[39m | \u001b[39m0.6931   \u001b[39m | \u001b[39m90.54    \u001b[39m | \u001b[39m0.3886   \u001b[39m | \u001b[39m6.328    \u001b[39m | \u001b[39m1.503e+03\u001b[39m | \u001b[39m3.01     \u001b[39m | \u001b[39m0.1767   \u001b[39m |\n",
      "| \u001b[39m12       \u001b[39m | \u001b[39m0.9657   \u001b[39m | \u001b[39m154.0    \u001b[39m | \u001b[39m0.6581   \u001b[39m | \u001b[39m11.85    \u001b[39m | \u001b[39m1.568e+03\u001b[39m | \u001b[39m9.389    \u001b[39m | \u001b[39m0.1776   \u001b[39m |\n",
      "| \u001b[39m13       \u001b[39m | \u001b[39m0.6286   \u001b[39m | \u001b[39m199.8    \u001b[39m | \u001b[39m0.7198   \u001b[39m | \u001b[39m6.436    \u001b[39m | \u001b[39m1.598e+03\u001b[39m | \u001b[39m8.755    \u001b[39m | \u001b[39m0.105    \u001b[39m |\n",
      "| \u001b[35m14       \u001b[39m | \u001b[35m0.9771   \u001b[39m | \u001b[35m118.5    \u001b[39m | \u001b[35m0.7238   \u001b[39m | \u001b[35m11.94    \u001b[39m | \u001b[35m1.574e+03\u001b[39m | \u001b[35m4.643    \u001b[39m | \u001b[35m0.1986   \u001b[39m |\n",
      "| \u001b[39m15       \u001b[39m | \u001b[39m0.5559   \u001b[39m | \u001b[39m119.3    \u001b[39m | \u001b[39m0.7372   \u001b[39m | \u001b[39m4.699    \u001b[39m | \u001b[39m1.621e+03\u001b[39m | \u001b[39m8.381    \u001b[39m | \u001b[39m0.04592  \u001b[39m |\n",
      "| \u001b[39m16       \u001b[39m | \u001b[39m0.5514   \u001b[39m | \u001b[39m127.8    \u001b[39m | \u001b[39m0.5433   \u001b[39m | \u001b[39m4.216    \u001b[39m | \u001b[39m1.551e+03\u001b[39m | \u001b[39m9.43     \u001b[39m | \u001b[39m0.03913  \u001b[39m |\n",
      "| \u001b[35m17       \u001b[39m | \u001b[35m0.978    \u001b[39m | \u001b[35m129.6    \u001b[39m | \u001b[35m0.8275   \u001b[39m | \u001b[35m10.33    \u001b[39m | \u001b[35m1.586e+03\u001b[39m | \u001b[35m4.452    \u001b[39m | \u001b[35m0.2862   \u001b[39m |\n",
      "| \u001b[39m18       \u001b[39m | \u001b[39m0.5672   \u001b[39m | \u001b[39m47.91    \u001b[39m | \u001b[39m0.4859   \u001b[39m | \u001b[39m5.094    \u001b[39m | \u001b[39m1.427e+03\u001b[39m | \u001b[39m7.49     \u001b[39m | \u001b[39m0.05421  \u001b[39m |\n",
      "| \u001b[39m19       \u001b[39m | \u001b[39m0.7853   \u001b[39m | \u001b[39m138.4    \u001b[39m | \u001b[39m0.8464   \u001b[39m | \u001b[39m9.493    \u001b[39m | \u001b[39m1.571e+03\u001b[39m | \u001b[39m3.781    \u001b[39m | \u001b[39m0.06851  \u001b[39m |\n",
      "| \u001b[39m20       \u001b[39m | \u001b[39m0.6272   \u001b[39m | \u001b[39m117.8    \u001b[39m | \u001b[39m0.6119   \u001b[39m | \u001b[39m4.694    \u001b[39m | \u001b[39m1.586e+03\u001b[39m | \u001b[39m0.1638   \u001b[39m | \u001b[39m0.214    \u001b[39m |\n",
      "| \u001b[39m21       \u001b[39m | \u001b[39m0.9531   \u001b[39m | \u001b[39m48.63    \u001b[39m | \u001b[39m0.7002   \u001b[39m | \u001b[39m11.72    \u001b[39m | \u001b[39m1.451e+03\u001b[39m | \u001b[39m6.013    \u001b[39m | \u001b[39m0.1227   \u001b[39m |\n",
      "| \u001b[39m22       \u001b[39m | \u001b[39m0.942    \u001b[39m | \u001b[39m38.28    \u001b[39m | \u001b[39m0.579    \u001b[39m | \u001b[39m8.994    \u001b[39m | \u001b[39m1.455e+03\u001b[39m | \u001b[39m1.738    \u001b[39m | \u001b[39m0.2748   \u001b[39m |\n",
      "| \u001b[39m23       \u001b[39m | \u001b[39m0.7118   \u001b[39m | \u001b[39m140.2    \u001b[39m | \u001b[39m0.9482   \u001b[39m | \u001b[39m7.66     \u001b[39m | \u001b[39m1.584e+03\u001b[39m | \u001b[39m5.033    \u001b[39m | \u001b[39m0.116    \u001b[39m |\n",
      "| \u001b[39m24       \u001b[39m | \u001b[39m0.9622   \u001b[39m | \u001b[39m127.2    \u001b[39m | \u001b[39m0.5319   \u001b[39m | \u001b[39m9.553    \u001b[39m | \u001b[39m1.579e+03\u001b[39m | \u001b[39m4.857    \u001b[39m | \u001b[39m0.2859   \u001b[39m |\n",
      "| \u001b[39m25       \u001b[39m | \u001b[39m0.5602   \u001b[39m | \u001b[39m35.06    \u001b[39m | \u001b[39m0.6573   \u001b[39m | \u001b[39m3.365    \u001b[39m | \u001b[39m1.449e+03\u001b[39m | \u001b[39m9.127    \u001b[39m | \u001b[39m0.1318   \u001b[39m |\n",
      "| \u001b[39m26       \u001b[39m | \u001b[39m0.5925   \u001b[39m | \u001b[39m50.82    \u001b[39m | \u001b[39m0.3503   \u001b[39m | \u001b[39m4.086    \u001b[39m | \u001b[39m1.452e+03\u001b[39m | \u001b[39m2.802    \u001b[39m | \u001b[39m0.1771   \u001b[39m |\n",
      "| \u001b[39m27       \u001b[39m | \u001b[39m0.6755   \u001b[39m | \u001b[39m121.6    \u001b[39m | \u001b[39m0.4866   \u001b[39m | \u001b[39m8.5      \u001b[39m | \u001b[39m1.576e+03\u001b[39m | \u001b[39m8.715    \u001b[39m | \u001b[39m0.07113  \u001b[39m |\n",
      "| \u001b[39m28       \u001b[39m | \u001b[39m0.9499   \u001b[39m | \u001b[39m129.2    \u001b[39m | \u001b[39m0.9746   \u001b[39m | \u001b[39m9.249    \u001b[39m | \u001b[39m1.585e+03\u001b[39m | \u001b[39m0.2631   \u001b[39m | \u001b[39m0.09968  \u001b[39m |\n",
      "| \u001b[39m29       \u001b[39m | \u001b[39m0.9661   \u001b[39m | \u001b[39m49.18    \u001b[39m | \u001b[39m0.6625   \u001b[39m | \u001b[39m11.2     \u001b[39m | \u001b[39m1.444e+03\u001b[39m | \u001b[39m6.237    \u001b[39m | \u001b[39m0.1705   \u001b[39m |\n",
      "| \u001b[39m30       \u001b[39m | \u001b[39m0.971    \u001b[39m | \u001b[39m42.97    \u001b[39m | \u001b[39m0.3761   \u001b[39m | \u001b[39m11.31    \u001b[39m | \u001b[39m1.45e+03 \u001b[39m | \u001b[39m8.922    \u001b[39m | \u001b[39m0.2578   \u001b[39m |\n",
      "| \u001b[35m31       \u001b[39m | \u001b[35m0.9789   \u001b[39m | \u001b[35m120.3    \u001b[39m | \u001b[35m0.6884   \u001b[39m | \u001b[35m11.11    \u001b[39m | \u001b[35m1.566e+03\u001b[39m | \u001b[35m3.252    \u001b[39m | \u001b[35m0.1834   \u001b[39m |\n",
      "| \u001b[39m32       \u001b[39m | \u001b[39m0.9668   \u001b[39m | \u001b[39m114.4    \u001b[39m | \u001b[39m0.7718   \u001b[39m | \u001b[39m9.208    \u001b[39m | \u001b[39m1.569e+03\u001b[39m | \u001b[39m3.002    \u001b[39m | \u001b[39m0.2522   \u001b[39m |\n",
      "| \u001b[39m33       \u001b[39m | \u001b[39m0.5965   \u001b[39m | \u001b[39m159.4    \u001b[39m | \u001b[39m0.7664   \u001b[39m | \u001b[39m10.32    \u001b[39m | \u001b[39m1.576e+03\u001b[39m | \u001b[39m4.323    \u001b[39m | \u001b[39m0.01276  \u001b[39m |\n",
      "| \u001b[39m34       \u001b[39m | \u001b[39m0.7838   \u001b[39m | \u001b[39m149.5    \u001b[39m | \u001b[39m0.46     \u001b[39m | \u001b[39m7.959    \u001b[39m | \u001b[39m1.572e+03\u001b[39m | \u001b[39m4.885    \u001b[39m | \u001b[39m0.2024   \u001b[39m |\n",
      "| \u001b[35m35       \u001b[39m | \u001b[35m0.9797   \u001b[39m | \u001b[35m129.9    \u001b[39m | \u001b[35m0.6161   \u001b[39m | \u001b[35m10.22    \u001b[39m | \u001b[35m1.573e+03\u001b[39m | \u001b[35m3.406    \u001b[39m | \u001b[35m0.2902   \u001b[39m |\n",
      "| \u001b[39m36       \u001b[39m | \u001b[39m0.5397   \u001b[39m | \u001b[39m120.4    \u001b[39m | \u001b[39m0.5474   \u001b[39m | \u001b[39m3.945    \u001b[39m | \u001b[39m1.565e+03\u001b[39m | \u001b[39m0.4619   \u001b[39m | \u001b[39m0.02991  \u001b[39m |\n",
      "| \u001b[39m37       \u001b[39m | \u001b[39m0.5676   \u001b[39m | \u001b[39m130.7    \u001b[39m | \u001b[39m0.6873   \u001b[39m | \u001b[39m3.4      \u001b[39m | \u001b[39m1.578e+03\u001b[39m | \u001b[39m4.224    \u001b[39m | \u001b[39m0.1615   \u001b[39m |\n",
      "| \u001b[39m38       \u001b[39m | \u001b[39m0.9775   \u001b[39m | \u001b[39m126.9    \u001b[39m | \u001b[39m0.9863   \u001b[39m | \u001b[39m11.87    \u001b[39m | \u001b[39m1.583e+03\u001b[39m | \u001b[39m3.681    \u001b[39m | \u001b[39m0.1544   \u001b[39m |\n",
      "| \u001b[39m39       \u001b[39m | \u001b[39m0.9102   \u001b[39m | \u001b[39m42.71    \u001b[39m | \u001b[39m0.3848   \u001b[39m | \u001b[39m8.41     \u001b[39m | \u001b[39m1.438e+03\u001b[39m | \u001b[39m0.8859   \u001b[39m | \u001b[39m0.1801   \u001b[39m |\n",
      "| \u001b[39m40       \u001b[39m | \u001b[39m0.9569   \u001b[39m | \u001b[39m110.0    \u001b[39m | \u001b[39m0.9377   \u001b[39m | \u001b[39m9.328    \u001b[39m | \u001b[39m1.56e+03 \u001b[39m | \u001b[39m4.704    \u001b[39m | \u001b[39m0.234    \u001b[39m |\n",
      "=================================================================================================\n",
      "\n",
      "Best parameters found:\n",
      "border_count: 129\n",
      "colsample_bylevel: 0.6161\n",
      "depth: 10\n",
      "iterations: 1573\n",
      "l2_leaf_reg: 3.4058\n",
      "learning_rate: 0.2902\n",
      "\n",
      "Best f1 score: 0.9797\n",
      "0:\tlearn: 0.9909372\ttotal: 162ms\tremaining: 4m 14s\n",
      "100:\tlearn: 0.6843971\ttotal: 17.1s\tremaining: 4m 9s\n",
      "200:\tlearn: 0.5614619\ttotal: 35s\tremaining: 3m 58s\n",
      "300:\tlearn: 0.4514011\ttotal: 52.7s\tremaining: 3m 42s\n",
      "400:\tlearn: 0.3694293\ttotal: 1m 10s\tremaining: 3m 27s\n",
      "500:\tlearn: 0.3024915\ttotal: 1m 29s\tremaining: 3m 12s\n",
      "600:\tlearn: 0.2519698\ttotal: 1m 48s\tremaining: 2m 56s\n",
      "700:\tlearn: 0.2080895\ttotal: 2m 7s\tremaining: 2m 38s\n",
      "800:\tlearn: 0.1751304\ttotal: 2m 25s\tremaining: 2m 19s\n",
      "900:\tlearn: 0.1505748\ttotal: 2m 42s\tremaining: 2m 1s\n",
      "1000:\tlearn: 0.1292660\ttotal: 3m\tremaining: 1m 43s\n",
      "1100:\tlearn: 0.1120771\ttotal: 3m 18s\tremaining: 1m 25s\n",
      "1200:\tlearn: 0.0987760\ttotal: 3m 37s\tremaining: 1m 7s\n",
      "1300:\tlearn: 0.0870127\ttotal: 3m 56s\tremaining: 49.5s\n",
      "1400:\tlearn: 0.0771896\ttotal: 4m 15s\tremaining: 31.4s\n",
      "1500:\tlearn: 0.0693678\ttotal: 4m 34s\tremaining: 13.1s\n",
      "1572:\tlearn: 0.0638993\ttotal: 4m 46s\tremaining: 0us\n",
      "Fold 1 - Accuracy: 0.5828\n",
      "|   iter    |  target   | border... | colsam... |   depth   | iterat... | l2_lea... | learni... |\n",
      "-------------------------------------------------------------------------------------------------\n"
     ]
    },
    {
     "ename": "KeyboardInterrupt",
     "evalue": "",
     "output_type": "error",
     "traceback": [
      "\u001b[1;31m---------------------------------------------------------------------------\u001b[0m",
      "\u001b[1;31mKeyboardInterrupt\u001b[0m                         Traceback (most recent call last)",
      "Cell \u001b[1;32mIn[176], line 13\u001b[0m\n\u001b[0;32m      7\u001b[0m \u001b[38;5;66;03m# Create and run optimizer for this fold\u001b[39;00m\n\u001b[0;32m      8\u001b[0m optimizer \u001b[38;5;241m=\u001b[39m CatBoostBayesianOptimizer(\n\u001b[0;32m      9\u001b[0m     X_train, \n\u001b[0;32m     10\u001b[0m     y_train, \n\u001b[0;32m     11\u001b[0m     cat_features\n\u001b[0;32m     12\u001b[0m     )\n\u001b[1;32m---> 13\u001b[0m best_params \u001b[38;5;241m=\u001b[39m \u001b[43moptimizer\u001b[49m\u001b[38;5;241;43m.\u001b[39;49m\u001b[43moptimize\u001b[49m\u001b[43m(\u001b[49m\u001b[43mn_iter\u001b[49m\u001b[38;5;241;43m=\u001b[39;49m\u001b[38;5;241;43m30\u001b[39;49m\u001b[43m,\u001b[49m\u001b[43m \u001b[49m\u001b[43mn_init_points\u001b[49m\u001b[38;5;241;43m=\u001b[39;49m\u001b[38;5;241;43m10\u001b[39;49m\u001b[43m)\u001b[49m\n\u001b[0;32m     15\u001b[0m model \u001b[38;5;241m=\u001b[39m optimizer\u001b[38;5;241m.\u001b[39mtrain_final_model(best_params)\n\u001b[0;32m     17\u001b[0m \u001b[38;5;66;03m# Make predictions on the validation set\u001b[39;00m\n",
      "Cell \u001b[1;32mIn[175], line 73\u001b[0m, in \u001b[0;36mCatBoostBayesianOptimizer.optimize\u001b[1;34m(self, n_iter, n_init_points)\u001b[0m\n\u001b[0;32m     58\u001b[0m pbounds \u001b[38;5;241m=\u001b[39m {\n\u001b[0;32m     59\u001b[0m     \u001b[38;5;124m'\u001b[39m\u001b[38;5;124miterations\u001b[39m\u001b[38;5;124m'\u001b[39m: (\u001b[38;5;241m100\u001b[39m, \u001b[38;5;241m2000\u001b[39m),            \u001b[38;5;66;03m# Number of trees\u001b[39;00m\n\u001b[0;32m     60\u001b[0m     \u001b[38;5;124m'\u001b[39m\u001b[38;5;124mlearning_rate\u001b[39m\u001b[38;5;124m'\u001b[39m: (\u001b[38;5;241m0.01\u001b[39m, \u001b[38;5;241m0.3\u001b[39m),       \u001b[38;5;66;03m# Learning rate\u001b[39;00m\n\u001b[1;32m   (...)\u001b[0m\n\u001b[0;32m     64\u001b[0m     \u001b[38;5;124m'\u001b[39m\u001b[38;5;124mcolsample_bylevel\u001b[39m\u001b[38;5;124m'\u001b[39m: (\u001b[38;5;241m0.3\u001b[39m, \u001b[38;5;241m1.0\u001b[39m)      \u001b[38;5;66;03m# Feature subsample ratio\u001b[39;00m\n\u001b[0;32m     65\u001b[0m }\n\u001b[0;32m     67\u001b[0m optimizer \u001b[38;5;241m=\u001b[39m BayesianOptimization(\n\u001b[0;32m     68\u001b[0m     f\u001b[38;5;241m=\u001b[39m\u001b[38;5;28mself\u001b[39m\u001b[38;5;241m.\u001b[39m_objective,\n\u001b[0;32m     69\u001b[0m     pbounds\u001b[38;5;241m=\u001b[39mpbounds,\n\u001b[0;32m     70\u001b[0m     random_state\u001b[38;5;241m=\u001b[39m\u001b[38;5;28mself\u001b[39m\u001b[38;5;241m.\u001b[39mrandom_state\n\u001b[0;32m     71\u001b[0m )\n\u001b[1;32m---> 73\u001b[0m \u001b[43moptimizer\u001b[49m\u001b[38;5;241;43m.\u001b[39;49m\u001b[43mmaximize\u001b[49m\u001b[43m(\u001b[49m\n\u001b[0;32m     74\u001b[0m \u001b[43m    \u001b[49m\u001b[43minit_points\u001b[49m\u001b[38;5;241;43m=\u001b[39;49m\u001b[43mn_init_points\u001b[49m\u001b[43m,\u001b[49m\n\u001b[0;32m     75\u001b[0m \u001b[43m    \u001b[49m\u001b[43mn_iter\u001b[49m\u001b[38;5;241;43m=\u001b[39;49m\u001b[43mn_iter\u001b[49m\n\u001b[0;32m     76\u001b[0m \u001b[43m\u001b[49m\u001b[43m)\u001b[49m\n\u001b[0;32m     78\u001b[0m \u001b[38;5;66;03m# Print results\u001b[39;00m\n\u001b[0;32m     79\u001b[0m \u001b[38;5;28mprint\u001b[39m(\u001b[38;5;124m\"\u001b[39m\u001b[38;5;130;01m\\n\u001b[39;00m\u001b[38;5;124mBest parameters found:\u001b[39m\u001b[38;5;124m\"\u001b[39m)\n",
      "File \u001b[1;32md:\\optimizing-catboost-model-with-bayesian\\env\\Lib\\site-packages\\bayes_opt\\bayesian_optimization.py:338\u001b[0m, in \u001b[0;36mBayesianOptimization.maximize\u001b[1;34m(self, init_points, n_iter)\u001b[0m\n\u001b[0;32m    336\u001b[0m     x_probe \u001b[38;5;241m=\u001b[39m \u001b[38;5;28mself\u001b[39m\u001b[38;5;241m.\u001b[39msuggest()\n\u001b[0;32m    337\u001b[0m     iteration \u001b[38;5;241m+\u001b[39m\u001b[38;5;241m=\u001b[39m \u001b[38;5;241m1\u001b[39m\n\u001b[1;32m--> 338\u001b[0m \u001b[38;5;28;43mself\u001b[39;49m\u001b[38;5;241;43m.\u001b[39;49m\u001b[43mprobe\u001b[49m\u001b[43m(\u001b[49m\u001b[43mx_probe\u001b[49m\u001b[43m,\u001b[49m\u001b[43m \u001b[49m\u001b[43mlazy\u001b[49m\u001b[38;5;241;43m=\u001b[39;49m\u001b[38;5;28;43;01mFalse\u001b[39;49;00m\u001b[43m)\u001b[49m\n\u001b[0;32m    340\u001b[0m \u001b[38;5;28;01mif\u001b[39;00m \u001b[38;5;28mself\u001b[39m\u001b[38;5;241m.\u001b[39m_bounds_transformer \u001b[38;5;129;01mand\u001b[39;00m iteration \u001b[38;5;241m>\u001b[39m \u001b[38;5;241m0\u001b[39m:\n\u001b[0;32m    341\u001b[0m     \u001b[38;5;66;03m# The bounds transformer should only modify the bounds after\u001b[39;00m\n\u001b[0;32m    342\u001b[0m     \u001b[38;5;66;03m# the init_points points (only for the true iterations)\u001b[39;00m\n\u001b[0;32m    343\u001b[0m     \u001b[38;5;28mself\u001b[39m\u001b[38;5;241m.\u001b[39mset_bounds(\u001b[38;5;28mself\u001b[39m\u001b[38;5;241m.\u001b[39m_bounds_transformer\u001b[38;5;241m.\u001b[39mtransform(\u001b[38;5;28mself\u001b[39m\u001b[38;5;241m.\u001b[39m_space))\n",
      "File \u001b[1;32md:\\optimizing-catboost-model-with-bayesian\\env\\Lib\\site-packages\\bayes_opt\\bayesian_optimization.py:270\u001b[0m, in \u001b[0;36mBayesianOptimization.probe\u001b[1;34m(self, params, lazy)\u001b[0m\n\u001b[0;32m    268\u001b[0m     \u001b[38;5;28mself\u001b[39m\u001b[38;5;241m.\u001b[39m_queue\u001b[38;5;241m.\u001b[39mappend(params)\n\u001b[0;32m    269\u001b[0m \u001b[38;5;28;01melse\u001b[39;00m:\n\u001b[1;32m--> 270\u001b[0m     \u001b[38;5;28;43mself\u001b[39;49m\u001b[38;5;241;43m.\u001b[39;49m\u001b[43m_space\u001b[49m\u001b[38;5;241;43m.\u001b[39;49m\u001b[43mprobe\u001b[49m\u001b[43m(\u001b[49m\u001b[43mparams\u001b[49m\u001b[43m)\u001b[49m\n\u001b[0;32m    271\u001b[0m     \u001b[38;5;28mself\u001b[39m\u001b[38;5;241m.\u001b[39mdispatch(Events\u001b[38;5;241m.\u001b[39mOPTIMIZATION_STEP)\n",
      "File \u001b[1;32md:\\optimizing-catboost-model-with-bayesian\\env\\Lib\\site-packages\\bayes_opt\\target_space.py:418\u001b[0m, in \u001b[0;36mTargetSpace.probe\u001b[1;34m(self, params)\u001b[0m\n\u001b[0;32m    416\u001b[0m     error_msg \u001b[38;5;241m=\u001b[39m \u001b[38;5;124m\"\u001b[39m\u001b[38;5;124mNo target function has been provided.\u001b[39m\u001b[38;5;124m\"\u001b[39m\n\u001b[0;32m    417\u001b[0m     \u001b[38;5;28;01mraise\u001b[39;00m \u001b[38;5;167;01mValueError\u001b[39;00m(error_msg)\n\u001b[1;32m--> 418\u001b[0m target \u001b[38;5;241m=\u001b[39m \u001b[38;5;28;43mself\u001b[39;49m\u001b[38;5;241;43m.\u001b[39;49m\u001b[43mtarget_func\u001b[49m\u001b[43m(\u001b[49m\u001b[38;5;241;43m*\u001b[39;49m\u001b[38;5;241;43m*\u001b[39;49m\u001b[43mdict_params\u001b[49m\u001b[43m)\u001b[49m\n\u001b[0;32m    420\u001b[0m \u001b[38;5;28;01mif\u001b[39;00m \u001b[38;5;28mself\u001b[39m\u001b[38;5;241m.\u001b[39m_constraint \u001b[38;5;129;01mis\u001b[39;00m \u001b[38;5;28;01mNone\u001b[39;00m:\n\u001b[0;32m    421\u001b[0m     \u001b[38;5;28mself\u001b[39m\u001b[38;5;241m.\u001b[39mregister(x, target)\n",
      "Cell \u001b[1;32mIn[175], line 35\u001b[0m, in \u001b[0;36mCatBoostBayesianOptimizer._objective\u001b[1;34m(self, iterations, learning_rate, depth, l2_leaf_reg, border_count, colsample_bylevel)\u001b[0m\n\u001b[0;32m     29\u001b[0m \u001b[38;5;66;03m# Initialize and train model\u001b[39;00m\n\u001b[0;32m     30\u001b[0m model \u001b[38;5;241m=\u001b[39m CatBoostClassifier(\n\u001b[0;32m     31\u001b[0m     loss_function\u001b[38;5;241m=\u001b[39m\u001b[38;5;124m'\u001b[39m\u001b[38;5;124mMultiClass\u001b[39m\u001b[38;5;124m'\u001b[39m,\n\u001b[0;32m     32\u001b[0m     \u001b[38;5;241m*\u001b[39m\u001b[38;5;241m*\u001b[39mparams\n\u001b[0;32m     33\u001b[0m )\n\u001b[1;32m---> 35\u001b[0m \u001b[43mmodel\u001b[49m\u001b[38;5;241;43m.\u001b[39;49m\u001b[43mfit\u001b[49m\u001b[43m(\u001b[49m\u001b[43mtrain_pool\u001b[49m\u001b[43m,\u001b[49m\u001b[43m \u001b[49m\u001b[43mverbose\u001b[49m\u001b[38;5;241;43m=\u001b[39;49m\u001b[38;5;28;43;01mFalse\u001b[39;49;00m\u001b[43m)\u001b[49m\n\u001b[0;32m     36\u001b[0m y_pred \u001b[38;5;241m=\u001b[39m model\u001b[38;5;241m.\u001b[39mpredict(X)\n\u001b[0;32m     38\u001b[0m \u001b[38;5;66;03m# Calculate score\u001b[39;00m\n",
      "File \u001b[1;32md:\\optimizing-catboost-model-with-bayesian\\env\\Lib\\site-packages\\catboost\\core.py:5245\u001b[0m, in \u001b[0;36mCatBoostClassifier.fit\u001b[1;34m(self, X, y, cat_features, text_features, embedding_features, graph, sample_weight, baseline, use_best_model, eval_set, verbose, logging_level, plot, plot_file, column_description, verbose_eval, metric_period, silent, early_stopping_rounds, save_snapshot, snapshot_file, snapshot_interval, init_model, callbacks, log_cout, log_cerr)\u001b[0m\n\u001b[0;32m   5242\u001b[0m \u001b[38;5;28;01mif\u001b[39;00m \u001b[38;5;124m'\u001b[39m\u001b[38;5;124mloss_function\u001b[39m\u001b[38;5;124m'\u001b[39m \u001b[38;5;129;01min\u001b[39;00m params:\n\u001b[0;32m   5243\u001b[0m     CatBoostClassifier\u001b[38;5;241m.\u001b[39m_check_is_compatible_loss(params[\u001b[38;5;124m'\u001b[39m\u001b[38;5;124mloss_function\u001b[39m\u001b[38;5;124m'\u001b[39m])\n\u001b[1;32m-> 5245\u001b[0m \u001b[38;5;28;43mself\u001b[39;49m\u001b[38;5;241;43m.\u001b[39;49m\u001b[43m_fit\u001b[49m\u001b[43m(\u001b[49m\u001b[43mX\u001b[49m\u001b[43m,\u001b[49m\u001b[43m \u001b[49m\u001b[43my\u001b[49m\u001b[43m,\u001b[49m\u001b[43m \u001b[49m\u001b[43mcat_features\u001b[49m\u001b[43m,\u001b[49m\u001b[43m \u001b[49m\u001b[43mtext_features\u001b[49m\u001b[43m,\u001b[49m\u001b[43m \u001b[49m\u001b[43membedding_features\u001b[49m\u001b[43m,\u001b[49m\u001b[43m \u001b[49m\u001b[38;5;28;43;01mNone\u001b[39;49;00m\u001b[43m,\u001b[49m\u001b[43m \u001b[49m\u001b[43mgraph\u001b[49m\u001b[43m,\u001b[49m\u001b[43m \u001b[49m\u001b[43msample_weight\u001b[49m\u001b[43m,\u001b[49m\u001b[43m \u001b[49m\u001b[38;5;28;43;01mNone\u001b[39;49;00m\u001b[43m,\u001b[49m\u001b[43m \u001b[49m\u001b[38;5;28;43;01mNone\u001b[39;49;00m\u001b[43m,\u001b[49m\u001b[43m \u001b[49m\u001b[38;5;28;43;01mNone\u001b[39;49;00m\u001b[43m,\u001b[49m\u001b[43m \u001b[49m\u001b[38;5;28;43;01mNone\u001b[39;49;00m\u001b[43m,\u001b[49m\u001b[43m \u001b[49m\u001b[43mbaseline\u001b[49m\u001b[43m,\u001b[49m\u001b[43m \u001b[49m\u001b[43muse_best_model\u001b[49m\u001b[43m,\u001b[49m\n\u001b[0;32m   5246\u001b[0m \u001b[43m          \u001b[49m\u001b[43meval_set\u001b[49m\u001b[43m,\u001b[49m\u001b[43m \u001b[49m\u001b[43mverbose\u001b[49m\u001b[43m,\u001b[49m\u001b[43m \u001b[49m\u001b[43mlogging_level\u001b[49m\u001b[43m,\u001b[49m\u001b[43m \u001b[49m\u001b[43mplot\u001b[49m\u001b[43m,\u001b[49m\u001b[43m \u001b[49m\u001b[43mplot_file\u001b[49m\u001b[43m,\u001b[49m\u001b[43m \u001b[49m\u001b[43mcolumn_description\u001b[49m\u001b[43m,\u001b[49m\u001b[43m \u001b[49m\u001b[43mverbose_eval\u001b[49m\u001b[43m,\u001b[49m\u001b[43m \u001b[49m\u001b[43mmetric_period\u001b[49m\u001b[43m,\u001b[49m\n\u001b[0;32m   5247\u001b[0m \u001b[43m          \u001b[49m\u001b[43msilent\u001b[49m\u001b[43m,\u001b[49m\u001b[43m \u001b[49m\u001b[43mearly_stopping_rounds\u001b[49m\u001b[43m,\u001b[49m\u001b[43m \u001b[49m\u001b[43msave_snapshot\u001b[49m\u001b[43m,\u001b[49m\u001b[43m \u001b[49m\u001b[43msnapshot_file\u001b[49m\u001b[43m,\u001b[49m\u001b[43m \u001b[49m\u001b[43msnapshot_interval\u001b[49m\u001b[43m,\u001b[49m\u001b[43m \u001b[49m\u001b[43minit_model\u001b[49m\u001b[43m,\u001b[49m\u001b[43m \u001b[49m\u001b[43mcallbacks\u001b[49m\u001b[43m,\u001b[49m\u001b[43m \u001b[49m\u001b[43mlog_cout\u001b[49m\u001b[43m,\u001b[49m\u001b[43m \u001b[49m\u001b[43mlog_cerr\u001b[49m\u001b[43m)\u001b[49m\n\u001b[0;32m   5248\u001b[0m \u001b[38;5;28;01mreturn\u001b[39;00m \u001b[38;5;28mself\u001b[39m\n",
      "File \u001b[1;32md:\\optimizing-catboost-model-with-bayesian\\env\\Lib\\site-packages\\catboost\\core.py:2410\u001b[0m, in \u001b[0;36mCatBoost._fit\u001b[1;34m(self, X, y, cat_features, text_features, embedding_features, pairs, graph, sample_weight, group_id, group_weight, subgroup_id, pairs_weight, baseline, use_best_model, eval_set, verbose, logging_level, plot, plot_file, column_description, verbose_eval, metric_period, silent, early_stopping_rounds, save_snapshot, snapshot_file, snapshot_interval, init_model, callbacks, log_cout, log_cerr)\u001b[0m\n\u001b[0;32m   2407\u001b[0m allow_clear_pool \u001b[38;5;241m=\u001b[39m train_params[\u001b[38;5;124m\"\u001b[39m\u001b[38;5;124mallow_clear_pool\u001b[39m\u001b[38;5;124m\"\u001b[39m]\n\u001b[0;32m   2409\u001b[0m \u001b[38;5;28;01mwith\u001b[39;00m plot_wrapper(plot, plot_file, \u001b[38;5;124m'\u001b[39m\u001b[38;5;124mTraining plots\u001b[39m\u001b[38;5;124m'\u001b[39m, [_get_train_dir(\u001b[38;5;28mself\u001b[39m\u001b[38;5;241m.\u001b[39mget_params())]):\n\u001b[1;32m-> 2410\u001b[0m     \u001b[38;5;28;43mself\u001b[39;49m\u001b[38;5;241;43m.\u001b[39;49m\u001b[43m_train\u001b[49m\u001b[43m(\u001b[49m\n\u001b[0;32m   2411\u001b[0m \u001b[43m        \u001b[49m\u001b[43mtrain_pool\u001b[49m\u001b[43m,\u001b[49m\n\u001b[0;32m   2412\u001b[0m \u001b[43m        \u001b[49m\u001b[43mtrain_params\u001b[49m\u001b[43m[\u001b[49m\u001b[38;5;124;43m\"\u001b[39;49m\u001b[38;5;124;43meval_sets\u001b[39;49m\u001b[38;5;124;43m\"\u001b[39;49m\u001b[43m]\u001b[49m\u001b[43m,\u001b[49m\n\u001b[0;32m   2413\u001b[0m \u001b[43m        \u001b[49m\u001b[43mparams\u001b[49m\u001b[43m,\u001b[49m\n\u001b[0;32m   2414\u001b[0m \u001b[43m        \u001b[49m\u001b[43mallow_clear_pool\u001b[49m\u001b[43m,\u001b[49m\n\u001b[0;32m   2415\u001b[0m \u001b[43m        \u001b[49m\u001b[43mtrain_params\u001b[49m\u001b[43m[\u001b[49m\u001b[38;5;124;43m\"\u001b[39;49m\u001b[38;5;124;43minit_model\u001b[39;49m\u001b[38;5;124;43m\"\u001b[39;49m\u001b[43m]\u001b[49m\n\u001b[0;32m   2416\u001b[0m \u001b[43m    \u001b[49m\u001b[43m)\u001b[49m\n\u001b[0;32m   2418\u001b[0m \u001b[38;5;66;03m# Have property feature_importance possibly set\u001b[39;00m\n\u001b[0;32m   2419\u001b[0m loss \u001b[38;5;241m=\u001b[39m \u001b[38;5;28mself\u001b[39m\u001b[38;5;241m.\u001b[39m_object\u001b[38;5;241m.\u001b[39m_get_loss_function_name()\n",
      "File \u001b[1;32md:\\optimizing-catboost-model-with-bayesian\\env\\Lib\\site-packages\\catboost\\core.py:1790\u001b[0m, in \u001b[0;36m_CatBoostBase._train\u001b[1;34m(self, train_pool, test_pool, params, allow_clear_pool, init_model)\u001b[0m\n\u001b[0;32m   1789\u001b[0m \u001b[38;5;28;01mdef\u001b[39;00m\u001b[38;5;250m \u001b[39m\u001b[38;5;21m_train\u001b[39m(\u001b[38;5;28mself\u001b[39m, train_pool, test_pool, params, allow_clear_pool, init_model):\n\u001b[1;32m-> 1790\u001b[0m     \u001b[38;5;28;43mself\u001b[39;49m\u001b[38;5;241;43m.\u001b[39;49m\u001b[43m_object\u001b[49m\u001b[38;5;241;43m.\u001b[39;49m\u001b[43m_train\u001b[49m\u001b[43m(\u001b[49m\u001b[43mtrain_pool\u001b[49m\u001b[43m,\u001b[49m\u001b[43m \u001b[49m\u001b[43mtest_pool\u001b[49m\u001b[43m,\u001b[49m\u001b[43m \u001b[49m\u001b[43mparams\u001b[49m\u001b[43m,\u001b[49m\u001b[43m \u001b[49m\u001b[43mallow_clear_pool\u001b[49m\u001b[43m,\u001b[49m\u001b[43m \u001b[49m\u001b[43minit_model\u001b[49m\u001b[38;5;241;43m.\u001b[39;49m\u001b[43m_object\u001b[49m\u001b[43m \u001b[49m\u001b[38;5;28;43;01mif\u001b[39;49;00m\u001b[43m \u001b[49m\u001b[43minit_model\u001b[49m\u001b[43m \u001b[49m\u001b[38;5;28;43;01melse\u001b[39;49;00m\u001b[43m \u001b[49m\u001b[38;5;28;43;01mNone\u001b[39;49;00m\u001b[43m)\u001b[49m\n\u001b[0;32m   1791\u001b[0m     \u001b[38;5;28mself\u001b[39m\u001b[38;5;241m.\u001b[39m_set_trained_model_attributes()\n",
      "File \u001b[1;32m_catboost.pyx:5017\u001b[0m, in \u001b[0;36m_catboost._CatBoost._train\u001b[1;34m()\u001b[0m\n",
      "File \u001b[1;32m_catboost.pyx:5066\u001b[0m, in \u001b[0;36m_catboost._CatBoost._train\u001b[1;34m()\u001b[0m\n",
      "\u001b[1;31mKeyboardInterrupt\u001b[0m: "
     ]
    }
   ],
   "source": [
    "skf = StratifiedKFold(n_splits=3, shuffle=True, random_state=42)\n",
    "\n",
    "for fold, (train_idx, val_idx) in enumerate(skf.split(X, y)):\n",
    "    X_train, y_train = X.iloc[train_idx], y.iloc[train_idx]\n",
    "    X_val, y_val = X.iloc[val_idx], y.iloc[val_idx]\n",
    "    \n",
    "    # Create and run optimizer for this fold\n",
    "    optimizer = CatBoostBayesianOptimizer(\n",
    "        X_train, \n",
    "        y_train, \n",
    "        cat_features\n",
    "        )\n",
    "    best_params = optimizer.optimize(n_iter=30, n_init_points=10)\n",
    "\n",
    "    model = optimizer.train_final_model(best_params)\n",
    "\n",
    "    # Make predictions on the validation set\n",
    "    y_pred = model.predict(X_val)\n",
    "\n",
    "    # Calculate accuracy\n",
    "    accuracy = accuracy_score(y_val, y_pred)\n",
    "    print(f\"Fold {fold+1} - Accuracy: {accuracy:.4f}\")\n",
    "    "
   ]
  }
 ],
 "metadata": {
  "kernelspec": {
   "display_name": "env",
   "language": "python",
   "name": "python3"
  },
  "language_info": {
   "codemirror_mode": {
    "name": "ipython",
    "version": 3
   },
   "file_extension": ".py",
   "mimetype": "text/x-python",
   "name": "python",
   "nbconvert_exporter": "python",
   "pygments_lexer": "ipython3",
   "version": "3.11.0"
  }
 },
 "nbformat": 4,
 "nbformat_minor": 5
}
