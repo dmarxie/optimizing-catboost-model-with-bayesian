{
 "cells": [
  {
   "cell_type": "code",
   "execution_count": 6,
   "id": "681983cb-0f3b-48a5-8276-c42dd3d0d47a",
   "metadata": {},
   "outputs": [
    {
     "name": "stdout",
     "output_type": "stream",
     "text": [
      "---1---\n",
      "Requirement already satisfied: pandas in d:\\optimizing-catboost-model-with-bayesian\\env\\lib\\site-packages (2.2.3)Note: you may need to restart the kernel to use updated packages.\n",
      "---2---\n"
     ]
    },
    {
     "name": "stderr",
     "output_type": "stream",
     "text": [
      "\n",
      "[notice] A new release of pip is available: 24.3.1 -> 25.0\n",
      "[notice] To update, run: python.exe -m pip install --upgrade pip\n"
     ]
    },
    {
     "name": "stdout",
     "output_type": "stream",
     "text": [
      "\n",
      "Requirement already satisfied: numpy>=1.23.2 in d:\\optimizing-catboost-model-with-bayesian\\env\\lib\\site-packages (from pandas) (1.26.4)\n",
      "Requirement already satisfied: python-dateutil>=2.8.2 in d:\\optimizing-catboost-model-with-bayesian\\env\\lib\\site-packages (from pandas) (2.9.0.post0)\n",
      "Requirement already satisfied: pytz>=2020.1 in d:\\optimizing-catboost-model-with-bayesian\\env\\lib\\site-packages (from pandas) (2024.2)\n",
      "Requirement already satisfied: tzdata>=2022.7 in d:\\optimizing-catboost-model-with-bayesian\\env\\lib\\site-packages (from pandas) (2024.2)\n",
      "Requirement already satisfied: six>=1.5 in d:\\optimizing-catboost-model-with-bayesian\\env\\lib\\site-packages (from python-dateutil>=2.8.2->pandas) (1.17.0)\n",
      "Requirement already satisfied: seaborn in d:\\optimizing-catboost-model-with-bayesian\\env\\lib\\site-packages (0.13.2)\n",
      "Requirement already satisfied: numpy!=1.24.0,>=1.20 in d:\\optimizing-catboost-model-with-bayesian\\env\\lib\\site-packages (from seaborn) (1.26.4)\n",
      "Requirement already satisfied: pandas>=1.2 in d:\\optimizing-catboost-model-with-bayesian\\env\\lib\\site-packages (from seaborn) (2.2.3)\n",
      "Requirement already satisfied: matplotlib!=3.6.1,>=3.4 in d:\\optimizing-catboost-model-with-bayesian\\env\\lib\\site-packages (from seaborn) (3.10.0)\n",
      "Requirement already satisfied: contourpy>=1.0.1 in d:\\optimizing-catboost-model-with-bayesian\\env\\lib\\site-packages (from matplotlib!=3.6.1,>=3.4->seaborn) (1.3.1)\n",
      "Requirement already satisfied: cycler>=0.10 in d:\\optimizing-catboost-model-with-bayesian\\env\\lib\\site-packages (from matplotlib!=3.6.1,>=3.4->seaborn) (0.12.1)\n",
      "Requirement already satisfied: fonttools>=4.22.0 in d:\\optimizing-catboost-model-with-bayesian\\env\\lib\\site-packages (from matplotlib!=3.6.1,>=3.4->seaborn) (4.55.3)\n",
      "Requirement already satisfied: kiwisolver>=1.3.1 in d:\\optimizing-catboost-model-with-bayesian\\env\\lib\\site-packages (from matplotlib!=3.6.1,>=3.4->seaborn) (1.4.7)\n",
      "Requirement already satisfied: packaging>=20.0 in d:\\optimizing-catboost-model-with-bayesian\\env\\lib\\site-packages (from matplotlib!=3.6.1,>=3.4->seaborn) (24.2)\n",
      "Requirement already satisfied: pillow>=8 in d:\\optimizing-catboost-model-with-bayesian\\env\\lib\\site-packages (from matplotlib!=3.6.1,>=3.4->seaborn) (11.0.0)\n",
      "Requirement already satisfied: pyparsing>=2.3.1 in d:\\optimizing-catboost-model-with-bayesian\\env\\lib\\site-packages (from matplotlib!=3.6.1,>=3.4->seaborn) (3.2.0)\n",
      "Requirement already satisfied: python-dateutil>=2.7 in d:\\optimizing-catboost-model-with-bayesian\\env\\lib\\site-packages (from matplotlib!=3.6.1,>=3.4->seaborn) (2.9.0.post0)\n",
      "Requirement already satisfied: pytz>=2020.1 in d:\\optimizing-catboost-model-with-bayesian\\env\\lib\\site-packages (from pandas>=1.2->seaborn) (2024.2)\n",
      "Requirement already satisfied: tzdata>=2022.7 in d:\\optimizing-catboost-model-with-bayesian\\env\\lib\\site-packages (from pandas>=1.2->seaborn) (2024.2)\n",
      "Requirement already satisfied: six>=1.5 in d:\\optimizing-catboost-model-with-bayesian\\env\\lib\\site-packages (from python-dateutil>=2.7->matplotlib!=3.6.1,>=3.4->seaborn) (1.17.0)\n",
      "Note: you may need to restart the kernel to use updated packages.\n",
      "---3---\n"
     ]
    },
    {
     "name": "stderr",
     "output_type": "stream",
     "text": [
      "\n",
      "[notice] A new release of pip is available: 24.3.1 -> 25.0\n",
      "[notice] To update, run: python.exe -m pip install --upgrade pip\n"
     ]
    },
    {
     "name": "stdout",
     "output_type": "stream",
     "text": [
      "Requirement already satisfied: scikit-learn in d:\\optimizing-catboost-model-with-bayesian\\env\\lib\\site-packages (1.6.1)\n",
      "Requirement already satisfied: numpy>=1.19.5 in d:\\optimizing-catboost-model-with-bayesian\\env\\lib\\site-packages (from scikit-learn) (1.26.4)\n",
      "Requirement already satisfied: scipy>=1.6.0 in d:\\optimizing-catboost-model-with-bayesian\\env\\lib\\site-packages (from scikit-learn) (1.14.1)\n",
      "Requirement already satisfied: joblib>=1.2.0 in d:\\optimizing-catboost-model-with-bayesian\\env\\lib\\site-packages (from scikit-learn) (1.4.2)\n",
      "Requirement already satisfied: threadpoolctl>=3.1.0 in d:\\optimizing-catboost-model-with-bayesian\\env\\lib\\site-packages (from scikit-learn) (3.5.0)\n",
      "Note: you may need to restart the kernel to use updated packages.\n",
      "---4---\n"
     ]
    },
    {
     "name": "stderr",
     "output_type": "stream",
     "text": [
      "\n",
      "[notice] A new release of pip is available: 24.3.1 -> 25.0\n",
      "[notice] To update, run: python.exe -m pip install --upgrade pip\n"
     ]
    },
    {
     "name": "stdout",
     "output_type": "stream",
     "text": [
      "Requirement already satisfied: catboost in d:\\optimizing-catboost-model-with-bayesian\\env\\lib\\site-packages (1.2.7)\n",
      "Requirement already satisfied: graphviz in d:\\optimizing-catboost-model-with-bayesian\\env\\lib\\site-packages (from catboost) (0.20.3)\n",
      "Requirement already satisfied: matplotlib in d:\\optimizing-catboost-model-with-bayesian\\env\\lib\\site-packages (from catboost) (3.10.0)\n",
      "Requirement already satisfied: numpy<2.0,>=1.16.0 in d:\\optimizing-catboost-model-with-bayesian\\env\\lib\\site-packages (from catboost) (1.26.4)\n",
      "Requirement already satisfied: pandas>=0.24 in d:\\optimizing-catboost-model-with-bayesian\\env\\lib\\site-packages (from catboost) (2.2.3)\n",
      "Requirement already satisfied: scipy in d:\\optimizing-catboost-model-with-bayesian\\env\\lib\\site-packages (from catboost) (1.14.1)\n",
      "Requirement already satisfied: plotly in d:\\optimizing-catboost-model-with-bayesian\\env\\lib\\site-packages (from catboost) (5.24.1)\n",
      "Requirement already satisfied: six in d:\\optimizing-catboost-model-with-bayesian\\env\\lib\\site-packages (from catboost) (1.17.0)\n",
      "Requirement already satisfied: python-dateutil>=2.8.2 in d:\\optimizing-catboost-model-with-bayesian\\env\\lib\\site-packages (from pandas>=0.24->catboost) (2.9.0.post0)\n",
      "Requirement already satisfied: pytz>=2020.1 in d:\\optimizing-catboost-model-with-bayesian\\env\\lib\\site-packages (from pandas>=0.24->catboost) (2024.2)\n",
      "Requirement already satisfied: tzdata>=2022.7 in d:\\optimizing-catboost-model-with-bayesian\\env\\lib\\site-packages (from pandas>=0.24->catboost) (2024.2)\n",
      "Requirement already satisfied: contourpy>=1.0.1 in d:\\optimizing-catboost-model-with-bayesian\\env\\lib\\site-packages (from matplotlib->catboost) (1.3.1)\n",
      "Requirement already satisfied: cycler>=0.10 in d:\\optimizing-catboost-model-with-bayesian\\env\\lib\\site-packages (from matplotlib->catboost) (0.12.1)\n",
      "Requirement already satisfied: fonttools>=4.22.0 in d:\\optimizing-catboost-model-with-bayesian\\env\\lib\\site-packages (from matplotlib->catboost) (4.55.3)\n",
      "Requirement already satisfied: kiwisolver>=1.3.1 in d:\\optimizing-catboost-model-with-bayesian\\env\\lib\\site-packages (from matplotlib->catboost) (1.4.7)\n",
      "Requirement already satisfied: packaging>=20.0 in d:\\optimizing-catboost-model-with-bayesian\\env\\lib\\site-packages (from matplotlib->catboost) (24.2)\n",
      "Requirement already satisfied: pillow>=8 in d:\\optimizing-catboost-model-with-bayesian\\env\\lib\\site-packages (from matplotlib->catboost) (11.0.0)\n",
      "Requirement already satisfied: pyparsing>=2.3.1 in d:\\optimizing-catboost-model-with-bayesian\\env\\lib\\site-packages (from matplotlib->catboost) (3.2.0)\n",
      "Requirement already satisfied: tenacity>=6.2.0 in d:\\optimizing-catboost-model-with-bayesian\\env\\lib\\site-packages (from plotly->catboost) (9.0.0)\n",
      "Note: you may need to restart the kernel to use updated packages.\n",
      "---5---\n"
     ]
    },
    {
     "name": "stderr",
     "output_type": "stream",
     "text": [
      "\n",
      "[notice] A new release of pip is available: 24.3.1 -> 25.0\n",
      "[notice] To update, run: python.exe -m pip install --upgrade pip\n"
     ]
    },
    {
     "name": "stdout",
     "output_type": "stream",
     "text": [
      "Requirement already satisfied: ipywidgets in d:\\optimizing-catboost-model-with-bayesian\\env\\lib\\site-packages (8.1.5)\n",
      "Requirement already satisfied: comm>=0.1.3 in d:\\optimizing-catboost-model-with-bayesian\\env\\lib\\site-packages (from ipywidgets) (0.2.2)\n",
      "Requirement already satisfied: ipython>=6.1.0 in d:\\optimizing-catboost-model-with-bayesian\\env\\lib\\site-packages (from ipywidgets) (8.31.0)\n",
      "Requirement already satisfied: traitlets>=4.3.1 in d:\\optimizing-catboost-model-with-bayesian\\env\\lib\\site-packages (from ipywidgets) (5.14.3)\n",
      "Requirement already satisfied: widgetsnbextension~=4.0.12 in d:\\optimizing-catboost-model-with-bayesian\\env\\lib\\site-packages (from ipywidgets) (4.0.13)\n",
      "Requirement already satisfied: jupyterlab-widgets~=3.0.12 in d:\\optimizing-catboost-model-with-bayesian\\env\\lib\\site-packages (from ipywidgets) (3.0.13)\n",
      "Requirement already satisfied: colorama in d:\\optimizing-catboost-model-with-bayesian\\env\\lib\\site-packages (from ipython>=6.1.0->ipywidgets) (0.4.6)\n",
      "Requirement already satisfied: decorator in d:\\optimizing-catboost-model-with-bayesian\\env\\lib\\site-packages (from ipython>=6.1.0->ipywidgets) (5.1.1)\n",
      "Requirement already satisfied: jedi>=0.16 in d:\\optimizing-catboost-model-with-bayesian\\env\\lib\\site-packages (from ipython>=6.1.0->ipywidgets) (0.19.2)\n",
      "Requirement already satisfied: matplotlib-inline in d:\\optimizing-catboost-model-with-bayesian\\env\\lib\\site-packages (from ipython>=6.1.0->ipywidgets) (0.1.7)\n",
      "Requirement already satisfied: prompt_toolkit<3.1.0,>=3.0.41 in d:\\optimizing-catboost-model-with-bayesian\\env\\lib\\site-packages (from ipython>=6.1.0->ipywidgets) (3.0.50)\n",
      "Requirement already satisfied: pygments>=2.4.0 in d:\\optimizing-catboost-model-with-bayesian\\env\\lib\\site-packages (from ipython>=6.1.0->ipywidgets) (2.19.1)\n",
      "Requirement already satisfied: stack_data in d:\\optimizing-catboost-model-with-bayesian\\env\\lib\\site-packages (from ipython>=6.1.0->ipywidgets) (0.6.3)\n",
      "Requirement already satisfied: typing_extensions>=4.6 in d:\\optimizing-catboost-model-with-bayesian\\env\\lib\\site-packages (from ipython>=6.1.0->ipywidgets) (4.12.2)\n",
      "Requirement already satisfied: parso<0.9.0,>=0.8.4 in d:\\optimizing-catboost-model-with-bayesian\\env\\lib\\site-packages (from jedi>=0.16->ipython>=6.1.0->ipywidgets) (0.8.4)\n",
      "Requirement already satisfied: wcwidth in d:\\optimizing-catboost-model-with-bayesian\\env\\lib\\site-packages (from prompt_toolkit<3.1.0,>=3.0.41->ipython>=6.1.0->ipywidgets) (0.2.13)\n",
      "Requirement already satisfied: executing>=1.2.0 in d:\\optimizing-catboost-model-with-bayesian\\env\\lib\\site-packages (from stack_data->ipython>=6.1.0->ipywidgets) (2.1.0)\n",
      "Requirement already satisfied: asttokens>=2.1.0 in d:\\optimizing-catboost-model-with-bayesian\\env\\lib\\site-packages (from stack_data->ipython>=6.1.0->ipywidgets) (3.0.0)\n",
      "Requirement already satisfied: pure-eval in d:\\optimizing-catboost-model-with-bayesian\\env\\lib\\site-packages (from stack_data->ipython>=6.1.0->ipywidgets) (0.2.3)\n",
      "Note: you may need to restart the kernel to use updated packages.\n",
      "---6---\n"
     ]
    },
    {
     "name": "stderr",
     "output_type": "stream",
     "text": [
      "\n",
      "[notice] A new release of pip is available: 24.3.1 -> 25.0\n",
      "[notice] To update, run: python.exe -m pip install --upgrade pip\n"
     ]
    },
    {
     "name": "stdout",
     "output_type": "stream",
     "text": [
      "Requirement already satisfied: pandas in d:\\optimizing-catboost-model-with-bayesian\\env\\lib\\site-packages (2.2.3)\n",
      "Requirement already satisfied: openpyxl in d:\\optimizing-catboost-model-with-bayesian\\env\\lib\\site-packages (3.1.5)\n",
      "Requirement already satisfied: numpy>=1.23.2 in d:\\optimizing-catboost-model-with-bayesian\\env\\lib\\site-packages (from pandas) (1.26.4)\n",
      "Requirement already satisfied: python-dateutil>=2.8.2 in d:\\optimizing-catboost-model-with-bayesian\\env\\lib\\site-packages (from pandas) (2.9.0.post0)\n",
      "Requirement already satisfied: pytz>=2020.1 in d:\\optimizing-catboost-model-with-bayesian\\env\\lib\\site-packages (from pandas) (2024.2)\n",
      "Requirement already satisfied: tzdata>=2022.7 in d:\\optimizing-catboost-model-with-bayesian\\env\\lib\\site-packages (from pandas) (2024.2)\n",
      "Requirement already satisfied: et-xmlfile in d:\\optimizing-catboost-model-with-bayesian\\env\\lib\\site-packages (from openpyxl) (2.0.0)\n",
      "Requirement already satisfied: six>=1.5 in d:\\optimizing-catboost-model-with-bayesian\\env\\lib\\site-packages (from python-dateutil>=2.8.2->pandas) (1.17.0)\n",
      "Note: you may need to restart the kernel to use updated packages.\n",
      "---7---\n"
     ]
    },
    {
     "name": "stderr",
     "output_type": "stream",
     "text": [
      "\n",
      "[notice] A new release of pip is available: 24.3.1 -> 25.0\n",
      "[notice] To update, run: python.exe -m pip install --upgrade pip\n"
     ]
    },
    {
     "name": "stdout",
     "output_type": "stream",
     "text": [
      "Requirement already satisfied: bayesian-optimization in d:\\optimizing-catboost-model-with-bayesian\\env\\lib\\site-packages (2.0.3)\n",
      "Requirement already satisfied: colorama<0.5.0,>=0.4.6 in d:\\optimizing-catboost-model-with-bayesian\\env\\lib\\site-packages (from bayesian-optimization) (0.4.6)\n",
      "Requirement already satisfied: numpy>=1.25 in d:\\optimizing-catboost-model-with-bayesian\\env\\lib\\site-packages (from bayesian-optimization) (1.26.4)\n",
      "Requirement already satisfied: scikit-learn<2.0.0,>=1.0.0 in d:\\optimizing-catboost-model-with-bayesian\\env\\lib\\site-packages (from bayesian-optimization) (1.6.1)\n",
      "Requirement already satisfied: scipy<2.0.0,>=1.0.0 in d:\\optimizing-catboost-model-with-bayesian\\env\\lib\\site-packages (from bayesian-optimization) (1.14.1)\n",
      "Requirement already satisfied: joblib>=1.2.0 in d:\\optimizing-catboost-model-with-bayesian\\env\\lib\\site-packages (from scikit-learn<2.0.0,>=1.0.0->bayesian-optimization) (1.4.2)\n",
      "Requirement already satisfied: threadpoolctl>=3.1.0 in d:\\optimizing-catboost-model-with-bayesian\\env\\lib\\site-packages (from scikit-learn<2.0.0,>=1.0.0->bayesian-optimization) (3.5.0)\n",
      "Note: you may need to restart the kernel to use updated packages.\n"
     ]
    },
    {
     "name": "stderr",
     "output_type": "stream",
     "text": [
      "\n",
      "[notice] A new release of pip is available: 24.3.1 -> 25.0\n",
      "[notice] To update, run: python.exe -m pip install --upgrade pip\n"
     ]
    }
   ],
   "source": [
    "#PIP INSTALLATION\n",
    "print('---1---')\n",
    "%pip install pandas\n",
    "print('---2---')\n",
    "%pip install seaborn\n",
    "print('---3---')\n",
    "%pip install scikit-learn\n",
    "print('---4---')\n",
    "%pip install catboost\n",
    "print('---5---')\n",
    "%pip install ipywidgets\n",
    "print('---6---')\n",
    "%pip install pandas openpyxl\n",
    "print('---7---')\n",
    "%pip install bayesian-optimization\n"
   ]
  },
  {
   "cell_type": "code",
   "execution_count": 7,
   "id": "6e7ab83d",
   "metadata": {},
   "outputs": [
    {
     "name": "stdout",
     "output_type": "stream",
     "text": [
      "Package               Version\n",
      "--------------------- -----------\n",
      "asttokens             3.0.0\n",
      "bayesian-optimization 2.0.3\n",
      "blinker               1.9.0\n",
      "catboost              1.2.7\n",
      "click                 8.1.7\n",
      "colorama              0.4.6\n",
      "comm                  0.2.2\n",
      "contourpy             1.3.1\n",
      "cycler                0.12.1\n",
      "debugpy               1.8.12\n",
      "decorator             5.1.1\n",
      "et_xmlfile            2.0.0\n",
      "executing             2.1.0\n",
      "Flask                 3.1.0\n",
      "Flask-SQLAlchemy      3.1.1\n",
      "fonttools             4.55.3\n",
      "graphviz              0.20.3\n",
      "greenlet              3.1.1\n",
      "ipykernel             6.29.5\n",
      "ipython               8.31.0\n",
      "ipywidgets            8.1.5\n",
      "itsdangerous          2.2.0\n",
      "jedi                  0.19.2\n",
      "Jinja2                3.1.4\n",
      "joblib                1.4.2\n",
      "jupyter_client        8.6.3\n",
      "jupyter_core          5.7.2\n",
      "jupyterlab_widgets    3.0.13\n",
      "kiwisolver            1.4.7\n",
      "MarkupSafe            3.0.2\n",
      "matplotlib            3.10.0\n",
      "matplotlib-inline     0.1.7\n",
      "nest-asyncio          1.6.0\n",
      "numpy                 1.26.4\n",
      "openpyxl              3.1.5\n",
      "packaging             24.2\n",
      "pandas                2.2.3\n",
      "parso                 0.8.4\n",
      "pillow                11.0.0\n",
      "pip                   24.3.1\n",
      "platformdirs          4.3.6\n",
      "plotly                5.24.1\n",
      "prompt_toolkit        3.0.50\n",
      "psutil                6.1.1\n",
      "pure_eval             0.2.3\n",
      "Pygments              2.19.1\n",
      "pyparsing             3.2.0\n",
      "python-dateutil       2.9.0.post0\n",
      "pytz                  2024.2\n",
      "pywin32               308\n",
      "pyzmq                 26.2.0\n",
      "scikit-learn          1.6.1\n",
      "scipy                 1.14.1\n",
      "seaborn               0.13.2\n",
      "setuptools            75.6.0\n",
      "six                   1.17.0\n",
      "SQLAlchemy            2.0.36\n",
      "stack-data            0.6.3\n",
      "tenacity              9.0.0\n",
      "threadpoolctl         3.5.0\n",
      "tornado               6.4.2\n",
      "traitlets             5.14.3\n",
      "typing_extensions     4.12.2\n",
      "tzdata                2024.2\n",
      "wcwidth               0.2.13\n",
      "Werkzeug              3.1.3\n",
      "wheel                 0.45.1\n",
      "widgetsnbextension    4.0.13\n",
      "Note: you may need to restart the kernel to use updated packages.\n"
     ]
    }
   ],
   "source": [
    "%pip list"
   ]
  },
  {
   "cell_type": "code",
   "execution_count": 8,
   "id": "007b7ecb-c7f7-40c7-a50a-b7d8bd468704",
   "metadata": {},
   "outputs": [],
   "source": [
    "#FROM LIBRARIES\n",
    "from bayes_opt import BayesianOptimization\n",
    "from sklearn.model_selection import train_test_split\n",
    "from sklearn.model_selection import StratifiedKFold\n",
    "from sklearn.preprocessing import StandardScaler\n",
    "from catboost import CatBoostClassifier, Pool\n",
    "from IPython.display import FileLink\n",
    "from sklearn.preprocessing import LabelEncoder\n",
    "from sklearn import metrics\n",
    "from sklearn.metrics import accuracy_score, f1_score, confusion_matrix, roc_curve, auc, classification_report\n",
    "\n",
    "#IMPORT AS\n",
    "import numpy as np\n",
    "import pandas as pd\n",
    "import seaborn as sns\n",
    "import sklearn\n",
    "import matplotlib.pyplot as plt\n",
    "%matplotlib inline\n",
    "plt.style.use('ggplot')"
   ]
  },
  {
   "cell_type": "code",
   "execution_count": 9,
   "id": "d92e7141-3441-4a97-835a-ef1897779b0f",
   "metadata": {},
   "outputs": [
    {
     "data": {
      "text/html": [
       "<div>\n",
       "<style scoped>\n",
       "    .dataframe tbody tr th:only-of-type {\n",
       "        vertical-align: middle;\n",
       "    }\n",
       "\n",
       "    .dataframe tbody tr th {\n",
       "        vertical-align: top;\n",
       "    }\n",
       "\n",
       "    .dataframe thead th {\n",
       "        text-align: right;\n",
       "    }\n",
       "</style>\n",
       "<table border=\"1\" class=\"dataframe\">\n",
       "  <thead>\n",
       "    <tr style=\"text-align: right;\">\n",
       "      <th></th>\n",
       "      <th>encounter_id</th>\n",
       "      <th>patient_nbr</th>\n",
       "      <th>race</th>\n",
       "      <th>gender</th>\n",
       "      <th>age</th>\n",
       "      <th>weight</th>\n",
       "      <th>admission_type_id</th>\n",
       "      <th>discharge_disposition_id</th>\n",
       "      <th>admission_source_id</th>\n",
       "      <th>time_in_hospital</th>\n",
       "      <th>...</th>\n",
       "      <th>citoglipton</th>\n",
       "      <th>insulin</th>\n",
       "      <th>glyburide-metformin</th>\n",
       "      <th>glipizide-metformin</th>\n",
       "      <th>glimepiride-pioglitazone</th>\n",
       "      <th>metformin-rosiglitazone</th>\n",
       "      <th>metformin-pioglitazone</th>\n",
       "      <th>change</th>\n",
       "      <th>diabetesMed</th>\n",
       "      <th>readmitted</th>\n",
       "    </tr>\n",
       "  </thead>\n",
       "  <tbody>\n",
       "    <tr>\n",
       "      <th>0</th>\n",
       "      <td>2278392</td>\n",
       "      <td>8222157</td>\n",
       "      <td>Caucasian</td>\n",
       "      <td>Female</td>\n",
       "      <td>[0-10)</td>\n",
       "      <td>?</td>\n",
       "      <td>6</td>\n",
       "      <td>25</td>\n",
       "      <td>1</td>\n",
       "      <td>1</td>\n",
       "      <td>...</td>\n",
       "      <td>No</td>\n",
       "      <td>No</td>\n",
       "      <td>No</td>\n",
       "      <td>No</td>\n",
       "      <td>No</td>\n",
       "      <td>No</td>\n",
       "      <td>No</td>\n",
       "      <td>No</td>\n",
       "      <td>No</td>\n",
       "      <td>NO</td>\n",
       "    </tr>\n",
       "    <tr>\n",
       "      <th>1</th>\n",
       "      <td>149190</td>\n",
       "      <td>55629189</td>\n",
       "      <td>Caucasian</td>\n",
       "      <td>Female</td>\n",
       "      <td>[10-20)</td>\n",
       "      <td>?</td>\n",
       "      <td>1</td>\n",
       "      <td>1</td>\n",
       "      <td>7</td>\n",
       "      <td>3</td>\n",
       "      <td>...</td>\n",
       "      <td>No</td>\n",
       "      <td>Up</td>\n",
       "      <td>No</td>\n",
       "      <td>No</td>\n",
       "      <td>No</td>\n",
       "      <td>No</td>\n",
       "      <td>No</td>\n",
       "      <td>Ch</td>\n",
       "      <td>Yes</td>\n",
       "      <td>&gt;30</td>\n",
       "    </tr>\n",
       "    <tr>\n",
       "      <th>2</th>\n",
       "      <td>64410</td>\n",
       "      <td>86047875</td>\n",
       "      <td>AfricanAmerican</td>\n",
       "      <td>Female</td>\n",
       "      <td>[20-30)</td>\n",
       "      <td>?</td>\n",
       "      <td>1</td>\n",
       "      <td>1</td>\n",
       "      <td>7</td>\n",
       "      <td>2</td>\n",
       "      <td>...</td>\n",
       "      <td>No</td>\n",
       "      <td>No</td>\n",
       "      <td>No</td>\n",
       "      <td>No</td>\n",
       "      <td>No</td>\n",
       "      <td>No</td>\n",
       "      <td>No</td>\n",
       "      <td>No</td>\n",
       "      <td>Yes</td>\n",
       "      <td>NO</td>\n",
       "    </tr>\n",
       "    <tr>\n",
       "      <th>3</th>\n",
       "      <td>500364</td>\n",
       "      <td>82442376</td>\n",
       "      <td>Caucasian</td>\n",
       "      <td>Male</td>\n",
       "      <td>[30-40)</td>\n",
       "      <td>?</td>\n",
       "      <td>1</td>\n",
       "      <td>1</td>\n",
       "      <td>7</td>\n",
       "      <td>2</td>\n",
       "      <td>...</td>\n",
       "      <td>No</td>\n",
       "      <td>Up</td>\n",
       "      <td>No</td>\n",
       "      <td>No</td>\n",
       "      <td>No</td>\n",
       "      <td>No</td>\n",
       "      <td>No</td>\n",
       "      <td>Ch</td>\n",
       "      <td>Yes</td>\n",
       "      <td>NO</td>\n",
       "    </tr>\n",
       "    <tr>\n",
       "      <th>4</th>\n",
       "      <td>16680</td>\n",
       "      <td>42519267</td>\n",
       "      <td>Caucasian</td>\n",
       "      <td>Male</td>\n",
       "      <td>[40-50)</td>\n",
       "      <td>?</td>\n",
       "      <td>1</td>\n",
       "      <td>1</td>\n",
       "      <td>7</td>\n",
       "      <td>1</td>\n",
       "      <td>...</td>\n",
       "      <td>No</td>\n",
       "      <td>Steady</td>\n",
       "      <td>No</td>\n",
       "      <td>No</td>\n",
       "      <td>No</td>\n",
       "      <td>No</td>\n",
       "      <td>No</td>\n",
       "      <td>Ch</td>\n",
       "      <td>Yes</td>\n",
       "      <td>NO</td>\n",
       "    </tr>\n",
       "  </tbody>\n",
       "</table>\n",
       "<p>5 rows × 50 columns</p>\n",
       "</div>"
      ],
      "text/plain": [
       "   encounter_id  patient_nbr             race  gender      age weight  \\\n",
       "0       2278392      8222157        Caucasian  Female   [0-10)      ?   \n",
       "1        149190     55629189        Caucasian  Female  [10-20)      ?   \n",
       "2         64410     86047875  AfricanAmerican  Female  [20-30)      ?   \n",
       "3        500364     82442376        Caucasian    Male  [30-40)      ?   \n",
       "4         16680     42519267        Caucasian    Male  [40-50)      ?   \n",
       "\n",
       "   admission_type_id  discharge_disposition_id  admission_source_id  \\\n",
       "0                  6                        25                    1   \n",
       "1                  1                         1                    7   \n",
       "2                  1                         1                    7   \n",
       "3                  1                         1                    7   \n",
       "4                  1                         1                    7   \n",
       "\n",
       "   time_in_hospital  ... citoglipton insulin  glyburide-metformin  \\\n",
       "0                 1  ...          No      No                   No   \n",
       "1                 3  ...          No      Up                   No   \n",
       "2                 2  ...          No      No                   No   \n",
       "3                 2  ...          No      Up                   No   \n",
       "4                 1  ...          No  Steady                   No   \n",
       "\n",
       "   glipizide-metformin  glimepiride-pioglitazone  metformin-rosiglitazone  \\\n",
       "0                   No                        No                       No   \n",
       "1                   No                        No                       No   \n",
       "2                   No                        No                       No   \n",
       "3                   No                        No                       No   \n",
       "4                   No                        No                       No   \n",
       "\n",
       "   metformin-pioglitazone  change diabetesMed readmitted  \n",
       "0                      No      No          No         NO  \n",
       "1                      No      Ch         Yes        >30  \n",
       "2                      No      No         Yes         NO  \n",
       "3                      No      Ch         Yes         NO  \n",
       "4                      No      Ch         Yes         NO  \n",
       "\n",
       "[5 rows x 50 columns]"
      ]
     },
     "execution_count": 9,
     "metadata": {},
     "output_type": "execute_result"
    }
   ],
   "source": [
    "file_path = 'Dataset/diabetic_data.csv'\n",
    "df = pd.read_csv(file_path,keep_default_na=False)\n",
    "df_clean = df.copy()\n",
    "df_clean.head()"
   ]
  },
  {
   "cell_type": "code",
   "execution_count": 10,
   "id": "66f03d94-b072-4b51-b344-bdc5c5e6c1e2",
   "metadata": {},
   "outputs": [
    {
     "data": {
      "text/html": [
       "<div>\n",
       "<style scoped>\n",
       "    .dataframe tbody tr th:only-of-type {\n",
       "        vertical-align: middle;\n",
       "    }\n",
       "\n",
       "    .dataframe tbody tr th {\n",
       "        vertical-align: top;\n",
       "    }\n",
       "\n",
       "    .dataframe thead th {\n",
       "        text-align: right;\n",
       "    }\n",
       "</style>\n",
       "<table border=\"1\" class=\"dataframe\">\n",
       "  <thead>\n",
       "    <tr style=\"text-align: right;\">\n",
       "      <th></th>\n",
       "      <th>encounter_id</th>\n",
       "      <th>patient_nbr</th>\n",
       "      <th>admission_type_id</th>\n",
       "      <th>discharge_disposition_id</th>\n",
       "      <th>admission_source_id</th>\n",
       "      <th>time_in_hospital</th>\n",
       "      <th>num_lab_procedures</th>\n",
       "      <th>num_procedures</th>\n",
       "      <th>num_medications</th>\n",
       "      <th>number_outpatient</th>\n",
       "      <th>number_emergency</th>\n",
       "      <th>number_inpatient</th>\n",
       "      <th>number_diagnoses</th>\n",
       "    </tr>\n",
       "  </thead>\n",
       "  <tbody>\n",
       "    <tr>\n",
       "      <th>count</th>\n",
       "      <td>1.017660e+05</td>\n",
       "      <td>1.017660e+05</td>\n",
       "      <td>101766.000000</td>\n",
       "      <td>101766.000000</td>\n",
       "      <td>101766.000000</td>\n",
       "      <td>101766.000000</td>\n",
       "      <td>101766.000000</td>\n",
       "      <td>101766.000000</td>\n",
       "      <td>101766.000000</td>\n",
       "      <td>101766.000000</td>\n",
       "      <td>101766.000000</td>\n",
       "      <td>101766.000000</td>\n",
       "      <td>101766.000000</td>\n",
       "    </tr>\n",
       "    <tr>\n",
       "      <th>mean</th>\n",
       "      <td>1.652016e+08</td>\n",
       "      <td>5.433040e+07</td>\n",
       "      <td>2.024006</td>\n",
       "      <td>3.715642</td>\n",
       "      <td>5.754437</td>\n",
       "      <td>4.395987</td>\n",
       "      <td>43.095641</td>\n",
       "      <td>1.339730</td>\n",
       "      <td>16.021844</td>\n",
       "      <td>0.369357</td>\n",
       "      <td>0.197836</td>\n",
       "      <td>0.635566</td>\n",
       "      <td>7.422607</td>\n",
       "    </tr>\n",
       "    <tr>\n",
       "      <th>std</th>\n",
       "      <td>1.026403e+08</td>\n",
       "      <td>3.869636e+07</td>\n",
       "      <td>1.445403</td>\n",
       "      <td>5.280166</td>\n",
       "      <td>4.064081</td>\n",
       "      <td>2.985108</td>\n",
       "      <td>19.674362</td>\n",
       "      <td>1.705807</td>\n",
       "      <td>8.127566</td>\n",
       "      <td>1.267265</td>\n",
       "      <td>0.930472</td>\n",
       "      <td>1.262863</td>\n",
       "      <td>1.933600</td>\n",
       "    </tr>\n",
       "    <tr>\n",
       "      <th>min</th>\n",
       "      <td>1.252200e+04</td>\n",
       "      <td>1.350000e+02</td>\n",
       "      <td>1.000000</td>\n",
       "      <td>1.000000</td>\n",
       "      <td>1.000000</td>\n",
       "      <td>1.000000</td>\n",
       "      <td>1.000000</td>\n",
       "      <td>0.000000</td>\n",
       "      <td>1.000000</td>\n",
       "      <td>0.000000</td>\n",
       "      <td>0.000000</td>\n",
       "      <td>0.000000</td>\n",
       "      <td>1.000000</td>\n",
       "    </tr>\n",
       "    <tr>\n",
       "      <th>25%</th>\n",
       "      <td>8.496119e+07</td>\n",
       "      <td>2.341322e+07</td>\n",
       "      <td>1.000000</td>\n",
       "      <td>1.000000</td>\n",
       "      <td>1.000000</td>\n",
       "      <td>2.000000</td>\n",
       "      <td>31.000000</td>\n",
       "      <td>0.000000</td>\n",
       "      <td>10.000000</td>\n",
       "      <td>0.000000</td>\n",
       "      <td>0.000000</td>\n",
       "      <td>0.000000</td>\n",
       "      <td>6.000000</td>\n",
       "    </tr>\n",
       "    <tr>\n",
       "      <th>50%</th>\n",
       "      <td>1.523890e+08</td>\n",
       "      <td>4.550514e+07</td>\n",
       "      <td>1.000000</td>\n",
       "      <td>1.000000</td>\n",
       "      <td>7.000000</td>\n",
       "      <td>4.000000</td>\n",
       "      <td>44.000000</td>\n",
       "      <td>1.000000</td>\n",
       "      <td>15.000000</td>\n",
       "      <td>0.000000</td>\n",
       "      <td>0.000000</td>\n",
       "      <td>0.000000</td>\n",
       "      <td>8.000000</td>\n",
       "    </tr>\n",
       "    <tr>\n",
       "      <th>75%</th>\n",
       "      <td>2.302709e+08</td>\n",
       "      <td>8.754595e+07</td>\n",
       "      <td>3.000000</td>\n",
       "      <td>4.000000</td>\n",
       "      <td>7.000000</td>\n",
       "      <td>6.000000</td>\n",
       "      <td>57.000000</td>\n",
       "      <td>2.000000</td>\n",
       "      <td>20.000000</td>\n",
       "      <td>0.000000</td>\n",
       "      <td>0.000000</td>\n",
       "      <td>1.000000</td>\n",
       "      <td>9.000000</td>\n",
       "    </tr>\n",
       "    <tr>\n",
       "      <th>max</th>\n",
       "      <td>4.438672e+08</td>\n",
       "      <td>1.895026e+08</td>\n",
       "      <td>8.000000</td>\n",
       "      <td>28.000000</td>\n",
       "      <td>25.000000</td>\n",
       "      <td>14.000000</td>\n",
       "      <td>132.000000</td>\n",
       "      <td>6.000000</td>\n",
       "      <td>81.000000</td>\n",
       "      <td>42.000000</td>\n",
       "      <td>76.000000</td>\n",
       "      <td>21.000000</td>\n",
       "      <td>16.000000</td>\n",
       "    </tr>\n",
       "  </tbody>\n",
       "</table>\n",
       "</div>"
      ],
      "text/plain": [
       "       encounter_id   patient_nbr  admission_type_id  \\\n",
       "count  1.017660e+05  1.017660e+05      101766.000000   \n",
       "mean   1.652016e+08  5.433040e+07           2.024006   \n",
       "std    1.026403e+08  3.869636e+07           1.445403   \n",
       "min    1.252200e+04  1.350000e+02           1.000000   \n",
       "25%    8.496119e+07  2.341322e+07           1.000000   \n",
       "50%    1.523890e+08  4.550514e+07           1.000000   \n",
       "75%    2.302709e+08  8.754595e+07           3.000000   \n",
       "max    4.438672e+08  1.895026e+08           8.000000   \n",
       "\n",
       "       discharge_disposition_id  admission_source_id  time_in_hospital  \\\n",
       "count             101766.000000        101766.000000     101766.000000   \n",
       "mean                   3.715642             5.754437          4.395987   \n",
       "std                    5.280166             4.064081          2.985108   \n",
       "min                    1.000000             1.000000          1.000000   \n",
       "25%                    1.000000             1.000000          2.000000   \n",
       "50%                    1.000000             7.000000          4.000000   \n",
       "75%                    4.000000             7.000000          6.000000   \n",
       "max                   28.000000            25.000000         14.000000   \n",
       "\n",
       "       num_lab_procedures  num_procedures  num_medications  number_outpatient  \\\n",
       "count       101766.000000   101766.000000    101766.000000      101766.000000   \n",
       "mean            43.095641        1.339730        16.021844           0.369357   \n",
       "std             19.674362        1.705807         8.127566           1.267265   \n",
       "min              1.000000        0.000000         1.000000           0.000000   \n",
       "25%             31.000000        0.000000        10.000000           0.000000   \n",
       "50%             44.000000        1.000000        15.000000           0.000000   \n",
       "75%             57.000000        2.000000        20.000000           0.000000   \n",
       "max            132.000000        6.000000        81.000000          42.000000   \n",
       "\n",
       "       number_emergency  number_inpatient  number_diagnoses  \n",
       "count     101766.000000     101766.000000     101766.000000  \n",
       "mean           0.197836          0.635566          7.422607  \n",
       "std            0.930472          1.262863          1.933600  \n",
       "min            0.000000          0.000000          1.000000  \n",
       "25%            0.000000          0.000000          6.000000  \n",
       "50%            0.000000          0.000000          8.000000  \n",
       "75%            0.000000          1.000000          9.000000  \n",
       "max           76.000000         21.000000         16.000000  "
      ]
     },
     "execution_count": 10,
     "metadata": {},
     "output_type": "execute_result"
    }
   ],
   "source": [
    "df_clean.describe()"
   ]
  },
  {
   "cell_type": "code",
   "execution_count": 11,
   "id": "6d140a4d-da7c-41d0-8890-54c4f35d3405",
   "metadata": {},
   "outputs": [
    {
     "name": "stdout",
     "output_type": "stream",
     "text": [
      "['encounter_id', 'patient_nbr', 'race', 'gender', 'age', 'weight', 'admission_type_id', 'discharge_disposition_id', 'admission_source_id', 'time_in_hospital', 'payer_code', 'medical_specialty', 'num_lab_procedures', 'num_procedures', 'num_medications', 'number_outpatient', 'number_emergency', 'number_inpatient', 'diag_1', 'diag_2', 'diag_3', 'number_diagnoses', 'max_glu_serum', 'A1Cresult', 'metformin', 'repaglinide', 'nateglinide', 'chlorpropamide', 'glimepiride', 'acetohexamide', 'glipizide', 'glyburide', 'tolbutamide', 'pioglitazone', 'rosiglitazone', 'acarbose', 'miglitol', 'troglitazone', 'tolazamide', 'examide', 'citoglipton', 'insulin', 'glyburide-metformin', 'glipizide-metformin', 'glimepiride-pioglitazone', 'metformin-rosiglitazone', 'metformin-pioglitazone', 'change', 'diabetesMed', 'readmitted']\n"
     ]
    }
   ],
   "source": [
    "print(list(df_clean))"
   ]
  },
  {
   "cell_type": "markdown",
   "id": "afc4d879",
   "metadata": {},
   "source": [
    "Data Cleaning "
   ]
  },
  {
   "cell_type": "code",
   "execution_count": 12,
   "id": "63b3c087-2e7b-4086-bc7a-4d2f5420f08e",
   "metadata": {},
   "outputs": [
    {
     "data": {
      "text/plain": [
       "patient_nbr\n",
       "88785891     40\n",
       "43140906     28\n",
       "1660293      23\n",
       "88227540     23\n",
       "23199021     23\n",
       "             ..\n",
       "11005362      1\n",
       "98252496      1\n",
       "1019673       1\n",
       "13396320      1\n",
       "175429310     1\n",
       "Name: count, Length: 71518, dtype: int64"
      ]
     },
     "execution_count": 12,
     "metadata": {},
     "output_type": "execute_result"
    }
   ],
   "source": [
    "#REMOVING DUPLICATE DATA'S\n",
    "df_clean['patient_nbr'].value_counts()"
   ]
  },
  {
   "cell_type": "code",
   "execution_count": 13,
   "id": "e9855497-1066-4b1e-93b3-241bf86f0efb",
   "metadata": {},
   "outputs": [],
   "source": [
    "df_clean = df_clean.drop_duplicates(subset=['patient_nbr'])\n",
    "#END REMOVING DUPLICATE DATA'S"
   ]
  },
  {
   "cell_type": "markdown",
   "id": "215ec990",
   "metadata": {},
   "source": [
    "There are 30,248 total of Duplicate Data's which the unique data consist only 71,518"
   ]
  },
  {
   "cell_type": "code",
   "execution_count": 14,
   "id": "1bca7cd8-29bc-472c-89ae-75e1512ab0c8",
   "metadata": {},
   "outputs": [
    {
     "name": "stdout",
     "output_type": "stream",
     "text": [
      "<class 'pandas.core.frame.DataFrame'>\n",
      "Index: 71518 entries, 0 to 101765\n",
      "Data columns (total 50 columns):\n",
      " #   Column                    Non-Null Count  Dtype \n",
      "---  ------                    --------------  ----- \n",
      " 0   encounter_id              71518 non-null  int64 \n",
      " 1   patient_nbr               71518 non-null  int64 \n",
      " 2   race                      71518 non-null  object\n",
      " 3   gender                    71518 non-null  object\n",
      " 4   age                       71518 non-null  object\n",
      " 5   weight                    71518 non-null  object\n",
      " 6   admission_type_id         71518 non-null  int64 \n",
      " 7   discharge_disposition_id  71518 non-null  int64 \n",
      " 8   admission_source_id       71518 non-null  int64 \n",
      " 9   time_in_hospital          71518 non-null  int64 \n",
      " 10  payer_code                71518 non-null  object\n",
      " 11  medical_specialty         71518 non-null  object\n",
      " 12  num_lab_procedures        71518 non-null  int64 \n",
      " 13  num_procedures            71518 non-null  int64 \n",
      " 14  num_medications           71518 non-null  int64 \n",
      " 15  number_outpatient         71518 non-null  int64 \n",
      " 16  number_emergency          71518 non-null  int64 \n",
      " 17  number_inpatient          71518 non-null  int64 \n",
      " 18  diag_1                    71518 non-null  object\n",
      " 19  diag_2                    71518 non-null  object\n",
      " 20  diag_3                    71518 non-null  object\n",
      " 21  number_diagnoses          71518 non-null  int64 \n",
      " 22  max_glu_serum             71518 non-null  object\n",
      " 23  A1Cresult                 71518 non-null  object\n",
      " 24  metformin                 71518 non-null  object\n",
      " 25  repaglinide               71518 non-null  object\n",
      " 26  nateglinide               71518 non-null  object\n",
      " 27  chlorpropamide            71518 non-null  object\n",
      " 28  glimepiride               71518 non-null  object\n",
      " 29  acetohexamide             71518 non-null  object\n",
      " 30  glipizide                 71518 non-null  object\n",
      " 31  glyburide                 71518 non-null  object\n",
      " 32  tolbutamide               71518 non-null  object\n",
      " 33  pioglitazone              71518 non-null  object\n",
      " 34  rosiglitazone             71518 non-null  object\n",
      " 35  acarbose                  71518 non-null  object\n",
      " 36  miglitol                  71518 non-null  object\n",
      " 37  troglitazone              71518 non-null  object\n",
      " 38  tolazamide                71518 non-null  object\n",
      " 39  examide                   71518 non-null  object\n",
      " 40  citoglipton               71518 non-null  object\n",
      " 41  insulin                   71518 non-null  object\n",
      " 42  glyburide-metformin       71518 non-null  object\n",
      " 43  glipizide-metformin       71518 non-null  object\n",
      " 44  glimepiride-pioglitazone  71518 non-null  object\n",
      " 45  metformin-rosiglitazone   71518 non-null  object\n",
      " 46  metformin-pioglitazone    71518 non-null  object\n",
      " 47  change                    71518 non-null  object\n",
      " 48  diabetesMed               71518 non-null  object\n",
      " 49  readmitted                71518 non-null  object\n",
      "dtypes: int64(13), object(37)\n",
      "memory usage: 27.8+ MB\n"
     ]
    }
   ],
   "source": [
    "df_clean.info()"
   ]
  },
  {
   "cell_type": "markdown",
   "id": "a0d9f547",
   "metadata": {},
   "source": [
    "Value of each drug that most patient uses"
   ]
  },
  {
   "cell_type": "markdown",
   "id": "33cb5fee",
   "metadata": {},
   "source": [
    "-/-/-/-/-/-/-"
   ]
  },
  {
   "cell_type": "code",
   "execution_count": 15,
   "id": "fa05a2a5",
   "metadata": {},
   "outputs": [
    {
     "name": "stdout",
     "output_type": "stream",
     "text": [
      "metformin\n",
      "No        56527\n",
      "Steady    13718\n",
      "Up          838\n",
      "Down        435\n",
      "Name: count, dtype: int64\n",
      "-----------------------------\n",
      "repaglinide\n",
      "No        70592\n",
      "Steady      824\n",
      "Up           73\n",
      "Down         29\n",
      "Name: count, dtype: int64\n",
      "-----------------------------\n",
      "nateglinide\n",
      "No        71020\n",
      "Steady      474\n",
      "Up           16\n",
      "Down          8\n",
      "Name: count, dtype: int64\n",
      "-----------------------------\n",
      "chlorpropamide\n",
      "No        71446\n",
      "Steady       67\n",
      "Up            4\n",
      "Down          1\n",
      "Name: count, dtype: int64\n"
     ]
    }
   ],
   "source": [
    "print(df_clean['metformin'].value_counts())\n",
    "print(\"-----------------------------\")\n",
    "print(df_clean['repaglinide'].value_counts())\n",
    "print(\"-----------------------------\")\n",
    "print(df_clean['nateglinide'].value_counts())\n",
    "print(\"-----------------------------\")\n",
    "print(df_clean['chlorpropamide'].value_counts())"
   ]
  },
  {
   "cell_type": "code",
   "execution_count": 16,
   "id": "a937c13b",
   "metadata": {},
   "outputs": [
    {
     "name": "stdout",
     "output_type": "stream",
     "text": [
      "glimepiride\n",
      "No        67773\n",
      "Steady     3372\n",
      "Up          235\n",
      "Down        138\n",
      "Name: count, dtype: int64\n",
      "-----------------------------\n",
      "acetohexamide\n",
      "No        71517\n",
      "Steady        1\n",
      "Name: count, dtype: int64\n",
      "-----------------------------\n",
      "glipizide\n",
      "No        62412\n",
      "Steady     8150\n",
      "Up          578\n",
      "Down        378\n",
      "Name: count, dtype: int64\n",
      "-----------------------------\n",
      "glyburide\n",
      "No        63664\n",
      "Steady     6812\n",
      "Up          621\n",
      "Down        421\n",
      "Name: count, dtype: int64\n"
     ]
    }
   ],
   "source": [
    "print(df_clean['glimepiride'].value_counts())\n",
    "print(\"-----------------------------\")\n",
    "print(df_clean['acetohexamide'].value_counts())\n",
    "print(\"-----------------------------\")\n",
    "print(df_clean['glipizide'].value_counts())\n",
    "print(\"-----------------------------\")\n",
    "print(df_clean['glyburide'].value_counts())\n"
   ]
  },
  {
   "cell_type": "code",
   "execution_count": 17,
   "id": "b77cbf2f",
   "metadata": {},
   "outputs": [
    {
     "name": "stdout",
     "output_type": "stream",
     "text": [
      "tolbutamide\n",
      "No        71499\n",
      "Steady       19\n",
      "Name: count, dtype: int64\n",
      "-----------------------------\n",
      "pioglitazone\n",
      "No        66210\n",
      "Steady     5047\n",
      "Up          180\n",
      "Down         81\n",
      "Name: count, dtype: int64\n",
      "-----------------------------\n",
      "rosiglitazone\n",
      "No        66817\n",
      "Steady     4490\n",
      "Up          136\n",
      "Down         75\n",
      "Name: count, dtype: int64\n",
      "-----------------------------\n",
      "acarbose\n",
      "No        71316\n",
      "Steady      192\n",
      "Up           10\n",
      "Name: count, dtype: int64\n"
     ]
    }
   ],
   "source": [
    "print(df_clean['tolbutamide'].value_counts())\n",
    "print(\"-----------------------------\")\n",
    "print(df_clean['pioglitazone'].value_counts())\n",
    "print(\"-----------------------------\")\n",
    "print(df_clean['rosiglitazone'].value_counts())\n",
    "print(\"-----------------------------\")\n",
    "print(df_clean['acarbose'].value_counts())"
   ]
  },
  {
   "cell_type": "code",
   "execution_count": 18,
   "id": "685bd26e",
   "metadata": {},
   "outputs": [
    {
     "name": "stdout",
     "output_type": "stream",
     "text": [
      "miglitol\n",
      "No        71498\n",
      "Steady       18\n",
      "Down          1\n",
      "Up            1\n",
      "Name: count, dtype: int64\n",
      "-----------------------------\n",
      "troglitazone\n",
      "No        71515\n",
      "Steady        3\n",
      "Name: count, dtype: int64\n",
      "-----------------------------\n",
      "tolazamide\n",
      "No        71488\n",
      "Steady       30\n",
      "Name: count, dtype: int64\n",
      "-----------------------------\n",
      "examide\n",
      "No    71518\n",
      "Name: count, dtype: int64\n"
     ]
    }
   ],
   "source": [
    "print(df_clean['miglitol'].value_counts())\n",
    "print(\"-----------------------------\")\n",
    "print(df_clean['troglitazone'].value_counts())\n",
    "print(\"-----------------------------\")\n",
    "print(df_clean['tolazamide'].value_counts())\n",
    "print(\"-----------------------------\")\n",
    "print(df_clean['examide'].value_counts())"
   ]
  },
  {
   "cell_type": "code",
   "execution_count": 19,
   "id": "94e8826b",
   "metadata": {},
   "outputs": [
    {
     "name": "stdout",
     "output_type": "stream",
     "text": [
      "citoglipton\n",
      "No    71518\n",
      "Name: count, dtype: int64\n",
      "-----------------------------\n",
      "insulin\n",
      "No        34921\n",
      "Steady    22129\n",
      "Down       7505\n",
      "Up         6963\n",
      "Name: count, dtype: int64\n",
      "-----------------------------\n",
      "glyburide-metformin\n",
      "No        71016\n",
      "Steady      491\n",
      "Up            7\n",
      "Down          4\n",
      "Name: count, dtype: int64\n",
      "-----------------------------\n",
      "glipizide-metformin\n",
      "No        71511\n",
      "Steady        7\n",
      "Name: count, dtype: int64\n"
     ]
    }
   ],
   "source": [
    "print(df_clean['citoglipton'].value_counts())\n",
    "print(\"-----------------------------\")\n",
    "print(df_clean['insulin'].value_counts())\n",
    "print(\"-----------------------------\")\n",
    "print(df_clean['glyburide-metformin'].value_counts())\n",
    "print(\"-----------------------------\")\n",
    "print(df_clean['glipizide-metformin'].value_counts())"
   ]
  },
  {
   "cell_type": "code",
   "execution_count": 20,
   "id": "e52eb279",
   "metadata": {},
   "outputs": [
    {
     "name": "stdout",
     "output_type": "stream",
     "text": [
      "glimepiride-pioglitazone\n",
      "No    71518\n",
      "Name: count, dtype: int64\n",
      "-----------------------------\n",
      "metformin-rosiglitazone\n",
      "No        71516\n",
      "Steady        2\n",
      "Name: count, dtype: int64\n",
      "-----------------------------\n",
      "metformin-pioglitazone\n",
      "No        71517\n",
      "Steady        1\n",
      "Name: count, dtype: int64\n"
     ]
    }
   ],
   "source": [
    "print(df_clean['glimepiride-pioglitazone'].value_counts())\n",
    "print(\"-----------------------------\")\n",
    "print(df_clean['metformin-rosiglitazone'].value_counts())\n",
    "print(\"-----------------------------\")\n",
    "print(df_clean['metformin-pioglitazone'].value_counts())"
   ]
  },
  {
   "cell_type": "code",
   "execution_count": 21,
   "id": "a9c81d85",
   "metadata": {},
   "outputs": [
    {
     "data": {
      "text/plain": [
       "medical_specialty\n",
       "?                                   48.207444\n",
       "InternalMedicine                    15.267485\n",
       "Family/GeneralPractice               7.156240\n",
       "Emergency/Trauma                     6.243184\n",
       "Cardiology                           5.964932\n",
       "                                      ...    \n",
       "SportsMedicine                       0.001398\n",
       "Dermatology                          0.001398\n",
       "Proctology                           0.001398\n",
       "Surgery-PlasticwithinHeadandNeck     0.001398\n",
       "Resident                             0.001398\n",
       "Name: proportion, Length: 71, dtype: float64"
      ]
     },
     "execution_count": 21,
     "metadata": {},
     "output_type": "execute_result"
    }
   ],
   "source": [
    "(df_clean.medical_specialty.value_counts(normalize=True, dropna=False) * 100)\n"
   ]
  },
  {
   "cell_type": "markdown",
   "id": "3cead83d",
   "metadata": {},
   "source": [
    "Removing features that is not useful for our target readmittied\n",
    "\n",
    "encounter_id  > Irrelevant \n",
    "\n",
    "Patient_nbr > Irrelevant\n",
    "\n",
    "Weight > Consist of 97% missing value\n",
    "\n",
    "Payer_code > Irrelevant\n",
    "\n",
    "Medicial_Speciality > 48% missing value\n",
    "\n",
    "Repaglinide\t> 71K samples not using the drug\n",
    "\n",
    "Nateglinide\t> 71K samples not using the drug\n",
    "\n",
    "Chlorpropamide > 71K samples not using the drug\n",
    "\n",
    "Acarbose > 71k samples not using the drug\n",
    "\n",
    "Miglitol > 71k samples not using the drug\n",
    "\n",
    "Troglitazone > Only 3 patients using the drug\n",
    "\n",
    "Tolazamide > Only 39 patients using the drug\n",
    "\n",
    "Examide\t> All patients not using the drug\n",
    "\n",
    "Citoglipton\t> All patients not using the drug\n",
    "\n",
    "Glyburide_metformin\t> 71k samples not using the drug\n",
    "\n",
    "Glipizide_metfotmin > Only 13 patients using the drug\n",
    "\n",
    "Glimepiride_pioglitazone > Only 1 patient using the drug\n",
    "\n",
    "Metformin_rosiglitazone > Only 2 patients using the drug\n",
    "\n",
    "Metformin_pioglitazone > Only 1 patient using the drug\n",
    "\n",
    "Acetohexamide > Only 1 patient using the drug\n",
    "\n",
    "tolbutamide > Only 23 patients using the drug\n",
    "\n"
   ]
  },
  {
   "cell_type": "code",
   "execution_count": 22,
   "id": "d4b2a6e2-c9e2-4380-bdf4-0b45a6047333",
   "metadata": {},
   "outputs": [],
   "source": [
    "features_drop_list = ['encounter_id', 'patient_nbr', 'weight', 'payer_code', 'medical_specialty', 'repaglinide', 'nateglinide', 'chlorpropamide', 'acarbose', 'miglitol', 'troglitazone', 'tolazamide', 'examide', 'citoglipton', 'glyburide-metformin', 'glipizide-metformin', 'glimepiride-pioglitazone', 'metformin-rosiglitazone','metformin-pioglitazone', 'acetohexamide', 'tolbutamide']\n",
    "df_clean.drop(features_drop_list, axis=1, inplace=True)"
   ]
  },
  {
   "cell_type": "code",
   "execution_count": 23,
   "id": "3c58ee30-71ce-4b06-bea0-d0a69fd81bab",
   "metadata": {},
   "outputs": [
    {
     "name": "stdout",
     "output_type": "stream",
     "text": [
      "<class 'pandas.core.frame.DataFrame'>\n",
      "Index: 71518 entries, 0 to 101765\n",
      "Data columns (total 29 columns):\n",
      " #   Column                    Non-Null Count  Dtype \n",
      "---  ------                    --------------  ----- \n",
      " 0   race                      71518 non-null  object\n",
      " 1   gender                    71518 non-null  object\n",
      " 2   age                       71518 non-null  object\n",
      " 3   admission_type_id         71518 non-null  int64 \n",
      " 4   discharge_disposition_id  71518 non-null  int64 \n",
      " 5   admission_source_id       71518 non-null  int64 \n",
      " 6   time_in_hospital          71518 non-null  int64 \n",
      " 7   num_lab_procedures        71518 non-null  int64 \n",
      " 8   num_procedures            71518 non-null  int64 \n",
      " 9   num_medications           71518 non-null  int64 \n",
      " 10  number_outpatient         71518 non-null  int64 \n",
      " 11  number_emergency          71518 non-null  int64 \n",
      " 12  number_inpatient          71518 non-null  int64 \n",
      " 13  diag_1                    71518 non-null  object\n",
      " 14  diag_2                    71518 non-null  object\n",
      " 15  diag_3                    71518 non-null  object\n",
      " 16  number_diagnoses          71518 non-null  int64 \n",
      " 17  max_glu_serum             71518 non-null  object\n",
      " 18  A1Cresult                 71518 non-null  object\n",
      " 19  metformin                 71518 non-null  object\n",
      " 20  glimepiride               71518 non-null  object\n",
      " 21  glipizide                 71518 non-null  object\n",
      " 22  glyburide                 71518 non-null  object\n",
      " 23  pioglitazone              71518 non-null  object\n",
      " 24  rosiglitazone             71518 non-null  object\n",
      " 25  insulin                   71518 non-null  object\n",
      " 26  change                    71518 non-null  object\n",
      " 27  diabetesMed               71518 non-null  object\n",
      " 28  readmitted                71518 non-null  object\n",
      "dtypes: int64(11), object(18)\n",
      "memory usage: 16.4+ MB\n"
     ]
    }
   ],
   "source": [
    "df_clean.info()"
   ]
  },
  {
   "cell_type": "markdown",
   "id": "f4e9bc5b",
   "metadata": {},
   "source": [
    "ICD 9 codes"
   ]
  },
  {
   "cell_type": "code",
   "execution_count": 24,
   "id": "b1729aef-e47e-4b74-bd68-b7bcd4f0f896",
   "metadata": {},
   "outputs": [],
   "source": [
    "#start by setting all values containing E or V into 0 (as one category)\n",
    "df_clean.loc[df_clean['diag_1'].str.contains('V',na=False,case=False), 'diag_1'] = 0\n",
    "df_clean.loc[df_clean['diag_1'].str.contains('E',na=False,case=False), 'diag_1'] = 0\n",
    "df_clean.loc[df_clean['diag_2'].str.contains('V',na=False,case=False), 'diag_2'] = 0\n",
    "df_clean.loc[df_clean['diag_2'].str.contains('E',na=False,case=False), 'diag_2'] = 0\n",
    "df_clean.loc[df_clean['diag_3'].str.contains('V',na=False,case=False), 'diag_3'] = 0\n",
    "df_clean.loc[df_clean['diag_3'].str.contains('E',na=False,case=False), 'diag_3'] = 0\n",
    "\n",
    "#setting all missing values into -1\n",
    "df_clean['diag_1'] = df_clean['diag_1'].replace('?', -1)\n",
    "df_clean['diag_2'] = df_clean['diag_2'].replace('?', -1)\n",
    "df_clean['diag_3'] = df_clean['diag_3'].replace('?', -1)\n",
    "\n",
    "#No all diag values can be converted into numeric values\n",
    "df_clean['diag_1'] = df_clean['diag_1'].astype(float)\n",
    "df_clean['diag_2'] = df_clean['diag_2'].astype(float)\n",
    "df_clean['diag_3'] = df_clean['diag_3'].astype(float)"
   ]
  },
  {
   "cell_type": "code",
   "execution_count": 25,
   "id": "9b38dcdd",
   "metadata": {},
   "outputs": [
    {
     "name": "stdout",
     "output_type": "stream",
     "text": [
      "   diag_1  diag_2  diag_3\n",
      "0     3.0     0.0     0.0\n",
      "1     3.0     3.0     3.0\n",
      "2    11.0     3.0     0.0\n",
      "3     1.0     3.0     7.0\n",
      "4     2.0     2.0     3.0\n"
     ]
    }
   ],
   "source": [
    "# Ensure 'diag_1', 'diag_2', 'diag_3' are numeric\n",
    "df_clean[['diag_1', 'diag_2', 'diag_3']] = df_clean[['diag_1', 'diag_2', 'diag_3']].apply(pd.to_numeric, errors='coerce')\n",
    "\n",
    "def categorize_diag(df_clean, col):\n",
    "    df_clean.loc[(df_clean[col] >= 1) & (df_clean[col] < 140), col] = 1\n",
    "    df_clean.loc[(df_clean[col] >= 140) & (df_clean[col] < 240), col] = 2\n",
    "    df_clean.loc[(df_clean[col] >= 240) & (df_clean[col] < 280), col] = 3\n",
    "    df_clean.loc[(df_clean[col] >= 280) & (df_clean[col] < 290), col] = 4\n",
    "    df_clean.loc[(df_clean[col] >= 290) & (df_clean[col] < 320), col] = 5\n",
    "    df_clean.loc[(df_clean[col] >= 320) & (df_clean[col] < 390), col] = 6\n",
    "    df_clean.loc[(df_clean[col] >= 390) & (df_clean[col] < 460), col] = 7\n",
    "    df_clean.loc[(df_clean[col] >= 460) & (df_clean[col] < 520), col] = 8\n",
    "    df_clean.loc[(df_clean[col] >= 520) & (df_clean[col] < 580), col] = 9\n",
    "    df_clean.loc[(df_clean[col] >= 580) & (df_clean[col] < 630), col] = 10\n",
    "    df_clean.loc[(df_clean[col] >= 630) & (df_clean[col] < 680), col] = 11\n",
    "    df_clean.loc[(df_clean[col] >= 680) & (df_clean[col] < 710), col] = 12\n",
    "    df_clean.loc[(df_clean[col] >= 710) & (df_clean[col] < 740), col] = 13\n",
    "    df_clean.loc[(df_clean[col] >= 740) & (df_clean[col] < 760), col] = 14\n",
    "    df_clean.loc[(df_clean[col] >= 760) & (df_clean[col] < 780), col] = 15\n",
    "    df_clean.loc[(df_clean[col] >= 780) & (df_clean[col] < 800), col] = 16\n",
    "    df_clean.loc[(df_clean[col] >= 800) & (df_clean[col] < 1000), col] = 17\n",
    "    df_clean.loc[df_clean[col] == -1, col] = 0  # Handle missing values\n",
    "    \n",
    "# Apply function to diagnosis columns\n",
    "for col in ['diag_1', 'diag_2', 'diag_3']:\n",
    "    categorize_diag(df_clean, col)\n",
    "\n",
    "# Print the result\n",
    "print(df_clean[['diag_1', 'diag_2', 'diag_3']].head())"
   ]
  },
  {
   "cell_type": "code",
   "execution_count": 26,
   "id": "683674e6",
   "metadata": {},
   "outputs": [
    {
     "name": "stdout",
     "output_type": "stream",
     "text": [
      "0          0.0\n",
      "1          3.0\n",
      "2          3.0\n",
      "3          3.0\n",
      "4          2.0\n",
      "          ... \n",
      "101754     9.0\n",
      "101755    10.0\n",
      "101756    10.0\n",
      "101758     1.0\n",
      "101765     9.0\n",
      "Name: diag_2, Length: 71518, dtype: float64\n"
     ]
    }
   ],
   "source": [
    "print(df_clean['diag_2'])"
   ]
  },
  {
   "cell_type": "code",
   "execution_count": 27,
   "id": "a498f8de",
   "metadata": {},
   "outputs": [
    {
     "data": {
      "text/plain": [
       "array([ 0.,  3.,  2.,  7.,  8.,  4., 17., 13., 10.,  1.,  9., 12.,  6.,\n",
       "       16.,  5., 11., 14.])"
      ]
     },
     "execution_count": 27,
     "metadata": {},
     "output_type": "execute_result"
    }
   ],
   "source": [
    "#check the results\n",
    "df_clean.diag_2.unique()"
   ]
  },
  {
   "cell_type": "code",
   "execution_count": 28,
   "id": "f8488786",
   "metadata": {},
   "outputs": [
    {
     "name": "stdout",
     "output_type": "stream",
     "text": [
      "Distribution of diagnosis 1 categories:\n",
      "diag_1\n",
      "0.0       939\n",
      "1.0      1818\n",
      "2.0      2742\n",
      "3.0      7685\n",
      "4.0       657\n",
      "5.0      1548\n",
      "6.0       876\n",
      "7.0     21821\n",
      "8.0      6736\n",
      "9.0      6403\n",
      "10.0     3488\n",
      "11.0      586\n",
      "12.0     1789\n",
      "13.0     4080\n",
      "14.0       41\n",
      "16.0     5530\n",
      "17.0     4779\n",
      "Name: count, dtype: int64\n"
     ]
    }
   ],
   "source": [
    "# 1. Basic value counts to see distribution of categories\n",
    "print(\"Distribution of diagnosis 1 categories:\")\n",
    "print(df_clean['diag_1'].value_counts().sort_index())\n"
   ]
  },
  {
   "cell_type": "code",
   "execution_count": 29,
   "id": "6c950c28",
   "metadata": {},
   "outputs": [
    {
     "name": "stdout",
     "output_type": "stream",
     "text": [
      "\n",
      "Distribution of diagnosis 2 categories:\n",
      "diag_2\n",
      "0.0      2094\n",
      "1.0      1296\n",
      "2.0      1750\n",
      "3.0     15482\n",
      "4.0      2108\n",
      "5.0      1866\n",
      "6.0       926\n",
      "7.0     22206\n",
      "8.0      6761\n",
      "9.0      2756\n",
      "10.0     5180\n",
      "11.0      353\n",
      "12.0     2253\n",
      "13.0     1297\n",
      "14.0       83\n",
      "16.0     3249\n",
      "17.0     1858\n",
      "Name: count, dtype: int64\n"
     ]
    }
   ],
   "source": [
    "print(\"\\nDistribution of diagnosis 2 categories:\")\n",
    "print(df_clean['diag_2'].value_counts().sort_index())"
   ]
  },
  {
   "cell_type": "code",
   "execution_count": 30,
   "id": "8a84167d",
   "metadata": {},
   "outputs": [
    {
     "name": "stdout",
     "output_type": "stream",
     "text": [
      "\n",
      "Distribution of diagnosis 3 categories:\n",
      "diag_3\n",
      "0.0      4766\n",
      "1.0      1262\n",
      "2.0      1262\n",
      "3.0     19237\n",
      "4.0      1752\n",
      "5.0      2164\n",
      "6.0      1281\n",
      "7.0     21050\n",
      "8.0      4466\n",
      "9.0      2488\n",
      "10.0     3937\n",
      "11.0      273\n",
      "12.0     1532\n",
      "13.0     1378\n",
      "14.0       75\n",
      "16.0     3152\n",
      "17.0     1443\n",
      "Name: count, dtype: int64\n"
     ]
    }
   ],
   "source": [
    "print(\"\\nDistribution of diagnosis 3 categories:\")\n",
    "print(df_clean['diag_3'].value_counts().sort_index())"
   ]
  },
  {
   "cell_type": "code",
   "execution_count": 31,
   "id": "63eeb9cf-5505-478c-b949-b5f71ce4f9c9",
   "metadata": {},
   "outputs": [],
   "source": [
    "df_clean['race'] = df_clean['race'].replace('?', 'Other')"
   ]
  },
  {
   "cell_type": "code",
   "execution_count": 32,
   "id": "a4143818-01ba-4d9a-a658-a92eb3810886",
   "metadata": {},
   "outputs": [
    {
     "data": {
      "text/plain": [
       "race\n",
       "Caucasian          53491\n",
       "AfricanAmerican    12887\n",
       "Other               3126\n",
       "Hispanic            1517\n",
       "Asian                497\n",
       "Name: count, dtype: int64"
      ]
     },
     "execution_count": 32,
     "metadata": {},
     "output_type": "execute_result"
    }
   ],
   "source": [
    "df_clean.race.value_counts()"
   ]
  },
  {
   "cell_type": "code",
   "execution_count": 33,
   "id": "e144915b-5338-4b4c-a96a-75e48b74f80e",
   "metadata": {},
   "outputs": [
    {
     "name": "stdout",
     "output_type": "stream",
     "text": [
      "0         False\n",
      "1         False\n",
      "2         False\n",
      "3         False\n",
      "4         False\n",
      "          ...  \n",
      "101754    False\n",
      "101755    False\n",
      "101756    False\n",
      "101758    False\n",
      "101765    False\n",
      "Name: race, Length: 71518, dtype: bool\n"
     ]
    }
   ],
   "source": [
    "print(df_clean['race'].isna())"
   ]
  },
  {
   "cell_type": "code",
   "execution_count": 34,
   "id": "7a695780-852d-4087-8cb5-5938dfca2120",
   "metadata": {},
   "outputs": [
    {
     "data": {
      "text/plain": [
       "gender\n",
       "Female             38025\n",
       "Male               33490\n",
       "Unknown/Invalid        3\n",
       "Name: count, dtype: int64"
      ]
     },
     "execution_count": 34,
     "metadata": {},
     "output_type": "execute_result"
    }
   ],
   "source": [
    "df_clean.gender.value_counts()"
   ]
  },
  {
   "cell_type": "code",
   "execution_count": 35,
   "id": "8ea34506-7da3-4d4d-b62e-530f16e921f2",
   "metadata": {},
   "outputs": [
    {
     "data": {
      "text/plain": [
       "gender\n",
       "Female    38028\n",
       "Male      33490\n",
       "Name: count, dtype: int64"
      ]
     },
     "execution_count": 35,
     "metadata": {},
     "output_type": "execute_result"
    }
   ],
   "source": [
    "df_clean['gender'] = df_clean['gender'].replace('Unknown/Invalid', 'Female')\n",
    "df_clean.gender.value_counts()"
   ]
  },
  {
   "cell_type": "code",
   "execution_count": 36,
   "id": "02bc7cb1-7557-4e07-b622-7a0fb1e31c1a",
   "metadata": {},
   "outputs": [
    {
     "data": {
      "text/plain": [
       "age\n",
       "[70-80)     18210\n",
       "[60-70)     15960\n",
       "[50-60)     12466\n",
       "[80-90)     11589\n",
       "[40-50)      6878\n",
       "[30-40)      2699\n",
       "[90-100)     1900\n",
       "[20-30)      1127\n",
       "[10-20)       535\n",
       "[0-10)        154\n",
       "Name: count, dtype: int64"
      ]
     },
     "execution_count": 36,
     "metadata": {},
     "output_type": "execute_result"
    }
   ],
   "source": [
    "df_clean.age.value_counts()\n"
   ]
  },
  {
   "cell_type": "code",
   "execution_count": 37,
   "id": "992a430a-4e86-4fac-8dea-a43dcd878a23",
   "metadata": {},
   "outputs": [
    {
     "name": "stderr",
     "output_type": "stream",
     "text": [
      "C:\\Users\\SnowPlay\\AppData\\Local\\Temp\\ipykernel_17176\\3540650471.py:4: FutureWarning: Downcasting behavior in `replace` is deprecated and will be removed in a future version. To retain the old behavior, explicitly call `result.infer_objects(copy=False)`. To opt-in to the future behavior, set `pd.set_option('future.no_silent_downcasting', True)`\n",
      "  df_clean['age'] = df_clean['age'].replace(age_range, midpoint)\n"
     ]
    }
   ],
   "source": [
    "for i in range(0, 10):\n",
    "    age_range = f'[{10*i}-{10*(i+1)})'\n",
    "    midpoint = i*10 + 5\n",
    "    df_clean['age'] = df_clean['age'].replace(age_range, midpoint)"
   ]
  },
  {
   "cell_type": "code",
   "execution_count": 38,
   "id": "2adaab1c-287a-429a-af24-8cf3807ad94c",
   "metadata": {},
   "outputs": [
    {
     "data": {
      "text/plain": [
       "age\n",
       "75    18210\n",
       "65    15960\n",
       "55    12466\n",
       "85    11589\n",
       "45     6878\n",
       "35     2699\n",
       "95     1900\n",
       "25     1127\n",
       "15      535\n",
       "5       154\n",
       "Name: count, dtype: int64"
      ]
     },
     "execution_count": 38,
     "metadata": {},
     "output_type": "execute_result"
    }
   ],
   "source": [
    "df_clean['age'].value_counts()"
   ]
  },
  {
   "cell_type": "markdown",
   "id": "0f27a758",
   "metadata": {},
   "source": [
    "-- Start Here --\n",
    "\n",
    "max_glu_serum -> None, Norm, >200, >300\n"
   ]
  },
  {
   "cell_type": "code",
   "execution_count": 39,
   "id": "c85e85d2",
   "metadata": {},
   "outputs": [
    {
     "data": {
      "text/plain": [
       "max_glu_serum\n",
       "None    68062\n",
       "Norm     1731\n",
       ">200      969\n",
       ">300      756\n",
       "Name: count, dtype: int64"
      ]
     },
     "execution_count": 39,
     "metadata": {},
     "output_type": "execute_result"
    }
   ],
   "source": [
    "df_clean.max_glu_serum.value_counts()\n"
   ]
  },
  {
   "cell_type": "code",
   "execution_count": 40,
   "id": "a521544c",
   "metadata": {},
   "outputs": [
    {
     "name": "stderr",
     "output_type": "stream",
     "text": [
      "C:\\Users\\SnowPlay\\AppData\\Local\\Temp\\ipykernel_17176\\3494085451.py:4: FutureWarning: Downcasting behavior in `replace` is deprecated and will be removed in a future version. To retain the old behavior, explicitly call `result.infer_objects(copy=False)`. To opt-in to the future behavior, set `pd.set_option('future.no_silent_downcasting', True)`\n",
      "  df['max_glu_serum']=df['max_glu_serum'].replace(\">300\", 3)\n"
     ]
    },
    {
     "data": {
      "text/plain": [
       "max_glu_serum\n",
       "0    96420\n",
       "1     2597\n",
       "2     1485\n",
       "3     1264\n",
       "Name: count, dtype: int64"
      ]
     },
     "execution_count": 40,
     "metadata": {},
     "output_type": "execute_result"
    }
   ],
   "source": [
    "df['max_glu_serum']=df['max_glu_serum'].replace(\"None\", 0)\n",
    "df['max_glu_serum']=df['max_glu_serum'].replace(\"Norm\", 1)\n",
    "df['max_glu_serum']=df['max_glu_serum'].replace(\">200\", 2)\n",
    "df['max_glu_serum']=df['max_glu_serum'].replace(\">300\", 3)\n",
    "df.max_glu_serum.value_counts()"
   ]
  },
  {
   "cell_type": "code",
   "execution_count": 41,
   "id": "0a1ac834-f75b-462d-acfc-2e246763faef",
   "metadata": {},
   "outputs": [
    {
     "data": {
      "text/plain": [
       "A1Cresult\n",
       "None    84748\n",
       ">8       8216\n",
       "Norm     4990\n",
       ">7       3812\n",
       "Name: count, dtype: int64"
      ]
     },
     "execution_count": 41,
     "metadata": {},
     "output_type": "execute_result"
    }
   ],
   "source": [
    "df.A1Cresult.value_counts()\n"
   ]
  },
  {
   "cell_type": "code",
   "execution_count": 42,
   "id": "087b82a6",
   "metadata": {},
   "outputs": [
    {
     "name": "stderr",
     "output_type": "stream",
     "text": [
      "C:\\Users\\SnowPlay\\AppData\\Local\\Temp\\ipykernel_17176\\720045810.py:4: FutureWarning: Downcasting behavior in `replace` is deprecated and will be removed in a future version. To retain the old behavior, explicitly call `result.infer_objects(copy=False)`. To opt-in to the future behavior, set `pd.set_option('future.no_silent_downcasting', True)`\n",
      "  df['A1Cresult']=df['A1Cresult'].replace(\">8\", 3)\n"
     ]
    },
    {
     "data": {
      "text/plain": [
       "A1Cresult\n",
       "0    84748\n",
       "3     8216\n",
       "1     4990\n",
       "2     3812\n",
       "Name: count, dtype: int64"
      ]
     },
     "execution_count": 42,
     "metadata": {},
     "output_type": "execute_result"
    }
   ],
   "source": [
    "df['A1Cresult']=df['A1Cresult'].replace(\"None\", 0)\n",
    "df['A1Cresult']=df['A1Cresult'].replace(\"Norm\", 1)\n",
    "df['A1Cresult']=df['A1Cresult'].replace(\">7\", 2)\n",
    "df['A1Cresult']=df['A1Cresult'].replace(\">8\", 3)\n",
    "\n",
    "\n",
    "df.A1Cresult.value_counts()"
   ]
  },
  {
   "cell_type": "code",
   "execution_count": 43,
   "id": "91f91f2b",
   "metadata": {},
   "outputs": [
    {
     "name": "stderr",
     "output_type": "stream",
     "text": [
      "C:\\Users\\SnowPlay\\AppData\\Local\\Temp\\ipykernel_17176\\1513858272.py:6: FutureWarning: Downcasting behavior in `replace` is deprecated and will be removed in a future version. To retain the old behavior, explicitly call `result.infer_objects(copy=False)`. To opt-in to the future behavior, set `pd.set_option('future.no_silent_downcasting', True)`\n",
      "  df[i] = df[i].replace('Up', 3)\n"
     ]
    }
   ],
   "source": [
    "drug_list = ['metformin', 'glimepiride', 'glipizide', 'glyburide', 'pioglitazone', 'rosiglitazone', 'insulin']\n",
    "for i in drug_list:\n",
    "    df[i] = df[i].replace('No', 0)\n",
    "    df[i] = df[i].replace('Steady', 2)\n",
    "    df[i] = df[i].replace('Down', 1)\n",
    "    df[i] = df[i].replace('Up', 3)"
   ]
  },
  {
   "cell_type": "code",
   "execution_count": 44,
   "id": "478f65ee",
   "metadata": {},
   "outputs": [
    {
     "data": {
      "text/plain": [
       "insulin\n",
       "0    47383\n",
       "2    30849\n",
       "1    12218\n",
       "3    11316\n",
       "Name: count, dtype: int64"
      ]
     },
     "execution_count": 44,
     "metadata": {},
     "output_type": "execute_result"
    }
   ],
   "source": [
    "#df.metformin.value_counts()\n",
    "#df.glimepiride.value_counts()\n",
    "#df.glipizide.value_counts()\n",
    "#df.glyburide.value_counts()\n",
    "#df.pioglitazone.value_counts()\n",
    "#df.rosiglitazone.value_counts()\n",
    "df.insulin.value_counts()"
   ]
  },
  {
   "cell_type": "code",
   "execution_count": 45,
   "id": "980e5d91",
   "metadata": {},
   "outputs": [
    {
     "data": {
      "text/plain": [
       "change\n",
       "No    54755\n",
       "Ch    47011\n",
       "Name: count, dtype: int64"
      ]
     },
     "execution_count": 45,
     "metadata": {},
     "output_type": "execute_result"
    }
   ],
   "source": [
    "df.change.value_counts()"
   ]
  },
  {
   "cell_type": "code",
   "execution_count": 46,
   "id": "93ee779e",
   "metadata": {},
   "outputs": [
    {
     "name": "stderr",
     "output_type": "stream",
     "text": [
      "C:\\Users\\SnowPlay\\AppData\\Local\\Temp\\ipykernel_17176\\746731630.py:2: FutureWarning: Downcasting behavior in `replace` is deprecated and will be removed in a future version. To retain the old behavior, explicitly call `result.infer_objects(copy=False)`. To opt-in to the future behavior, set `pd.set_option('future.no_silent_downcasting', True)`\n",
      "  df['change']=df['change'].replace('Ch', 1)\n"
     ]
    },
    {
     "data": {
      "text/plain": [
       "change\n",
       "0    54755\n",
       "1    47011\n",
       "Name: count, dtype: int64"
      ]
     },
     "execution_count": 46,
     "metadata": {},
     "output_type": "execute_result"
    }
   ],
   "source": [
    "df['change']=df['change'].replace('No', 0)\n",
    "df['change']=df['change'].replace('Ch', 1)\n",
    "df.change.value_counts()"
   ]
  },
  {
   "cell_type": "code",
   "execution_count": 47,
   "id": "ab1c4233",
   "metadata": {},
   "outputs": [
    {
     "data": {
      "text/plain": [
       "diabetesMed\n",
       "Yes    78363\n",
       "No     23403\n",
       "Name: count, dtype: int64"
      ]
     },
     "execution_count": 47,
     "metadata": {},
     "output_type": "execute_result"
    }
   ],
   "source": [
    "df.diabetesMed.value_counts()"
   ]
  },
  {
   "cell_type": "code",
   "execution_count": 48,
   "id": "b2164fbe",
   "metadata": {},
   "outputs": [
    {
     "name": "stderr",
     "output_type": "stream",
     "text": [
      "C:\\Users\\SnowPlay\\AppData\\Local\\Temp\\ipykernel_17176\\1214750202.py:2: FutureWarning: Downcasting behavior in `replace` is deprecated and will be removed in a future version. To retain the old behavior, explicitly call `result.infer_objects(copy=False)`. To opt-in to the future behavior, set `pd.set_option('future.no_silent_downcasting', True)`\n",
      "  df['diabetesMed']=df['diabetesMed'].replace('No', 0)\n"
     ]
    },
    {
     "data": {
      "text/plain": [
       "diabetesMed\n",
       "1    78363\n",
       "0    23403\n",
       "Name: count, dtype: int64"
      ]
     },
     "execution_count": 48,
     "metadata": {},
     "output_type": "execute_result"
    }
   ],
   "source": [
    "df['diabetesMed']=df['diabetesMed'].replace('Yes', 1)\n",
    "df['diabetesMed']=df['diabetesMed'].replace('No', 0)\n",
    "df.diabetesMed.value_counts()"
   ]
  },
  {
   "cell_type": "code",
   "execution_count": 49,
   "id": "bb554076",
   "metadata": {},
   "outputs": [
    {
     "name": "stderr",
     "output_type": "stream",
     "text": [
      "C:\\Users\\SnowPlay\\AppData\\Local\\Temp\\ipykernel_17176\\3724688615.py:3: FutureWarning: Downcasting behavior in `replace` is deprecated and will be removed in a future version. To retain the old behavior, explicitly call `result.infer_objects(copy=False)`. To opt-in to the future behavior, set `pd.set_option('future.no_silent_downcasting', True)`\n",
      "  df['readmitted']=df['readmitted'].replace('<30', 2)\n"
     ]
    },
    {
     "data": {
      "text/plain": [
       "readmitted\n",
       "0    54864\n",
       "1    35545\n",
       "2    11357\n",
       "Name: count, dtype: int64"
      ]
     },
     "execution_count": 49,
     "metadata": {},
     "output_type": "execute_result"
    }
   ],
   "source": [
    "df['readmitted']=df['readmitted'].replace('NO', 0)\n",
    "df['readmitted']=df['readmitted'].replace('>30', 1)\n",
    "df['readmitted']=df['readmitted'].replace('<30', 2)\n",
    "df.readmitted.value_counts()"
   ]
  },
  {
   "cell_type": "code",
   "execution_count": 50,
   "id": "abe71548",
   "metadata": {},
   "outputs": [
    {
     "name": "stdout",
     "output_type": "stream",
     "text": [
      "['race', 'gender', 'age', 'admission_type_id', 'discharge_disposition_id', 'admission_source_id', 'time_in_hospital', 'num_lab_procedures', 'num_procedures', 'num_medications', 'number_outpatient', 'number_emergency', 'number_inpatient', 'diag_1', 'diag_2', 'diag_3', 'number_diagnoses', 'max_glu_serum', 'A1Cresult', 'metformin', 'glimepiride', 'glipizide', 'glyburide', 'pioglitazone', 'rosiglitazone', 'insulin', 'change', 'diabetesMed', 'readmitted']\n"
     ]
    }
   ],
   "source": [
    "print(list(df_clean))"
   ]
  },
  {
   "cell_type": "code",
   "execution_count": 51,
   "id": "107228af",
   "metadata": {},
   "outputs": [
    {
     "data": {
      "text/html": [
       "<div>\n",
       "<style scoped>\n",
       "    .dataframe tbody tr th:only-of-type {\n",
       "        vertical-align: middle;\n",
       "    }\n",
       "\n",
       "    .dataframe tbody tr th {\n",
       "        vertical-align: top;\n",
       "    }\n",
       "\n",
       "    .dataframe thead th {\n",
       "        text-align: right;\n",
       "    }\n",
       "</style>\n",
       "<table border=\"1\" class=\"dataframe\">\n",
       "  <thead>\n",
       "    <tr style=\"text-align: right;\">\n",
       "      <th></th>\n",
       "      <th>race</th>\n",
       "      <th>gender</th>\n",
       "      <th>age</th>\n",
       "      <th>admission_type_id</th>\n",
       "      <th>discharge_disposition_id</th>\n",
       "      <th>admission_source_id</th>\n",
       "      <th>time_in_hospital</th>\n",
       "      <th>num_lab_procedures</th>\n",
       "      <th>num_procedures</th>\n",
       "      <th>num_medications</th>\n",
       "      <th>...</th>\n",
       "      <th>metformin</th>\n",
       "      <th>glimepiride</th>\n",
       "      <th>glipizide</th>\n",
       "      <th>glyburide</th>\n",
       "      <th>pioglitazone</th>\n",
       "      <th>rosiglitazone</th>\n",
       "      <th>insulin</th>\n",
       "      <th>change</th>\n",
       "      <th>diabetesMed</th>\n",
       "      <th>readmitted</th>\n",
       "    </tr>\n",
       "  </thead>\n",
       "  <tbody>\n",
       "    <tr>\n",
       "      <th>0</th>\n",
       "      <td>Caucasian</td>\n",
       "      <td>Female</td>\n",
       "      <td>5</td>\n",
       "      <td>6</td>\n",
       "      <td>25</td>\n",
       "      <td>1</td>\n",
       "      <td>1</td>\n",
       "      <td>41</td>\n",
       "      <td>0</td>\n",
       "      <td>1</td>\n",
       "      <td>...</td>\n",
       "      <td>No</td>\n",
       "      <td>No</td>\n",
       "      <td>No</td>\n",
       "      <td>No</td>\n",
       "      <td>No</td>\n",
       "      <td>No</td>\n",
       "      <td>No</td>\n",
       "      <td>No</td>\n",
       "      <td>No</td>\n",
       "      <td>NO</td>\n",
       "    </tr>\n",
       "    <tr>\n",
       "      <th>1</th>\n",
       "      <td>Caucasian</td>\n",
       "      <td>Female</td>\n",
       "      <td>15</td>\n",
       "      <td>1</td>\n",
       "      <td>1</td>\n",
       "      <td>7</td>\n",
       "      <td>3</td>\n",
       "      <td>59</td>\n",
       "      <td>0</td>\n",
       "      <td>18</td>\n",
       "      <td>...</td>\n",
       "      <td>No</td>\n",
       "      <td>No</td>\n",
       "      <td>No</td>\n",
       "      <td>No</td>\n",
       "      <td>No</td>\n",
       "      <td>No</td>\n",
       "      <td>Up</td>\n",
       "      <td>Ch</td>\n",
       "      <td>Yes</td>\n",
       "      <td>&gt;30</td>\n",
       "    </tr>\n",
       "    <tr>\n",
       "      <th>2</th>\n",
       "      <td>AfricanAmerican</td>\n",
       "      <td>Female</td>\n",
       "      <td>25</td>\n",
       "      <td>1</td>\n",
       "      <td>1</td>\n",
       "      <td>7</td>\n",
       "      <td>2</td>\n",
       "      <td>11</td>\n",
       "      <td>5</td>\n",
       "      <td>13</td>\n",
       "      <td>...</td>\n",
       "      <td>No</td>\n",
       "      <td>No</td>\n",
       "      <td>Steady</td>\n",
       "      <td>No</td>\n",
       "      <td>No</td>\n",
       "      <td>No</td>\n",
       "      <td>No</td>\n",
       "      <td>No</td>\n",
       "      <td>Yes</td>\n",
       "      <td>NO</td>\n",
       "    </tr>\n",
       "    <tr>\n",
       "      <th>3</th>\n",
       "      <td>Caucasian</td>\n",
       "      <td>Male</td>\n",
       "      <td>35</td>\n",
       "      <td>1</td>\n",
       "      <td>1</td>\n",
       "      <td>7</td>\n",
       "      <td>2</td>\n",
       "      <td>44</td>\n",
       "      <td>1</td>\n",
       "      <td>16</td>\n",
       "      <td>...</td>\n",
       "      <td>No</td>\n",
       "      <td>No</td>\n",
       "      <td>No</td>\n",
       "      <td>No</td>\n",
       "      <td>No</td>\n",
       "      <td>No</td>\n",
       "      <td>Up</td>\n",
       "      <td>Ch</td>\n",
       "      <td>Yes</td>\n",
       "      <td>NO</td>\n",
       "    </tr>\n",
       "    <tr>\n",
       "      <th>4</th>\n",
       "      <td>Caucasian</td>\n",
       "      <td>Male</td>\n",
       "      <td>45</td>\n",
       "      <td>1</td>\n",
       "      <td>1</td>\n",
       "      <td>7</td>\n",
       "      <td>1</td>\n",
       "      <td>51</td>\n",
       "      <td>0</td>\n",
       "      <td>8</td>\n",
       "      <td>...</td>\n",
       "      <td>No</td>\n",
       "      <td>No</td>\n",
       "      <td>Steady</td>\n",
       "      <td>No</td>\n",
       "      <td>No</td>\n",
       "      <td>No</td>\n",
       "      <td>Steady</td>\n",
       "      <td>Ch</td>\n",
       "      <td>Yes</td>\n",
       "      <td>NO</td>\n",
       "    </tr>\n",
       "  </tbody>\n",
       "</table>\n",
       "<p>5 rows × 29 columns</p>\n",
       "</div>"
      ],
      "text/plain": [
       "              race  gender  age  admission_type_id  discharge_disposition_id  \\\n",
       "0        Caucasian  Female    5                  6                        25   \n",
       "1        Caucasian  Female   15                  1                         1   \n",
       "2  AfricanAmerican  Female   25                  1                         1   \n",
       "3        Caucasian    Male   35                  1                         1   \n",
       "4        Caucasian    Male   45                  1                         1   \n",
       "\n",
       "   admission_source_id  time_in_hospital  num_lab_procedures  num_procedures  \\\n",
       "0                    1                 1                  41               0   \n",
       "1                    7                 3                  59               0   \n",
       "2                    7                 2                  11               5   \n",
       "3                    7                 2                  44               1   \n",
       "4                    7                 1                  51               0   \n",
       "\n",
       "   num_medications  ...  metformin  glimepiride  glipizide  glyburide  \\\n",
       "0                1  ...         No           No         No         No   \n",
       "1               18  ...         No           No         No         No   \n",
       "2               13  ...         No           No     Steady         No   \n",
       "3               16  ...         No           No         No         No   \n",
       "4                8  ...         No           No     Steady         No   \n",
       "\n",
       "   pioglitazone  rosiglitazone  insulin change diabetesMed readmitted  \n",
       "0            No             No       No     No          No         NO  \n",
       "1            No             No       Up     Ch         Yes        >30  \n",
       "2            No             No       No     No         Yes         NO  \n",
       "3            No             No       Up     Ch         Yes         NO  \n",
       "4            No             No   Steady     Ch         Yes         NO  \n",
       "\n",
       "[5 rows x 29 columns]"
      ]
     },
     "execution_count": 51,
     "metadata": {},
     "output_type": "execute_result"
    }
   ],
   "source": [
    "df_clean.head()"
   ]
  },
  {
   "cell_type": "markdown",
   "id": "ee6053a2",
   "metadata": {},
   "source": [
    "-- Algorithm --"
   ]
  },
  {
   "cell_type": "code",
   "execution_count": 52,
   "id": "8db28a23-d17d-47c9-a9c7-a97fd9d615d5",
   "metadata": {},
   "outputs": [],
   "source": [
    "X = df_clean.drop('readmitted', axis=1)  # Features\n",
    "y = df_clean['readmitted']               # Target variable\n"
   ]
  },
  {
   "cell_type": "code",
   "execution_count": 53,
   "id": "09dba003",
   "metadata": {},
   "outputs": [],
   "source": [
    "cat_features = [col for col in X.columns if X[col].dtype == 'object']"
   ]
  },
  {
   "cell_type": "code",
   "execution_count": 54,
   "id": "e0715d6b",
   "metadata": {},
   "outputs": [],
   "source": [
    "X_train, X_test, y_train, y_test = train_test_split(X, y, test_size=0.2, stratify=y, random_state=42)"
   ]
  },
  {
   "cell_type": "code",
   "execution_count": 55,
   "id": "3fc0aff4",
   "metadata": {},
   "outputs": [],
   "source": [
    "class CatBoostBayesianOptimizer:\n",
    "    def __init__(self, X_train, y_train, cat_features, eval_metric='f1', random_state=42):\n",
    "\n",
    "        self.X_train = X_train\n",
    "        self.y_train = y_train\n",
    "        self.cat_features = cat_features\n",
    "        self.eval_metric = eval_metric\n",
    "        self.random_state = random_state\n",
    "        \n",
    "    def _objective(self, iterations, learning_rate, depth, l2_leaf_reg, \n",
    "                  border_count, colsample_bylevel):\n",
    "        \n",
    "        try:\n",
    "            params = {\n",
    "                'iterations': int(iterations),\n",
    "                'learning_rate': float(learning_rate),\n",
    "                'depth': int(depth),\n",
    "                'l2_leaf_reg': float(l2_leaf_reg),\n",
    "                'border_count': int(border_count),\n",
    "                'rsm': float(colsample_bylevel),\n",
    "                'random_state': self.random_state,\n",
    "                'verbose': False\n",
    "            }\n",
    "            \n",
    "            # Prepare data\n",
    "            X = self.X_train.copy()\n",
    "            X[self.cat_features] = X[self.cat_features].astype(str)\n",
    "            train_pool = Pool(X, label=self.y_train, cat_features=self.cat_features)\n",
    "            \n",
    "            # Initialize and train model\n",
    "            model = CatBoostClassifier(\n",
    "                loss_function='MultiClass',\n",
    "                **params\n",
    "            )\n",
    "            \n",
    "            model.fit(train_pool, verbose=False)\n",
    "            y_pred = model.predict(X)\n",
    "            \n",
    "            # Calculate score\n",
    "            if self.eval_metric == 'f1':\n",
    "                score = f1_score(self.y_train, y_pred, average='weighted')\n",
    "            else:\n",
    "                score = (y_pred == self.y_train).mean()\n",
    "                \n",
    "            return score\n",
    "            \n",
    "        except Exception as e:\n",
    "            print(f\"Error in optimization: {str(e)}\")\n",
    "            return 0.0\n",
    "    \n",
    "    def optimize(self, n_iter, n_init_points):\n",
    "        \"\"\"\n",
    "        Run Bayesian optimization to find the best hyperparameters.\n",
    "        \"\"\"\n",
    "        # Define parameter bounds with valid CatBoost ranges\n",
    "        pbounds = {\n",
    "            'iterations': (10, 100),            # Number of trees\n",
    "            'learning_rate': (0.01, 1.0),       # Learning rate\n",
    "            'depth': (1, 10),                    # Tree depth\n",
    "            'l2_leaf_reg': (0.1, 10.0),            # L2 regularization\n",
    "            'border_count': (1, 255),         # Must be integer between 1 and 255\n",
    "            'colsample_bylevel': (0.1, 1.0)    # Feature subsample ratio\n",
    "        }\n",
    "        \n",
    "        optimizer = BayesianOptimization(\n",
    "            f=self._objective,\n",
    "            pbounds=pbounds,\n",
    "            random_state=self.random_state\n",
    "        )\n",
    "        \n",
    "        optimizer.maximize(\n",
    "            init_points=n_init_points,\n",
    "            n_iter=n_iter\n",
    "        )\n",
    "        \n",
    "        # Print results\n",
    "        print(\"\\nBest parameters found:\")\n",
    "        best_params = optimizer.max['params']\n",
    "        for param, value in best_params.items():\n",
    "            if param in ['depth', 'border_count', 'iterations']:\n",
    "                print(f\"{param}: {int(value)}\")\n",
    "            else:\n",
    "                print(f\"{param}: {value:.4f}\")\n",
    "        print(f\"\\nBest {self.eval_metric} score: {optimizer.max['target']:.4f}\")\n",
    "        \n",
    "        return best_params\n",
    "    \n",
    "    def train_final_model(self, best_params):\n",
    "        X_train = self.X_train.copy()\n",
    "        X_train[self.cat_features] = X_train[self.cat_features].astype(str)\n",
    "\n",
    "        train_pool = Pool(X_train, label=self.y_train, cat_features=self.cat_features)\n",
    "\n",
    "        final_model = CatBoostClassifier(\n",
    "            loss_function='MultiClass',\n",
    "            iterations=int(best_params['iterations']),  # Use optimized iterations\n",
    "            learning_rate=best_params['learning_rate'],\n",
    "            depth=int(best_params['depth']),\n",
    "            l2_leaf_reg=best_params['l2_leaf_reg'],\n",
    "            border_count=int(best_params['border_count']),\n",
    "            colsample_bylevel=best_params['colsample_bylevel'],\n",
    "            random_state=self.random_state,\n",
    "            verbose=100\n",
    "        )\n",
    "        final_model.fit(train_pool, verbose=100)\n",
    "        return final_model"
   ]
  },
  {
   "cell_type": "code",
   "execution_count": 56,
   "id": "27e85083",
   "metadata": {},
   "outputs": [
    {
     "name": "stdout",
     "output_type": "stream",
     "text": [
      "|   iter    |  target   | border... | colsam... |   depth   | iterat... | l2_lea... | learni... |\n",
      "-------------------------------------------------------------------------------------------------\n",
      "| \u001b[39m1        \u001b[39m | \u001b[39m0.5407   \u001b[39m | \u001b[39m96.13    \u001b[39m | \u001b[39m0.9556   \u001b[39m | \u001b[39m7.588    \u001b[39m | \u001b[39m63.88    \u001b[39m | \u001b[39m1.645    \u001b[39m | \u001b[39m0.1644   \u001b[39m |\n",
      "| \u001b[35m2        \u001b[39m | \u001b[35m0.566    \u001b[39m | \u001b[35m192.4    \u001b[39m | \u001b[35m0.8718   \u001b[39m | \u001b[35m6.311    \u001b[39m | \u001b[35m42.97    \u001b[39m | \u001b[35m4.466    \u001b[39m | \u001b[35m0.7884   \u001b[39m |\n",
      "=================================================================================================\n",
      "\n",
      "Best parameters found:\n",
      "border_count: 192\n",
      "colsample_bylevel: 0.8718\n",
      "depth: 6\n",
      "iterations: 42\n",
      "l2_leaf_reg: 4.4656\n",
      "learning_rate: 0.7884\n",
      "\n",
      "Best f1 score: 0.5660\n",
      "0:\tlearn: 0.8972216\ttotal: 92.2ms\tremaining: 3.78s\n",
      "41:\tlearn: 0.8048445\ttotal: 3.84s\tremaining: 0us\n",
      "Fold 1 - Accuracy: 0.6156\n",
      "|   iter    |  target   | border... | colsam... |   depth   | iterat... | l2_lea... | learni... |\n",
      "-------------------------------------------------------------------------------------------------\n",
      "| \u001b[39m1        \u001b[39m | \u001b[39m0.5449   \u001b[39m | \u001b[39m96.13    \u001b[39m | \u001b[39m0.9556   \u001b[39m | \u001b[39m7.588    \u001b[39m | \u001b[39m63.88    \u001b[39m | \u001b[39m1.645    \u001b[39m | \u001b[39m0.1644   \u001b[39m |\n",
      "| \u001b[35m2        \u001b[39m | \u001b[35m0.5725   \u001b[39m | \u001b[35m192.4    \u001b[39m | \u001b[35m0.8718   \u001b[39m | \u001b[35m6.311    \u001b[39m | \u001b[35m42.97    \u001b[39m | \u001b[35m4.466    \u001b[39m | \u001b[35m0.7884   \u001b[39m |\n",
      "=================================================================================================\n",
      "\n",
      "Best parameters found:\n",
      "border_count: 192\n",
      "colsample_bylevel: 0.8718\n",
      "depth: 6\n",
      "iterations: 42\n",
      "l2_leaf_reg: 4.4656\n",
      "learning_rate: 0.7884\n",
      "\n",
      "Best f1 score: 0.5725\n",
      "0:\tlearn: 0.8969414\ttotal: 83.3ms\tremaining: 3.42s\n",
      "41:\tlearn: 0.7981788\ttotal: 3.41s\tremaining: 0us\n",
      "Fold 2 - Accuracy: 0.6117\n",
      "|   iter    |  target   | border... | colsam... |   depth   | iterat... | l2_lea... | learni... |\n",
      "-------------------------------------------------------------------------------------------------\n",
      "| \u001b[39m1        \u001b[39m | \u001b[39m0.5405   \u001b[39m | \u001b[39m96.13    \u001b[39m | \u001b[39m0.9556   \u001b[39m | \u001b[39m7.588    \u001b[39m | \u001b[39m63.88    \u001b[39m | \u001b[39m1.645    \u001b[39m | \u001b[39m0.1644   \u001b[39m |\n",
      "| \u001b[35m2        \u001b[39m | \u001b[35m0.5679   \u001b[39m | \u001b[35m192.4    \u001b[39m | \u001b[35m0.8718   \u001b[39m | \u001b[35m6.311    \u001b[39m | \u001b[35m42.97    \u001b[39m | \u001b[35m4.466    \u001b[39m | \u001b[35m0.7884   \u001b[39m |\n",
      "=================================================================================================\n",
      "\n",
      "Best parameters found:\n",
      "border_count: 192\n",
      "colsample_bylevel: 0.8718\n",
      "depth: 6\n",
      "iterations: 42\n",
      "l2_leaf_reg: 4.4656\n",
      "learning_rate: 0.7884\n",
      "\n",
      "Best f1 score: 0.5679\n",
      "0:\tlearn: 0.8943089\ttotal: 78ms\tremaining: 3.2s\n",
      "41:\tlearn: 0.8045755\ttotal: 3.39s\tremaining: 0us\n",
      "Fold 3 - Accuracy: 0.6158\n",
      "|   iter    |  target   | border... | colsam... |   depth   | iterat... | l2_lea... | learni... |\n",
      "-------------------------------------------------------------------------------------------------\n",
      "| \u001b[39m1        \u001b[39m | \u001b[39m0.5439   \u001b[39m | \u001b[39m96.13    \u001b[39m | \u001b[39m0.9556   \u001b[39m | \u001b[39m7.588    \u001b[39m | \u001b[39m63.88    \u001b[39m | \u001b[39m1.645    \u001b[39m | \u001b[39m0.1644   \u001b[39m |\n",
      "| \u001b[35m2        \u001b[39m | \u001b[35m0.5704   \u001b[39m | \u001b[35m192.4    \u001b[39m | \u001b[35m0.8718   \u001b[39m | \u001b[35m6.311    \u001b[39m | \u001b[35m42.97    \u001b[39m | \u001b[35m4.466    \u001b[39m | \u001b[35m0.7884   \u001b[39m |\n",
      "=================================================================================================\n",
      "\n",
      "Best parameters found:\n",
      "border_count: 192\n",
      "colsample_bylevel: 0.8718\n",
      "depth: 6\n",
      "iterations: 42\n",
      "l2_leaf_reg: 4.4656\n",
      "learning_rate: 0.7884\n",
      "\n",
      "Best f1 score: 0.5704\n",
      "0:\tlearn: 0.8921082\ttotal: 87.7ms\tremaining: 3.6s\n",
      "41:\tlearn: 0.8021473\ttotal: 3.55s\tremaining: 0us\n",
      "Fold 4 - Accuracy: 0.6131\n",
      "|   iter    |  target   | border... | colsam... |   depth   | iterat... | l2_lea... | learni... |\n",
      "-------------------------------------------------------------------------------------------------\n",
      "| \u001b[39m1        \u001b[39m | \u001b[39m0.5406   \u001b[39m | \u001b[39m96.13    \u001b[39m | \u001b[39m0.9556   \u001b[39m | \u001b[39m7.588    \u001b[39m | \u001b[39m63.88    \u001b[39m | \u001b[39m1.645    \u001b[39m | \u001b[39m0.1644   \u001b[39m |\n",
      "| \u001b[35m2        \u001b[39m | \u001b[35m0.5664   \u001b[39m | \u001b[35m192.4    \u001b[39m | \u001b[35m0.8718   \u001b[39m | \u001b[35m6.311    \u001b[39m | \u001b[35m42.97    \u001b[39m | \u001b[35m4.466    \u001b[39m | \u001b[35m0.7884   \u001b[39m |\n",
      "=================================================================================================\n",
      "\n",
      "Best parameters found:\n",
      "border_count: 192\n",
      "colsample_bylevel: 0.8718\n",
      "depth: 6\n",
      "iterations: 42\n",
      "l2_leaf_reg: 4.4656\n",
      "learning_rate: 0.7884\n",
      "\n",
      "Best f1 score: 0.5664\n",
      "0:\tlearn: 0.8904120\ttotal: 97.8ms\tremaining: 4.01s\n",
      "41:\tlearn: 0.8046494\ttotal: 3.78s\tremaining: 0us\n",
      "Fold 5 - Accuracy: 0.6162\n"
     ]
    }
   ],
   "source": [
    "skf = StratifiedKFold(n_splits=5, shuffle=True, random_state=42)\n",
    "\n",
    "for fold, (train_idx, val_idx) in enumerate(skf.split(X, y)):\n",
    "    X_train, y_train = X.iloc[train_idx], y.iloc[train_idx]\n",
    "    X_val, y_val = X.iloc[val_idx], y.iloc[val_idx]\n",
    "    \n",
    "    # Create and run optimizer for this fold\n",
    "    optimizer = CatBoostBayesianOptimizer(X_train, y_train, cat_features)\n",
    "    best_params = optimizer.optimize(n_iter=1, n_init_points=1)\n",
    "\n",
    "    model = optimizer.train_final_model(best_params)\n",
    "\n",
    "    # Make predictions on the validation set\n",
    "    y_pred = model.predict(X_val)\n",
    "\n",
    "    # Calculate accuracy\n",
    "    accuracy = accuracy_score(y_val, y_pred)\n",
    "    print(f\"Fold {fold+1} - Accuracy: {accuracy:.4f}\")\n",
    "    "
   ]
  }
 ],
 "metadata": {
  "kernelspec": {
   "display_name": "env",
   "language": "python",
   "name": "python3"
  },
  "language_info": {
   "codemirror_mode": {
    "name": "ipython",
    "version": 3
   },
   "file_extension": ".py",
   "mimetype": "text/x-python",
   "name": "python",
   "nbconvert_exporter": "python",
   "pygments_lexer": "ipython3",
   "version": "3.11.0"
  }
 },
 "nbformat": 4,
 "nbformat_minor": 5
}
