{
 "cells": [
  {
   "cell_type": "code",
   "execution_count": 403,
   "metadata": {},
   "outputs": [
    {
     "name": "stdout",
     "output_type": "stream",
     "text": [
      "---1---\n",
      "Requirement already satisfied: pandas in d:\\optimizing-catboost-model-with-bayesian\\env\\lib\\site-packages (2.2.3)Note: you may need to restart the kernel to use updated packages.\n",
      "---2---\n",
      "\n",
      "Requirement already satisfied: numpy>=1.23.2 in d:\\optimizing-catboost-model-with-bayesian\\env\\lib\\site-packages (from pandas) (1.26.4)\n",
      "Requirement already satisfied: python-dateutil>=2.8.2 in d:\\optimizing-catboost-model-with-bayesian\\env\\lib\\site-packages (from pandas) (2.9.0.post0)\n",
      "Requirement already satisfied: pytz>=2020.1 in d:\\optimizing-catboost-model-with-bayesian\\env\\lib\\site-packages (from pandas) (2024.2)\n",
      "Requirement already satisfied: tzdata>=2022.7 in d:\\optimizing-catboost-model-with-bayesian\\env\\lib\\site-packages (from pandas) (2024.2)\n",
      "Requirement already satisfied: six>=1.5 in d:\\optimizing-catboost-model-with-bayesian\\env\\lib\\site-packages (from python-dateutil>=2.8.2->pandas) (1.17.0)\n"
     ]
    },
    {
     "name": "stderr",
     "output_type": "stream",
     "text": [
      "\n",
      "[notice] A new release of pip is available: 24.3.1 -> 25.0\n",
      "[notice] To update, run: python.exe -m pip install --upgrade pip\n"
     ]
    },
    {
     "name": "stdout",
     "output_type": "stream",
     "text": [
      "Requirement already satisfied: seaborn in d:\\optimizing-catboost-model-with-bayesian\\env\\lib\\site-packages (0.13.2)\n",
      "Requirement already satisfied: numpy!=1.24.0,>=1.20 in d:\\optimizing-catboost-model-with-bayesian\\env\\lib\\site-packages (from seaborn) (1.26.4)\n",
      "Requirement already satisfied: pandas>=1.2 in d:\\optimizing-catboost-model-with-bayesian\\env\\lib\\site-packages (from seaborn) (2.2.3)\n",
      "Requirement already satisfied: matplotlib!=3.6.1,>=3.4 in d:\\optimizing-catboost-model-with-bayesian\\env\\lib\\site-packages (from seaborn) (3.10.0)\n",
      "Requirement already satisfied: contourpy>=1.0.1 in d:\\optimizing-catboost-model-with-bayesian\\env\\lib\\site-packages (from matplotlib!=3.6.1,>=3.4->seaborn) (1.3.1)\n",
      "Requirement already satisfied: cycler>=0.10 in d:\\optimizing-catboost-model-with-bayesian\\env\\lib\\site-packages (from matplotlib!=3.6.1,>=3.4->seaborn) (0.12.1)\n",
      "Requirement already satisfied: fonttools>=4.22.0 in d:\\optimizing-catboost-model-with-bayesian\\env\\lib\\site-packages (from matplotlib!=3.6.1,>=3.4->seaborn) (4.55.3)\n",
      "Requirement already satisfied: kiwisolver>=1.3.1 in d:\\optimizing-catboost-model-with-bayesian\\env\\lib\\site-packages (from matplotlib!=3.6.1,>=3.4->seaborn) (1.4.7)\n",
      "Requirement already satisfied: packaging>=20.0 in d:\\optimizing-catboost-model-with-bayesian\\env\\lib\\site-packages (from matplotlib!=3.6.1,>=3.4->seaborn) (24.2)\n",
      "Requirement already satisfied: pillow>=8 in d:\\optimizing-catboost-model-with-bayesian\\env\\lib\\site-packages (from matplotlib!=3.6.1,>=3.4->seaborn) (11.0.0)\n",
      "Requirement already satisfied: pyparsing>=2.3.1 in d:\\optimizing-catboost-model-with-bayesian\\env\\lib\\site-packages (from matplotlib!=3.6.1,>=3.4->seaborn) (3.2.0)\n",
      "Requirement already satisfied: python-dateutil>=2.7 in d:\\optimizing-catboost-model-with-bayesian\\env\\lib\\site-packages (from matplotlib!=3.6.1,>=3.4->seaborn) (2.9.0.post0)\n",
      "Requirement already satisfied: pytz>=2020.1 in d:\\optimizing-catboost-model-with-bayesian\\env\\lib\\site-packages (from pandas>=1.2->seaborn) (2024.2)\n",
      "Requirement already satisfied: tzdata>=2022.7 in d:\\optimizing-catboost-model-with-bayesian\\env\\lib\\site-packages (from pandas>=1.2->seaborn) (2024.2)\n",
      "Requirement already satisfied: six>=1.5 in d:\\optimizing-catboost-model-with-bayesian\\env\\lib\\site-packages (from python-dateutil>=2.7->matplotlib!=3.6.1,>=3.4->seaborn) (1.17.0)\n",
      "Note: you may need to restart the kernel to use updated packages.\n",
      "---3---\n"
     ]
    },
    {
     "name": "stderr",
     "output_type": "stream",
     "text": [
      "\n",
      "[notice] A new release of pip is available: 24.3.1 -> 25.0\n",
      "[notice] To update, run: python.exe -m pip install --upgrade pip\n"
     ]
    },
    {
     "name": "stdout",
     "output_type": "stream",
     "text": [
      "Requirement already satisfied: scikit-learn in d:\\optimizing-catboost-model-with-bayesian\\env\\lib\\site-packages (1.6.1)\n",
      "Requirement already satisfied: numpy>=1.19.5 in d:\\optimizing-catboost-model-with-bayesian\\env\\lib\\site-packages (from scikit-learn) (1.26.4)\n",
      "Requirement already satisfied: scipy>=1.6.0 in d:\\optimizing-catboost-model-with-bayesian\\env\\lib\\site-packages (from scikit-learn) (1.14.1)\n",
      "Requirement already satisfied: joblib>=1.2.0 in d:\\optimizing-catboost-model-with-bayesian\\env\\lib\\site-packages (from scikit-learn) (1.4.2)\n",
      "Requirement already satisfied: threadpoolctl>=3.1.0 in d:\\optimizing-catboost-model-with-bayesian\\env\\lib\\site-packages (from scikit-learn) (3.5.0)\n",
      "Note: you may need to restart the kernel to use updated packages.\n",
      "---4---\n"
     ]
    },
    {
     "name": "stderr",
     "output_type": "stream",
     "text": [
      "\n",
      "[notice] A new release of pip is available: 24.3.1 -> 25.0\n",
      "[notice] To update, run: python.exe -m pip install --upgrade pip\n"
     ]
    },
    {
     "name": "stdout",
     "output_type": "stream",
     "text": [
      "Requirement already satisfied: catboost in d:\\optimizing-catboost-model-with-bayesian\\env\\lib\\site-packages (1.2.7)\n",
      "Requirement already satisfied: graphviz in d:\\optimizing-catboost-model-with-bayesian\\env\\lib\\site-packages (from catboost) (0.20.3)\n",
      "Requirement already satisfied: matplotlib in d:\\optimizing-catboost-model-with-bayesian\\env\\lib\\site-packages (from catboost) (3.10.0)\n",
      "Requirement already satisfied: numpy<2.0,>=1.16.0 in d:\\optimizing-catboost-model-with-bayesian\\env\\lib\\site-packages (from catboost) (1.26.4)\n",
      "Requirement already satisfied: pandas>=0.24 in d:\\optimizing-catboost-model-with-bayesian\\env\\lib\\site-packages (from catboost) (2.2.3)\n",
      "Requirement already satisfied: scipy in d:\\optimizing-catboost-model-with-bayesian\\env\\lib\\site-packages (from catboost) (1.14.1)\n",
      "Requirement already satisfied: plotly in d:\\optimizing-catboost-model-with-bayesian\\env\\lib\\site-packages (from catboost) (5.24.1)\n",
      "Requirement already satisfied: six in d:\\optimizing-catboost-model-with-bayesian\\env\\lib\\site-packages (from catboost) (1.17.0)\n",
      "Requirement already satisfied: python-dateutil>=2.8.2 in d:\\optimizing-catboost-model-with-bayesian\\env\\lib\\site-packages (from pandas>=0.24->catboost) (2.9.0.post0)\n",
      "Requirement already satisfied: pytz>=2020.1 in d:\\optimizing-catboost-model-with-bayesian\\env\\lib\\site-packages (from pandas>=0.24->catboost) (2024.2)\n",
      "Requirement already satisfied: tzdata>=2022.7 in d:\\optimizing-catboost-model-with-bayesian\\env\\lib\\site-packages (from pandas>=0.24->catboost) (2024.2)\n",
      "Requirement already satisfied: contourpy>=1.0.1 in d:\\optimizing-catboost-model-with-bayesian\\env\\lib\\site-packages (from matplotlib->catboost) (1.3.1)\n",
      "Requirement already satisfied: cycler>=0.10 in d:\\optimizing-catboost-model-with-bayesian\\env\\lib\\site-packages (from matplotlib->catboost) (0.12.1)\n",
      "Requirement already satisfied: fonttools>=4.22.0 in d:\\optimizing-catboost-model-with-bayesian\\env\\lib\\site-packages (from matplotlib->catboost) (4.55.3)\n",
      "Requirement already satisfied: kiwisolver>=1.3.1 in d:\\optimizing-catboost-model-with-bayesian\\env\\lib\\site-packages (from matplotlib->catboost) (1.4.7)\n",
      "Requirement already satisfied: packaging>=20.0 in d:\\optimizing-catboost-model-with-bayesian\\env\\lib\\site-packages (from matplotlib->catboost) (24.2)\n",
      "Requirement already satisfied: pillow>=8 in d:\\optimizing-catboost-model-with-bayesian\\env\\lib\\site-packages (from matplotlib->catboost) (11.0.0)\n",
      "Requirement already satisfied: pyparsing>=2.3.1 in d:\\optimizing-catboost-model-with-bayesian\\env\\lib\\site-packages (from matplotlib->catboost) (3.2.0)\n",
      "Requirement already satisfied: tenacity>=6.2.0 in d:\\optimizing-catboost-model-with-bayesian\\env\\lib\\site-packages (from plotly->catboost) (9.0.0)\n",
      "Note: you may need to restart the kernel to use updated packages.\n",
      "---5---\n"
     ]
    },
    {
     "name": "stderr",
     "output_type": "stream",
     "text": [
      "\n",
      "[notice] A new release of pip is available: 24.3.1 -> 25.0\n",
      "[notice] To update, run: python.exe -m pip install --upgrade pip\n"
     ]
    },
    {
     "name": "stdout",
     "output_type": "stream",
     "text": [
      "Requirement already satisfied: ipywidgets in d:\\optimizing-catboost-model-with-bayesian\\env\\lib\\site-packages (8.1.5)\n",
      "Requirement already satisfied: comm>=0.1.3 in d:\\optimizing-catboost-model-with-bayesian\\env\\lib\\site-packages (from ipywidgets) (0.2.2)\n",
      "Requirement already satisfied: ipython>=6.1.0 in d:\\optimizing-catboost-model-with-bayesian\\env\\lib\\site-packages (from ipywidgets) (8.31.0)\n",
      "Requirement already satisfied: traitlets>=4.3.1 in d:\\optimizing-catboost-model-with-bayesian\\env\\lib\\site-packages (from ipywidgets) (5.14.3)\n",
      "Requirement already satisfied: widgetsnbextension~=4.0.12 in d:\\optimizing-catboost-model-with-bayesian\\env\\lib\\site-packages (from ipywidgets) (4.0.13)\n",
      "Requirement already satisfied: jupyterlab-widgets~=3.0.12 in d:\\optimizing-catboost-model-with-bayesian\\env\\lib\\site-packages (from ipywidgets) (3.0.13)\n",
      "Requirement already satisfied: colorama in d:\\optimizing-catboost-model-with-bayesian\\env\\lib\\site-packages (from ipython>=6.1.0->ipywidgets) (0.4.6)\n",
      "Requirement already satisfied: decorator in d:\\optimizing-catboost-model-with-bayesian\\env\\lib\\site-packages (from ipython>=6.1.0->ipywidgets) (5.1.1)\n",
      "Requirement already satisfied: jedi>=0.16 in d:\\optimizing-catboost-model-with-bayesian\\env\\lib\\site-packages (from ipython>=6.1.0->ipywidgets) (0.19.2)\n",
      "Requirement already satisfied: matplotlib-inline in d:\\optimizing-catboost-model-with-bayesian\\env\\lib\\site-packages (from ipython>=6.1.0->ipywidgets) (0.1.7)\n",
      "Requirement already satisfied: prompt_toolkit<3.1.0,>=3.0.41 in d:\\optimizing-catboost-model-with-bayesian\\env\\lib\\site-packages (from ipython>=6.1.0->ipywidgets) (3.0.50)\n",
      "Requirement already satisfied: pygments>=2.4.0 in d:\\optimizing-catboost-model-with-bayesian\\env\\lib\\site-packages (from ipython>=6.1.0->ipywidgets) (2.19.1)\n",
      "Requirement already satisfied: stack_data in d:\\optimizing-catboost-model-with-bayesian\\env\\lib\\site-packages (from ipython>=6.1.0->ipywidgets) (0.6.3)\n",
      "Requirement already satisfied: typing_extensions>=4.6 in d:\\optimizing-catboost-model-with-bayesian\\env\\lib\\site-packages (from ipython>=6.1.0->ipywidgets) (4.12.2)\n",
      "Requirement already satisfied: parso<0.9.0,>=0.8.4 in d:\\optimizing-catboost-model-with-bayesian\\env\\lib\\site-packages (from jedi>=0.16->ipython>=6.1.0->ipywidgets) (0.8.4)\n",
      "Requirement already satisfied: wcwidth in d:\\optimizing-catboost-model-with-bayesian\\env\\lib\\site-packages (from prompt_toolkit<3.1.0,>=3.0.41->ipython>=6.1.0->ipywidgets) (0.2.13)\n",
      "Requirement already satisfied: executing>=1.2.0 in d:\\optimizing-catboost-model-with-bayesian\\env\\lib\\site-packages (from stack_data->ipython>=6.1.0->ipywidgets) (2.1.0)\n",
      "Requirement already satisfied: asttokens>=2.1.0 in d:\\optimizing-catboost-model-with-bayesian\\env\\lib\\site-packages (from stack_data->ipython>=6.1.0->ipywidgets) (3.0.0)\n",
      "Requirement already satisfied: pure-eval in d:\\optimizing-catboost-model-with-bayesian\\env\\lib\\site-packages (from stack_data->ipython>=6.1.0->ipywidgets) (0.2.3)\n",
      "Note: you may need to restart the kernel to use updated packages.\n",
      "---6---\n"
     ]
    },
    {
     "name": "stderr",
     "output_type": "stream",
     "text": [
      "\n",
      "[notice] A new release of pip is available: 24.3.1 -> 25.0\n",
      "[notice] To update, run: python.exe -m pip install --upgrade pip\n"
     ]
    },
    {
     "name": "stdout",
     "output_type": "stream",
     "text": [
      "Requirement already satisfied: pandas in d:\\optimizing-catboost-model-with-bayesian\\env\\lib\\site-packages (2.2.3)\n",
      "Requirement already satisfied: openpyxl in d:\\optimizing-catboost-model-with-bayesian\\env\\lib\\site-packages (3.1.5)\n",
      "Requirement already satisfied: numpy>=1.23.2 in d:\\optimizing-catboost-model-with-bayesian\\env\\lib\\site-packages (from pandas) (1.26.4)\n",
      "Requirement already satisfied: python-dateutil>=2.8.2 in d:\\optimizing-catboost-model-with-bayesian\\env\\lib\\site-packages (from pandas) (2.9.0.post0)\n",
      "Requirement already satisfied: pytz>=2020.1 in d:\\optimizing-catboost-model-with-bayesian\\env\\lib\\site-packages (from pandas) (2024.2)\n",
      "Requirement already satisfied: tzdata>=2022.7 in d:\\optimizing-catboost-model-with-bayesian\\env\\lib\\site-packages (from pandas) (2024.2)\n",
      "Requirement already satisfied: et-xmlfile in d:\\optimizing-catboost-model-with-bayesian\\env\\lib\\site-packages (from openpyxl) (2.0.0)\n",
      "Requirement already satisfied: six>=1.5 in d:\\optimizing-catboost-model-with-bayesian\\env\\lib\\site-packages (from python-dateutil>=2.8.2->pandas) (1.17.0)\n",
      "Note: you may need to restart the kernel to use updated packages.\n"
     ]
    },
    {
     "name": "stderr",
     "output_type": "stream",
     "text": [
      "\n",
      "[notice] A new release of pip is available: 24.3.1 -> 25.0\n",
      "[notice] To update, run: python.exe -m pip install --upgrade pip\n"
     ]
    }
   ],
   "source": [
    "#PIP INSTALLATION\n",
    "print('---1---')\n",
    "%pip install pandas\n",
    "print('---2---')\n",
    "%pip install seaborn\n",
    "print('---3---')\n",
    "%pip install scikit-learn\n",
    "print('---4---')\n",
    "%pip install catboost\n",
    "print('---5---')\n",
    "%pip install ipywidgets\n",
    "print('---6---')\n",
    "%pip install pandas openpyxl"
   ]
  },
  {
   "cell_type": "code",
   "execution_count": 404,
   "metadata": {},
   "outputs": [],
   "source": [
    "#FROM LIBRARIES\n",
    "from sklearn.model_selection import train_test_split\n",
    "from sklearn.model_selection import StratifiedKFold\n",
    "from sklearn.preprocessing import StandardScaler\n",
    "from catboost import CatBoostClassifier, Pool\n",
    "from IPython.display import FileLink\n",
    "from sklearn.preprocessing import LabelEncoder\n",
    "from sklearn import metrics\n",
    "from sklearn.metrics import accuracy_score, f1_score, confusion_matrix, roc_curve, auc, classification_report\n",
    "#IMPORT AS\n",
    "import numpy as np\n",
    "import pandas as pd\n",
    "import seaborn as sns\n",
    "import matplotlib.pyplot as plt\n",
    "\n",
    "%matplotlib inline\n",
    "plt.style.use('ggplot')"
   ]
  },
  {
   "cell_type": "code",
   "execution_count": 405,
   "metadata": {},
   "outputs": [
    {
     "data": {
      "text/html": [
       "<div>\n",
       "<style scoped>\n",
       "    .dataframe tbody tr th:only-of-type {\n",
       "        vertical-align: middle;\n",
       "    }\n",
       "\n",
       "    .dataframe tbody tr th {\n",
       "        vertical-align: top;\n",
       "    }\n",
       "\n",
       "    .dataframe thead th {\n",
       "        text-align: right;\n",
       "    }\n",
       "</style>\n",
       "<table border=\"1\" class=\"dataframe\">\n",
       "  <thead>\n",
       "    <tr style=\"text-align: right;\">\n",
       "      <th></th>\n",
       "      <th>encounter_id</th>\n",
       "      <th>patient_nbr</th>\n",
       "      <th>race</th>\n",
       "      <th>gender</th>\n",
       "      <th>age</th>\n",
       "      <th>weight</th>\n",
       "      <th>admission_type_id</th>\n",
       "      <th>discharge_disposition_id</th>\n",
       "      <th>admission_source_id</th>\n",
       "      <th>time_in_hospital</th>\n",
       "      <th>...</th>\n",
       "      <th>citoglipton</th>\n",
       "      <th>insulin</th>\n",
       "      <th>glyburide-metformin</th>\n",
       "      <th>glipizide-metformin</th>\n",
       "      <th>glimepiride-pioglitazone</th>\n",
       "      <th>metformin-rosiglitazone</th>\n",
       "      <th>metformin-pioglitazone</th>\n",
       "      <th>change</th>\n",
       "      <th>diabetesMed</th>\n",
       "      <th>readmitted</th>\n",
       "    </tr>\n",
       "  </thead>\n",
       "  <tbody>\n",
       "    <tr>\n",
       "      <th>0</th>\n",
       "      <td>2278392</td>\n",
       "      <td>8222157</td>\n",
       "      <td>Caucasian</td>\n",
       "      <td>Female</td>\n",
       "      <td>[0-10)</td>\n",
       "      <td>?</td>\n",
       "      <td>6</td>\n",
       "      <td>25</td>\n",
       "      <td>1</td>\n",
       "      <td>1</td>\n",
       "      <td>...</td>\n",
       "      <td>No</td>\n",
       "      <td>No</td>\n",
       "      <td>No</td>\n",
       "      <td>No</td>\n",
       "      <td>No</td>\n",
       "      <td>No</td>\n",
       "      <td>No</td>\n",
       "      <td>No</td>\n",
       "      <td>No</td>\n",
       "      <td>NO</td>\n",
       "    </tr>\n",
       "    <tr>\n",
       "      <th>1</th>\n",
       "      <td>149190</td>\n",
       "      <td>55629189</td>\n",
       "      <td>Caucasian</td>\n",
       "      <td>Female</td>\n",
       "      <td>[10-20)</td>\n",
       "      <td>?</td>\n",
       "      <td>1</td>\n",
       "      <td>1</td>\n",
       "      <td>7</td>\n",
       "      <td>3</td>\n",
       "      <td>...</td>\n",
       "      <td>No</td>\n",
       "      <td>Up</td>\n",
       "      <td>No</td>\n",
       "      <td>No</td>\n",
       "      <td>No</td>\n",
       "      <td>No</td>\n",
       "      <td>No</td>\n",
       "      <td>Ch</td>\n",
       "      <td>Yes</td>\n",
       "      <td>&gt;30</td>\n",
       "    </tr>\n",
       "    <tr>\n",
       "      <th>2</th>\n",
       "      <td>64410</td>\n",
       "      <td>86047875</td>\n",
       "      <td>AfricanAmerican</td>\n",
       "      <td>Female</td>\n",
       "      <td>[20-30)</td>\n",
       "      <td>?</td>\n",
       "      <td>1</td>\n",
       "      <td>1</td>\n",
       "      <td>7</td>\n",
       "      <td>2</td>\n",
       "      <td>...</td>\n",
       "      <td>No</td>\n",
       "      <td>No</td>\n",
       "      <td>No</td>\n",
       "      <td>No</td>\n",
       "      <td>No</td>\n",
       "      <td>No</td>\n",
       "      <td>No</td>\n",
       "      <td>No</td>\n",
       "      <td>Yes</td>\n",
       "      <td>NO</td>\n",
       "    </tr>\n",
       "    <tr>\n",
       "      <th>3</th>\n",
       "      <td>500364</td>\n",
       "      <td>82442376</td>\n",
       "      <td>Caucasian</td>\n",
       "      <td>Male</td>\n",
       "      <td>[30-40)</td>\n",
       "      <td>?</td>\n",
       "      <td>1</td>\n",
       "      <td>1</td>\n",
       "      <td>7</td>\n",
       "      <td>2</td>\n",
       "      <td>...</td>\n",
       "      <td>No</td>\n",
       "      <td>Up</td>\n",
       "      <td>No</td>\n",
       "      <td>No</td>\n",
       "      <td>No</td>\n",
       "      <td>No</td>\n",
       "      <td>No</td>\n",
       "      <td>Ch</td>\n",
       "      <td>Yes</td>\n",
       "      <td>NO</td>\n",
       "    </tr>\n",
       "    <tr>\n",
       "      <th>4</th>\n",
       "      <td>16680</td>\n",
       "      <td>42519267</td>\n",
       "      <td>Caucasian</td>\n",
       "      <td>Male</td>\n",
       "      <td>[40-50)</td>\n",
       "      <td>?</td>\n",
       "      <td>1</td>\n",
       "      <td>1</td>\n",
       "      <td>7</td>\n",
       "      <td>1</td>\n",
       "      <td>...</td>\n",
       "      <td>No</td>\n",
       "      <td>Steady</td>\n",
       "      <td>No</td>\n",
       "      <td>No</td>\n",
       "      <td>No</td>\n",
       "      <td>No</td>\n",
       "      <td>No</td>\n",
       "      <td>Ch</td>\n",
       "      <td>Yes</td>\n",
       "      <td>NO</td>\n",
       "    </tr>\n",
       "  </tbody>\n",
       "</table>\n",
       "<p>5 rows × 50 columns</p>\n",
       "</div>"
      ],
      "text/plain": [
       "   encounter_id  patient_nbr             race  gender      age weight  \\\n",
       "0       2278392      8222157        Caucasian  Female   [0-10)      ?   \n",
       "1        149190     55629189        Caucasian  Female  [10-20)      ?   \n",
       "2         64410     86047875  AfricanAmerican  Female  [20-30)      ?   \n",
       "3        500364     82442376        Caucasian    Male  [30-40)      ?   \n",
       "4         16680     42519267        Caucasian    Male  [40-50)      ?   \n",
       "\n",
       "   admission_type_id  discharge_disposition_id  admission_source_id  \\\n",
       "0                  6                        25                    1   \n",
       "1                  1                         1                    7   \n",
       "2                  1                         1                    7   \n",
       "3                  1                         1                    7   \n",
       "4                  1                         1                    7   \n",
       "\n",
       "   time_in_hospital  ... citoglipton insulin  glyburide-metformin  \\\n",
       "0                 1  ...          No      No                   No   \n",
       "1                 3  ...          No      Up                   No   \n",
       "2                 2  ...          No      No                   No   \n",
       "3                 2  ...          No      Up                   No   \n",
       "4                 1  ...          No  Steady                   No   \n",
       "\n",
       "   glipizide-metformin  glimepiride-pioglitazone  metformin-rosiglitazone  \\\n",
       "0                   No                        No                       No   \n",
       "1                   No                        No                       No   \n",
       "2                   No                        No                       No   \n",
       "3                   No                        No                       No   \n",
       "4                   No                        No                       No   \n",
       "\n",
       "   metformin-pioglitazone  change diabetesMed readmitted  \n",
       "0                      No      No          No         NO  \n",
       "1                      No      Ch         Yes        >30  \n",
       "2                      No      No         Yes         NO  \n",
       "3                      No      Ch         Yes         NO  \n",
       "4                      No      Ch         Yes         NO  \n",
       "\n",
       "[5 rows x 50 columns]"
      ]
     },
     "execution_count": 405,
     "metadata": {},
     "output_type": "execute_result"
    }
   ],
   "source": [
    "file_path = 'Dataset/diabetic_data.csv'\n",
    "df = pd.read_csv(file_path,keep_default_na=False)\n",
    "df_clean = df.copy()\n",
    "df_clean.head()\n"
   ]
  },
  {
   "cell_type": "markdown",
   "metadata": {},
   "source": [
    "DATA CLEANING"
   ]
  },
  {
   "cell_type": "code",
   "execution_count": 406,
   "metadata": {},
   "outputs": [],
   "source": [
    "#REMOVING DUPLICATE DATA'S\n",
    "df_clean['patient_nbr'].value_counts()\n",
    "df_clean = df_clean.drop_duplicates(subset=['patient_nbr'])"
   ]
  },
  {
   "cell_type": "code",
   "execution_count": 407,
   "metadata": {},
   "outputs": [],
   "source": [
    "features_drop_list = ['encounter_id', 'patient_nbr', 'weight', 'payer_code', 'medical_specialty', 'repaglinide', 'nateglinide', 'chlorpropamide', 'acarbose', 'miglitol', 'troglitazone', 'tolazamide', 'examide', 'citoglipton', 'glyburide-metformin', 'glipizide-metformin', 'glimepiride-pioglitazone', 'metformin-rosiglitazone','metformin-pioglitazone', 'acetohexamide', 'tolbutamide']\n",
    "df_clean.drop(features_drop_list, axis=1, inplace=True)"
   ]
  },
  {
   "cell_type": "code",
   "execution_count": 408,
   "metadata": {},
   "outputs": [],
   "source": [
    "#start by setting all values containing E or V into 0 (as one category)\n",
    "df_clean.loc[df_clean['diag_1'].str.contains('V',na=False,case=False), 'diag_1'] = 0\n",
    "df_clean.loc[df_clean['diag_1'].str.contains('E',na=False,case=False), 'diag_1'] = 0\n",
    "df_clean.loc[df_clean['diag_2'].str.contains('V',na=False,case=False), 'diag_2'] = 0\n",
    "df_clean.loc[df_clean['diag_2'].str.contains('E',na=False,case=False), 'diag_2'] = 0\n",
    "df_clean.loc[df_clean['diag_3'].str.contains('V',na=False,case=False), 'diag_3'] = 0\n",
    "df_clean.loc[df_clean['diag_3'].str.contains('E',na=False,case=False), 'diag_3'] = 0\n",
    "\n",
    "#setting all missing values into -1\n",
    "df_clean['diag_1'] = df_clean['diag_1'].replace('?', -1)\n",
    "df_clean['diag_2'] = df_clean['diag_2'].replace('?', -1)\n",
    "df_clean['diag_3'] = df_clean['diag_3'].replace('?', -1)\n",
    "\n",
    "#No all diag values can be converted into numeric values\n",
    "df_clean['diag_1'] = df_clean['diag_1'].astype(float)\n",
    "df_clean['diag_2'] = df_clean['diag_2'].astype(float)\n",
    "df_clean['diag_3'] = df_clean['diag_3'].astype(float)"
   ]
  },
  {
   "cell_type": "code",
   "execution_count": 409,
   "metadata": {},
   "outputs": [
    {
     "name": "stdout",
     "output_type": "stream",
     "text": [
      "   diag_1  diag_2  diag_3\n",
      "0     3.0     0.0     0.0\n",
      "1     3.0     3.0     3.0\n",
      "2    11.0     3.0     0.0\n",
      "3     1.0     3.0     7.0\n",
      "4     2.0     2.0     3.0\n"
     ]
    }
   ],
   "source": [
    "# Ensure 'diag_1', 'diag_2', 'diag_3' are numeric\n",
    "df_clean[['diag_1', 'diag_2', 'diag_3']] = df_clean[['diag_1', 'diag_2', 'diag_3']].apply(pd.to_numeric, errors='coerce')\n",
    "\n",
    "def categorize_diag(df_clean, col):\n",
    "    df_clean.loc[(df_clean[col] >= 1) & (df_clean[col] < 140), col] = 1\n",
    "    df_clean.loc[(df_clean[col] >= 140) & (df_clean[col] < 240), col] = 2\n",
    "    df_clean.loc[(df_clean[col] >= 240) & (df_clean[col] < 280), col] = 3\n",
    "    df_clean.loc[(df_clean[col] >= 280) & (df_clean[col] < 290), col] = 4\n",
    "    df_clean.loc[(df_clean[col] >= 290) & (df_clean[col] < 320), col] = 5\n",
    "    df_clean.loc[(df_clean[col] >= 320) & (df_clean[col] < 390), col] = 6\n",
    "    df_clean.loc[(df_clean[col] >= 390) & (df_clean[col] < 460), col] = 7\n",
    "    df_clean.loc[(df_clean[col] >= 460) & (df_clean[col] < 520), col] = 8\n",
    "    df_clean.loc[(df_clean[col] >= 520) & (df_clean[col] < 580), col] = 9\n",
    "    df_clean.loc[(df_clean[col] >= 580) & (df_clean[col] < 630), col] = 10\n",
    "    df_clean.loc[(df_clean[col] >= 630) & (df_clean[col] < 680), col] = 11\n",
    "    df_clean.loc[(df_clean[col] >= 680) & (df_clean[col] < 710), col] = 12\n",
    "    df_clean.loc[(df_clean[col] >= 710) & (df_clean[col] < 740), col] = 13\n",
    "    df_clean.loc[(df_clean[col] >= 740) & (df_clean[col] < 760), col] = 14\n",
    "    df_clean.loc[(df_clean[col] >= 760) & (df_clean[col] < 780), col] = 15\n",
    "    df_clean.loc[(df_clean[col] >= 780) & (df_clean[col] < 800), col] = 16\n",
    "    df_clean.loc[(df_clean[col] >= 800) & (df_clean[col] < 1000), col] = 17\n",
    "    df_clean.loc[df_clean[col] == -1, col] = 0  # Handle missing values\n",
    "    \n",
    "# Apply function to diagnosis columns\n",
    "for col in ['diag_1', 'diag_2', 'diag_3']:\n",
    "    categorize_diag(df_clean, col)\n",
    "\n",
    "# Print the result\n",
    "print(df_clean[['diag_1', 'diag_2', 'diag_3']].head())"
   ]
  },
  {
   "cell_type": "code",
   "execution_count": 410,
   "metadata": {},
   "outputs": [
    {
     "data": {
      "text/plain": [
       "array([ 0.,  3.,  2.,  7.,  8.,  4., 17., 13., 10.,  1.,  9., 12.,  6.,\n",
       "       16.,  5., 11., 14.])"
      ]
     },
     "execution_count": 410,
     "metadata": {},
     "output_type": "execute_result"
    }
   ],
   "source": [
    "df_clean.diag_2.unique()"
   ]
  },
  {
   "cell_type": "code",
   "execution_count": 411,
   "metadata": {},
   "outputs": [
    {
     "data": {
      "text/plain": [
       "race\n",
       "Caucasian          53491\n",
       "AfricanAmerican    12887\n",
       "Other               3126\n",
       "Hispanic            1517\n",
       "Asian                497\n",
       "Name: count, dtype: int64"
      ]
     },
     "execution_count": 411,
     "metadata": {},
     "output_type": "execute_result"
    }
   ],
   "source": [
    "df_clean['race'] = df_clean['race'].replace('?', 'Other')\n",
    "df_clean.race.value_counts()"
   ]
  },
  {
   "cell_type": "code",
   "execution_count": 412,
   "metadata": {},
   "outputs": [
    {
     "data": {
      "text/plain": [
       "gender\n",
       "Female    38028\n",
       "Male      33490\n",
       "Name: count, dtype: int64"
      ]
     },
     "execution_count": 412,
     "metadata": {},
     "output_type": "execute_result"
    }
   ],
   "source": [
    "df_clean['gender'] = df_clean['gender'].replace('Unknown/Invalid', 'Female')\n",
    "df_clean.gender.value_counts()"
   ]
  },
  {
   "cell_type": "code",
   "execution_count": 413,
   "metadata": {},
   "outputs": [
    {
     "name": "stderr",
     "output_type": "stream",
     "text": [
      "C:\\Users\\SnowPlay\\AppData\\Local\\Temp\\ipykernel_17584\\2177177959.py:2: FutureWarning: Downcasting behavior in `replace` is deprecated and will be removed in a future version. To retain the old behavior, explicitly call `result.infer_objects(copy=False)`. To opt-in to the future behavior, set `pd.set_option('future.no_silent_downcasting', True)`\n",
      "  df_clean['gender'] = df_clean['gender'].replace('Female', 0)\n"
     ]
    },
    {
     "data": {
      "text/plain": [
       "gender\n",
       "0    38028\n",
       "1    33490\n",
       "Name: count, dtype: int64"
      ]
     },
     "execution_count": 413,
     "metadata": {},
     "output_type": "execute_result"
    }
   ],
   "source": [
    "df_clean['gender'] = df_clean['gender'].replace('Male', 1)\n",
    "df_clean['gender'] = df_clean['gender'].replace('Female', 0)\n",
    "df_clean.gender.value_counts()"
   ]
  },
  {
   "cell_type": "code",
   "execution_count": 414,
   "metadata": {},
   "outputs": [
    {
     "name": "stderr",
     "output_type": "stream",
     "text": [
      "C:\\Users\\SnowPlay\\AppData\\Local\\Temp\\ipykernel_17584\\856190937.py:7: FutureWarning: Downcasting behavior in `replace` is deprecated and will be removed in a future version. To retain the old behavior, explicitly call `result.infer_objects(copy=False)`. To opt-in to the future behavior, set `pd.set_option('future.no_silent_downcasting', True)`\n",
      "  df_clean['age'] = df_clean['age'].replace(age_replacements)\n"
     ]
    },
    {
     "data": {
      "text/plain": [
       "age\n",
       "75    18210\n",
       "65    15960\n",
       "55    12466\n",
       "85    11589\n",
       "45     6878\n",
       "35     2699\n",
       "95     1900\n",
       "25     1127\n",
       "15      535\n",
       "5       154\n",
       "Name: count, dtype: int64"
      ]
     },
     "execution_count": 414,
     "metadata": {},
     "output_type": "execute_result"
    }
   ],
   "source": [
    "age_replacements = {}\n",
    "for i in range(0, 10):\n",
    "    age_range = f'[{10*i}-{10*(i+1)})'\n",
    "    midpoint = i*10 + 5\n",
    "    age_replacements[age_range] = midpoint\n",
    "\n",
    "df_clean['age'] = df_clean['age'].replace(age_replacements)\n",
    "\n",
    "df_clean['age'].value_counts()"
   ]
  },
  {
   "cell_type": "markdown",
   "metadata": {},
   "source": [
    "-- Start Here --\n",
    "\n",
    "max_glu_serum -> None, Norm, >200, >300\n",
    "\n",
    "A1Cresult -> None, Norm, >7, >8\n",
    "\n",
    "drug('metformin',glimepiride,glipizide,glyburide,pioglitazone,rosiglitazone,insulin) -> None,Steady,Down,Up\n",
    "\n",
    "change -> No, Ch\n",
    "\n",
    "diabetesMed -> Yes, No"
   ]
  },
  {
   "cell_type": "code",
   "execution_count": 415,
   "metadata": {},
   "outputs": [
    {
     "name": "stderr",
     "output_type": "stream",
     "text": [
      "C:\\Users\\SnowPlay\\AppData\\Local\\Temp\\ipykernel_17584\\3891844975.py:3: FutureWarning: Downcasting behavior in `replace` is deprecated and will be removed in a future version. To retain the old behavior, explicitly call `result.infer_objects(copy=False)`. To opt-in to the future behavior, set `pd.set_option('future.no_silent_downcasting', True)`\n",
      "  df_clean['readmitted']=df_clean['readmitted'].replace('<30', 2)\n"
     ]
    },
    {
     "data": {
      "text/plain": [
       "readmitted\n",
       "0    42985\n",
       "1    22240\n",
       "2     6293\n",
       "Name: count, dtype: int64"
      ]
     },
     "execution_count": 415,
     "metadata": {},
     "output_type": "execute_result"
    }
   ],
   "source": [
    "df_clean['readmitted']=df_clean['readmitted'].replace('NO', 0)\n",
    "df_clean['readmitted']=df_clean['readmitted'].replace('>30', 1)\n",
    "df_clean['readmitted']=df_clean['readmitted'].replace('<30', 2)\n",
    "df_clean.readmitted.value_counts()"
   ]
  },
  {
   "cell_type": "code",
   "execution_count": 416,
   "metadata": {},
   "outputs": [
    {
     "name": "stdout",
     "output_type": "stream",
     "text": [
      "<class 'pandas.core.frame.DataFrame'>\n",
      "Index: 71518 entries, 0 to 101765\n",
      "Data columns (total 33 columns):\n",
      " #   Column                    Non-Null Count  Dtype  \n",
      "---  ------                    --------------  -----  \n",
      " 0   gender                    71518 non-null  int64  \n",
      " 1   age                       71518 non-null  int64  \n",
      " 2   admission_type_id         71518 non-null  int64  \n",
      " 3   discharge_disposition_id  71518 non-null  int64  \n",
      " 4   admission_source_id       71518 non-null  int64  \n",
      " 5   time_in_hospital          71518 non-null  int64  \n",
      " 6   num_lab_procedures        71518 non-null  int64  \n",
      " 7   num_procedures            71518 non-null  int64  \n",
      " 8   num_medications           71518 non-null  int64  \n",
      " 9   number_outpatient         71518 non-null  int64  \n",
      " 10  number_emergency          71518 non-null  int64  \n",
      " 11  number_inpatient          71518 non-null  int64  \n",
      " 12  diag_1                    71518 non-null  float64\n",
      " 13  diag_2                    71518 non-null  float64\n",
      " 14  diag_3                    71518 non-null  float64\n",
      " 15  number_diagnoses          71518 non-null  int64  \n",
      " 16  max_glu_serum             71518 non-null  object \n",
      " 17  A1Cresult                 71518 non-null  object \n",
      " 18  metformin                 71518 non-null  object \n",
      " 19  glimepiride               71518 non-null  object \n",
      " 20  glipizide                 71518 non-null  object \n",
      " 21  glyburide                 71518 non-null  object \n",
      " 22  pioglitazone              71518 non-null  object \n",
      " 23  rosiglitazone             71518 non-null  object \n",
      " 24  insulin                   71518 non-null  object \n",
      " 25  change                    71518 non-null  object \n",
      " 26  diabetesMed               71518 non-null  object \n",
      " 27  readmitted                71518 non-null  int64  \n",
      " 28  race_AfricanAmerican      71518 non-null  bool   \n",
      " 29  race_Asian                71518 non-null  bool   \n",
      " 30  race_Caucasian            71518 non-null  bool   \n",
      " 31  race_Hispanic             71518 non-null  bool   \n",
      " 32  race_Other                71518 non-null  bool   \n",
      "dtypes: bool(5), float64(3), int64(14), object(11)\n",
      "memory usage: 16.2+ MB\n"
     ]
    }
   ],
   "source": [
    "df_clean = pd.concat([df_clean,pd.get_dummies(df_clean['race'], prefix='race')], axis=1).drop(['race'],axis=1)\n",
    "df_clean.info()"
   ]
  },
  {
   "cell_type": "code",
   "execution_count": 417,
   "metadata": {},
   "outputs": [
    {
     "name": "stdout",
     "output_type": "stream",
     "text": [
      "   race_AfricanAmerican  race_Asian  race_Caucasian  race_Hispanic  race_Other\n",
      "0                     0           0               1              0           0\n",
      "1                     0           0               1              0           0\n",
      "2                     1           0               0              0           0\n",
      "3                     0           0               1              0           0\n",
      "4                     0           0               1              0           0\n"
     ]
    }
   ],
   "source": [
    "race_columns = ['race_AfricanAmerican', 'race_Asian', 'race_Caucasian', 'race_Hispanic', 'race_Other']\n",
    "df_clean[race_columns] = df_clean[race_columns].astype(int)\n",
    "# Check the changes\n",
    "print(df_clean[race_columns].head())"
   ]
  },
  {
   "cell_type": "code",
   "execution_count": 418,
   "metadata": {},
   "outputs": [
    {
     "name": "stdout",
     "output_type": "stream",
     "text": [
      "<class 'pandas.core.frame.DataFrame'>\n",
      "Index: 71518 entries, 0 to 101765\n",
      "Data columns (total 33 columns):\n",
      " #   Column                    Non-Null Count  Dtype  \n",
      "---  ------                    --------------  -----  \n",
      " 0   gender                    71518 non-null  int64  \n",
      " 1   age                       71518 non-null  int64  \n",
      " 2   admission_type_id         71518 non-null  int64  \n",
      " 3   discharge_disposition_id  71518 non-null  int64  \n",
      " 4   admission_source_id       71518 non-null  int64  \n",
      " 5   time_in_hospital          71518 non-null  int64  \n",
      " 6   num_lab_procedures        71518 non-null  int64  \n",
      " 7   num_procedures            71518 non-null  int64  \n",
      " 8   num_medications           71518 non-null  int64  \n",
      " 9   number_outpatient         71518 non-null  int64  \n",
      " 10  number_emergency          71518 non-null  int64  \n",
      " 11  number_inpatient          71518 non-null  int64  \n",
      " 12  diag_1                    71518 non-null  float64\n",
      " 13  diag_2                    71518 non-null  float64\n",
      " 14  diag_3                    71518 non-null  float64\n",
      " 15  number_diagnoses          71518 non-null  int64  \n",
      " 16  max_glu_serum             71518 non-null  object \n",
      " 17  A1Cresult                 71518 non-null  object \n",
      " 18  metformin                 71518 non-null  object \n",
      " 19  glimepiride               71518 non-null  object \n",
      " 20  glipizide                 71518 non-null  object \n",
      " 21  glyburide                 71518 non-null  object \n",
      " 22  pioglitazone              71518 non-null  object \n",
      " 23  rosiglitazone             71518 non-null  object \n",
      " 24  insulin                   71518 non-null  object \n",
      " 25  change                    71518 non-null  object \n",
      " 26  diabetesMed               71518 non-null  object \n",
      " 27  readmitted                71518 non-null  int64  \n",
      " 28  race_AfricanAmerican      71518 non-null  int32  \n",
      " 29  race_Asian                71518 non-null  int32  \n",
      " 30  race_Caucasian            71518 non-null  int32  \n",
      " 31  race_Hispanic             71518 non-null  int32  \n",
      " 32  race_Other                71518 non-null  int32  \n",
      "dtypes: float64(3), int32(5), int64(14), object(11)\n",
      "memory usage: 17.2+ MB\n"
     ]
    }
   ],
   "source": [
    "df_clean.info()"
   ]
  },
  {
   "cell_type": "code",
   "execution_count": 419,
   "metadata": {},
   "outputs": [
    {
     "name": "stdout",
     "output_type": "stream",
     "text": [
      "['gender', 'age', 'admission_type_id', 'discharge_disposition_id', 'admission_source_id', 'time_in_hospital', 'num_lab_procedures', 'num_procedures', 'num_medications', 'number_outpatient', 'number_emergency', 'number_inpatient', 'diag_1', 'diag_2', 'diag_3', 'number_diagnoses', 'max_glu_serum', 'A1Cresult', 'metformin', 'glimepiride', 'glipizide', 'glyburide', 'pioglitazone', 'rosiglitazone', 'insulin', 'change', 'diabetesMed', 'readmitted', 'race_AfricanAmerican', 'race_Asian', 'race_Caucasian', 'race_Hispanic', 'race_Other']\n"
     ]
    }
   ],
   "source": [
    "print(list(df_clean))"
   ]
  },
  {
   "cell_type": "code",
   "execution_count": 420,
   "metadata": {},
   "outputs": [],
   "source": [
    "X = df_clean.drop('readmitted', axis=1)  # Features\n",
    "y = df_clean['readmitted']               # Target variable"
   ]
  },
  {
   "cell_type": "code",
   "execution_count": 421,
   "metadata": {},
   "outputs": [],
   "source": [
    "X_train, X_test, y_train, y_test = train_test_split(X, y, test_size=0.2, random_state=42)\n",
    "\n",
    "cat_features = [col for col in X.columns if X[col].dtype == 'object']\n"
   ]
  },
  {
   "cell_type": "code",
   "execution_count": 422,
   "metadata": {},
   "outputs": [
    {
     "name": "stdout",
     "output_type": "stream",
     "text": [
      "Mean Accuracy: 0.6198\n",
      "Standard Deviation: 0.0020\n"
     ]
    }
   ],
   "source": [
    "skf = StratifiedKFold(n_splits=5, shuffle=True, random_state=42)\n",
    "\n",
    "# Store accuracy scores\n",
    "accuracy_scores = []\n",
    "\n",
    "# Perform Stratified K-Fold CV\n",
    "for train_index, test_index in skf.split(X, y):\n",
    "    X_train_fold, X_test_fold = X.iloc[train_index], X.iloc[test_index]\n",
    "    y_train_fold, y_test_fold = y.iloc[train_index], y.iloc[test_index]\n",
    "\n",
    "    # Create Pool objects for train and test sets\n",
    "    train_pool = Pool(data=X_train_fold, label=y_train_fold, cat_features=cat_features)\n",
    "    test_pool = Pool(data=X_test_fold, label=y_test_fold, cat_features=cat_features)\n",
    "\n",
    "    # Initialize CatBoost model\n",
    "    model = CatBoostClassifier(\n",
    "        learning_rate=0.1,\n",
    "        depth=6,\n",
    "        iterations=500,\n",
    "        l2_leaf_reg=3,\n",
    "        border_count=32,\n",
    "        bootstrap_type='Bernoulli',  # Avoid Bayesian bootstrap (does not support subsample)\n",
    "        subsample=0.8,\n",
    "        colsample_bylevel=0.8,\n",
    "        verbose=100  # Suppress training logs\n",
    "    )\n",
    "\n",
    "    # Train using Pool objects\n",
    "    model.fit(train_pool, eval_set=test_pool, early_stopping_rounds=50, verbose=0)\n",
    "\n",
    "    # Predict on the test fold\n",
    "    y_pred_fold = model.predict(X_test_fold)\n",
    "\n",
    "    # Compute accuracy\n",
    "    accuracy = accuracy_score(y_test_fold, y_pred_fold)\n",
    "    accuracy_scores.append(accuracy)\n",
    "\n",
    "# Print results\n",
    "print(f\"Mean Accuracy: {np.mean(accuracy_scores):.4f}\")\n",
    "print(f\"Standard Deviation: {np.std(accuracy_scores):.4f}\")"
   ]
  },
  {
   "cell_type": "code",
   "execution_count": 423,
   "metadata": {},
   "outputs": [
    {
     "name": "stdout",
     "output_type": "stream",
     "text": [
      "Model Accuracy: 0.6394\n"
     ]
    }
   ],
   "source": [
    "# Make predictions\n",
    "y_pred = model.predict(X_test)\n",
    "\n",
    "# Calculate accuracy\n",
    "accuracy = accuracy_score(y_test, y_pred)\n",
    "\n",
    "print(f\"Model Accuracy: {accuracy:.4f}\")  # Print with 4 decimal places"
   ]
  },
  {
   "cell_type": "code",
   "execution_count": 424,
   "metadata": {},
   "outputs": [
    {
     "name": "stdout",
     "output_type": "stream",
     "text": [
      "              precision    recall  f1-score   support\n",
      "\n",
      "           0       0.65      0.93      0.77      8732\n",
      "           1       0.55      0.22      0.31      4408\n",
      "           2       0.81      0.02      0.04      1164\n",
      "\n",
      "    accuracy                           0.64     14304\n",
      "   macro avg       0.67      0.39      0.37     14304\n",
      "weighted avg       0.63      0.64      0.57     14304\n",
      "\n"
     ]
    }
   ],
   "source": [
    "print(classification_report(y_test, y_pred))"
   ]
  },
  {
   "cell_type": "code",
   "execution_count": 425,
   "metadata": {},
   "outputs": [
    {
     "name": "stdout",
     "output_type": "stream",
     "text": [
      "[[8162  568    2]\n",
      " [3443  962    3]\n",
      " [ 938  204   22]]\n"
     ]
    }
   ],
   "source": [
    "cm = confusion_matrix(y_test, y_pred)\n",
    "print(cm)"
   ]
  }
 ],
 "metadata": {
  "kernelspec": {
   "display_name": "env",
   "language": "python",
   "name": "python3"
  },
  "language_info": {
   "codemirror_mode": {
    "name": "ipython",
    "version": 3
   },
   "file_extension": ".py",
   "mimetype": "text/x-python",
   "name": "python",
   "nbconvert_exporter": "python",
   "pygments_lexer": "ipython3",
   "version": "3.11.0"
  }
 },
 "nbformat": 4,
 "nbformat_minor": 2
}
