{
 "cells": [
  {
   "cell_type": "code",
   "execution_count": 1,
   "id": "5235f65c",
   "metadata": {
    "execution": {
     "iopub.execute_input": "2025-03-16T11:16:48.024212Z",
     "iopub.status.busy": "2025-03-16T11:16:48.024212Z",
     "iopub.status.idle": "2025-03-16T11:16:56.157488Z",
     "shell.execute_reply": "2025-03-16T11:16:56.157488Z"
    },
    "papermill": {
     "duration": 8.138282,
     "end_time": "2025-03-16T11:16:56.158495",
     "exception": false,
     "start_time": "2025-03-16T11:16:48.020213",
     "status": "completed"
    },
    "tags": []
   },
   "outputs": [
    {
     "name": "stdout",
     "output_type": "stream",
     "text": [
      "---1---\n"
     ]
    },
    {
     "name": "stdout",
     "output_type": "stream",
     "text": [
      "Requirement already satisfied: pandas in d:\\optimizing-catboost-model-with-bayesian\\env\\lib\\site-packages (2.2.1)\n",
      "Requirement already satisfied: numpy<2,>=1.23.2 in d:\\optimizing-catboost-model-with-bayesian\\env\\lib\\site-packages (from pandas) (1.26.4)\n",
      "Requirement already satisfied: python-dateutil>=2.8.2 in d:\\optimizing-catboost-model-with-bayesian\\env\\lib\\site-packages (from pandas) (2.9.0.post0)\n",
      "Requirement already satisfied: pytz>=2020.1 in d:\\optimizing-catboost-model-with-bayesian\\env\\lib\\site-packages (from pandas) (2024.2)\n",
      "Requirement already satisfied: tzdata>=2022.7 in d:\\optimizing-catboost-model-with-bayesian\\env\\lib\\site-packages (from pandas) (2024.2)\n",
      "Requirement already satisfied: six>=1.5 in d:\\optimizing-catboost-model-with-bayesian\\env\\lib\\site-packages (from python-dateutil>=2.8.2->pandas) (1.17.0)\n",
      "Note: you may need to restart the kernel to use updated packages.\n",
      "---2---\n"
     ]
    },
    {
     "name": "stderr",
     "output_type": "stream",
     "text": [
      "\n",
      "[notice] A new release of pip is available: 24.3.1 -> 25.0.1\n",
      "[notice] To update, run: python.exe -m pip install --upgrade pip\n"
     ]
    },
    {
     "name": "stdout",
     "output_type": "stream",
     "text": [
      "Requirement already satisfied: seaborn in d:\\optimizing-catboost-model-with-bayesian\\env\\lib\\site-packages (0.13.2)\n",
      "Requirement already satisfied: numpy!=1.24.0,>=1.20 in d:\\optimizing-catboost-model-with-bayesian\\env\\lib\\site-packages (from seaborn) (1.26.4)\n",
      "Requirement already satisfied: pandas>=1.2 in d:\\optimizing-catboost-model-with-bayesian\\env\\lib\\site-packages (from seaborn) (2.2.1)\n",
      "Requirement already satisfied: matplotlib!=3.6.1,>=3.4 in d:\\optimizing-catboost-model-with-bayesian\\env\\lib\\site-packages (from seaborn) (3.10.0)\n",
      "Requirement already satisfied: contourpy>=1.0.1 in d:\\optimizing-catboost-model-with-bayesian\\env\\lib\\site-packages (from matplotlib!=3.6.1,>=3.4->seaborn) (1.3.1)\n",
      "Requirement already satisfied: cycler>=0.10 in d:\\optimizing-catboost-model-with-bayesian\\env\\lib\\site-packages (from matplotlib!=3.6.1,>=3.4->seaborn) (0.12.1)\n",
      "Requirement already satisfied: fonttools>=4.22.0 in d:\\optimizing-catboost-model-with-bayesian\\env\\lib\\site-packages (from matplotlib!=3.6.1,>=3.4->seaborn) (4.55.3)\n",
      "Requirement already satisfied: kiwisolver>=1.3.1 in d:\\optimizing-catboost-model-with-bayesian\\env\\lib\\site-packages (from matplotlib!=3.6.1,>=3.4->seaborn) (1.4.7)\n",
      "Requirement already satisfied: packaging>=20.0 in d:\\optimizing-catboost-model-with-bayesian\\env\\lib\\site-packages (from matplotlib!=3.6.1,>=3.4->seaborn) (24.2)\n",
      "Requirement already satisfied: pillow>=8 in d:\\optimizing-catboost-model-with-bayesian\\env\\lib\\site-packages (from matplotlib!=3.6.1,>=3.4->seaborn) (11.0.0)\n",
      "Requirement already satisfied: pyparsing>=2.3.1 in d:\\optimizing-catboost-model-with-bayesian\\env\\lib\\site-packages (from matplotlib!=3.6.1,>=3.4->seaborn) (3.2.0)\n",
      "Requirement already satisfied: python-dateutil>=2.7 in d:\\optimizing-catboost-model-with-bayesian\\env\\lib\\site-packages (from matplotlib!=3.6.1,>=3.4->seaborn) (2.9.0.post0)\n",
      "Requirement already satisfied: pytz>=2020.1 in d:\\optimizing-catboost-model-with-bayesian\\env\\lib\\site-packages (from pandas>=1.2->seaborn) (2024.2)\n",
      "Requirement already satisfied: tzdata>=2022.7 in d:\\optimizing-catboost-model-with-bayesian\\env\\lib\\site-packages (from pandas>=1.2->seaborn) (2024.2)\n",
      "Requirement already satisfied: six>=1.5 in d:\\optimizing-catboost-model-with-bayesian\\env\\lib\\site-packages (from python-dateutil>=2.7->matplotlib!=3.6.1,>=3.4->seaborn) (1.17.0)\n",
      "Note: you may need to restart the kernel to use updated packages.\n",
      "---3---\n"
     ]
    },
    {
     "name": "stderr",
     "output_type": "stream",
     "text": [
      "\n",
      "[notice] A new release of pip is available: 24.3.1 -> 25.0.1\n",
      "[notice] To update, run: python.exe -m pip install --upgrade pip\n"
     ]
    },
    {
     "name": "stdout",
     "output_type": "stream",
     "text": [
      "Requirement already satisfied: scikit-learn in d:\\optimizing-catboost-model-with-bayesian\\env\\lib\\site-packages (1.6.1)\n",
      "Requirement already satisfied: numpy>=1.19.5 in d:\\optimizing-catboost-model-with-bayesian\\env\\lib\\site-packages (from scikit-learn) (1.26.4)\n",
      "Requirement already satisfied: scipy>=1.6.0 in d:\\optimizing-catboost-model-with-bayesian\\env\\lib\\site-packages (from scikit-learn) (1.14.1)\n",
      "Requirement already satisfied: joblib>=1.2.0 in d:\\optimizing-catboost-model-with-bayesian\\env\\lib\\site-packages (from scikit-learn) (1.4.2)\n",
      "Requirement already satisfied: threadpoolctl>=3.1.0 in d:\\optimizing-catboost-model-with-bayesian\\env\\lib\\site-packages (from scikit-learn) (3.5.0)\n",
      "Note: you may need to restart the kernel to use updated packages.\n",
      "---4---\n"
     ]
    },
    {
     "name": "stderr",
     "output_type": "stream",
     "text": [
      "\n",
      "[notice] A new release of pip is available: 24.3.1 -> 25.0.1\n",
      "[notice] To update, run: python.exe -m pip install --upgrade pip\n"
     ]
    },
    {
     "name": "stdout",
     "output_type": "stream",
     "text": [
      "Requirement already satisfied: catboost in d:\\optimizing-catboost-model-with-bayesian\\env\\lib\\site-packages (1.2.7)\n",
      "Requirement already satisfied: graphviz in d:\\optimizing-catboost-model-with-bayesian\\env\\lib\\site-packages (from catboost) (0.20.3)\n",
      "Requirement already satisfied: matplotlib in d:\\optimizing-catboost-model-with-bayesian\\env\\lib\\site-packages (from catboost) (3.10.0)\n",
      "Requirement already satisfied: numpy<2.0,>=1.16.0 in d:\\optimizing-catboost-model-with-bayesian\\env\\lib\\site-packages (from catboost) (1.26.4)\n",
      "Requirement already satisfied: pandas>=0.24 in d:\\optimizing-catboost-model-with-bayesian\\env\\lib\\site-packages (from catboost) (2.2.1)\n",
      "Requirement already satisfied: scipy in d:\\optimizing-catboost-model-with-bayesian\\env\\lib\\site-packages (from catboost) (1.14.1)\n",
      "Requirement already satisfied: plotly in d:\\optimizing-catboost-model-with-bayesian\\env\\lib\\site-packages (from catboost) (5.24.1)\n",
      "Requirement already satisfied: six in d:\\optimizing-catboost-model-with-bayesian\\env\\lib\\site-packages (from catboost) (1.17.0)\n",
      "Requirement already satisfied: python-dateutil>=2.8.2 in d:\\optimizing-catboost-model-with-bayesian\\env\\lib\\site-packages (from pandas>=0.24->catboost) (2.9.0.post0)\n",
      "Requirement already satisfied: pytz>=2020.1 in d:\\optimizing-catboost-model-with-bayesian\\env\\lib\\site-packages (from pandas>=0.24->catboost) (2024.2)\n",
      "Requirement already satisfied: tzdata>=2022.7 in d:\\optimizing-catboost-model-with-bayesian\\env\\lib\\site-packages (from pandas>=0.24->catboost) (2024.2)\n",
      "Requirement already satisfied: contourpy>=1.0.1 in d:\\optimizing-catboost-model-with-bayesian\\env\\lib\\site-packages (from matplotlib->catboost) (1.3.1)\n",
      "Requirement already satisfied: cycler>=0.10 in d:\\optimizing-catboost-model-with-bayesian\\env\\lib\\site-packages (from matplotlib->catboost) (0.12.1)\n",
      "Requirement already satisfied: fonttools>=4.22.0 in d:\\optimizing-catboost-model-with-bayesian\\env\\lib\\site-packages (from matplotlib->catboost) (4.55.3)\n",
      "Requirement already satisfied: kiwisolver>=1.3.1 in d:\\optimizing-catboost-model-with-bayesian\\env\\lib\\site-packages (from matplotlib->catboost) (1.4.7)\n",
      "Requirement already satisfied: packaging>=20.0 in d:\\optimizing-catboost-model-with-bayesian\\env\\lib\\site-packages (from matplotlib->catboost) (24.2)\n",
      "Requirement already satisfied: pillow>=8 in d:\\optimizing-catboost-model-with-bayesian\\env\\lib\\site-packages (from matplotlib->catboost) (11.0.0)\n",
      "Requirement already satisfied: pyparsing>=2.3.1 in d:\\optimizing-catboost-model-with-bayesian\\env\\lib\\site-packages (from matplotlib->catboost) (3.2.0)\n",
      "Requirement already satisfied: tenacity>=6.2.0 in d:\\optimizing-catboost-model-with-bayesian\\env\\lib\\site-packages (from plotly->catboost) (9.0.0)\n",
      "Note: you may need to restart the kernel to use updated packages.\n",
      "---5---\n"
     ]
    },
    {
     "name": "stderr",
     "output_type": "stream",
     "text": [
      "\n",
      "[notice] A new release of pip is available: 24.3.1 -> 25.0.1\n",
      "[notice] To update, run: python.exe -m pip install --upgrade pip\n"
     ]
    },
    {
     "name": "stdout",
     "output_type": "stream",
     "text": [
      "Requirement already satisfied: ipywidgets in d:\\optimizing-catboost-model-with-bayesian\\env\\lib\\site-packages (8.1.5)\n",
      "Requirement already satisfied: comm>=0.1.3 in d:\\optimizing-catboost-model-with-bayesian\\env\\lib\\site-packages (from ipywidgets) (0.2.2)\n",
      "Requirement already satisfied: ipython>=6.1.0 in d:\\optimizing-catboost-model-with-bayesian\\env\\lib\\site-packages (from ipywidgets) (8.31.0)\n",
      "Requirement already satisfied: traitlets>=4.3.1 in d:\\optimizing-catboost-model-with-bayesian\\env\\lib\\site-packages (from ipywidgets) (5.14.3)\n",
      "Requirement already satisfied: widgetsnbextension~=4.0.12 in d:\\optimizing-catboost-model-with-bayesian\\env\\lib\\site-packages (from ipywidgets) (4.0.13)\n",
      "Requirement already satisfied: jupyterlab-widgets~=3.0.12 in d:\\optimizing-catboost-model-with-bayesian\\env\\lib\\site-packages (from ipywidgets) (3.0.13)\n",
      "Requirement already satisfied: colorama in d:\\optimizing-catboost-model-with-bayesian\\env\\lib\\site-packages (from ipython>=6.1.0->ipywidgets) (0.4.6)\n",
      "Requirement already satisfied: decorator in d:\\optimizing-catboost-model-with-bayesian\\env\\lib\\site-packages (from ipython>=6.1.0->ipywidgets) (5.1.1)\n",
      "Requirement already satisfied: jedi>=0.16 in d:\\optimizing-catboost-model-with-bayesian\\env\\lib\\site-packages (from ipython>=6.1.0->ipywidgets) (0.19.2)\n",
      "Requirement already satisfied: matplotlib-inline in d:\\optimizing-catboost-model-with-bayesian\\env\\lib\\site-packages (from ipython>=6.1.0->ipywidgets) (0.1.7)\n",
      "Requirement already satisfied: prompt_toolkit<3.1.0,>=3.0.41 in d:\\optimizing-catboost-model-with-bayesian\\env\\lib\\site-packages (from ipython>=6.1.0->ipywidgets) (3.0.50)\n",
      "Requirement already satisfied: pygments>=2.4.0 in d:\\optimizing-catboost-model-with-bayesian\\env\\lib\\site-packages (from ipython>=6.1.0->ipywidgets) (2.19.1)\n",
      "Requirement already satisfied: stack_data in d:\\optimizing-catboost-model-with-bayesian\\env\\lib\\site-packages (from ipython>=6.1.0->ipywidgets) (0.6.3)\n",
      "Requirement already satisfied: typing_extensions>=4.6 in d:\\optimizing-catboost-model-with-bayesian\\env\\lib\\site-packages (from ipython>=6.1.0->ipywidgets) (4.12.2)\n",
      "Requirement already satisfied: parso<0.9.0,>=0.8.4 in d:\\optimizing-catboost-model-with-bayesian\\env\\lib\\site-packages (from jedi>=0.16->ipython>=6.1.0->ipywidgets) (0.8.4)\n",
      "Requirement already satisfied: wcwidth in d:\\optimizing-catboost-model-with-bayesian\\env\\lib\\site-packages (from prompt_toolkit<3.1.0,>=3.0.41->ipython>=6.1.0->ipywidgets) (0.2.13)\n",
      "Requirement already satisfied: executing>=1.2.0 in d:\\optimizing-catboost-model-with-bayesian\\env\\lib\\site-packages (from stack_data->ipython>=6.1.0->ipywidgets) (2.1.0)\n",
      "Requirement already satisfied: asttokens>=2.1.0 in d:\\optimizing-catboost-model-with-bayesian\\env\\lib\\site-packages (from stack_data->ipython>=6.1.0->ipywidgets) (3.0.0)\n",
      "Requirement already satisfied: pure-eval in d:\\optimizing-catboost-model-with-bayesian\\env\\lib\\site-packages (from stack_data->ipython>=6.1.0->ipywidgets) (0.2.3)\n",
      "Note: you may need to restart the kernel to use updated packages.\n",
      "---6---\n"
     ]
    },
    {
     "name": "stderr",
     "output_type": "stream",
     "text": [
      "\n",
      "[notice] A new release of pip is available: 24.3.1 -> 25.0.1\n",
      "[notice] To update, run: python.exe -m pip install --upgrade pip\n"
     ]
    },
    {
     "name": "stdout",
     "output_type": "stream",
     "text": [
      "Requirement already satisfied: pandas in d:\\optimizing-catboost-model-with-bayesian\\env\\lib\\site-packages (2.2.1)\n",
      "Requirement already satisfied: openpyxl in d:\\optimizing-catboost-model-with-bayesian\\env\\lib\\site-packages (3.1.2)\n",
      "Requirement already satisfied: numpy<2,>=1.23.2 in d:\\optimizing-catboost-model-with-bayesian\\env\\lib\\site-packages (from pandas) (1.26.4)\n",
      "Requirement already satisfied: python-dateutil>=2.8.2 in d:\\optimizing-catboost-model-with-bayesian\\env\\lib\\site-packages (from pandas) (2.9.0.post0)\n",
      "Requirement already satisfied: pytz>=2020.1 in d:\\optimizing-catboost-model-with-bayesian\\env\\lib\\site-packages (from pandas) (2024.2)\n",
      "Requirement already satisfied: tzdata>=2022.7 in d:\\optimizing-catboost-model-with-bayesian\\env\\lib\\site-packages (from pandas) (2024.2)\n",
      "Requirement already satisfied: et-xmlfile in d:\\optimizing-catboost-model-with-bayesian\\env\\lib\\site-packages (from openpyxl) (2.0.0)\n",
      "Requirement already satisfied: six>=1.5 in d:\\optimizing-catboost-model-with-bayesian\\env\\lib\\site-packages (from python-dateutil>=2.8.2->pandas) (1.17.0)\n",
      "Note: you may need to restart the kernel to use updated packages.\n",
      "---7---\n"
     ]
    },
    {
     "name": "stderr",
     "output_type": "stream",
     "text": [
      "\n",
      "[notice] A new release of pip is available: 24.3.1 -> 25.0.1\n",
      "[notice] To update, run: python.exe -m pip install --upgrade pip\n"
     ]
    },
    {
     "name": "stdout",
     "output_type": "stream",
     "text": [
      "Requirement already satisfied: bayesian-optimization in d:\\optimizing-catboost-model-with-bayesian\\env\\lib\\site-packages (2.0.3)\n",
      "Requirement already satisfied: colorama<0.5.0,>=0.4.6 in d:\\optimizing-catboost-model-with-bayesian\\env\\lib\\site-packages (from bayesian-optimization) (0.4.6)\n",
      "Requirement already satisfied: numpy>=1.25 in d:\\optimizing-catboost-model-with-bayesian\\env\\lib\\site-packages (from bayesian-optimization) (1.26.4)\n",
      "Requirement already satisfied: scikit-learn<2.0.0,>=1.0.0 in d:\\optimizing-catboost-model-with-bayesian\\env\\lib\\site-packages (from bayesian-optimization) (1.6.1)\n",
      "Requirement already satisfied: scipy<2.0.0,>=1.0.0 in d:\\optimizing-catboost-model-with-bayesian\\env\\lib\\site-packages (from bayesian-optimization) (1.14.1)\n",
      "Requirement already satisfied: joblib>=1.2.0 in d:\\optimizing-catboost-model-with-bayesian\\env\\lib\\site-packages (from scikit-learn<2.0.0,>=1.0.0->bayesian-optimization) (1.4.2)\n",
      "Requirement already satisfied: threadpoolctl>=3.1.0 in d:\\optimizing-catboost-model-with-bayesian\\env\\lib\\site-packages (from scikit-learn<2.0.0,>=1.0.0->bayesian-optimization) (3.5.0)\n",
      "Note: you may need to restart the kernel to use updated packages.\n",
      "---8---\n"
     ]
    },
    {
     "name": "stderr",
     "output_type": "stream",
     "text": [
      "\n",
      "[notice] A new release of pip is available: 24.3.1 -> 25.0.1\n",
      "[notice] To update, run: python.exe -m pip install --upgrade pip\n"
     ]
    },
    {
     "name": "stdout",
     "output_type": "stream",
     "text": [
      "Note: you may need to restart the kernel to use updated packages.Requirement already satisfied: fsspec in d:\\optimizing-catboost-model-with-bayesian\\env\\lib\\site-packages (2024.9.0)\n",
      "\n",
      "---9---\n"
     ]
    },
    {
     "name": "stderr",
     "output_type": "stream",
     "text": [
      "\n",
      "[notice] A new release of pip is available: 24.3.1 -> 25.0.1\n",
      "[notice] To update, run: python.exe -m pip install --upgrade pip\n"
     ]
    },
    {
     "name": "stdout",
     "output_type": "stream",
     "text": [
      "Requirement already satisfied: huggingface_hub in d:\\optimizing-catboost-model-with-bayesian\\env\\lib\\site-packages (0.28.1)\n",
      "Requirement already satisfied: filelock in d:\\optimizing-catboost-model-with-bayesian\\env\\lib\\site-packages (from huggingface_hub) (3.17.0)\n",
      "Requirement already satisfied: fsspec>=2023.5.0 in d:\\optimizing-catboost-model-with-bayesian\\env\\lib\\site-packages (from huggingface_hub) (2024.9.0)\n",
      "Requirement already satisfied: packaging>=20.9 in d:\\optimizing-catboost-model-with-bayesian\\env\\lib\\site-packages (from huggingface_hub) (24.2)\n",
      "Requirement already satisfied: pyyaml>=5.1 in d:\\optimizing-catboost-model-with-bayesian\\env\\lib\\site-packages (from huggingface_hub) (6.0.2)\n",
      "Requirement already satisfied: requests in d:\\optimizing-catboost-model-with-bayesian\\env\\lib\\site-packages (from huggingface_hub) (2.32.3)\n",
      "Requirement already satisfied: tqdm>=4.42.1 in d:\\optimizing-catboost-model-with-bayesian\\env\\lib\\site-packages (from huggingface_hub) (4.67.1)\n",
      "Requirement already satisfied: typing-extensions>=3.7.4.3 in d:\\optimizing-catboost-model-with-bayesian\\env\\lib\\site-packages (from huggingface_hub) (4.12.2)\n",
      "Requirement already satisfied: colorama in d:\\optimizing-catboost-model-with-bayesian\\env\\lib\\site-packages (from tqdm>=4.42.1->huggingface_hub) (0.4.6)\n",
      "Requirement already satisfied: charset-normalizer<4,>=2 in d:\\optimizing-catboost-model-with-bayesian\\env\\lib\\site-packages (from requests->huggingface_hub) (3.4.1)\n",
      "Requirement already satisfied: idna<4,>=2.5 in d:\\optimizing-catboost-model-with-bayesian\\env\\lib\\site-packages (from requests->huggingface_hub) (3.10)\n",
      "Requirement already satisfied: urllib3<3,>=1.21.1 in d:\\optimizing-catboost-model-with-bayesian\\env\\lib\\site-packages (from requests->huggingface_hub) (2.3.0)\n",
      "Requirement already satisfied: certifi>=2017.4.17 in d:\\optimizing-catboost-model-with-bayesian\\env\\lib\\site-packages (from requests->huggingface_hub) (2025.1.31)\n",
      "Note: you may need to restart the kernel to use updated packages.\n",
      "---10---\n"
     ]
    },
    {
     "name": "stderr",
     "output_type": "stream",
     "text": [
      "\n",
      "[notice] A new release of pip is available: 24.3.1 -> 25.0.1\n",
      "[notice] To update, run: python.exe -m pip install --upgrade pip\n"
     ]
    },
    {
     "name": "stdout",
     "output_type": "stream",
     "text": [
      "Requirement already satisfied: datasets in d:\\optimizing-catboost-model-with-bayesian\\env\\lib\\site-packages (3.2.0)\n",
      "Requirement already satisfied: filelock in d:\\optimizing-catboost-model-with-bayesian\\env\\lib\\site-packages (from datasets) (3.17.0)\n",
      "Requirement already satisfied: numpy>=1.17 in d:\\optimizing-catboost-model-with-bayesian\\env\\lib\\site-packages (from datasets) (1.26.4)\n",
      "Requirement already satisfied: pyarrow>=15.0.0 in d:\\optimizing-catboost-model-with-bayesian\\env\\lib\\site-packages (from datasets) (15.0.0)\n",
      "Requirement already satisfied: dill<0.3.9,>=0.3.0 in d:\\optimizing-catboost-model-with-bayesian\\env\\lib\\site-packages (from datasets) (0.3.8)\n",
      "Requirement already satisfied: pandas in d:\\optimizing-catboost-model-with-bayesian\\env\\lib\\site-packages (from datasets) (2.2.1)\n",
      "Requirement already satisfied: requests>=2.32.2 in d:\\optimizing-catboost-model-with-bayesian\\env\\lib\\site-packages (from datasets) (2.32.3)\n",
      "Requirement already satisfied: tqdm>=4.66.3 in d:\\optimizing-catboost-model-with-bayesian\\env\\lib\\site-packages (from datasets) (4.67.1)\n",
      "Requirement already satisfied: xxhash in d:\\optimizing-catboost-model-with-bayesian\\env\\lib\\site-packages (from datasets) (3.5.0)\n",
      "Requirement already satisfied: multiprocess<0.70.17 in d:\\optimizing-catboost-model-with-bayesian\\env\\lib\\site-packages (from datasets) (0.70.16)\n",
      "Requirement already satisfied: fsspec<=2024.9.0,>=2023.1.0 in d:\\optimizing-catboost-model-with-bayesian\\env\\lib\\site-packages (from fsspec[http]<=2024.9.0,>=2023.1.0->datasets) (2024.9.0)\n",
      "Requirement already satisfied: aiohttp in d:\\optimizing-catboost-model-with-bayesian\\env\\lib\\site-packages (from datasets) (3.11.12)\n",
      "Requirement already satisfied: huggingface-hub>=0.23.0 in d:\\optimizing-catboost-model-with-bayesian\\env\\lib\\site-packages (from datasets) (0.28.1)\n",
      "Requirement already satisfied: packaging in d:\\optimizing-catboost-model-with-bayesian\\env\\lib\\site-packages (from datasets) (24.2)\n",
      "Requirement already satisfied: pyyaml>=5.1 in d:\\optimizing-catboost-model-with-bayesian\\env\\lib\\site-packages (from datasets) (6.0.2)\n",
      "Requirement already satisfied: aiohappyeyeballs>=2.3.0 in d:\\optimizing-catboost-model-with-bayesian\\env\\lib\\site-packages (from aiohttp->datasets) (2.4.6)\n",
      "Requirement already satisfied: aiosignal>=1.1.2 in d:\\optimizing-catboost-model-with-bayesian\\env\\lib\\site-packages (from aiohttp->datasets) (1.3.2)\n",
      "Requirement already satisfied: attrs>=17.3.0 in d:\\optimizing-catboost-model-with-bayesian\\env\\lib\\site-packages (from aiohttp->datasets) (25.1.0)\n",
      "Requirement already satisfied: frozenlist>=1.1.1 in d:\\optimizing-catboost-model-with-bayesian\\env\\lib\\site-packages (from aiohttp->datasets) (1.5.0)\n",
      "Requirement already satisfied: multidict<7.0,>=4.5 in d:\\optimizing-catboost-model-with-bayesian\\env\\lib\\site-packages (from aiohttp->datasets) (6.1.0)\n",
      "Requirement already satisfied: propcache>=0.2.0 in d:\\optimizing-catboost-model-with-bayesian\\env\\lib\\site-packages (from aiohttp->datasets) (0.2.1)\n",
      "Requirement already satisfied: yarl<2.0,>=1.17.0 in d:\\optimizing-catboost-model-with-bayesian\\env\\lib\\site-packages (from aiohttp->datasets) (1.18.3)\n",
      "Requirement already satisfied: typing-extensions>=3.7.4.3 in d:\\optimizing-catboost-model-with-bayesian\\env\\lib\\site-packages (from huggingface-hub>=0.23.0->datasets) (4.12.2)\n",
      "Requirement already satisfied: charset-normalizer<4,>=2 in d:\\optimizing-catboost-model-with-bayesian\\env\\lib\\site-packages (from requests>=2.32.2->datasets) (3.4.1)\n",
      "Requirement already satisfied: idna<4,>=2.5 in d:\\optimizing-catboost-model-with-bayesian\\env\\lib\\site-packages (from requests>=2.32.2->datasets) (3.10)\n",
      "Requirement already satisfied: urllib3<3,>=1.21.1 in d:\\optimizing-catboost-model-with-bayesian\\env\\lib\\site-packages (from requests>=2.32.2->datasets) (2.3.0)\n",
      "Requirement already satisfied: certifi>=2017.4.17 in d:\\optimizing-catboost-model-with-bayesian\\env\\lib\\site-packages (from requests>=2.32.2->datasets) (2025.1.31)\n",
      "Requirement already satisfied: colorama in d:\\optimizing-catboost-model-with-bayesian\\env\\lib\\site-packages (from tqdm>=4.66.3->datasets) (0.4.6)\n",
      "Requirement already satisfied: python-dateutil>=2.8.2 in d:\\optimizing-catboost-model-with-bayesian\\env\\lib\\site-packages (from pandas->datasets) (2.9.0.post0)\n",
      "Requirement already satisfied: pytz>=2020.1 in d:\\optimizing-catboost-model-with-bayesian\\env\\lib\\site-packages (from pandas->datasets) (2024.2)\n",
      "Requirement already satisfied: tzdata>=2022.7 in d:\\optimizing-catboost-model-with-bayesian\\env\\lib\\site-packages (from pandas->datasets) (2024.2)\n",
      "Requirement already satisfied: six>=1.5 in d:\\optimizing-catboost-model-with-bayesian\\env\\lib\\site-packages (from python-dateutil>=2.8.2->pandas->datasets) (1.17.0)\n",
      "Note: you may need to restart the kernel to use updated packages.\n"
     ]
    },
    {
     "name": "stderr",
     "output_type": "stream",
     "text": [
      "\n",
      "[notice] A new release of pip is available: 24.3.1 -> 25.0.1\n",
      "[notice] To update, run: python.exe -m pip install --upgrade pip\n"
     ]
    }
   ],
   "source": [
    "#PIP INSTALLATION\n",
    "print('---1---')\n",
    "%pip install pandas\n",
    "print('---2---')\n",
    "%pip install seaborn\n",
    "print('---3---')\n",
    "%pip install scikit-learn\n",
    "print('---4---')\n",
    "%pip install catboost\n",
    "print('---5---')\n",
    "%pip install ipywidgets\n",
    "print('---6---')\n",
    "%pip install pandas openpyxl\n",
    "print('---7---')\n",
    "%pip install bayesian-optimization\n",
    "print('---8---')\n",
    "%pip install fsspec\n",
    "print('---9---')\n",
    "%pip install huggingface_hub\n",
    "print('---10---')\n",
    "%pip install datasets\n"
   ]
  },
  {
   "cell_type": "code",
   "execution_count": 2,
   "id": "bdb1c804",
   "metadata": {
    "execution": {
     "iopub.execute_input": "2025-03-16T11:16:56.165494Z",
     "iopub.status.busy": "2025-03-16T11:16:56.165494Z",
     "iopub.status.idle": "2025-03-16T11:16:58.061505Z",
     "shell.execute_reply": "2025-03-16T11:16:58.061505Z"
    },
    "papermill": {
     "duration": 1.901018,
     "end_time": "2025-03-16T11:16:58.062511",
     "exception": false,
     "start_time": "2025-03-16T11:16:56.161493",
     "status": "completed"
    },
    "tags": []
   },
   "outputs": [],
   "source": [
    "from catboost import CatBoostClassifier, Pool\n",
    "\n",
    "from sklearn.metrics import (\n",
    "    accuracy_score, precision_score, recall_score, f1_score,\n",
    "    roc_curve, roc_auc_score, precision_recall_curve, average_precision_score,\n",
    "    confusion_matrix\n",
    ")\n",
    "from sklearn.model_selection import StratifiedKFold\n",
    "from bayes_opt import BayesianOptimization\n",
    "from typing import List, Optional\n",
    "from sklearn.model_selection import train_test_split\n",
    "\n",
    "\n",
    "from datasets import load_dataset\n",
    "\n",
    "\n",
    "import numpy as np\n",
    "import pandas as pd\n",
    "import seaborn as sns\n",
    "import matplotlib.pyplot as plt\n",
    "import os"
   ]
  },
  {
   "cell_type": "code",
   "execution_count": 3,
   "id": "8177a524",
   "metadata": {
    "execution": {
     "iopub.execute_input": "2025-03-16T11:16:58.070509Z",
     "iopub.status.busy": "2025-03-16T11:16:58.069510Z",
     "iopub.status.idle": "2025-03-16T11:16:58.072752Z",
     "shell.execute_reply": "2025-03-16T11:16:58.072752Z"
    },
    "papermill": {
     "duration": 0.007248,
     "end_time": "2025-03-16T11:16:58.073758",
     "exception": false,
     "start_time": "2025-03-16T11:16:58.066510",
     "status": "completed"
    },
    "tags": [
     "parameters"
    ]
   },
   "outputs": [],
   "source": [
    "dataset_path = None\n",
    "algorithm = 'catboost'"
   ]
  },
  {
   "cell_type": "code",
   "execution_count": 4,
   "id": "ac92f49f",
   "metadata": {
    "execution": {
     "iopub.execute_input": "2025-03-16T11:16:58.079758Z",
     "iopub.status.busy": "2025-03-16T11:16:58.079758Z",
     "iopub.status.idle": "2025-03-16T11:16:58.082634Z",
     "shell.execute_reply": "2025-03-16T11:16:58.082634Z"
    },
    "papermill": {
     "duration": 0.006884,
     "end_time": "2025-03-16T11:16:58.083641",
     "exception": false,
     "start_time": "2025-03-16T11:16:58.076757",
     "status": "completed"
    },
    "tags": [
     "injected-parameters"
    ]
   },
   "outputs": [],
   "source": [
    "# Parameters\n",
    "dataset_path = \"temp\\\\74dd5fb6-2f4d-47ff-922c-204bccce77b8.csv\"\n",
    "algorithm = \"bayesian\"\n",
    "model_output_path = \"saved_models/Bayesian_Opt_Catboost_1742123806.cbm\"\n"
   ]
  },
  {
   "cell_type": "code",
   "execution_count": 5,
   "id": "e8337ae3",
   "metadata": {
    "execution": {
     "iopub.execute_input": "2025-03-16T11:16:58.090640Z",
     "iopub.status.busy": "2025-03-16T11:16:58.090640Z",
     "iopub.status.idle": "2025-03-16T11:16:58.550154Z",
     "shell.execute_reply": "2025-03-16T11:16:58.550154Z"
    },
    "papermill": {
     "duration": 0.464521,
     "end_time": "2025-03-16T11:16:58.551161",
     "exception": false,
     "start_time": "2025-03-16T11:16:58.086640",
     "status": "completed"
    },
    "tags": []
   },
   "outputs": [],
   "source": [
    "df = pd.read_csv(dataset_path)\n",
    "X = df.drop(columns=['readmitted'])\n",
    "y = df['readmitted'].values"
   ]
  },
  {
   "cell_type": "code",
   "execution_count": 6,
   "id": "ac13ffe5",
   "metadata": {
    "execution": {
     "iopub.execute_input": "2025-03-16T11:16:58.559161Z",
     "iopub.status.busy": "2025-03-16T11:16:58.559161Z",
     "iopub.status.idle": "2025-03-16T11:16:58.562404Z",
     "shell.execute_reply": "2025-03-16T11:16:58.562404Z"
    },
    "papermill": {
     "duration": 0.008251,
     "end_time": "2025-03-16T11:16:58.563411",
     "exception": false,
     "start_time": "2025-03-16T11:16:58.555160",
     "status": "completed"
    },
    "tags": []
   },
   "outputs": [],
   "source": [
    "cat_features = X.select_dtypes(include=['object']).columns.tolist()\n",
    "X[cat_features] = X[cat_features].astype(str)"
   ]
  },
  {
   "cell_type": "code",
   "execution_count": 7,
   "id": "9bc8b81d",
   "metadata": {
    "execution": {
     "iopub.execute_input": "2025-03-16T11:16:58.570411Z",
     "iopub.status.busy": "2025-03-16T11:16:58.570411Z",
     "iopub.status.idle": "2025-03-16T11:16:58.673409Z",
     "shell.execute_reply": "2025-03-16T11:16:58.673409Z"
    },
    "papermill": {
     "duration": 0.108373,
     "end_time": "2025-03-16T11:16:58.674782",
     "exception": false,
     "start_time": "2025-03-16T11:16:58.566409",
     "status": "completed"
    },
    "tags": []
   },
   "outputs": [],
   "source": [
    "X_train, X_test, y_train, y_test = train_test_split(X, y, test_size=0.2, random_state=42)\n"
   ]
  },
  {
   "cell_type": "markdown",
   "id": "493066a8",
   "metadata": {
    "papermill": {
     "duration": 0.003001,
     "end_time": "2025-03-16T11:16:58.680781",
     "exception": false,
     "start_time": "2025-03-16T11:16:58.677780",
     "status": "completed"
    },
    "tags": []
   },
   "source": [
    "Final CatboostBayesianOptimzer"
   ]
  },
  {
   "cell_type": "code",
   "execution_count": 8,
   "id": "52f1c702",
   "metadata": {
    "execution": {
     "iopub.execute_input": "2025-03-16T11:16:58.687781Z",
     "iopub.status.busy": "2025-03-16T11:16:58.687781Z",
     "iopub.status.idle": "2025-03-16T11:16:58.702646Z",
     "shell.execute_reply": "2025-03-16T11:16:58.702646Z"
    },
    "papermill": {
     "duration": 0.019872,
     "end_time": "2025-03-16T11:16:58.703652",
     "exception": false,
     "start_time": "2025-03-16T11:16:58.683780",
     "status": "completed"
    },
    "tags": []
   },
   "outputs": [],
   "source": [
    "gpu_available = \"NVIDIA_VISIBLE_DEVICES\" in os.environ or \"CUDA_VISIBLE_DEVICES\" in os.environ\n",
    "task_type = 'GPU' if gpu_available else 'CPU'\n",
    "\n",
    "class CatBoostBayesianOptimizer:\n",
    "    def __init__(self, X_train, y_train, cat_features, eval_metric, n_splits, random_state=42, gpu_id=0):\n",
    "        self.X_train = X_train\n",
    "        self.y_train = y_train\n",
    "        self.cat_features = cat_features\n",
    "        self.eval_metric = eval_metric\n",
    "        self.n_splits = n_splits\n",
    "        self.random_state = random_state\n",
    "        self.gpu_id = gpu_id\n",
    "        \n",
    "        self._validate_inputs()\n",
    "        \n",
    "    def _validate_inputs(self):\n",
    "        if not isinstance(self.X_train, pd.DataFrame):\n",
    "            raise TypeError(\"X_train must be a pandas DataFrame\")\n",
    "        \n",
    "        if not all(col in self.X_train.columns for col in self.cat_features):\n",
    "            raise ValueError(\"Some categorical features not found in X_train\")\n",
    "            \n",
    "        if self.eval_metric not in ['f1', 'auc', 'accuracy']:\n",
    "            raise ValueError(\"eval_metric must be one of: 'f1', 'auc', 'accuracy'\")\n",
    "    \n",
    "    #This is also hyperparameters for catboost but it cant be applied with bayesian optimization\n",
    "    def _get_base_params(self, custom_params=None):\n",
    "        \"\"\"Get base CatBoost parameters\"\"\"\n",
    "        base_params = {\n",
    "            'random_state': self.random_state,\n",
    "            'verbose': False,\n",
    "            'task_type': task_type,\n",
    "            'devices': f'{self.gpu_id}' if task_type == 'GPU' else None,\n",
    "            'loss_function': 'Logloss',\n",
    "            'eval_metric': 'Logloss'\n",
    "        }\n",
    "        return {**base_params, **custom_params} if custom_params else base_params\n",
    "    \n",
    "    def _get_metric_score(self, y_true, y_pred, y_prob=None):\n",
    "        if self.eval_metric == 'f1':\n",
    "            return f1_score(y_true, y_pred, average='weighted')\n",
    "        elif self.eval_metric == 'auc':\n",
    "            if len(np.unique(y_true)) > 2:\n",
    "                return roc_auc_score(y_true, y_prob, multi_class='ovr')\n",
    "            return roc_auc_score(y_true, y_prob[:, 1])\n",
    "        return accuracy_score(y_true, y_pred)\n",
    "    \n",
    "    def _evaluate_model(self, model, X_val, y_val):\n",
    "        \"\"\"Evaluate model performance\"\"\"\n",
    "        if self.eval_metric == 'auc':\n",
    "            y_prob = model.predict_proba(X_val)\n",
    "            return self._get_metric_score(y_val, np.argmax(y_prob, axis=1), y_prob)\n",
    "        y_pred = model.predict(X_val)\n",
    "        return self._get_metric_score(y_val, y_pred)\n",
    "        \n",
    "    #This is the 1st step to add another Parameters... you can add in here\n",
    "    def _objective(self, iterations, learning_rate, depth, l2_leaf_reg, border_count):\n",
    "        try:\n",
    "            params = self._get_base_params({\n",
    "                'iterations': int(iterations),\n",
    "                'learning_rate': float(learning_rate),\n",
    "                'depth': int(depth),\n",
    "                'l2_leaf_reg': float(l2_leaf_reg),\n",
    "                'border_count': int(border_count),\n",
    "            })\n",
    "            \n",
    "            X_train, X_val, y_train, y_val = train_test_split(\n",
    "                self.X_train, self.y_train,\n",
    "                test_size=0.2,\n",
    "                random_state=self.random_state,\n",
    "                stratify=self.y_train\n",
    "            )\n",
    "            \n",
    "            train_pool = Pool(X_train, label=y_train, cat_features=self.cat_features)\n",
    "            val_pool = Pool(X_val, label=y_val, cat_features=self.cat_features)\n",
    "            \n",
    "            model = CatBoostClassifier(**params)\n",
    "            model.fit(train_pool, eval_set=val_pool, early_stopping_rounds=50, verbose=False)\n",
    "            \n",
    "            return self._evaluate_model(model, X_val, y_val)\n",
    "                \n",
    "        except Exception as e:\n",
    "            print(f\"Error in optimization: {str(e)}\")\n",
    "            return 0.0\n",
    "        \n",
    "    def optimize(self, n_iter=50, n_init_points=10):\n",
    "        if n_iter <= n_init_points:\n",
    "            raise ValueError(\"n_iter must be greater than n_init_points\")\n",
    "        \n",
    "        #After adding the parameters you set the value for the parameters\n",
    "        pbounds = {\n",
    "            'iterations': (900, 1100),\n",
    "            'learning_rate': (0.022, 0.03),\n",
    "            'depth': (8, 10),\n",
    "            'l2_leaf_reg': (4.0, 6.0),\n",
    "            'border_count': (70, 95),\n",
    "        }\n",
    "        \n",
    "        optimizer = BayesianOptimization(\n",
    "            f=self._objective,\n",
    "            pbounds=pbounds,\n",
    "            random_state=self.random_state\n",
    "        )\n",
    "        \n",
    "        optimizer.maximize(init_points=n_init_points, n_iter=n_iter)\n",
    "        \n",
    "        best_params = optimizer.max['params']\n",
    "        print(\"\\nBest parameters found:\")\n",
    "        for param, value in best_params.items():\n",
    "            if param in ['depth', 'border_count', 'iterations']:\n",
    "                print(f\"{param}: {int(value)}\")\n",
    "            else:\n",
    "                print(f\"{param}: {value:.4f}\")\n",
    "        print(f\"\\nBest CV {self.eval_metric} score: {optimizer.max['target']:.4f}\")\n",
    "    \n",
    "        return best_params\n",
    "    \n",
    "    def Final_model(self, best_params):\n",
    "        \"\"\"Use SKCV to evaluate and choose the best iteration count, then train a final model\"\"\"\n",
    "        # Prepare cross-validation folds\n",
    "        skf = StratifiedKFold(n_splits=self.n_splits, shuffle=True, random_state=self.random_state)\n",
    "        fold_scores = []\n",
    "        best_iterations = []\n",
    "        \n",
    "        # Create base parameters from best Bayesian optimization results\n",
    "        model_params = self._get_base_params({\n",
    "            'iterations': int(best_params['iterations']),\n",
    "            'learning_rate': best_params['learning_rate'],\n",
    "            'depth': int(best_params['depth']),\n",
    "            'l2_leaf_reg': best_params['l2_leaf_reg'],\n",
    "            'border_count': int(best_params['border_count'])\n",
    "        })\n",
    "        \n",
    "        print(f\"\\nPerforming {self.n_splits}-fold CV to determine optimal iterations...\")\n",
    "        \n",
    "        for fold, (cv_train_idx, cv_val_idx) in enumerate(skf.split(self.X_train, self.y_train), 1):\n",
    "            # Split training data into CV train and validation sets\n",
    "            X_cv_train = self.X_train.iloc[cv_train_idx]\n",
    "            y_cv_train = self.y_train[cv_train_idx]\n",
    "            X_cv_val = self.X_train.iloc[cv_val_idx]\n",
    "            y_cv_val = self.y_train[cv_val_idx]\n",
    "            \n",
    "            train_pool = Pool(X_cv_train, label=y_cv_train, cat_features=self.cat_features)\n",
    "            val_pool = Pool(X_cv_val, label=y_cv_val, cat_features=self.cat_features)\n",
    "    \n",
    "            # Train model with early stopping\n",
    "            model = CatBoostClassifier(**model_params)\n",
    "            #You can change the final model here\n",
    "            model.fit(train_pool, eval_set=val_pool, early_stopping_rounds=50, verbose=100)\n",
    "            \n",
    "            # Store the best iteration number\n",
    "            best_iterations.append(model.get_best_iteration())\n",
    "            \n",
    "            # Evaluate on validation set\n",
    "            score = self._evaluate_model(model, X_cv_val, y_cv_val)\n",
    "            print(f\"Fold {fold} {self.eval_metric} score: {score:.4f}, Best iteration: {model.get_best_iteration()}\")\n",
    "            \n",
    "            fold_scores.append(score)\n",
    "        \n",
    "        mean_score = np.mean(fold_scores)\n",
    "        std_score = np.std(fold_scores)\n",
    "        \n",
    "        # Calculate the median best iteration across folds\n",
    "        optimal_iterations = int(np.median(best_iterations)) if np.std(best_iterations) > 5 else int(np.mean(best_iterations))\n",
    "        \n",
    "        print(f\"\\nCV Results:\")\n",
    "        print(f\"Average {self.eval_metric} score: {mean_score:.4f} ± {std_score:.4f}\")\n",
    "        print(f\"Optimal iterations (median across folds): {optimal_iterations}\")\n",
    "        \n",
    "        # Train final model on split dataset with validation set\n",
    "        X_train_final, X_val_final, y_train_final, y_val_final = train_test_split(\n",
    "            self.X_train, self.y_train,\n",
    "            test_size=0.1,  # 20% validation set\n",
    "            random_state=self.random_state,\n",
    "            stratify=self.y_train\n",
    "        )\n",
    "        \n",
    "        train_pool = Pool(X_train_final, label=y_train_final, cat_features=self.cat_features)\n",
    "        val_pool = Pool(X_val_final, label=y_val_final, cat_features=self.cat_features)\n",
    "        \n",
    "        final_model_params = model_params.copy()\n",
    "        final_model_params['iterations'] = optimal_iterations\n",
    "        \n",
    "        print(f\"\\nTraining final model on training dataset with {optimal_iterations} iterations...\")\n",
    "        \n",
    "        final_model = CatBoostClassifier(**final_model_params)\n",
    "        final_model.fit(train_pool, eval_set=val_pool, verbose=100)\n",
    "        \n",
    "        return final_model, mean_score, std_score\n",
    "\n",
    "    def save_model(self, model, filepath):\n",
    "        \"\"\"Save the trained CatBoost model to disk\"\"\"\n",
    "        try:\n",
    "            model.save_model(filepath)\n",
    "            print(f\"Model successfully saved to {filepath}\")\n",
    "            return True\n",
    "        except Exception as e:\n",
    "            print(f\"Error saving model: {str(e)}\")\n",
    "            return False\n",
    "\n",
    "    "
   ]
  },
  {
   "cell_type": "code",
   "execution_count": 9,
   "id": "4c6d05c3",
   "metadata": {
    "execution": {
     "iopub.execute_input": "2025-03-16T11:16:58.710655Z",
     "iopub.status.busy": "2025-03-16T11:16:58.710655Z",
     "iopub.status.idle": "2025-03-16T11:16:58.721481Z",
     "shell.execute_reply": "2025-03-16T11:16:58.721481Z"
    },
    "papermill": {
     "duration": 0.015835,
     "end_time": "2025-03-16T11:16:58.722486",
     "exception": false,
     "start_time": "2025-03-16T11:16:58.706651",
     "status": "completed"
    },
    "tags": []
   },
   "outputs": [],
   "source": [
    "class FinalModelEvaluator:\n",
    "    def __init__(\n",
    "        self,\n",
    "        model,\n",
    "        X_train: pd.DataFrame,\n",
    "        y_train: np.ndarray,\n",
    "        X_test: pd.DataFrame,\n",
    "        y_test: np.ndarray,\n",
    "        cat_features: list\n",
    "    ):\n",
    "        self.model = model\n",
    "        self.X_train = X_train\n",
    "        self.y_train = y_train\n",
    "        self.X_test = X_test\n",
    "        self.y_test = y_test\n",
    "        self.cat_features = cat_features\n",
    "        \n",
    "        # Calculate predictions for the final model\n",
    "        self.y_pred = model.predict(X_test)\n",
    "        self.y_pred_proba = model.predict_proba(X_test)\n",
    "\n",
    "    def plot_learning_curve(self, figsize: tuple = (12, 5)):\n",
    "        \"\"\"Plot learning curve for the final model.\"\"\"\n",
    "        plt.figure(figsize=figsize)\n",
    "        \n",
    "        evals_result = self.model.get_evals_result()\n",
    "        train_loss = evals_result['learn']['Logloss']\n",
    "        \n",
    "        plt.plot(train_loss, label='Training Loss')\n",
    "        \n",
    "        # Check for validation data under either 'validation' or 'test' keys\n",
    "        if 'validation' in evals_result:\n",
    "            val_loss = evals_result['validation']['Logloss']\n",
    "            plt.plot(val_loss, label='Validation Loss')\n",
    "        elif 'test' in evals_result:\n",
    "            val_loss = evals_result['test']['Logloss']\n",
    "            plt.plot(val_loss, label='Validation Loss')\n",
    "            \n",
    "        plt.title('Learning Curve (Final Model)')\n",
    "        plt.xlabel('Iterations')\n",
    "        plt.ylabel('Loss')\n",
    "        plt.legend()\n",
    "        plt.grid(True)\n",
    "        plt.show()\n",
    "\n",
    "    def plot_feature_importance(self, top_n: int = 20, figsize: tuple = (10, 6)):\n",
    "        \"\"\"Plot feature importance of the final model.\"\"\"\n",
    "        importance = pd.DataFrame({\n",
    "            'Feature': self.X_train.columns,\n",
    "            'Importance': self.model.get_feature_importance()\n",
    "        }).sort_values('Importance', ascending=False)\n",
    "        \n",
    "        if top_n:\n",
    "            importance = importance.head(top_n)\n",
    "            \n",
    "        plt.figure(figsize=figsize)\n",
    "        plt.barh(importance['Feature'], importance['Importance'])\n",
    "        plt.title(f'Top {top_n} Feature Importance (Final Model)' if top_n else 'Feature Importance')\n",
    "        plt.xlabel('Importance Score')\n",
    "        plt.tight_layout()\n",
    "        plt.show()\n",
    "\n",
    "    def plot_roc_curve(self, figsize: tuple = (8, 6)):\n",
    "        \"\"\"Plot ROC curve for the final model.\"\"\"\n",
    "        plt.figure(figsize=figsize)\n",
    "        \n",
    "        fpr, tpr, _ = roc_curve(self.y_test, self.y_pred_proba[:, 1])\n",
    "        auc = roc_auc_score(self.y_test, self.y_pred_proba[:, 1])\n",
    "        \n",
    "        plt.plot(fpr, tpr, label=f'ROC Curve (AUC = {auc:.3f})')\n",
    "        plt.plot([0, 1], [0, 1], 'k--')\n",
    "        plt.xlim([0.0, 1.0])\n",
    "        plt.ylim([0.0, 1.05])\n",
    "        plt.xlabel('False Positive Rate')\n",
    "        plt.ylabel('True Positive Rate')\n",
    "        plt.title('ROC Curve (Final Model)')\n",
    "        plt.legend(loc=\"lower right\")\n",
    "        plt.grid(True)\n",
    "        plt.show()\n",
    "\n",
    "    def plot_confusion_matrix(self, figsize: tuple = (8, 6)):\n",
    "        \"\"\"Plot confusion matrix for the final model.\"\"\"\n",
    "        plt.figure(figsize=figsize)\n",
    "        \n",
    "        cm = confusion_matrix(self.y_test, self.y_pred)\n",
    "        sns.heatmap(cm, annot=True, fmt='d', cmap='Blues')\n",
    "        plt.title('Confusion Matrix (Final Model)')\n",
    "        plt.ylabel('True Label')\n",
    "        plt.xlabel('Predicted Label')\n",
    "        plt.tight_layout()\n",
    "        plt.show()\n",
    "\n",
    "    def get_metrics(self) -> dict:\n",
    "        \"\"\"Calculate and return metrics for the final model.\"\"\"\n",
    "        metrics = {\n",
    "            'Accuracy': accuracy_score(self.y_test, self.y_pred),\n",
    "            'Precision': precision_score(self.y_test, self.y_pred),\n",
    "            'Recall': recall_score(self.y_test, self.y_pred),\n",
    "            'F1 Score': f1_score(self.y_test, self.y_pred),\n",
    "            'ROC AUC': roc_auc_score(self.y_test, self.y_pred_proba[:, 1])\n",
    "        }\n",
    "        \n",
    "        return metrics\n",
    "\n",
    "    def print_metrics(self):\n",
    "        \"\"\"Print all metrics in a formatted way.\"\"\"\n",
    "        metrics = self.get_metrics()\n",
    "        \n",
    "        print(\"\\nFinal Model Performance Metrics:\")\n",
    "        print(\"-------------------------------\")\n",
    "        for metric, value in metrics.items():\n",
    "            print(f\"{metric}: {value:.4f}\")\n",
    "\n",
    "    def compare_with_cv_metrics(self, cv_mean_metrics, cv_std_metrics):\n",
    "        \"\"\"Compare final model metrics with cross-validation metrics.\"\"\"\n",
    "        final_metrics = self.get_metrics()\n",
    "        \n",
    "        print(\"\\nMetrics Comparison (Final Model vs. Cross-Validation):\")\n",
    "        print(\"-------------------------------------------------\")\n",
    "        for metric in final_metrics.keys():\n",
    "            final_value = final_metrics[metric]\n",
    "            if metric in cv_mean_metrics:\n",
    "                cv_mean = cv_mean_metrics[metric]\n",
    "                cv_std = cv_std_metrics[metric]\n",
    "                diff = final_value - cv_mean\n",
    "                print(f\"{metric}:\")\n",
    "                print(f\"  - Final Model: {final_value:.4f}\")\n",
    "                print(f\"  - CV Mean:     {cv_mean:.4f} ± {cv_std:.4f}\")\n",
    "                print(f\"  - Difference:  {diff:.4f} ({diff/cv_mean*100:.2f}%)\")\n",
    "            else:\n",
    "                print(f\"{metric}: {final_value:.4f} (CV metric not available)\")\n",
    "\n",
    "    def evaluate_all(self):\n",
    "        \"\"\"Run all evaluations and plots.\"\"\"\n",
    "        self.print_metrics()\n",
    "        self.plot_learning_curve()\n",
    "        self.plot_feature_importance()\n",
    "        self.plot_roc_curve()\n",
    "        self.plot_confusion_matrix()"
   ]
  },
  {
   "cell_type": "code",
   "execution_count": 10,
   "id": "42a44a5d",
   "metadata": {
    "execution": {
     "iopub.execute_input": "2025-03-16T11:16:58.729486Z",
     "iopub.status.busy": "2025-03-16T11:16:58.729486Z",
     "iopub.status.idle": "2025-03-16T11:19:15.983845Z",
     "shell.execute_reply": "2025-03-16T11:19:15.983845Z"
    },
    "papermill": {
     "duration": 137.259763,
     "end_time": "2025-03-16T11:19:15.985249",
     "exception": false,
     "start_time": "2025-03-16T11:16:58.725486",
     "status": "completed"
    },
    "tags": []
   },
   "outputs": [
    {
     "name": "stdout",
     "output_type": "stream",
     "text": [
      "|   iter    |  target   | border... |   depth   | iterat... | l2_lea... | learni... |\n",
      "-------------------------------------------------------------------------------------\n"
     ]
    },
    {
     "name": "stdout",
     "output_type": "stream",
     "text": [
      "| \u001b[39m1        \u001b[39m | \u001b[39m0.6936   \u001b[39m | \u001b[39m69.36    \u001b[39m | \u001b[39m8.901    \u001b[39m | \u001b[39m946.4    \u001b[39m | \u001b[39m4.197    \u001b[39m | \u001b[39m0.02656  \u001b[39m |\n"
     ]
    },
    {
     "name": "stdout",
     "output_type": "stream",
     "text": [
      "| \u001b[39m2        \u001b[39m | \u001b[39m0.6935   \u001b[39m | \u001b[39m63.9     \u001b[39m | \u001b[39m7.116    \u001b[39m | \u001b[39m973.2    \u001b[39m | \u001b[39m4.202    \u001b[39m | \u001b[39m0.03208  \u001b[39m |\n"
     ]
    },
    {
     "name": "stdout",
     "output_type": "stream",
     "text": [
      "| \u001b[39m3        \u001b[39m | \u001b[39m0.6933   \u001b[39m | \u001b[39m68.61    \u001b[39m | \u001b[39m8.156    \u001b[39m | \u001b[39m945.8    \u001b[39m | \u001b[39m4.402    \u001b[39m | \u001b[39m0.02763  \u001b[39m |\n"
     ]
    },
    {
     "name": "stdout",
     "output_type": "stream",
     "text": [
      "| \u001b[35m4        \u001b[39m | \u001b[35m0.6937   \u001b[39m | \u001b[35m82.66    \u001b[39m | \u001b[35m7.211    \u001b[39m | \u001b[35m829.5    \u001b[39m | \u001b[35m4.851    \u001b[39m | \u001b[35m0.03271  \u001b[39m |\n"
     ]
    },
    {
     "name": "stdout",
     "output_type": "stream",
     "text": [
      "| \u001b[39m5        \u001b[39m | \u001b[39m0.6929   \u001b[39m | \u001b[39m74.6     \u001b[39m | \u001b[39m7.096    \u001b[39m | \u001b[39m807.2    \u001b[39m | \u001b[39m3.209    \u001b[39m | \u001b[39m0.02733  \u001b[39m |\n"
     ]
    },
    {
     "name": "stdout",
     "output_type": "stream",
     "text": [
      "| \u001b[39m6        \u001b[39m | \u001b[39m0.6924   \u001b[39m | \u001b[39m71.71    \u001b[39m | \u001b[39m8.986    \u001b[39m | \u001b[39m984.4    \u001b[39m | \u001b[39m3.864    \u001b[39m | \u001b[39m0.02816  \u001b[39m |\n"
     ]
    },
    {
     "name": "stdout",
     "output_type": "stream",
     "text": [
      "| \u001b[35m7        \u001b[39m | \u001b[35m0.694    \u001b[39m | \u001b[35m71.64    \u001b[39m | \u001b[35m8.665    \u001b[39m | \u001b[35m947.8    \u001b[39m | \u001b[35m4.119    \u001b[39m | \u001b[35m0.03391  \u001b[39m |\n"
     ]
    },
    {
     "name": "stdout",
     "output_type": "stream",
     "text": [
      "| \u001b[39m8        \u001b[39m | \u001b[39m0.6926   \u001b[39m | \u001b[39m71.13    \u001b[39m | \u001b[39m8.071    \u001b[39m | \u001b[39m951.3    \u001b[39m | \u001b[39m3.376    \u001b[39m | \u001b[39m0.0267   \u001b[39m |\n"
     ]
    },
    {
     "name": "stdout",
     "output_type": "stream",
     "text": [
      "| \u001b[39m9        \u001b[39m | \u001b[39m0.6939   \u001b[39m | \u001b[39m72.33    \u001b[39m | \u001b[39m8.59     \u001b[39m | \u001b[39m945.9    \u001b[39m | \u001b[39m3.414    \u001b[39m | \u001b[39m0.03281  \u001b[39m |\n"
     ]
    },
    {
     "name": "stdout",
     "output_type": "stream",
     "text": [
      "| \u001b[39m10       \u001b[39m | \u001b[39m0.6938   \u001b[39m | \u001b[39m74.7     \u001b[39m | \u001b[39m8.113    \u001b[39m | \u001b[39m947.2    \u001b[39m | \u001b[39m3.721    \u001b[39m | \u001b[39m0.0256   \u001b[39m |\n"
     ]
    },
    {
     "name": "stdout",
     "output_type": "stream",
     "text": [
      "| \u001b[39m11       \u001b[39m | \u001b[39m0.6939   \u001b[39m | \u001b[39m75.04    \u001b[39m | \u001b[39m8.529    \u001b[39m | \u001b[39m942.7    \u001b[39m | \u001b[39m4.993    \u001b[39m | \u001b[39m0.03226  \u001b[39m |\n"
     ]
    },
    {
     "name": "stdout",
     "output_type": "stream",
     "text": [
      "| \u001b[39m12       \u001b[39m | \u001b[39m0.6934   \u001b[39m | \u001b[39m78.39    \u001b[39m | \u001b[39m7.481    \u001b[39m | \u001b[39m943.2    \u001b[39m | \u001b[39m3.273    \u001b[39m | \u001b[39m0.0292   \u001b[39m |\n",
      "=====================================================================================\n",
      "\n",
      "Best parameters found:\n",
      "border_count: 71\n",
      "depth: 8\n",
      "iterations: 947\n",
      "l2_leaf_reg: 4.1195\n",
      "learning_rate: 0.0339\n",
      "\n",
      "Best CV auc score: 0.6940\n"
     ]
    }
   ],
   "source": [
    "optimizer = CatBoostBayesianOptimizer(\n",
    "    X_train=X_train,\n",
    "    y_train=y_train,\n",
    "    cat_features=cat_features,\n",
    "    eval_metric=\"auc\", \n",
    "    n_splits=5,\n",
    "    random_state=42,\n",
    "    gpu_id=0\n",
    ")\n",
    "\n",
    "#We can also change the iterations of the bayesion and the best points\n",
    "best_params = optimizer.optimize(n_iter=10, n_init_points=2)\n",
    "\n"
   ]
  },
  {
   "cell_type": "code",
   "execution_count": 11,
   "id": "9fea477b",
   "metadata": {
    "execution": {
     "iopub.execute_input": "2025-03-16T11:19:15.995246Z",
     "iopub.status.busy": "2025-03-16T11:19:15.995246Z",
     "iopub.status.idle": "2025-03-16T11:20:25.181121Z",
     "shell.execute_reply": "2025-03-16T11:20:25.181121Z"
    },
    "papermill": {
     "duration": 69.191881,
     "end_time": "2025-03-16T11:20:25.182128",
     "exception": false,
     "start_time": "2025-03-16T11:19:15.990247",
     "status": "completed"
    },
    "tags": []
   },
   "outputs": [
    {
     "name": "stdout",
     "output_type": "stream",
     "text": [
      "\n",
      "Performing 5-fold CV to determine optimal iterations...\n",
      "0:\tlearn: 0.6901736\ttest: 0.6903521\tbest: 0.6903521 (0)\ttotal: 14.8ms\tremaining: 14s\n"
     ]
    },
    {
     "name": "stdout",
     "output_type": "stream",
     "text": [
      "100:\tlearn: 0.6313302\ttest: 0.6416053\tbest: 0.6416053 (100)\ttotal: 1.4s\tremaining: 11.7s\n"
     ]
    },
    {
     "name": "stdout",
     "output_type": "stream",
     "text": [
      "200:\tlearn: 0.6204272\ttest: 0.6374760\tbest: 0.6374760 (200)\ttotal: 2.68s\tremaining: 9.93s\n"
     ]
    },
    {
     "name": "stdout",
     "output_type": "stream",
     "text": [
      "300:\tlearn: 0.6123268\ttest: 0.6352959\tbest: 0.6352959 (300)\ttotal: 4.04s\tremaining: 8.68s\n"
     ]
    },
    {
     "name": "stdout",
     "output_type": "stream",
     "text": [
      "400:\tlearn: 0.6032183\ttest: 0.6340502\tbest: 0.6340502 (400)\ttotal: 5.41s\tremaining: 7.37s\n"
     ]
    },
    {
     "name": "stdout",
     "output_type": "stream",
     "text": [
      "500:\tlearn: 0.5938559\ttest: 0.6333271\tbest: 0.6333271 (500)\ttotal: 6.72s\tremaining: 5.99s\n"
     ]
    },
    {
     "name": "stdout",
     "output_type": "stream",
     "text": [
      "600:\tlearn: 0.5865278\ttest: 0.6328712\tbest: 0.6328597 (599)\ttotal: 8.01s\tremaining: 4.61s\n"
     ]
    },
    {
     "name": "stdout",
     "output_type": "stream",
     "text": [
      "700:\tlearn: 0.5788757\ttest: 0.6326976\tbest: 0.6326226 (678)\ttotal: 9.29s\tremaining: 3.26s\n"
     ]
    },
    {
     "name": "stdout",
     "output_type": "stream",
     "text": [
      "Stopped by overfitting detector  (50 iterations wait)\n",
      "\n",
      "bestTest = 0.6326036139\n",
      "bestIteration = 714\n",
      "\n",
      "Shrink model to first 715 iterations.\n",
      "Fold 1 auc score: 0.6876, Best iteration: 714\n",
      "0:\tlearn: 0.6903568\ttest: 0.6904831\tbest: 0.6904831 (0)\ttotal: 15.5ms\tremaining: 14.6s\n"
     ]
    },
    {
     "name": "stdout",
     "output_type": "stream",
     "text": [
      "100:\tlearn: 0.6311974\ttest: 0.6406745\tbest: 0.6406745 (100)\ttotal: 1.4s\tremaining: 11.7s\n"
     ]
    },
    {
     "name": "stdout",
     "output_type": "stream",
     "text": [
      "200:\tlearn: 0.6202710\ttest: 0.6363987\tbest: 0.6363987 (200)\ttotal: 2.74s\tremaining: 10.2s\n"
     ]
    },
    {
     "name": "stdout",
     "output_type": "stream",
     "text": [
      "300:\tlearn: 0.6125041\ttest: 0.6345031\tbest: 0.6345031 (300)\ttotal: 4.04s\tremaining: 8.67s\n"
     ]
    },
    {
     "name": "stdout",
     "output_type": "stream",
     "text": [
      "400:\tlearn: 0.6028085\ttest: 0.6331722\tbest: 0.6331722 (400)\ttotal: 5.38s\tremaining: 7.33s\n"
     ]
    },
    {
     "name": "stdout",
     "output_type": "stream",
     "text": [
      "500:\tlearn: 0.5937428\ttest: 0.6325356\tbest: 0.6325343 (497)\ttotal: 6.73s\tremaining: 5.99s\n"
     ]
    },
    {
     "name": "stdout",
     "output_type": "stream",
     "text": [
      "600:\tlearn: 0.5858841\ttest: 0.6320937\tbest: 0.6320565 (589)\ttotal: 8.07s\tremaining: 4.64s\n"
     ]
    },
    {
     "name": "stdout",
     "output_type": "stream",
     "text": [
      "700:\tlearn: 0.5782500\ttest: 0.6320276\tbest: 0.6319459 (674)\ttotal: 9.43s\tremaining: 3.31s\n"
     ]
    },
    {
     "name": "stdout",
     "output_type": "stream",
     "text": [
      "Stopped by overfitting detector  (50 iterations wait)\n",
      "\n",
      "bestTest = 0.6319459323\n",
      "bestIteration = 674\n",
      "\n",
      "Shrink model to first 675 iterations.\n",
      "Fold 2 auc score: 0.6885, Best iteration: 674\n",
      "0:\tlearn: 0.6902289\ttest: 0.6903390\tbest: 0.6903390 (0)\ttotal: 13.8ms\tremaining: 13.1s\n"
     ]
    },
    {
     "name": "stdout",
     "output_type": "stream",
     "text": [
      "100:\tlearn: 0.6317590\ttest: 0.6413645\tbest: 0.6413645 (100)\ttotal: 1.32s\tremaining: 11.1s\n"
     ]
    },
    {
     "name": "stdout",
     "output_type": "stream",
     "text": [
      "200:\tlearn: 0.6202478\ttest: 0.6369376\tbest: 0.6369376 (200)\ttotal: 2.65s\tremaining: 9.83s\n"
     ]
    },
    {
     "name": "stdout",
     "output_type": "stream",
     "text": [
      "300:\tlearn: 0.6118329\ttest: 0.6350840\tbest: 0.6350840 (300)\ttotal: 4.11s\tremaining: 8.82s\n"
     ]
    },
    {
     "name": "stdout",
     "output_type": "stream",
     "text": [
      "400:\tlearn: 0.6024511\ttest: 0.6336242\tbest: 0.6336242 (400)\ttotal: 5.51s\tremaining: 7.51s\n"
     ]
    },
    {
     "name": "stdout",
     "output_type": "stream",
     "text": [
      "500:\tlearn: 0.5930618\ttest: 0.6328182\tbest: 0.6328178 (498)\ttotal: 6.87s\tremaining: 6.12s\n"
     ]
    },
    {
     "name": "stdout",
     "output_type": "stream",
     "text": [
      "600:\tlearn: 0.5849483\ttest: 0.6321808\tbest: 0.6321808 (600)\ttotal: 8.22s\tremaining: 4.73s\n"
     ]
    },
    {
     "name": "stdout",
     "output_type": "stream",
     "text": [
      "700:\tlearn: 0.5777340\ttest: 0.6318716\tbest: 0.6318588 (695)\ttotal: 9.56s\tremaining: 3.35s\n"
     ]
    },
    {
     "name": "stdout",
     "output_type": "stream",
     "text": [
      "800:\tlearn: 0.5706318\ttest: 0.6318094\tbest: 0.6317520 (757)\ttotal: 10.9s\tremaining: 1.98s\n",
      "Stopped by overfitting detector  (50 iterations wait)\n",
      "\n",
      "bestTest = 0.6317520169\n",
      "bestIteration = 757\n",
      "\n",
      "Shrink model to first 758 iterations.\n",
      "Fold 3 auc score: 0.6898, Best iteration: 757\n"
     ]
    },
    {
     "name": "stdout",
     "output_type": "stream",
     "text": [
      "0:\tlearn: 0.6903871\ttest: 0.6903503\tbest: 0.6903503 (0)\ttotal: 14.6ms\tremaining: 13.9s\n"
     ]
    },
    {
     "name": "stdout",
     "output_type": "stream",
     "text": [
      "100:\tlearn: 0.6325330\ttest: 0.6384492\tbest: 0.6384492 (100)\ttotal: 1.34s\tremaining: 11.3s\n"
     ]
    },
    {
     "name": "stdout",
     "output_type": "stream",
     "text": [
      "200:\tlearn: 0.6209942\ttest: 0.6335138\tbest: 0.6335138 (200)\ttotal: 2.71s\tremaining: 10s\n"
     ]
    },
    {
     "name": "stdout",
     "output_type": "stream",
     "text": [
      "300:\tlearn: 0.6126572\ttest: 0.6312461\tbest: 0.6312461 (300)\ttotal: 4.09s\tremaining: 8.78s\n"
     ]
    },
    {
     "name": "stdout",
     "output_type": "stream",
     "text": [
      "400:\tlearn: 0.6032609\ttest: 0.6295434\tbest: 0.6295422 (399)\ttotal: 5.54s\tremaining: 7.55s\n"
     ]
    },
    {
     "name": "stdout",
     "output_type": "stream",
     "text": [
      "500:\tlearn: 0.5941621\ttest: 0.6283966\tbest: 0.6283966 (500)\ttotal: 6.95s\tremaining: 6.19s\n"
     ]
    },
    {
     "name": "stdout",
     "output_type": "stream",
     "text": [
      "600:\tlearn: 0.5865832\ttest: 0.6277522\tbest: 0.6277407 (591)\ttotal: 8.29s\tremaining: 4.78s\n"
     ]
    },
    {
     "name": "stdout",
     "output_type": "stream",
     "text": [
      "700:\tlearn: 0.5792278\ttest: 0.6273859\tbest: 0.6273859 (700)\ttotal: 9.62s\tremaining: 3.38s\n"
     ]
    },
    {
     "name": "stdout",
     "output_type": "stream",
     "text": [
      "800:\tlearn: 0.5722606\ttest: 0.6271214\tbest: 0.6271214 (800)\ttotal: 11s\tremaining: 2s\n"
     ]
    },
    {
     "name": "stdout",
     "output_type": "stream",
     "text": [
      "900:\tlearn: 0.5654229\ttest: 0.6269318\tbest: 0.6269308 (896)\ttotal: 12.3s\tremaining: 630ms\n"
     ]
    },
    {
     "name": "stdout",
     "output_type": "stream",
     "text": [
      "946:\tlearn: 0.5624850\ttest: 0.6268284\tbest: 0.6268284 (946)\ttotal: 13s\tremaining: 0us\n",
      "\n",
      "bestTest = 0.6268284062\n",
      "bestIteration = 946\n",
      "\n",
      "Fold 4 auc score: 0.6960, Best iteration: 946\n",
      "0:\tlearn: 0.6903096\ttest: 0.6903719\tbest: 0.6903719 (0)\ttotal: 15.4ms\tremaining: 14.6s\n"
     ]
    },
    {
     "name": "stdout",
     "output_type": "stream",
     "text": [
      "100:\tlearn: 0.6318142\ttest: 0.6397813\tbest: 0.6397813 (100)\ttotal: 1.4s\tremaining: 11.8s\n"
     ]
    },
    {
     "name": "stdout",
     "output_type": "stream",
     "text": [
      "200:\tlearn: 0.6209127\ttest: 0.6351035\tbest: 0.6351035 (200)\ttotal: 2.82s\tremaining: 10.5s\n"
     ]
    },
    {
     "name": "stdout",
     "output_type": "stream",
     "text": [
      "300:\tlearn: 0.6130254\ttest: 0.6328571\tbest: 0.6328571 (300)\ttotal: 4.22s\tremaining: 9.05s\n"
     ]
    },
    {
     "name": "stdout",
     "output_type": "stream",
     "text": [
      "400:\tlearn: 0.6030261\ttest: 0.6312083\tbest: 0.6311637 (395)\ttotal: 5.58s\tremaining: 7.59s\n"
     ]
    },
    {
     "name": "stdout",
     "output_type": "stream",
     "text": [
      "500:\tlearn: 0.5934335\ttest: 0.6303791\tbest: 0.6303721 (499)\ttotal: 6.96s\tremaining: 6.2s\n"
     ]
    },
    {
     "name": "stdout",
     "output_type": "stream",
     "text": [
      "600:\tlearn: 0.5853116\ttest: 0.6296772\tbest: 0.6296772 (600)\ttotal: 8.31s\tremaining: 4.79s\n"
     ]
    },
    {
     "name": "stdout",
     "output_type": "stream",
     "text": [
      "700:\tlearn: 0.5774614\ttest: 0.6292756\tbest: 0.6292732 (681)\ttotal: 9.65s\tremaining: 3.39s\n"
     ]
    },
    {
     "name": "stdout",
     "output_type": "stream",
     "text": [
      "800:\tlearn: 0.5703763\ttest: 0.6291607\tbest: 0.6290974 (770)\ttotal: 11.1s\tremaining: 2.02s\n"
     ]
    },
    {
     "name": "stdout",
     "output_type": "stream",
     "text": [
      "Stopped by overfitting detector  (50 iterations wait)\n",
      "\n",
      "bestTest = 0.6290974021\n",
      "bestIteration = 770\n",
      "\n",
      "Shrink model to first 771 iterations.\n",
      "Fold 5 auc score: 0.6929, Best iteration: 770\n",
      "\n",
      "CV Results:\n",
      "Average auc score: 0.6910 ± 0.0031\n",
      "Optimal iterations (median across folds): 757\n",
      "\n",
      "Training final model on training dataset with 757 iterations...\n"
     ]
    },
    {
     "name": "stdout",
     "output_type": "stream",
     "text": [
      "0:\tlearn: 0.6902436\ttest: 0.6904437\tbest: 0.6904437 (0)\ttotal: 17.4ms\tremaining: 13.1s\n"
     ]
    },
    {
     "name": "stdout",
     "output_type": "stream",
     "text": [
      "100:\tlearn: 0.6321497\ttest: 0.6414759\tbest: 0.6414759 (100)\ttotal: 1.48s\tremaining: 9.59s\n"
     ]
    },
    {
     "name": "stdout",
     "output_type": "stream",
     "text": [
      "200:\tlearn: 0.6220089\ttest: 0.6373511\tbest: 0.6373511 (200)\ttotal: 2.89s\tremaining: 8.01s\n"
     ]
    },
    {
     "name": "stdout",
     "output_type": "stream",
     "text": [
      "300:\tlearn: 0.6142639\ttest: 0.6349307\tbest: 0.6349307 (300)\ttotal: 4.4s\tremaining: 6.67s\n"
     ]
    },
    {
     "name": "stdout",
     "output_type": "stream",
     "text": [
      "400:\tlearn: 0.6058201\ttest: 0.6332872\tbest: 0.6332872 (400)\ttotal: 5.95s\tremaining: 5.28s\n"
     ]
    },
    {
     "name": "stdout",
     "output_type": "stream",
     "text": [
      "500:\tlearn: 0.5972216\ttest: 0.6321682\tbest: 0.6321296 (498)\ttotal: 7.66s\tremaining: 3.91s\n"
     ]
    },
    {
     "name": "stdout",
     "output_type": "stream",
     "text": [
      "600:\tlearn: 0.5893275\ttest: 0.6314902\tbest: 0.6313937 (588)\ttotal: 9.71s\tremaining: 2.52s\n"
     ]
    },
    {
     "name": "stdout",
     "output_type": "stream",
     "text": [
      "700:\tlearn: 0.5827482\ttest: 0.6312137\tbest: 0.6311733 (688)\ttotal: 11.3s\tremaining: 906ms\n"
     ]
    },
    {
     "name": "stdout",
     "output_type": "stream",
     "text": [
      "756:\tlearn: 0.5793915\ttest: 0.6310174\tbest: 0.6310174 (756)\ttotal: 12.1s\tremaining: 0us\n",
      "\n",
      "bestTest = 0.6310174175\n",
      "bestIteration = 756\n",
      "\n"
     ]
    }
   ],
   "source": [
    "# Select best model using SKCV and train final model\n",
    "final_model, cv_score, cv_std = optimizer.Final_model(best_params)\n"
   ]
  },
  {
   "cell_type": "code",
   "execution_count": 12,
   "id": "82122de6",
   "metadata": {
    "execution": {
     "iopub.execute_input": "2025-03-16T11:20:25.195127Z",
     "iopub.status.busy": "2025-03-16T11:20:25.195127Z",
     "iopub.status.idle": "2025-03-16T11:20:25.766147Z",
     "shell.execute_reply": "2025-03-16T11:20:25.766147Z"
    },
    "papermill": {
     "duration": 0.579027,
     "end_time": "2025-03-16T11:20:25.767153",
     "exception": false,
     "start_time": "2025-03-16T11:20:25.188126",
     "status": "completed"
    },
    "tags": []
   },
   "outputs": [
    {
     "name": "stdout",
     "output_type": "stream",
     "text": [
      "\n",
      "Final Model Performance Metrics:\n",
      "-------------------------------\n",
      "Accuracy: 0.6425\n",
      "Precision: 0.6344\n",
      "Recall: 0.5208\n",
      "F1 Score: 0.5721\n",
      "ROC AUC: 0.6957\n"
     ]
    },
    {
     "data": {
      "image/png": "[encoded data removed]",
      "text/plain": [
       "<Figure size 1200x500 with 1 Axes>"
      ]
     },
     "metadata": {},
     "output_type": "display_data"
    },
    {
     "data": {
      "image/png": "[encoded data removed]",
      "text/plain": [
       "<Figure size 1000x600 with 1 Axes>"
      ]
     },
     "metadata": {},
     "output_type": "display_data"
    },
    {
     "data": {
      "image/png": "[encoded data removed]",
      "text/plain": [
       "<Figure size 800x600 with 1 Axes>"
      ]
     },
     "metadata": {},
     "output_type": "display_data"
    },
    {
     "data": {
      "image/png": "[encoded data removed]",
      "text/plain": [
       "<Figure size 800x600 with 2 Axes>"
      ]
     },
     "metadata": {},
     "output_type": "display_data"
    }
   ],
   "source": [
    "# Now evaluate the final model\n",
    "evaluator = FinalModelEvaluator(\n",
    "    model=final_model,\n",
    "    X_train=X_train,\n",
    "    y_train=y_train,\n",
    "    X_test=X_test,\n",
    "    y_test=y_test,\n",
    "    cat_features=cat_features\n",
    ")\n",
    "\n",
    "# Run all evaluations\n",
    "evaluator.evaluate_all()\n"
   ]
  },
  {
   "cell_type": "code",
   "execution_count": 13,
   "id": "b9b97a33",
   "metadata": {
    "execution": {
     "iopub.execute_input": "2025-03-16T11:20:25.782151Z",
     "iopub.status.busy": "2025-03-16T11:20:25.782151Z",
     "iopub.status.idle": "2025-03-16T11:20:25.801666Z",
     "shell.execute_reply": "2025-03-16T11:20:25.801161Z"
    },
    "papermill": {
     "duration": 0.027518,
     "end_time": "2025-03-16T11:20:25.802672",
     "exception": false,
     "start_time": "2025-03-16T11:20:25.775154",
     "status": "completed"
    },
    "tags": []
   },
   "outputs": [],
   "source": [
    "os.makedirs('saved_models', exist_ok=True)\n",
    "final_model.save_model('saved_models/Bayesian_Opt_Catboost.cbm')"
   ]
  }
 ],
 "metadata": {
  "kernelspec": {
   "display_name": "env",
   "language": "python",
   "name": "python3"
  },
  "language_info": {
   "codemirror_mode": {
    "name": "ipython",
    "version": 3
   },
   "file_extension": ".py",
   "mimetype": "text/x-python",
   "name": "python",
   "nbconvert_exporter": "python",
   "pygments_lexer": "ipython3",
   "version": "3.11.0"
  },
  "papermill": {
   "default_parameters": {},
   "duration": 219.758439,
   "end_time": "2025-03-16T11:20:26.477405",
   "environment_variables": {},
   "exception": null,
   "input_path": "model/Bayesian_Opt_Catboost Binary.ipynb",
   "output_path": "temp\\notebooks\\output_1742123806.ipynb",
   "parameters": {
    "algorithm": "bayesian",
    "dataset_path": "temp\\74dd5fb6-2f4d-47ff-922c-204bccce77b8.csv",
    "model_output_path": "saved_models/Bayesian_Opt_Catboost_1742123806.cbm"
   },
   "start_time": "2025-03-16T11:16:46.718966",
   "version": "2.6.0"
  }
 },
 "nbformat": 4,
 "nbformat_minor": 5
}
