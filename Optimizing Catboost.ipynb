{
 "cells": [
  {
   "cell_type": "code",
   "execution_count": 30,
   "id": "681983cb-0f3b-48a5-8276-c42dd3d0d47a",
   "metadata": {},
   "outputs": [
    {
     "name": "stdout",
     "output_type": "stream",
     "text": [
      "---1---\n",
      "Requirement already satisfied: pandas in .\\env\\lib\\site-packages (2.2.3)\n",
      "Requirement already satisfied: numpy>=1.23.2 in .\\env\\lib\\site-packages (from pandas) (1.26.4)\n",
      "Requirement already satisfied: python-dateutil>=2.8.2 in .\\env\\lib\\site-packages (from pandas) (2.9.0.post0)\n",
      "Requirement already satisfied: pytz>=2020.1 in .\\env\\lib\\site-packages (from pandas) (2024.2)\n",
      "Requirement already satisfied: tzdata>=2022.7 in .\\env\\lib\\site-packages (from pandas) (2024.2)\n",
      "Requirement already satisfied: six>=1.5 in .\\env\\lib\\site-packages (from python-dateutil>=2.8.2->pandas) (1.17.0)\n",
      "Note: you may need to restart the kernel to use updated packages.\n",
      "---2---\n",
      "Requirement already satisfied: seaborn in .\\env\\lib\\site-packages (0.13.2)\n",
      "Requirement already satisfied: numpy!=1.24.0,>=1.20 in .\\env\\lib\\site-packages (from seaborn) (1.26.4)\n",
      "Requirement already satisfied: pandas>=1.2 in .\\env\\lib\\site-packages (from seaborn) (2.2.3)\n",
      "Requirement already satisfied: matplotlib!=3.6.1,>=3.4 in .\\env\\lib\\site-packages (from seaborn) (3.10.0)\n",
      "Requirement already satisfied: contourpy>=1.0.1 in .\\env\\lib\\site-packages (from matplotlib!=3.6.1,>=3.4->seaborn) (1.3.1)\n",
      "Requirement already satisfied: cycler>=0.10 in .\\env\\lib\\site-packages (from matplotlib!=3.6.1,>=3.4->seaborn) (0.12.1)\n",
      "Requirement already satisfied: fonttools>=4.22.0 in .\\env\\lib\\site-packages (from matplotlib!=3.6.1,>=3.4->seaborn) (4.55.3)\n",
      "Requirement already satisfied: kiwisolver>=1.3.1 in .\\env\\lib\\site-packages (from matplotlib!=3.6.1,>=3.4->seaborn) (1.4.7)\n",
      "Requirement already satisfied: packaging>=20.0 in .\\env\\lib\\site-packages (from matplotlib!=3.6.1,>=3.4->seaborn) (24.2)\n",
      "Requirement already satisfied: pillow>=8 in .\\env\\lib\\site-packages (from matplotlib!=3.6.1,>=3.4->seaborn) (11.0.0)\n",
      "Requirement already satisfied: pyparsing>=2.3.1 in .\\env\\lib\\site-packages (from matplotlib!=3.6.1,>=3.4->seaborn) (3.2.0)\n",
      "Requirement already satisfied: python-dateutil>=2.7 in .\\env\\lib\\site-packages (from matplotlib!=3.6.1,>=3.4->seaborn) (2.9.0.post0)\n",
      "Requirement already satisfied: pytz>=2020.1 in .\\env\\lib\\site-packages (from pandas>=1.2->seaborn) (2024.2)\n",
      "Requirement already satisfied: tzdata>=2022.7 in .\\env\\lib\\site-packages (from pandas>=1.2->seaborn) (2024.2)\n",
      "Requirement already satisfied: six>=1.5 in .\\env\\lib\\site-packages (from python-dateutil>=2.7->matplotlib!=3.6.1,>=3.4->seaborn) (1.17.0)\n",
      "Note: you may need to restart the kernel to use updated packages.\n",
      "---3---\n",
      "Requirement already satisfied: scikit-learn in .\\env\\lib\\site-packages (1.6.1)Note: you may need to restart the kernel to use updated packages.\n",
      "---4---\n",
      "\n",
      "Requirement already satisfied: numpy>=1.19.5 in .\\env\\lib\\site-packages (from scikit-learn) (1.26.4)\n",
      "Requirement already satisfied: scipy>=1.6.0 in .\\env\\lib\\site-packages (from scikit-learn) (1.14.1)\n",
      "Requirement already satisfied: joblib>=1.2.0 in .\\env\\lib\\site-packages (from scikit-learn) (1.4.2)\n",
      "Requirement already satisfied: threadpoolctl>=3.1.0 in .\\env\\lib\\site-packages (from scikit-learn) (3.5.0)\n",
      "Requirement already satisfied: catboost in .\\env\\lib\\site-packages (1.2.7)\n",
      "Requirement already satisfied: graphviz in .\\env\\lib\\site-packages (from catboost) (0.20.3)\n",
      "Requirement already satisfied: matplotlib in .\\env\\lib\\site-packages (from catboost) (3.10.0)\n",
      "Requirement already satisfied: numpy<2.0,>=1.16.0 in .\\env\\lib\\site-packages (from catboost) (1.26.4)\n",
      "Requirement already satisfied: pandas>=0.24 in .\\env\\lib\\site-packages (from catboost) (2.2.3)\n",
      "Requirement already satisfied: scipy in .\\env\\lib\\site-packages (from catboost) (1.14.1)\n",
      "Requirement already satisfied: plotly in .\\env\\lib\\site-packages (from catboost) (5.24.1)\n",
      "Requirement already satisfied: six in .\\env\\lib\\site-packages (from catboost) (1.17.0)\n",
      "Requirement already satisfied: python-dateutil>=2.8.2 in .\\env\\lib\\site-packages (from pandas>=0.24->catboost) (2.9.0.post0)\n",
      "Requirement already satisfied: pytz>=2020.1 in .\\env\\lib\\site-packages (from pandas>=0.24->catboost) (2024.2)\n",
      "Requirement already satisfied: tzdata>=2022.7 in .\\env\\lib\\site-packages (from pandas>=0.24->catboost) (2024.2)\n",
      "Requirement already satisfied: contourpy>=1.0.1 in .\\env\\lib\\site-packages (from matplotlib->catboost) (1.3.1)\n",
      "Requirement already satisfied: cycler>=0.10 in .\\env\\lib\\site-packages (from matplotlib->catboost) (0.12.1)\n",
      "Requirement already satisfied: fonttools>=4.22.0 in .\\env\\lib\\site-packages (from matplotlib->catboost) (4.55.3)\n",
      "Requirement already satisfied: kiwisolver>=1.3.1 in .\\env\\lib\\site-packages (from matplotlib->catboost) (1.4.7)\n",
      "Requirement already satisfied: packaging>=20.0 in .\\env\\lib\\site-packages (from matplotlib->catboost) (24.2)\n",
      "Requirement already satisfied: pillow>=8 in .\\env\\lib\\site-packages (from matplotlib->catboost) (11.0.0)\n",
      "Requirement already satisfied: pyparsing>=2.3.1 in .\\env\\lib\\site-packages (from matplotlib->catboost) (3.2.0)\n",
      "Requirement already satisfied: tenacity>=6.2.0 in .\\env\\lib\\site-packages (from plotly->catboost) (9.0.0)\n",
      "Note: you may need to restart the kernel to use updated packages.\n",
      "---5---\n",
      "Requirement already satisfied: ipywidgets in .\\env\\lib\\site-packages (8.1.5)\n",
      "Requirement already satisfied: comm>=0.1.3 in .\\env\\lib\\site-packages (from ipywidgets) (0.2.2)\n",
      "Requirement already satisfied: ipython>=6.1.0 in .\\env\\lib\\site-packages (from ipywidgets) (8.31.0)\n",
      "Requirement already satisfied: traitlets>=4.3.1 in .\\env\\lib\\site-packages (from ipywidgets) (5.14.3)\n",
      "Requirement already satisfied: widgetsnbextension~=4.0.12 in .\\env\\lib\\site-packages (from ipywidgets) (4.0.13)\n",
      "Requirement already satisfied: jupyterlab-widgets~=3.0.12 in .\\env\\lib\\site-packages (from ipywidgets) (3.0.13)\n",
      "Requirement already satisfied: colorama in .\\env\\lib\\site-packages (from ipython>=6.1.0->ipywidgets) (0.4.6)\n",
      "Requirement already satisfied: decorator in .\\env\\lib\\site-packages (from ipython>=6.1.0->ipywidgets) (5.1.1)\n",
      "Requirement already satisfied: jedi>=0.16 in .\\env\\lib\\site-packages (from ipython>=6.1.0->ipywidgets) (0.19.2)\n",
      "Requirement already satisfied: matplotlib-inline in .\\env\\lib\\site-packages (from ipython>=6.1.0->ipywidgets) (0.1.7)\n",
      "Requirement already satisfied: prompt_toolkit<3.1.0,>=3.0.41 in .\\env\\lib\\site-packages (from ipython>=6.1.0->ipywidgets) (3.0.50)\n",
      "Requirement already satisfied: pygments>=2.4.0 in .\\env\\lib\\site-packages (from ipython>=6.1.0->ipywidgets) (2.19.1)\n",
      "Requirement already satisfied: stack_data in .\\env\\lib\\site-packages (from ipython>=6.1.0->ipywidgets) (0.6.3)\n",
      "Requirement already satisfied: typing_extensions>=4.6 in .\\env\\lib\\site-packages (from ipython>=6.1.0->ipywidgets) (4.12.2)\n",
      "Requirement already satisfied: parso<0.9.0,>=0.8.4 in .\\env\\lib\\site-packages (from jedi>=0.16->ipython>=6.1.0->ipywidgets) (0.8.4)\n",
      "Requirement already satisfied: wcwidth in .\\env\\lib\\site-packages (from prompt_toolkit<3.1.0,>=3.0.41->ipython>=6.1.0->ipywidgets) (0.2.13)\n",
      "Requirement already satisfied: executing>=1.2.0 in .\\env\\lib\\site-packages (from stack_data->ipython>=6.1.0->ipywidgets) (2.1.0)\n",
      "Requirement already satisfied: asttokens>=2.1.0 in .\\env\\lib\\site-packages (from stack_data->ipython>=6.1.0->ipywidgets) (3.0.0)\n",
      "Requirement already satisfied: pure-eval in .\\env\\lib\\site-packages (from stack_data->ipython>=6.1.0->ipywidgets) (0.2.3)\n",
      "Note: you may need to restart the kernel to use updated packages.\n",
      "---6---\n",
      "Requirement already satisfied: pandas in .\\env\\lib\\site-packages (2.2.3)\n",
      "Requirement already satisfied: openpyxl in .\\env\\lib\\site-packages (3.1.5)\n",
      "Requirement already satisfied: numpy>=1.23.2 in .\\env\\lib\\site-packages (from pandas) (1.26.4)\n",
      "Requirement already satisfied: python-dateutil>=2.8.2 in .\\env\\lib\\site-packages (from pandas) (2.9.0.post0)\n",
      "Requirement already satisfied: pytz>=2020.1 in .\\env\\lib\\site-packages (from pandas) (2024.2)\n",
      "Requirement already satisfied: tzdata>=2022.7 in .\\env\\lib\\site-packages (from pandas) (2024.2)\n",
      "Requirement already satisfied: et-xmlfile in .\\env\\lib\\site-packages (from openpyxl) (2.0.0)\n",
      "Requirement already satisfied: six>=1.5 in .\\env\\lib\\site-packages (from python-dateutil>=2.8.2->pandas) (1.17.0)\n",
      "Note: you may need to restart the kernel to use updated packages.\n"
     ]
    }
   ],
   "source": [
    "#PIP INSTALLATION\n",
    "print('---1---')\n",
    "%pip install pandas\n",
    "print('---2---')\n",
    "%pip install seaborn\n",
    "print('---3---')\n",
    "%pip install scikit-learn\n",
    "print('---4---')\n",
    "%pip install catboost\n",
    "print('---5---')\n",
    "%pip install ipywidgets\n",
    "print('---6---')\n",
    "%pip install pandas openpyxl\n"
   ]
  },
  {
   "cell_type": "code",
   "execution_count": 31,
   "id": "007b7ecb-c7f7-40c7-a50a-b7d8bd468704",
   "metadata": {},
   "outputs": [],
   "source": [
    "#FROM LIBRARIES\n",
    "from sklearn.model_selection import train_test_split\n",
    "from sklearn.preprocessing import StandardScaler\n",
    "from catboost import CatBoostClassifier, Pool\n",
    "from IPython.display import FileLink\n",
    "from sklearn.preprocessing import LabelEncoder\n",
    "from sklearn.metrics import accuracy_score"
   ]
  },
  {
   "cell_type": "code",
   "execution_count": 32,
   "id": "0d0170a8-f974-4663-b0da-a536e654c3ab",
   "metadata": {},
   "outputs": [],
   "source": [
    "#IMPORT AS\n",
    "import numpy as np\n",
    "import pandas as pd\n",
    "import seaborn as sns\n",
    "\n",
    "import matplotlib.pyplot as plt\n",
    "%matplotlib inline\n",
    "plt.style.use('ggplot')\n"
   ]
  },
  {
   "cell_type": "code",
   "execution_count": 33,
   "id": "d92e7141-3441-4a97-835a-ef1897779b0f",
   "metadata": {},
   "outputs": [],
   "source": [
    "file_path = 'Dataset/diabetic_data.csv'\n",
    "df = pd.read_csv(file_path,keep_default_na=False)"
   ]
  },
  {
   "cell_type": "code",
   "execution_count": 34,
   "id": "816b319d-ea10-4efe-83fb-279cd543f3e6",
   "metadata": {},
   "outputs": [],
   "source": [
    "df_clean = df.copy()"
   ]
  },
  {
   "cell_type": "code",
   "execution_count": 35,
   "id": "fda5ba7c-c242-4f8c-a537-f1cb171f9a13",
   "metadata": {},
   "outputs": [
    {
     "data": {
      "text/html": [
       "<div>\n",
       "<style scoped>\n",
       "    .dataframe tbody tr th:only-of-type {\n",
       "        vertical-align: middle;\n",
       "    }\n",
       "\n",
       "    .dataframe tbody tr th {\n",
       "        vertical-align: top;\n",
       "    }\n",
       "\n",
       "    .dataframe thead th {\n",
       "        text-align: right;\n",
       "    }\n",
       "</style>\n",
       "<table border=\"1\" class=\"dataframe\">\n",
       "  <thead>\n",
       "    <tr style=\"text-align: right;\">\n",
       "      <th></th>\n",
       "      <th>encounter_id</th>\n",
       "      <th>patient_nbr</th>\n",
       "      <th>race</th>\n",
       "      <th>gender</th>\n",
       "      <th>age</th>\n",
       "      <th>weight</th>\n",
       "      <th>admission_type_id</th>\n",
       "      <th>discharge_disposition_id</th>\n",
       "      <th>admission_source_id</th>\n",
       "      <th>time_in_hospital</th>\n",
       "      <th>...</th>\n",
       "      <th>citoglipton</th>\n",
       "      <th>insulin</th>\n",
       "      <th>glyburide-metformin</th>\n",
       "      <th>glipizide-metformin</th>\n",
       "      <th>glimepiride-pioglitazone</th>\n",
       "      <th>metformin-rosiglitazone</th>\n",
       "      <th>metformin-pioglitazone</th>\n",
       "      <th>change</th>\n",
       "      <th>diabetesMed</th>\n",
       "      <th>readmitted</th>\n",
       "    </tr>\n",
       "  </thead>\n",
       "  <tbody>\n",
       "    <tr>\n",
       "      <th>0</th>\n",
       "      <td>2278392</td>\n",
       "      <td>8222157</td>\n",
       "      <td>Caucasian</td>\n",
       "      <td>Female</td>\n",
       "      <td>[0-10)</td>\n",
       "      <td>?</td>\n",
       "      <td>6</td>\n",
       "      <td>25</td>\n",
       "      <td>1</td>\n",
       "      <td>1</td>\n",
       "      <td>...</td>\n",
       "      <td>No</td>\n",
       "      <td>No</td>\n",
       "      <td>No</td>\n",
       "      <td>No</td>\n",
       "      <td>No</td>\n",
       "      <td>No</td>\n",
       "      <td>No</td>\n",
       "      <td>No</td>\n",
       "      <td>No</td>\n",
       "      <td>NO</td>\n",
       "    </tr>\n",
       "    <tr>\n",
       "      <th>1</th>\n",
       "      <td>149190</td>\n",
       "      <td>55629189</td>\n",
       "      <td>Caucasian</td>\n",
       "      <td>Female</td>\n",
       "      <td>[10-20)</td>\n",
       "      <td>?</td>\n",
       "      <td>1</td>\n",
       "      <td>1</td>\n",
       "      <td>7</td>\n",
       "      <td>3</td>\n",
       "      <td>...</td>\n",
       "      <td>No</td>\n",
       "      <td>Up</td>\n",
       "      <td>No</td>\n",
       "      <td>No</td>\n",
       "      <td>No</td>\n",
       "      <td>No</td>\n",
       "      <td>No</td>\n",
       "      <td>Ch</td>\n",
       "      <td>Yes</td>\n",
       "      <td>&gt;30</td>\n",
       "    </tr>\n",
       "    <tr>\n",
       "      <th>2</th>\n",
       "      <td>64410</td>\n",
       "      <td>86047875</td>\n",
       "      <td>AfricanAmerican</td>\n",
       "      <td>Female</td>\n",
       "      <td>[20-30)</td>\n",
       "      <td>?</td>\n",
       "      <td>1</td>\n",
       "      <td>1</td>\n",
       "      <td>7</td>\n",
       "      <td>2</td>\n",
       "      <td>...</td>\n",
       "      <td>No</td>\n",
       "      <td>No</td>\n",
       "      <td>No</td>\n",
       "      <td>No</td>\n",
       "      <td>No</td>\n",
       "      <td>No</td>\n",
       "      <td>No</td>\n",
       "      <td>No</td>\n",
       "      <td>Yes</td>\n",
       "      <td>NO</td>\n",
       "    </tr>\n",
       "    <tr>\n",
       "      <th>3</th>\n",
       "      <td>500364</td>\n",
       "      <td>82442376</td>\n",
       "      <td>Caucasian</td>\n",
       "      <td>Male</td>\n",
       "      <td>[30-40)</td>\n",
       "      <td>?</td>\n",
       "      <td>1</td>\n",
       "      <td>1</td>\n",
       "      <td>7</td>\n",
       "      <td>2</td>\n",
       "      <td>...</td>\n",
       "      <td>No</td>\n",
       "      <td>Up</td>\n",
       "      <td>No</td>\n",
       "      <td>No</td>\n",
       "      <td>No</td>\n",
       "      <td>No</td>\n",
       "      <td>No</td>\n",
       "      <td>Ch</td>\n",
       "      <td>Yes</td>\n",
       "      <td>NO</td>\n",
       "    </tr>\n",
       "    <tr>\n",
       "      <th>4</th>\n",
       "      <td>16680</td>\n",
       "      <td>42519267</td>\n",
       "      <td>Caucasian</td>\n",
       "      <td>Male</td>\n",
       "      <td>[40-50)</td>\n",
       "      <td>?</td>\n",
       "      <td>1</td>\n",
       "      <td>1</td>\n",
       "      <td>7</td>\n",
       "      <td>1</td>\n",
       "      <td>...</td>\n",
       "      <td>No</td>\n",
       "      <td>Steady</td>\n",
       "      <td>No</td>\n",
       "      <td>No</td>\n",
       "      <td>No</td>\n",
       "      <td>No</td>\n",
       "      <td>No</td>\n",
       "      <td>Ch</td>\n",
       "      <td>Yes</td>\n",
       "      <td>NO</td>\n",
       "    </tr>\n",
       "  </tbody>\n",
       "</table>\n",
       "<p>5 rows × 50 columns</p>\n",
       "</div>"
      ],
      "text/plain": [
       "   encounter_id  patient_nbr             race  gender      age weight  \\\n",
       "0       2278392      8222157        Caucasian  Female   [0-10)      ?   \n",
       "1        149190     55629189        Caucasian  Female  [10-20)      ?   \n",
       "2         64410     86047875  AfricanAmerican  Female  [20-30)      ?   \n",
       "3        500364     82442376        Caucasian    Male  [30-40)      ?   \n",
       "4         16680     42519267        Caucasian    Male  [40-50)      ?   \n",
       "\n",
       "   admission_type_id  discharge_disposition_id  admission_source_id  \\\n",
       "0                  6                        25                    1   \n",
       "1                  1                         1                    7   \n",
       "2                  1                         1                    7   \n",
       "3                  1                         1                    7   \n",
       "4                  1                         1                    7   \n",
       "\n",
       "   time_in_hospital  ... citoglipton insulin  glyburide-metformin  \\\n",
       "0                 1  ...          No      No                   No   \n",
       "1                 3  ...          No      Up                   No   \n",
       "2                 2  ...          No      No                   No   \n",
       "3                 2  ...          No      Up                   No   \n",
       "4                 1  ...          No  Steady                   No   \n",
       "\n",
       "   glipizide-metformin  glimepiride-pioglitazone  metformin-rosiglitazone  \\\n",
       "0                   No                        No                       No   \n",
       "1                   No                        No                       No   \n",
       "2                   No                        No                       No   \n",
       "3                   No                        No                       No   \n",
       "4                   No                        No                       No   \n",
       "\n",
       "   metformin-pioglitazone  change diabetesMed readmitted  \n",
       "0                      No      No          No         NO  \n",
       "1                      No      Ch         Yes        >30  \n",
       "2                      No      No         Yes         NO  \n",
       "3                      No      Ch         Yes         NO  \n",
       "4                      No      Ch         Yes         NO  \n",
       "\n",
       "[5 rows x 50 columns]"
      ]
     },
     "execution_count": 35,
     "metadata": {},
     "output_type": "execute_result"
    }
   ],
   "source": [
    "df_clean.head()"
   ]
  },
  {
   "cell_type": "code",
   "execution_count": 36,
   "id": "66f03d94-b072-4b51-b344-bdc5c5e6c1e2",
   "metadata": {},
   "outputs": [
    {
     "data": {
      "text/html": [
       "<div>\n",
       "<style scoped>\n",
       "    .dataframe tbody tr th:only-of-type {\n",
       "        vertical-align: middle;\n",
       "    }\n",
       "\n",
       "    .dataframe tbody tr th {\n",
       "        vertical-align: top;\n",
       "    }\n",
       "\n",
       "    .dataframe thead th {\n",
       "        text-align: right;\n",
       "    }\n",
       "</style>\n",
       "<table border=\"1\" class=\"dataframe\">\n",
       "  <thead>\n",
       "    <tr style=\"text-align: right;\">\n",
       "      <th></th>\n",
       "      <th>encounter_id</th>\n",
       "      <th>patient_nbr</th>\n",
       "      <th>admission_type_id</th>\n",
       "      <th>discharge_disposition_id</th>\n",
       "      <th>admission_source_id</th>\n",
       "      <th>time_in_hospital</th>\n",
       "      <th>num_lab_procedures</th>\n",
       "      <th>num_procedures</th>\n",
       "      <th>num_medications</th>\n",
       "      <th>number_outpatient</th>\n",
       "      <th>number_emergency</th>\n",
       "      <th>number_inpatient</th>\n",
       "      <th>number_diagnoses</th>\n",
       "    </tr>\n",
       "  </thead>\n",
       "  <tbody>\n",
       "    <tr>\n",
       "      <th>count</th>\n",
       "      <td>1.017660e+05</td>\n",
       "      <td>1.017660e+05</td>\n",
       "      <td>101766.000000</td>\n",
       "      <td>101766.000000</td>\n",
       "      <td>101766.000000</td>\n",
       "      <td>101766.000000</td>\n",
       "      <td>101766.000000</td>\n",
       "      <td>101766.000000</td>\n",
       "      <td>101766.000000</td>\n",
       "      <td>101766.000000</td>\n",
       "      <td>101766.000000</td>\n",
       "      <td>101766.000000</td>\n",
       "      <td>101766.000000</td>\n",
       "    </tr>\n",
       "    <tr>\n",
       "      <th>mean</th>\n",
       "      <td>1.652016e+08</td>\n",
       "      <td>5.433040e+07</td>\n",
       "      <td>2.024006</td>\n",
       "      <td>3.715642</td>\n",
       "      <td>5.754437</td>\n",
       "      <td>4.395987</td>\n",
       "      <td>43.095641</td>\n",
       "      <td>1.339730</td>\n",
       "      <td>16.021844</td>\n",
       "      <td>0.369357</td>\n",
       "      <td>0.197836</td>\n",
       "      <td>0.635566</td>\n",
       "      <td>7.422607</td>\n",
       "    </tr>\n",
       "    <tr>\n",
       "      <th>std</th>\n",
       "      <td>1.026403e+08</td>\n",
       "      <td>3.869636e+07</td>\n",
       "      <td>1.445403</td>\n",
       "      <td>5.280166</td>\n",
       "      <td>4.064081</td>\n",
       "      <td>2.985108</td>\n",
       "      <td>19.674362</td>\n",
       "      <td>1.705807</td>\n",
       "      <td>8.127566</td>\n",
       "      <td>1.267265</td>\n",
       "      <td>0.930472</td>\n",
       "      <td>1.262863</td>\n",
       "      <td>1.933600</td>\n",
       "    </tr>\n",
       "    <tr>\n",
       "      <th>min</th>\n",
       "      <td>1.252200e+04</td>\n",
       "      <td>1.350000e+02</td>\n",
       "      <td>1.000000</td>\n",
       "      <td>1.000000</td>\n",
       "      <td>1.000000</td>\n",
       "      <td>1.000000</td>\n",
       "      <td>1.000000</td>\n",
       "      <td>0.000000</td>\n",
       "      <td>1.000000</td>\n",
       "      <td>0.000000</td>\n",
       "      <td>0.000000</td>\n",
       "      <td>0.000000</td>\n",
       "      <td>1.000000</td>\n",
       "    </tr>\n",
       "    <tr>\n",
       "      <th>25%</th>\n",
       "      <td>8.496119e+07</td>\n",
       "      <td>2.341322e+07</td>\n",
       "      <td>1.000000</td>\n",
       "      <td>1.000000</td>\n",
       "      <td>1.000000</td>\n",
       "      <td>2.000000</td>\n",
       "      <td>31.000000</td>\n",
       "      <td>0.000000</td>\n",
       "      <td>10.000000</td>\n",
       "      <td>0.000000</td>\n",
       "      <td>0.000000</td>\n",
       "      <td>0.000000</td>\n",
       "      <td>6.000000</td>\n",
       "    </tr>\n",
       "    <tr>\n",
       "      <th>50%</th>\n",
       "      <td>1.523890e+08</td>\n",
       "      <td>4.550514e+07</td>\n",
       "      <td>1.000000</td>\n",
       "      <td>1.000000</td>\n",
       "      <td>7.000000</td>\n",
       "      <td>4.000000</td>\n",
       "      <td>44.000000</td>\n",
       "      <td>1.000000</td>\n",
       "      <td>15.000000</td>\n",
       "      <td>0.000000</td>\n",
       "      <td>0.000000</td>\n",
       "      <td>0.000000</td>\n",
       "      <td>8.000000</td>\n",
       "    </tr>\n",
       "    <tr>\n",
       "      <th>75%</th>\n",
       "      <td>2.302709e+08</td>\n",
       "      <td>8.754595e+07</td>\n",
       "      <td>3.000000</td>\n",
       "      <td>4.000000</td>\n",
       "      <td>7.000000</td>\n",
       "      <td>6.000000</td>\n",
       "      <td>57.000000</td>\n",
       "      <td>2.000000</td>\n",
       "      <td>20.000000</td>\n",
       "      <td>0.000000</td>\n",
       "      <td>0.000000</td>\n",
       "      <td>1.000000</td>\n",
       "      <td>9.000000</td>\n",
       "    </tr>\n",
       "    <tr>\n",
       "      <th>max</th>\n",
       "      <td>4.438672e+08</td>\n",
       "      <td>1.895026e+08</td>\n",
       "      <td>8.000000</td>\n",
       "      <td>28.000000</td>\n",
       "      <td>25.000000</td>\n",
       "      <td>14.000000</td>\n",
       "      <td>132.000000</td>\n",
       "      <td>6.000000</td>\n",
       "      <td>81.000000</td>\n",
       "      <td>42.000000</td>\n",
       "      <td>76.000000</td>\n",
       "      <td>21.000000</td>\n",
       "      <td>16.000000</td>\n",
       "    </tr>\n",
       "  </tbody>\n",
       "</table>\n",
       "</div>"
      ],
      "text/plain": [
       "       encounter_id   patient_nbr  admission_type_id  \\\n",
       "count  1.017660e+05  1.017660e+05      101766.000000   \n",
       "mean   1.652016e+08  5.433040e+07           2.024006   \n",
       "std    1.026403e+08  3.869636e+07           1.445403   \n",
       "min    1.252200e+04  1.350000e+02           1.000000   \n",
       "25%    8.496119e+07  2.341322e+07           1.000000   \n",
       "50%    1.523890e+08  4.550514e+07           1.000000   \n",
       "75%    2.302709e+08  8.754595e+07           3.000000   \n",
       "max    4.438672e+08  1.895026e+08           8.000000   \n",
       "\n",
       "       discharge_disposition_id  admission_source_id  time_in_hospital  \\\n",
       "count             101766.000000        101766.000000     101766.000000   \n",
       "mean                   3.715642             5.754437          4.395987   \n",
       "std                    5.280166             4.064081          2.985108   \n",
       "min                    1.000000             1.000000          1.000000   \n",
       "25%                    1.000000             1.000000          2.000000   \n",
       "50%                    1.000000             7.000000          4.000000   \n",
       "75%                    4.000000             7.000000          6.000000   \n",
       "max                   28.000000            25.000000         14.000000   \n",
       "\n",
       "       num_lab_procedures  num_procedures  num_medications  number_outpatient  \\\n",
       "count       101766.000000   101766.000000    101766.000000      101766.000000   \n",
       "mean            43.095641        1.339730        16.021844           0.369357   \n",
       "std             19.674362        1.705807         8.127566           1.267265   \n",
       "min              1.000000        0.000000         1.000000           0.000000   \n",
       "25%             31.000000        0.000000        10.000000           0.000000   \n",
       "50%             44.000000        1.000000        15.000000           0.000000   \n",
       "75%             57.000000        2.000000        20.000000           0.000000   \n",
       "max            132.000000        6.000000        81.000000          42.000000   \n",
       "\n",
       "       number_emergency  number_inpatient  number_diagnoses  \n",
       "count     101766.000000     101766.000000     101766.000000  \n",
       "mean           0.197836          0.635566          7.422607  \n",
       "std            0.930472          1.262863          1.933600  \n",
       "min            0.000000          0.000000          1.000000  \n",
       "25%            0.000000          0.000000          6.000000  \n",
       "50%            0.000000          0.000000          8.000000  \n",
       "75%            0.000000          1.000000          9.000000  \n",
       "max           76.000000         21.000000         16.000000  "
      ]
     },
     "execution_count": 36,
     "metadata": {},
     "output_type": "execute_result"
    }
   ],
   "source": [
    "df_clean.describe()"
   ]
  },
  {
   "cell_type": "code",
   "execution_count": 37,
   "id": "6d140a4d-da7c-41d0-8890-54c4f35d3405",
   "metadata": {},
   "outputs": [
    {
     "name": "stdout",
     "output_type": "stream",
     "text": [
      "['encounter_id', 'patient_nbr', 'race', 'gender', 'age', 'weight', 'admission_type_id', 'discharge_disposition_id', 'admission_source_id', 'time_in_hospital', 'payer_code', 'medical_specialty', 'num_lab_procedures', 'num_procedures', 'num_medications', 'number_outpatient', 'number_emergency', 'number_inpatient', 'diag_1', 'diag_2', 'diag_3', 'number_diagnoses', 'max_glu_serum', 'A1Cresult', 'metformin', 'repaglinide', 'nateglinide', 'chlorpropamide', 'glimepiride', 'acetohexamide', 'glipizide', 'glyburide', 'tolbutamide', 'pioglitazone', 'rosiglitazone', 'acarbose', 'miglitol', 'troglitazone', 'tolazamide', 'examide', 'citoglipton', 'insulin', 'glyburide-metformin', 'glipizide-metformin', 'glimepiride-pioglitazone', 'metformin-rosiglitazone', 'metformin-pioglitazone', 'change', 'diabetesMed', 'readmitted']\n"
     ]
    }
   ],
   "source": [
    "print(list(df_clean))"
   ]
  },
  {
   "cell_type": "markdown",
   "id": "afc4d879",
   "metadata": {},
   "source": [
    "Data Cleaning "
   ]
  },
  {
   "cell_type": "code",
   "execution_count": 38,
   "id": "63b3c087-2e7b-4086-bc7a-4d2f5420f08e",
   "metadata": {},
   "outputs": [
    {
     "data": {
      "text/plain": [
       "patient_nbr\n",
       "88785891     40\n",
       "43140906     28\n",
       "1660293      23\n",
       "88227540     23\n",
       "23199021     23\n",
       "             ..\n",
       "11005362      1\n",
       "98252496      1\n",
       "1019673       1\n",
       "13396320      1\n",
       "175429310     1\n",
       "Name: count, Length: 71518, dtype: int64"
      ]
     },
     "execution_count": 38,
     "metadata": {},
     "output_type": "execute_result"
    }
   ],
   "source": [
    "#REMOVING DUPLICATE DATA'S\n",
    "df_clean['patient_nbr'].value_counts()"
   ]
  },
  {
   "cell_type": "code",
   "execution_count": 39,
   "id": "e9855497-1066-4b1e-93b3-241bf86f0efb",
   "metadata": {},
   "outputs": [],
   "source": [
    "df_clean = df_clean.drop_duplicates(subset=['patient_nbr'])\n",
    "#END REMOVING DUPLICATE DATA'S"
   ]
  },
  {
   "cell_type": "markdown",
   "id": "215ec990",
   "metadata": {},
   "source": [
    "There are 30,248 total of Duplicate Data's which the unique data consist only 71,518"
   ]
  },
  {
   "cell_type": "code",
   "execution_count": 40,
   "id": "1bca7cd8-29bc-472c-89ae-75e1512ab0c8",
   "metadata": {},
   "outputs": [
    {
     "name": "stdout",
     "output_type": "stream",
     "text": [
      "<class 'pandas.core.frame.DataFrame'>\n",
      "Index: 71518 entries, 0 to 101765\n",
      "Data columns (total 50 columns):\n",
      " #   Column                    Non-Null Count  Dtype \n",
      "---  ------                    --------------  ----- \n",
      " 0   encounter_id              71518 non-null  int64 \n",
      " 1   patient_nbr               71518 non-null  int64 \n",
      " 2   race                      71518 non-null  object\n",
      " 3   gender                    71518 non-null  object\n",
      " 4   age                       71518 non-null  object\n",
      " 5   weight                    71518 non-null  object\n",
      " 6   admission_type_id         71518 non-null  int64 \n",
      " 7   discharge_disposition_id  71518 non-null  int64 \n",
      " 8   admission_source_id       71518 non-null  int64 \n",
      " 9   time_in_hospital          71518 non-null  int64 \n",
      " 10  payer_code                71518 non-null  object\n",
      " 11  medical_specialty         71518 non-null  object\n",
      " 12  num_lab_procedures        71518 non-null  int64 \n",
      " 13  num_procedures            71518 non-null  int64 \n",
      " 14  num_medications           71518 non-null  int64 \n",
      " 15  number_outpatient         71518 non-null  int64 \n",
      " 16  number_emergency          71518 non-null  int64 \n",
      " 17  number_inpatient          71518 non-null  int64 \n",
      " 18  diag_1                    71518 non-null  object\n",
      " 19  diag_2                    71518 non-null  object\n",
      " 20  diag_3                    71518 non-null  object\n",
      " 21  number_diagnoses          71518 non-null  int64 \n",
      " 22  max_glu_serum             71518 non-null  object\n",
      " 23  A1Cresult                 71518 non-null  object\n",
      " 24  metformin                 71518 non-null  object\n",
      " 25  repaglinide               71518 non-null  object\n",
      " 26  nateglinide               71518 non-null  object\n",
      " 27  chlorpropamide            71518 non-null  object\n",
      " 28  glimepiride               71518 non-null  object\n",
      " 29  acetohexamide             71518 non-null  object\n",
      " 30  glipizide                 71518 non-null  object\n",
      " 31  glyburide                 71518 non-null  object\n",
      " 32  tolbutamide               71518 non-null  object\n",
      " 33  pioglitazone              71518 non-null  object\n",
      " 34  rosiglitazone             71518 non-null  object\n",
      " 35  acarbose                  71518 non-null  object\n",
      " 36  miglitol                  71518 non-null  object\n",
      " 37  troglitazone              71518 non-null  object\n",
      " 38  tolazamide                71518 non-null  object\n",
      " 39  examide                   71518 non-null  object\n",
      " 40  citoglipton               71518 non-null  object\n",
      " 41  insulin                   71518 non-null  object\n",
      " 42  glyburide-metformin       71518 non-null  object\n",
      " 43  glipizide-metformin       71518 non-null  object\n",
      " 44  glimepiride-pioglitazone  71518 non-null  object\n",
      " 45  metformin-rosiglitazone   71518 non-null  object\n",
      " 46  metformin-pioglitazone    71518 non-null  object\n",
      " 47  change                    71518 non-null  object\n",
      " 48  diabetesMed               71518 non-null  object\n",
      " 49  readmitted                71518 non-null  object\n",
      "dtypes: int64(13), object(37)\n",
      "memory usage: 27.8+ MB\n"
     ]
    }
   ],
   "source": [
    "df_clean.info()"
   ]
  },
  {
   "cell_type": "markdown",
   "id": "a0d9f547",
   "metadata": {},
   "source": [
    "Value of each drug that most patient uses"
   ]
  },
  {
   "cell_type": "code",
   "execution_count": 53,
   "id": "fa05a2a5",
   "metadata": {},
   "outputs": [
    {
     "name": "stdout",
     "output_type": "stream",
     "text": [
      "metformin\n",
      "No        81778\n",
      "Steady    18346\n",
      "Up         1067\n",
      "Down        575\n",
      "Name: count, dtype: int64\n",
      "-----------------------------\n",
      "repaglinide\n",
      "No        100227\n",
      "Steady      1384\n",
      "Up           110\n",
      "Down          45\n",
      "Name: count, dtype: int64\n",
      "-----------------------------\n",
      "nateglinide\n",
      "No        101063\n",
      "Steady       668\n",
      "Up            24\n",
      "Down          11\n",
      "Name: count, dtype: int64\n",
      "-----------------------------\n",
      "chlorpropamide\n",
      "No        101680\n",
      "Steady        79\n",
      "Up             6\n",
      "Down           1\n",
      "Name: count, dtype: int64\n"
     ]
    }
   ],
   "source": [
    "print(df['metformin'].value_counts())\n",
    "print(\"-----------------------------\")\n",
    "print(df['repaglinide'].value_counts())\n",
    "print(\"-----------------------------\")\n",
    "print(df['nateglinide'].value_counts())\n",
    "print(\"-----------------------------\")\n",
    "print(df['chlorpropamide'].value_counts())"
   ]
  },
  {
   "cell_type": "code",
   "execution_count": 52,
   "id": "a937c13b",
   "metadata": {},
   "outputs": [
    {
     "name": "stdout",
     "output_type": "stream",
     "text": [
      "glimepiride\n",
      "No        96575\n",
      "Steady     4670\n",
      "Up          327\n",
      "Down        194\n",
      "Name: count, dtype: int64\n",
      "-----------------------------\n",
      "acetohexamide\n",
      "No        101765\n",
      "Steady         1\n",
      "Name: count, dtype: int64\n",
      "-----------------------------\n",
      "glipizide\n",
      "No        89080\n",
      "Steady    11356\n",
      "Up          770\n",
      "Down        560\n",
      "Name: count, dtype: int64\n"
     ]
    }
   ],
   "source": [
    "print(df['glimepiride'].value_counts())\n",
    "print(\"-----------------------------\")\n",
    "print(df['acetohexamide'].value_counts())\n",
    "print(\"-----------------------------\")\n",
    "print(df['glipizide'].value_counts())\n",
    "print(\"-----------------------------\")\n",
    "print(df['glyburide'].value_counts())\n"
   ]
  },
  {
   "cell_type": "code",
   "execution_count": 54,
   "id": "b77cbf2f",
   "metadata": {},
   "outputs": [
    {
     "name": "stdout",
     "output_type": "stream",
     "text": [
      "tolbutamide\n",
      "No        101743\n",
      "Steady        23\n",
      "Name: count, dtype: int64\n",
      "-----------------------------\n",
      "pioglitazone\n",
      "No        94438\n",
      "Steady     6976\n",
      "Up          234\n",
      "Down        118\n",
      "Name: count, dtype: int64\n",
      "-----------------------------\n",
      "rosiglitazone\n",
      "No        95401\n",
      "Steady     6100\n",
      "Up          178\n",
      "Down         87\n",
      "Name: count, dtype: int64\n",
      "-----------------------------\n",
      "acarbose\n",
      "No        101458\n",
      "Steady       295\n",
      "Up            10\n",
      "Down           3\n",
      "Name: count, dtype: int64\n"
     ]
    }
   ],
   "source": [
    "print(df['tolbutamide'].value_counts())\n",
    "print(\"-----------------------------\")\n",
    "print(df['pioglitazone'].value_counts())\n",
    "print(\"-----------------------------\")\n",
    "print(df['rosiglitazone'].value_counts())\n",
    "print(\"-----------------------------\")\n",
    "print(df['acarbose'].value_counts())"
   ]
  },
  {
   "cell_type": "code",
   "execution_count": 55,
   "id": "685bd26e",
   "metadata": {},
   "outputs": [
    {
     "name": "stdout",
     "output_type": "stream",
     "text": [
      "miglitol\n",
      "No        101728\n",
      "Steady        31\n",
      "Down           5\n",
      "Up             2\n",
      "Name: count, dtype: int64\n",
      "-----------------------------\n",
      "troglitazone\n",
      "No        101763\n",
      "Steady         3\n",
      "Name: count, dtype: int64\n",
      "-----------------------------\n",
      "tolazamide\n",
      "No        101727\n",
      "Steady        38\n",
      "Up             1\n",
      "Name: count, dtype: int64\n",
      "-----------------------------\n",
      "examide\n",
      "No    101766\n",
      "Name: count, dtype: int64\n"
     ]
    }
   ],
   "source": [
    "print(df['miglitol'].value_counts())\n",
    "print(\"-----------------------------\")\n",
    "print(df['troglitazone'].value_counts())\n",
    "print(\"-----------------------------\")\n",
    "print(df['tolazamide'].value_counts())\n",
    "print(\"-----------------------------\")\n",
    "print(df['examide'].value_counts())"
   ]
  },
  {
   "cell_type": "code",
   "execution_count": 56,
   "id": "94e8826b",
   "metadata": {},
   "outputs": [
    {
     "name": "stdout",
     "output_type": "stream",
     "text": [
      "citoglipton\n",
      "No    101766\n",
      "Name: count, dtype: int64\n",
      "-----------------------------\n",
      "insulin\n",
      "No        47383\n",
      "Steady    30849\n",
      "Down      12218\n",
      "Up        11316\n",
      "Name: count, dtype: int64\n",
      "-----------------------------\n",
      "glyburide-metformin\n",
      "No        101060\n",
      "Steady       692\n",
      "Up             8\n",
      "Down           6\n",
      "Name: count, dtype: int64\n",
      "-----------------------------\n",
      "glipizide-metformin\n",
      "No        101753\n",
      "Steady        13\n",
      "Name: count, dtype: int64\n"
     ]
    }
   ],
   "source": [
    "print(df['citoglipton'].value_counts())\n",
    "print(\"-----------------------------\")\n",
    "print(df['insulin'].value_counts())\n",
    "print(\"-----------------------------\")\n",
    "print(df['glyburide-metformin'].value_counts())\n",
    "print(\"-----------------------------\")\n",
    "print(df['glipizide-metformin'].value_counts())"
   ]
  },
  {
   "cell_type": "code",
   "execution_count": 57,
   "id": "e52eb279",
   "metadata": {},
   "outputs": [
    {
     "name": "stdout",
     "output_type": "stream",
     "text": [
      "glimepiride-pioglitazone\n",
      "No        101765\n",
      "Steady         1\n",
      "Name: count, dtype: int64\n",
      "-----------------------------\n",
      "metformin-rosiglitazone\n",
      "No        101764\n",
      "Steady         2\n",
      "Name: count, dtype: int64\n",
      "-----------------------------\n",
      "metformin-pioglitazone\n",
      "No        101765\n",
      "Steady         1\n",
      "Name: count, dtype: int64\n"
     ]
    }
   ],
   "source": [
    "print(df['glimepiride-pioglitazone'].value_counts())\n",
    "print(\"-----------------------------\")\n",
    "print(df['metformin-rosiglitazone'].value_counts())\n",
    "print(\"-----------------------------\")\n",
    "print(df['metformin-pioglitazone'].value_counts())"
   ]
  },
  {
   "cell_type": "markdown",
   "id": "3cead83d",
   "metadata": {},
   "source": [
    "Removing features that is not useful for our target readmittied\n",
    "\n",
    "encounter_id  => Irrelevant \n",
    "\n",
    "Patient_nbr => Irrelevant since this is only the ID of the patient\n",
    "\n",
    "Weight => Consist of 97% missing value\n",
    "\n",
    "Payer_code => Irrelevant since this only a payment method\n",
    "\n",
    "... to be Continue"
   ]
  },
  {
   "cell_type": "code",
   "execution_count": 11,
   "id": "d4b2a6e2-c9e2-4380-bdf4-0b45a6047333",
   "metadata": {},
   "outputs": [],
   "source": [
    "features_drop_list = ['encounter_id', 'patient_nbr', 'weight', 'payer_code', 'medical_specialty', 'repaglinide', 'nateglinide', 'chlorpropamide', 'acarbose', 'miglitol', 'troglitazone', 'tolazamide', 'examide', 'citoglipton', 'glyburide-metformin', 'glipizide-metformin', 'glimepiride-pioglitazone', 'metformin-rosiglitazone','metformin-pioglitazone', 'acetohexamide', 'tolbutamide']\n"
   ]
  },
  {
   "cell_type": "code",
   "execution_count": 12,
   "id": "8a61be89-12cc-4679-bd9b-411043538384",
   "metadata": {},
   "outputs": [],
   "source": [
    "df_clean.drop(features_drop_list, axis=1, inplace=True)\n",
    "\n"
   ]
  },
  {
   "cell_type": "code",
   "execution_count": 13,
   "id": "3c58ee30-71ce-4b06-bea0-d0a69fd81bab",
   "metadata": {},
   "outputs": [
    {
     "name": "stdout",
     "output_type": "stream",
     "text": [
      "<class 'pandas.core.frame.DataFrame'>\n",
      "Index: 71518 entries, 0 to 101765\n",
      "Data columns (total 29 columns):\n",
      " #   Column                    Non-Null Count  Dtype \n",
      "---  ------                    --------------  ----- \n",
      " 0   race                      71518 non-null  object\n",
      " 1   gender                    71518 non-null  object\n",
      " 2   age                       71518 non-null  object\n",
      " 3   admission_type_id         71518 non-null  int64 \n",
      " 4   discharge_disposition_id  71518 non-null  int64 \n",
      " 5   admission_source_id       71518 non-null  int64 \n",
      " 6   time_in_hospital          71518 non-null  int64 \n",
      " 7   num_lab_procedures        71518 non-null  int64 \n",
      " 8   num_procedures            71518 non-null  int64 \n",
      " 9   num_medications           71518 non-null  int64 \n",
      " 10  number_outpatient         71518 non-null  int64 \n",
      " 11  number_emergency          71518 non-null  int64 \n",
      " 12  number_inpatient          71518 non-null  int64 \n",
      " 13  diag_1                    71518 non-null  object\n",
      " 14  diag_2                    71518 non-null  object\n",
      " 15  diag_3                    71518 non-null  object\n",
      " 16  number_diagnoses          71518 non-null  int64 \n",
      " 17  max_glu_serum             71518 non-null  object\n",
      " 18  A1Cresult                 71518 non-null  object\n",
      " 19  metformin                 71518 non-null  object\n",
      " 20  glimepiride               71518 non-null  object\n",
      " 21  glipizide                 71518 non-null  object\n",
      " 22  glyburide                 71518 non-null  object\n",
      " 23  pioglitazone              71518 non-null  object\n",
      " 24  rosiglitazone             71518 non-null  object\n",
      " 25  insulin                   71518 non-null  object\n",
      " 26  change                    71518 non-null  object\n",
      " 27  diabetesMed               71518 non-null  object\n",
      " 28  readmitted                71518 non-null  object\n",
      "dtypes: int64(11), object(18)\n",
      "memory usage: 16.4+ MB\n"
     ]
    }
   ],
   "source": [
    "df_clean.info()"
   ]
  },
  {
   "cell_type": "markdown",
   "id": "f4e9bc5b",
   "metadata": {},
   "source": [
    "Understand the Diagnosis..."
   ]
  },
  {
   "cell_type": "code",
   "execution_count": 14,
   "id": "b1729aef-e47e-4b74-bd68-b7bcd4f0f896",
   "metadata": {},
   "outputs": [],
   "source": [
    "#start by setting all values containing E or V into 0 (as one category)\n",
    "df_clean.loc[df_clean['diag_1'].str.contains('V',na=False,case=False), 'diag_1'] = 0\n",
    "df_clean.loc[df_clean['diag_1'].str.contains('E',na=False,case=False), 'diag_1'] = 0\n",
    "df_clean.loc[df_clean['diag_2'].str.contains('V',na=False,case=False), 'diag_2'] = 0\n",
    "df_clean.loc[df_clean['diag_2'].str.contains('E',na=False,case=False), 'diag_2'] = 0\n",
    "df_clean.loc[df_clean['diag_3'].str.contains('V',na=False,case=False), 'diag_3'] = 0\n",
    "df_clean.loc[df_clean['diag_3'].str.contains('E',na=False,case=False), 'diag_3'] = 0\n",
    "\n",
    "#setting all missing values into -1\n",
    "df_clean['diag_1'] = df_clean['diag_1'].replace('?', -1)\n",
    "df_clean['diag_2'] = df_clean['diag_2'].replace('?', -1)\n",
    "df_clean['diag_3'] = df_clean['diag_3'].replace('?', -1)\n",
    "\n",
    "#No all diag values can be converted into numeric values\n",
    "df_clean['diag_1'] = df_clean['diag_1'].astype(float)\n",
    "df_clean['diag_2'] = df_clean['diag_2'].astype(float)\n",
    "df_clean['diag_3'] = df_clean['diag_3'].astype(float)"
   ]
  },
  {
   "cell_type": "code",
   "execution_count": 15,
   "id": "a4f22dd2-4587-40e9-83cc-4c19a6d032cb",
   "metadata": {},
   "outputs": [
    {
     "name": "stdout",
     "output_type": "stream",
     "text": [
      "              race  gender      age  admission_type_id  \\\n",
      "0        Caucasian  Female   [0-10)                  6   \n",
      "1        Caucasian  Female  [10-20)                  1   \n",
      "2  AfricanAmerican  Female  [20-30)                  1   \n",
      "3        Caucasian    Male  [30-40)                  1   \n",
      "4        Caucasian    Male  [40-50)                  1   \n",
      "\n",
      "   discharge_disposition_id  admission_source_id  time_in_hospital  \\\n",
      "0                        25                    1                 1   \n",
      "1                         1                    7                 3   \n",
      "2                         1                    7                 2   \n",
      "3                         1                    7                 2   \n",
      "4                         1                    7                 1   \n",
      "\n",
      "   num_lab_procedures  num_procedures  num_medications  ...  metformin  \\\n",
      "0                  41               0                1  ...         No   \n",
      "1                  59               0               18  ...         No   \n",
      "2                  11               5               13  ...         No   \n",
      "3                  44               1               16  ...         No   \n",
      "4                  51               0                8  ...         No   \n",
      "\n",
      "   glimepiride  glipizide  glyburide  pioglitazone  rosiglitazone  insulin  \\\n",
      "0           No         No         No            No             No       No   \n",
      "1           No         No         No            No             No       Up   \n",
      "2           No     Steady         No            No             No       No   \n",
      "3           No         No         No            No             No       Up   \n",
      "4           No     Steady         No            No             No   Steady   \n",
      "\n",
      "  change diabetesMed readmitted  \n",
      "0     No          No         NO  \n",
      "1     Ch         Yes        >30  \n",
      "2     No         Yes         NO  \n",
      "3     Ch         Yes         NO  \n",
      "4     Ch         Yes         NO  \n",
      "\n",
      "[5 rows x 29 columns]\n"
     ]
    }
   ],
   "source": [
    "print(df_clean.head())"
   ]
  },
  {
   "cell_type": "code",
   "execution_count": 17,
   "id": "63eeb9cf-5505-478c-b949-b5f71ce4f9c9",
   "metadata": {},
   "outputs": [],
   "source": [
    "df_clean['race'] = df_clean['race'].replace('?', 'Other')"
   ]
  },
  {
   "cell_type": "code",
   "execution_count": 18,
   "id": "a4143818-01ba-4d9a-a658-a92eb3810886",
   "metadata": {},
   "outputs": [
    {
     "data": {
      "text/plain": [
       "race\n",
       "Caucasian          53491\n",
       "AfricanAmerican    12887\n",
       "Other               3126\n",
       "Hispanic            1517\n",
       "Asian                497\n",
       "Name: count, dtype: int64"
      ]
     },
     "execution_count": 18,
     "metadata": {},
     "output_type": "execute_result"
    }
   ],
   "source": [
    "df_clean.race.value_counts()"
   ]
  },
  {
   "cell_type": "code",
   "execution_count": 19,
   "id": "e144915b-5338-4b4c-a96a-75e48b74f80e",
   "metadata": {},
   "outputs": [
    {
     "name": "stdout",
     "output_type": "stream",
     "text": [
      "0         False\n",
      "1         False\n",
      "2         False\n",
      "3         False\n",
      "4         False\n",
      "          ...  \n",
      "101754    False\n",
      "101755    False\n",
      "101756    False\n",
      "101758    False\n",
      "101765    False\n",
      "Name: race, Length: 71518, dtype: bool\n"
     ]
    }
   ],
   "source": [
    "print(df_clean['race'].isna())"
   ]
  },
  {
   "cell_type": "code",
   "execution_count": 20,
   "id": "7a695780-852d-4087-8cb5-5938dfca2120",
   "metadata": {},
   "outputs": [
    {
     "data": {
      "text/plain": [
       "gender\n",
       "Female             38025\n",
       "Male               33490\n",
       "Unknown/Invalid        3\n",
       "Name: count, dtype: int64"
      ]
     },
     "execution_count": 20,
     "metadata": {},
     "output_type": "execute_result"
    }
   ],
   "source": [
    "df_clean.gender.value_counts()"
   ]
  },
  {
   "cell_type": "code",
   "execution_count": 21,
   "id": "8ea34506-7da3-4d4d-b62e-530f16e921f2",
   "metadata": {},
   "outputs": [
    {
     "data": {
      "text/plain": [
       "gender\n",
       "Female    38028\n",
       "Male      33490\n",
       "Name: count, dtype: int64"
      ]
     },
     "execution_count": 21,
     "metadata": {},
     "output_type": "execute_result"
    }
   ],
   "source": [
    "df_clean['gender'] = df_clean['gender'].replace('Unknown/Invalid', 'Female')\n",
    "df_clean.gender.value_counts()"
   ]
  },
  {
   "cell_type": "code",
   "execution_count": 22,
   "id": "02bc7cb1-7557-4e07-b622-7a0fb1e31c1a",
   "metadata": {},
   "outputs": [
    {
     "data": {
      "text/plain": [
       "age\n",
       "[70-80)     18210\n",
       "[60-70)     15960\n",
       "[50-60)     12466\n",
       "[80-90)     11589\n",
       "[40-50)      6878\n",
       "[30-40)      2699\n",
       "[90-100)     1900\n",
       "[20-30)      1127\n",
       "[10-20)       535\n",
       "[0-10)        154\n",
       "Name: count, dtype: int64"
      ]
     },
     "execution_count": 22,
     "metadata": {},
     "output_type": "execute_result"
    }
   ],
   "source": [
    "df_clean.age.value_counts()\n"
   ]
  },
  {
   "cell_type": "code",
   "execution_count": 23,
   "id": "992a430a-4e86-4fac-8dea-a43dcd878a23",
   "metadata": {},
   "outputs": [
    {
     "name": "stderr",
     "output_type": "stream",
     "text": [
      "C:\\Users\\SnowPlay\\AppData\\Local\\Temp\\ipykernel_22472\\3365448648.py:4: FutureWarning: Downcasting behavior in `replace` is deprecated and will be removed in a future version. To retain the old behavior, explicitly call `result.infer_objects(copy=False)`. To opt-in to the future behavior, set `pd.set_option('future.no_silent_downcasting', True)`\n",
      "  df['age'] = df['age'].replace(age_range, midpoint)\n"
     ]
    }
   ],
   "source": [
    "for i in range(0, 10):\n",
    "    age_range = f'[{10*i}-{10*(i+1)})'\n",
    "    midpoint = i*10 + 5\n",
    "    df['age'] = df['age'].replace(age_range, midpoint)"
   ]
  },
  {
   "cell_type": "code",
   "execution_count": 24,
   "id": "2adaab1c-287a-429a-af24-8cf3807ad94c",
   "metadata": {},
   "outputs": [
    {
     "data": {
      "text/plain": [
       "age\n",
       "[70-80)     18210\n",
       "[60-70)     15960\n",
       "[50-60)     12466\n",
       "[80-90)     11589\n",
       "[40-50)      6878\n",
       "[30-40)      2699\n",
       "[90-100)     1900\n",
       "[20-30)      1127\n",
       "[10-20)       535\n",
       "[0-10)        154\n",
       "Name: count, dtype: int64"
      ]
     },
     "execution_count": 24,
     "metadata": {},
     "output_type": "execute_result"
    }
   ],
   "source": [
    "df_clean['age'].value_counts()"
   ]
  },
  {
   "cell_type": "code",
   "execution_count": 25,
   "id": "0a1ac834-f75b-462d-acfc-2e246763faef",
   "metadata": {},
   "outputs": [
    {
     "data": {
      "text/plain": [
       "max_glu_serum\n",
       "None    68062\n",
       "Norm     1731\n",
       ">200      969\n",
       ">300      756\n",
       "Name: count, dtype: int64"
      ]
     },
     "execution_count": 25,
     "metadata": {},
     "output_type": "execute_result"
    }
   ],
   "source": [
    "df_clean.max_glu_serum.value_counts()\n"
   ]
  },
  {
   "cell_type": "code",
   "execution_count": 26,
   "id": "6938d838-cd46-4805-a1bf-1b399b61621b",
   "metadata": {},
   "outputs": [],
   "source": [
    "label_encoder = LabelEncoder()\n",
    "df_clean['readmitted'] = label_encoder.fit_transform(df_clean['readmitted'])"
   ]
  },
  {
   "cell_type": "code",
   "execution_count": 27,
   "id": "8db28a23-d17d-47c9-a9c7-a97fd9d615d5",
   "metadata": {},
   "outputs": [],
   "source": [
    "X = df_clean.drop('readmitted', axis=1)  # Features\n",
    "y = df_clean['readmitted']               # Target variable\n"
   ]
  },
  {
   "cell_type": "code",
   "execution_count": 28,
   "id": "e9601a82-055e-4bc6-856d-66da688427be",
   "metadata": {},
   "outputs": [],
   "source": [
    "cat_features = [index for index, dtype in enumerate(X.dtypes) if dtype == 'object']\n"
   ]
  },
  {
   "cell_type": "code",
   "execution_count": 29,
   "id": "97284373-061e-41a7-bf71-caa072742a46",
   "metadata": {},
   "outputs": [
    {
     "name": "stdout",
     "output_type": "stream",
     "text": [
      "race             0\n",
      "gender           0\n",
      "age              0\n",
      "max_glu_serum    0\n",
      "A1Cresult        0\n",
      "metformin        0\n",
      "glimepiride      0\n",
      "glipizide        0\n",
      "glyburide        0\n",
      "pioglitazone     0\n",
      "rosiglitazone    0\n",
      "insulin          0\n",
      "change           0\n",
      "diabetesMed      0\n",
      "dtype: int64\n"
     ]
    }
   ],
   "source": [
    "print(X.iloc[:, cat_features].isnull().sum())\n"
   ]
  },
  {
   "cell_type": "code",
   "execution_count": 30,
   "id": "c7ad1bf0-a017-46d5-8fc9-418adad8b09c",
   "metadata": {},
   "outputs": [],
   "source": [
    "# Save as Excel\n",
    "df_clean.to_excel('clean_dataframe.xlsx', index=False, engine='openpyxl')"
   ]
  },
  {
   "cell_type": "code",
   "execution_count": 31,
   "id": "3253036f-abe7-4123-8182-9f940d379041",
   "metadata": {},
   "outputs": [
    {
     "data": {
      "text/html": [
       "<a href='clean_dataframe.xlsx' target='_blank'>clean_dataframe.xlsx</a><br>"
      ],
      "text/plain": [
       "D:\\Optimizing Catboost\\Thesis Application\\clean_dataframe.xlsx"
      ]
     },
     "execution_count": 31,
     "metadata": {},
     "output_type": "execute_result"
    }
   ],
   "source": [
    "FileLink('clean_dataframe.xlsx')"
   ]
  },
  {
   "cell_type": "markdown",
   "id": "2bc852b6",
   "metadata": {},
   "source": [
    "Training Model"
   ]
  },
  {
   "cell_type": "code",
   "execution_count": 32,
   "id": "57936b0b-cb1b-49f6-ab65-4a4da5976ac0",
   "metadata": {},
   "outputs": [],
   "source": [
    "X_train, X_test, y_train, y_test = train_test_split(X, y, test_size=0.2, random_state=42)\n"
   ]
  },
  {
   "cell_type": "code",
   "execution_count": 33,
   "id": "0a61f847-f398-48bb-9dc3-a6e56fd355e4",
   "metadata": {},
   "outputs": [],
   "source": [
    "train_pool = Pool(data=X_train, label=y_train, cat_features=cat_features)\n",
    "test_pool = Pool(data=X_test, label=y_test, cat_features=cat_features)\n"
   ]
  },
  {
   "cell_type": "code",
   "execution_count": 34,
   "id": "e330c891-3412-48b0-b59f-e2a9d6d953b8",
   "metadata": {},
   "outputs": [],
   "source": [
    "# Step 5: Train the CatBoost model\n",
    "model = CatBoostClassifier(\n",
    "    loss_function = 'MultiClass',\n",
    "    iterations=1000,          # Number of boosting rounds\n",
    "    learning_rate=0.03,       # Step size shrinkage\n",
    "    depth=6,                  # Depth of trees\n",
    "    verbose=100               # Display training logs\n",
    ")\n"
   ]
  },
  {
   "cell_type": "code",
   "execution_count": 35,
   "id": "97d8fd0a-f1bd-475b-8949-bc9b642996c9",
   "metadata": {},
   "outputs": [
    {
     "name": "stdout",
     "output_type": "stream",
     "text": [
      "0:\tlearn: 1.0856792\ttotal: 253ms\tremaining: 4m 12s\n",
      "100:\tlearn: 0.8493245\ttotal: 10.6s\tremaining: 1m 34s\n",
      "200:\tlearn: 0.8374526\ttotal: 22s\tremaining: 1m 27s\n",
      "300:\tlearn: 0.8315360\ttotal: 33.4s\tremaining: 1m 17s\n",
      "400:\tlearn: 0.8261400\ttotal: 44.9s\tremaining: 1m 7s\n",
      "500:\tlearn: 0.8201530\ttotal: 55.7s\tremaining: 55.5s\n",
      "600:\tlearn: 0.8149283\ttotal: 1m 6s\tremaining: 44.2s\n",
      "700:\tlearn: 0.8103947\ttotal: 1m 17s\tremaining: 33.1s\n",
      "800:\tlearn: 0.8067159\ttotal: 1m 28s\tremaining: 22s\n",
      "900:\tlearn: 0.8035194\ttotal: 1m 39s\tremaining: 11s\n",
      "999:\tlearn: 0.8004393\ttotal: 1m 50s\tremaining: 0us\n"
     ]
    },
    {
     "data": {
      "text/plain": [
       "<catboost.core.CatBoostClassifier at 0x2bbfb253590>"
      ]
     },
     "execution_count": 35,
     "metadata": {},
     "output_type": "execute_result"
    }
   ],
   "source": [
    "model.fit(train_pool)"
   ]
  },
  {
   "cell_type": "code",
   "execution_count": 36,
   "id": "2027b184-c4c3-4821-8bd7-a5e9a4d533fd",
   "metadata": {},
   "outputs": [],
   "source": [
    "# Step 9: Make predictions\n",
    "y_pred = model.predict(X_test)"
   ]
  },
  {
   "cell_type": "code",
   "execution_count": 37,
   "id": "ba844228-aefe-40d4-8ab8-b5f8fb27084c",
   "metadata": {},
   "outputs": [
    {
     "name": "stdout",
     "output_type": "stream",
     "text": [
      "Model Accuracy: 0.63\n"
     ]
    }
   ],
   "source": [
    "# Step 10: Evaluate the model\n",
    "accuracy = accuracy_score(y_test, y_pred)\n",
    "print(f\"Model Accuracy: {accuracy:.2f}\")"
   ]
  },
  {
   "cell_type": "code",
   "execution_count": 38,
   "id": "cc874b27-e436-433a-8bed-6c254b240be6",
   "metadata": {},
   "outputs": [
    {
     "name": "stdout",
     "output_type": "stream",
     "text": [
      "                     Feature  Importance\n",
      "4   discharge_disposition_id   20.379270\n",
      "13                    diag_1    8.012305\n",
      "12          number_inpatient    7.195950\n",
      "14                    diag_2    6.232519\n",
      "2                        age    5.428857\n",
      "15                    diag_3    5.289500\n",
      "16          number_diagnoses    4.756848\n",
      "7         num_lab_procedures    4.712187\n",
      "5        admission_source_id    4.605473\n",
      "3          admission_type_id    3.986480\n",
      "6           time_in_hospital    3.938483\n",
      "9            num_medications    3.908597\n",
      "8             num_procedures    3.078356\n",
      "10         number_outpatient    2.546531\n",
      "11          number_emergency    2.203625\n",
      "25                   insulin    1.922001\n",
      "0                       race    1.779003\n",
      "27               diabetesMed    1.550935\n",
      "18                 A1Cresult    1.468835\n",
      "19                 metformin    1.255925\n",
      "1                     gender    1.084707\n",
      "21                 glipizide    0.917814\n",
      "23              pioglitazone    0.808475\n",
      "17             max_glu_serum    0.699274\n",
      "22                 glyburide    0.641117\n",
      "24             rosiglitazone    0.592608\n",
      "26                    change    0.552718\n",
      "20               glimepiride    0.451607\n"
     ]
    }
   ],
   "source": [
    "# Additional step: Visualize feature importance\n",
    "feature_importances = model.get_feature_importance()\n",
    "feature_names = X.columns\n",
    "importance_df = pd.DataFrame({'Feature': feature_names, 'Importance': feature_importances})\n",
    "importance_df = importance_df.sort_values(by='Importance', ascending=False)\n",
    "\n",
    "print(importance_df)"
   ]
  },
  {
   "cell_type": "code",
   "execution_count": 39,
   "id": "c32955fb-10fe-4b2e-a055-f96f2ed03a51",
   "metadata": {},
   "outputs": [],
   "source": [
    "model.save_model(\"catboost_model.cbm\", format=\"cbm\")"
   ]
  }
 ],
 "metadata": {
  "kernelspec": {
   "display_name": "env",
   "language": "python",
   "name": "python3"
  },
  "language_info": {
   "codemirror_mode": {
    "name": "ipython",
    "version": 3
   },
   "file_extension": ".py",
   "mimetype": "text/x-python",
   "name": "python",
   "nbconvert_exporter": "python",
   "pygments_lexer": "ipython3",
   "version": "3.11.0"
  }
 },
 "nbformat": 4,
 "nbformat_minor": 5
}
