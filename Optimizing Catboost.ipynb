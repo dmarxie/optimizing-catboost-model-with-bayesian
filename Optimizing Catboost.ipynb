{
 "cells": [
  {
   "cell_type": "code",
   "execution_count": 1,
   "id": "681983cb-0f3b-48a5-8276-c42dd3d0d47a",
   "metadata": {},
   "outputs": [
    {
     "name": "stdout",
     "output_type": "stream",
     "text": [
      "---1---\n",
      "Requirement already satisfied: pandas in .\\env\\lib\\site-packages (2.2.3)\n",
      "Requirement already satisfied: numpy>=1.23.2 in .\\env\\lib\\site-packages (from pandas) (1.26.4)\n",
      "Requirement already satisfied: python-dateutil>=2.8.2 in .\\env\\lib\\site-packages (from pandas) (2.9.0.post0)\n",
      "Requirement already satisfied: pytz>=2020.1 in .\\env\\lib\\site-packages (from pandas) (2024.2)\n",
      "Requirement already satisfied: tzdata>=2022.7 in .\\env\\lib\\site-packages (from pandas) (2024.2)\n",
      "Requirement already satisfied: six>=1.5 in .\\env\\lib\\site-packages (from python-dateutil>=2.8.2->pandas) (1.17.0)\n",
      "Note: you may need to restart the kernel to use updated packages.\n",
      "---2---\n",
      "Requirement already satisfied: seaborn in .\\env\\lib\\site-packages (0.13.2)\n",
      "Requirement already satisfied: numpy!=1.24.0,>=1.20 in .\\env\\lib\\site-packages (from seaborn) (1.26.4)\n",
      "Requirement already satisfied: pandas>=1.2 in .\\env\\lib\\site-packages (from seaborn) (2.2.3)\n",
      "Requirement already satisfied: matplotlib!=3.6.1,>=3.4 in .\\env\\lib\\site-packages (from seaborn) (3.10.0)\n",
      "Requirement already satisfied: contourpy>=1.0.1 in .\\env\\lib\\site-packages (from matplotlib!=3.6.1,>=3.4->seaborn) (1.3.1)\n",
      "Requirement already satisfied: cycler>=0.10 in .\\env\\lib\\site-packages (from matplotlib!=3.6.1,>=3.4->seaborn) (0.12.1)\n",
      "Requirement already satisfied: fonttools>=4.22.0 in .\\env\\lib\\site-packages (from matplotlib!=3.6.1,>=3.4->seaborn) (4.55.3)\n",
      "Requirement already satisfied: kiwisolver>=1.3.1 in .\\env\\lib\\site-packages (from matplotlib!=3.6.1,>=3.4->seaborn) (1.4.7)\n",
      "Requirement already satisfied: packaging>=20.0 in .\\env\\lib\\site-packages (from matplotlib!=3.6.1,>=3.4->seaborn) (24.2)\n",
      "Requirement already satisfied: pillow>=8 in .\\env\\lib\\site-packages (from matplotlib!=3.6.1,>=3.4->seaborn) (11.0.0)\n",
      "Requirement already satisfied: pyparsing>=2.3.1 in .\\env\\lib\\site-packages (from matplotlib!=3.6.1,>=3.4->seaborn) (3.2.0)\n",
      "Requirement already satisfied: python-dateutil>=2.7 in .\\env\\lib\\site-packages (from matplotlib!=3.6.1,>=3.4->seaborn) (2.9.0.post0)\n",
      "Requirement already satisfied: pytz>=2020.1 in .\\env\\lib\\site-packages (from pandas>=1.2->seaborn) (2024.2)\n",
      "Requirement already satisfied: tzdata>=2022.7 in .\\env\\lib\\site-packages (from pandas>=1.2->seaborn) (2024.2)\n",
      "Requirement already satisfied: six>=1.5 in .\\env\\lib\\site-packages (from python-dateutil>=2.7->matplotlib!=3.6.1,>=3.4->seaborn) (1.17.0)\n",
      "Note: you may need to restart the kernel to use updated packages.\n",
      "---3---\n",
      "Requirement already satisfied: scikit-learn in .\\env\\lib\\site-packages (1.6.1)\n",
      "Requirement already satisfied: numpy>=1.19.5 in .\\env\\lib\\site-packages (from scikit-learn) (1.26.4)\n",
      "Requirement already satisfied: scipy>=1.6.0 in .\\env\\lib\\site-packages (from scikit-learn) (1.14.1)\n",
      "Requirement already satisfied: joblib>=1.2.0 in .\\env\\lib\\site-packages (from scikit-learn) (1.4.2)\n",
      "Requirement already satisfied: threadpoolctl>=3.1.0 in .\\env\\lib\\site-packages (from scikit-learn) (3.5.0)\n",
      "Note: you may need to restart the kernel to use updated packages.\n",
      "---4---\n",
      "Requirement already satisfied: catboost in .\\env\\lib\\site-packages (1.2.7)\n",
      "Requirement already satisfied: graphviz in .\\env\\lib\\site-packages (from catboost) (0.20.3)\n",
      "Requirement already satisfied: matplotlib in .\\env\\lib\\site-packages (from catboost) (3.10.0)\n",
      "Requirement already satisfied: numpy<2.0,>=1.16.0 in .\\env\\lib\\site-packages (from catboost) (1.26.4)\n",
      "Requirement already satisfied: pandas>=0.24 in .\\env\\lib\\site-packages (from catboost) (2.2.3)\n",
      "Requirement already satisfied: scipy in .\\env\\lib\\site-packages (from catboost) (1.14.1)\n",
      "Requirement already satisfied: plotly in .\\env\\lib\\site-packages (from catboost) (5.24.1)\n",
      "Requirement already satisfied: six in .\\env\\lib\\site-packages (from catboost) (1.17.0)\n",
      "Requirement already satisfied: python-dateutil>=2.8.2 in .\\env\\lib\\site-packages (from pandas>=0.24->catboost) (2.9.0.post0)\n",
      "Requirement already satisfied: pytz>=2020.1 in .\\env\\lib\\site-packages (from pandas>=0.24->catboost) (2024.2)\n",
      "Requirement already satisfied: tzdata>=2022.7 in .\\env\\lib\\site-packages (from pandas>=0.24->catboost) (2024.2)\n",
      "Requirement already satisfied: contourpy>=1.0.1 in .\\env\\lib\\site-packages (from matplotlib->catboost) (1.3.1)\n",
      "Requirement already satisfied: cycler>=0.10 in .\\env\\lib\\site-packages (from matplotlib->catboost) (0.12.1)\n",
      "Requirement already satisfied: fonttools>=4.22.0 in .\\env\\lib\\site-packages (from matplotlib->catboost) (4.55.3)\n",
      "Requirement already satisfied: kiwisolver>=1.3.1 in .\\env\\lib\\site-packages (from matplotlib->catboost) (1.4.7)\n",
      "Requirement already satisfied: packaging>=20.0 in .\\env\\lib\\site-packages (from matplotlib->catboost) (24.2)\n",
      "Requirement already satisfied: pillow>=8 in .\\env\\lib\\site-packages (from matplotlib->catboost) (11.0.0)\n",
      "Requirement already satisfied: pyparsing>=2.3.1 in .\\env\\lib\\site-packages (from matplotlib->catboost) (3.2.0)\n",
      "Requirement already satisfied: tenacity>=6.2.0 in .\\env\\lib\\site-packages (from plotly->catboost) (9.0.0)\n",
      "Note: you may need to restart the kernel to use updated packages.\n",
      "---5---\n",
      "Requirement already satisfied: ipywidgets in .\\env\\lib\\site-packages (8.1.5)\n",
      "Requirement already satisfied: comm>=0.1.3 in .\\env\\lib\\site-packages (from ipywidgets) (0.2.2)\n",
      "Requirement already satisfied: ipython>=6.1.0 in .\\env\\lib\\site-packages (from ipywidgets) (8.31.0)\n",
      "Requirement already satisfied: traitlets>=4.3.1 in .\\env\\lib\\site-packages (from ipywidgets) (5.14.3)\n",
      "Requirement already satisfied: widgetsnbextension~=4.0.12 in .\\env\\lib\\site-packages (from ipywidgets) (4.0.13)\n",
      "Requirement already satisfied: jupyterlab-widgets~=3.0.12 in .\\env\\lib\\site-packages (from ipywidgets) (3.0.13)\n",
      "Requirement already satisfied: colorama in .\\env\\lib\\site-packages (from ipython>=6.1.0->ipywidgets) (0.4.6)\n",
      "Requirement already satisfied: decorator in .\\env\\lib\\site-packages (from ipython>=6.1.0->ipywidgets) (5.1.1)\n",
      "Requirement already satisfied: jedi>=0.16 in .\\env\\lib\\site-packages (from ipython>=6.1.0->ipywidgets) (0.19.2)\n",
      "Requirement already satisfied: matplotlib-inline in .\\env\\lib\\site-packages (from ipython>=6.1.0->ipywidgets) (0.1.7)\n",
      "Requirement already satisfied: prompt_toolkit<3.1.0,>=3.0.41 in .\\env\\lib\\site-packages (from ipython>=6.1.0->ipywidgets) (3.0.50)\n",
      "Requirement already satisfied: pygments>=2.4.0 in .\\env\\lib\\site-packages (from ipython>=6.1.0->ipywidgets) (2.19.1)\n",
      "Requirement already satisfied: stack_data in .\\env\\lib\\site-packages (from ipython>=6.1.0->ipywidgets) (0.6.3)\n",
      "Requirement already satisfied: typing_extensions>=4.6 in .\\env\\lib\\site-packages (from ipython>=6.1.0->ipywidgets) (4.12.2)\n",
      "Requirement already satisfied: parso<0.9.0,>=0.8.4 in .\\env\\lib\\site-packages (from jedi>=0.16->ipython>=6.1.0->ipywidgets) (0.8.4)\n",
      "Requirement already satisfied: wcwidth in .\\env\\lib\\site-packages (from prompt_toolkit<3.1.0,>=3.0.41->ipython>=6.1.0->ipywidgets) (0.2.13)\n",
      "Requirement already satisfied: executing>=1.2.0 in .\\env\\lib\\site-packages (from stack_data->ipython>=6.1.0->ipywidgets) (2.1.0)\n",
      "Requirement already satisfied: asttokens>=2.1.0 in .\\env\\lib\\site-packages (from stack_data->ipython>=6.1.0->ipywidgets) (3.0.0)\n",
      "Requirement already satisfied: pure-eval in .\\env\\lib\\site-packages (from stack_data->ipython>=6.1.0->ipywidgets) (0.2.3)\n",
      "Note: you may need to restart the kernel to use updated packages.\n",
      "---6---\n",
      "Requirement already satisfied: pandas in .\\env\\lib\\site-packages (2.2.3)\n",
      "Requirement already satisfied: openpyxl in .\\env\\lib\\site-packages (3.1.5)\n",
      "Requirement already satisfied: numpy>=1.23.2 in .\\env\\lib\\site-packages (from pandas) (1.26.4)\n",
      "Requirement already satisfied: python-dateutil>=2.8.2 in .\\env\\lib\\site-packages (from pandas) (2.9.0.post0)\n",
      "Requirement already satisfied: pytz>=2020.1 in .\\env\\lib\\site-packages (from pandas) (2024.2)\n",
      "Requirement already satisfied: tzdata>=2022.7 in .\\env\\lib\\site-packages (from pandas) (2024.2)\n",
      "Requirement already satisfied: et-xmlfile in .\\env\\lib\\site-packages (from openpyxl) (2.0.0)\n",
      "Requirement already satisfied: six>=1.5 in .\\env\\lib\\site-packages (from python-dateutil>=2.8.2->pandas) (1.17.0)\n",
      "Note: you may need to restart the kernel to use updated packages.\n"
     ]
    }
   ],
   "source": [
    "#PIP INSTALLATION\n",
    "print('---1---')\n",
    "%pip install pandas\n",
    "print('---2---')\n",
    "%pip install seaborn\n",
    "print('---3---')\n",
    "%pip install scikit-learn\n",
    "print('---4---')\n",
    "%pip install catboost\n",
    "print('---5---')\n",
    "%pip install ipywidgets\n",
    "print('---6---')\n",
    "%pip install pandas openpyxl\n"
   ]
  },
  {
   "cell_type": "code",
   "execution_count": 97,
   "id": "007b7ecb-c7f7-40c7-a50a-b7d8bd468704",
   "metadata": {},
   "outputs": [],
   "source": [
    "#FROM LIBRARIES\n",
    "from sklearn.model_selection import train_test_split\n",
    "from sklearn.preprocessing import StandardScaler\n",
    "from catboost import CatBoostClassifier, Pool\n",
    "from IPython.display import FileLink\n",
    "from sklearn.preprocessing import LabelEncoder\n",
    "from sklearn import metrics\n",
    "from sklearn.metrics import accuracy_score\n",
    "from sklearn.metrics import confusion_matrix\n",
    "from sklearn.metrics import roc_curve, auc\n",
    "from sklearn.metrics import classification_report\n",
    "#IMPORT AS\n",
    "import numpy as np\n",
    "import pandas as pd\n",
    "import seaborn as sns\n",
    "\n",
    "import matplotlib.pyplot as plt\n",
    "%matplotlib inline\n",
    "plt.style.use('ggplot')"
   ]
  },
  {
   "cell_type": "code",
   "execution_count": 3,
   "id": "d92e7141-3441-4a97-835a-ef1897779b0f",
   "metadata": {},
   "outputs": [],
   "source": [
    "file_path = 'Dataset/diabetic_data.csv'\n",
    "df = pd.read_csv(file_path,keep_default_na=False)"
   ]
  },
  {
   "cell_type": "code",
   "execution_count": 4,
   "id": "816b319d-ea10-4efe-83fb-279cd543f3e6",
   "metadata": {},
   "outputs": [],
   "source": [
    "df_clean = df.copy()"
   ]
  },
  {
   "cell_type": "code",
   "execution_count": 5,
   "id": "fda5ba7c-c242-4f8c-a537-f1cb171f9a13",
   "metadata": {},
   "outputs": [
    {
     "data": {
      "text/html": [
       "<div>\n",
       "<style scoped>\n",
       "    .dataframe tbody tr th:only-of-type {\n",
       "        vertical-align: middle;\n",
       "    }\n",
       "\n",
       "    .dataframe tbody tr th {\n",
       "        vertical-align: top;\n",
       "    }\n",
       "\n",
       "    .dataframe thead th {\n",
       "        text-align: right;\n",
       "    }\n",
       "</style>\n",
       "<table border=\"1\" class=\"dataframe\">\n",
       "  <thead>\n",
       "    <tr style=\"text-align: right;\">\n",
       "      <th></th>\n",
       "      <th>encounter_id</th>\n",
       "      <th>patient_nbr</th>\n",
       "      <th>race</th>\n",
       "      <th>gender</th>\n",
       "      <th>age</th>\n",
       "      <th>weight</th>\n",
       "      <th>admission_type_id</th>\n",
       "      <th>discharge_disposition_id</th>\n",
       "      <th>admission_source_id</th>\n",
       "      <th>time_in_hospital</th>\n",
       "      <th>...</th>\n",
       "      <th>citoglipton</th>\n",
       "      <th>insulin</th>\n",
       "      <th>glyburide-metformin</th>\n",
       "      <th>glipizide-metformin</th>\n",
       "      <th>glimepiride-pioglitazone</th>\n",
       "      <th>metformin-rosiglitazone</th>\n",
       "      <th>metformin-pioglitazone</th>\n",
       "      <th>change</th>\n",
       "      <th>diabetesMed</th>\n",
       "      <th>readmitted</th>\n",
       "    </tr>\n",
       "  </thead>\n",
       "  <tbody>\n",
       "    <tr>\n",
       "      <th>0</th>\n",
       "      <td>2278392</td>\n",
       "      <td>8222157</td>\n",
       "      <td>Caucasian</td>\n",
       "      <td>Female</td>\n",
       "      <td>[0-10)</td>\n",
       "      <td>?</td>\n",
       "      <td>6</td>\n",
       "      <td>25</td>\n",
       "      <td>1</td>\n",
       "      <td>1</td>\n",
       "      <td>...</td>\n",
       "      <td>No</td>\n",
       "      <td>No</td>\n",
       "      <td>No</td>\n",
       "      <td>No</td>\n",
       "      <td>No</td>\n",
       "      <td>No</td>\n",
       "      <td>No</td>\n",
       "      <td>No</td>\n",
       "      <td>No</td>\n",
       "      <td>NO</td>\n",
       "    </tr>\n",
       "    <tr>\n",
       "      <th>1</th>\n",
       "      <td>149190</td>\n",
       "      <td>55629189</td>\n",
       "      <td>Caucasian</td>\n",
       "      <td>Female</td>\n",
       "      <td>[10-20)</td>\n",
       "      <td>?</td>\n",
       "      <td>1</td>\n",
       "      <td>1</td>\n",
       "      <td>7</td>\n",
       "      <td>3</td>\n",
       "      <td>...</td>\n",
       "      <td>No</td>\n",
       "      <td>Up</td>\n",
       "      <td>No</td>\n",
       "      <td>No</td>\n",
       "      <td>No</td>\n",
       "      <td>No</td>\n",
       "      <td>No</td>\n",
       "      <td>Ch</td>\n",
       "      <td>Yes</td>\n",
       "      <td>&gt;30</td>\n",
       "    </tr>\n",
       "    <tr>\n",
       "      <th>2</th>\n",
       "      <td>64410</td>\n",
       "      <td>86047875</td>\n",
       "      <td>AfricanAmerican</td>\n",
       "      <td>Female</td>\n",
       "      <td>[20-30)</td>\n",
       "      <td>?</td>\n",
       "      <td>1</td>\n",
       "      <td>1</td>\n",
       "      <td>7</td>\n",
       "      <td>2</td>\n",
       "      <td>...</td>\n",
       "      <td>No</td>\n",
       "      <td>No</td>\n",
       "      <td>No</td>\n",
       "      <td>No</td>\n",
       "      <td>No</td>\n",
       "      <td>No</td>\n",
       "      <td>No</td>\n",
       "      <td>No</td>\n",
       "      <td>Yes</td>\n",
       "      <td>NO</td>\n",
       "    </tr>\n",
       "    <tr>\n",
       "      <th>3</th>\n",
       "      <td>500364</td>\n",
       "      <td>82442376</td>\n",
       "      <td>Caucasian</td>\n",
       "      <td>Male</td>\n",
       "      <td>[30-40)</td>\n",
       "      <td>?</td>\n",
       "      <td>1</td>\n",
       "      <td>1</td>\n",
       "      <td>7</td>\n",
       "      <td>2</td>\n",
       "      <td>...</td>\n",
       "      <td>No</td>\n",
       "      <td>Up</td>\n",
       "      <td>No</td>\n",
       "      <td>No</td>\n",
       "      <td>No</td>\n",
       "      <td>No</td>\n",
       "      <td>No</td>\n",
       "      <td>Ch</td>\n",
       "      <td>Yes</td>\n",
       "      <td>NO</td>\n",
       "    </tr>\n",
       "    <tr>\n",
       "      <th>4</th>\n",
       "      <td>16680</td>\n",
       "      <td>42519267</td>\n",
       "      <td>Caucasian</td>\n",
       "      <td>Male</td>\n",
       "      <td>[40-50)</td>\n",
       "      <td>?</td>\n",
       "      <td>1</td>\n",
       "      <td>1</td>\n",
       "      <td>7</td>\n",
       "      <td>1</td>\n",
       "      <td>...</td>\n",
       "      <td>No</td>\n",
       "      <td>Steady</td>\n",
       "      <td>No</td>\n",
       "      <td>No</td>\n",
       "      <td>No</td>\n",
       "      <td>No</td>\n",
       "      <td>No</td>\n",
       "      <td>Ch</td>\n",
       "      <td>Yes</td>\n",
       "      <td>NO</td>\n",
       "    </tr>\n",
       "  </tbody>\n",
       "</table>\n",
       "<p>5 rows × 50 columns</p>\n",
       "</div>"
      ],
      "text/plain": [
       "   encounter_id  patient_nbr             race  gender      age weight  \\\n",
       "0       2278392      8222157        Caucasian  Female   [0-10)      ?   \n",
       "1        149190     55629189        Caucasian  Female  [10-20)      ?   \n",
       "2         64410     86047875  AfricanAmerican  Female  [20-30)      ?   \n",
       "3        500364     82442376        Caucasian    Male  [30-40)      ?   \n",
       "4         16680     42519267        Caucasian    Male  [40-50)      ?   \n",
       "\n",
       "   admission_type_id  discharge_disposition_id  admission_source_id  \\\n",
       "0                  6                        25                    1   \n",
       "1                  1                         1                    7   \n",
       "2                  1                         1                    7   \n",
       "3                  1                         1                    7   \n",
       "4                  1                         1                    7   \n",
       "\n",
       "   time_in_hospital  ... citoglipton insulin  glyburide-metformin  \\\n",
       "0                 1  ...          No      No                   No   \n",
       "1                 3  ...          No      Up                   No   \n",
       "2                 2  ...          No      No                   No   \n",
       "3                 2  ...          No      Up                   No   \n",
       "4                 1  ...          No  Steady                   No   \n",
       "\n",
       "   glipizide-metformin  glimepiride-pioglitazone  metformin-rosiglitazone  \\\n",
       "0                   No                        No                       No   \n",
       "1                   No                        No                       No   \n",
       "2                   No                        No                       No   \n",
       "3                   No                        No                       No   \n",
       "4                   No                        No                       No   \n",
       "\n",
       "   metformin-pioglitazone  change diabetesMed readmitted  \n",
       "0                      No      No          No         NO  \n",
       "1                      No      Ch         Yes        >30  \n",
       "2                      No      No         Yes         NO  \n",
       "3                      No      Ch         Yes         NO  \n",
       "4                      No      Ch         Yes         NO  \n",
       "\n",
       "[5 rows x 50 columns]"
      ]
     },
     "execution_count": 5,
     "metadata": {},
     "output_type": "execute_result"
    }
   ],
   "source": [
    "df_clean.head()"
   ]
  },
  {
   "cell_type": "code",
   "execution_count": 6,
   "id": "66f03d94-b072-4b51-b344-bdc5c5e6c1e2",
   "metadata": {},
   "outputs": [
    {
     "data": {
      "text/html": [
       "<div>\n",
       "<style scoped>\n",
       "    .dataframe tbody tr th:only-of-type {\n",
       "        vertical-align: middle;\n",
       "    }\n",
       "\n",
       "    .dataframe tbody tr th {\n",
       "        vertical-align: top;\n",
       "    }\n",
       "\n",
       "    .dataframe thead th {\n",
       "        text-align: right;\n",
       "    }\n",
       "</style>\n",
       "<table border=\"1\" class=\"dataframe\">\n",
       "  <thead>\n",
       "    <tr style=\"text-align: right;\">\n",
       "      <th></th>\n",
       "      <th>encounter_id</th>\n",
       "      <th>patient_nbr</th>\n",
       "      <th>admission_type_id</th>\n",
       "      <th>discharge_disposition_id</th>\n",
       "      <th>admission_source_id</th>\n",
       "      <th>time_in_hospital</th>\n",
       "      <th>num_lab_procedures</th>\n",
       "      <th>num_procedures</th>\n",
       "      <th>num_medications</th>\n",
       "      <th>number_outpatient</th>\n",
       "      <th>number_emergency</th>\n",
       "      <th>number_inpatient</th>\n",
       "      <th>number_diagnoses</th>\n",
       "    </tr>\n",
       "  </thead>\n",
       "  <tbody>\n",
       "    <tr>\n",
       "      <th>count</th>\n",
       "      <td>1.017660e+05</td>\n",
       "      <td>1.017660e+05</td>\n",
       "      <td>101766.000000</td>\n",
       "      <td>101766.000000</td>\n",
       "      <td>101766.000000</td>\n",
       "      <td>101766.000000</td>\n",
       "      <td>101766.000000</td>\n",
       "      <td>101766.000000</td>\n",
       "      <td>101766.000000</td>\n",
       "      <td>101766.000000</td>\n",
       "      <td>101766.000000</td>\n",
       "      <td>101766.000000</td>\n",
       "      <td>101766.000000</td>\n",
       "    </tr>\n",
       "    <tr>\n",
       "      <th>mean</th>\n",
       "      <td>1.652016e+08</td>\n",
       "      <td>5.433040e+07</td>\n",
       "      <td>2.024006</td>\n",
       "      <td>3.715642</td>\n",
       "      <td>5.754437</td>\n",
       "      <td>4.395987</td>\n",
       "      <td>43.095641</td>\n",
       "      <td>1.339730</td>\n",
       "      <td>16.021844</td>\n",
       "      <td>0.369357</td>\n",
       "      <td>0.197836</td>\n",
       "      <td>0.635566</td>\n",
       "      <td>7.422607</td>\n",
       "    </tr>\n",
       "    <tr>\n",
       "      <th>std</th>\n",
       "      <td>1.026403e+08</td>\n",
       "      <td>3.869636e+07</td>\n",
       "      <td>1.445403</td>\n",
       "      <td>5.280166</td>\n",
       "      <td>4.064081</td>\n",
       "      <td>2.985108</td>\n",
       "      <td>19.674362</td>\n",
       "      <td>1.705807</td>\n",
       "      <td>8.127566</td>\n",
       "      <td>1.267265</td>\n",
       "      <td>0.930472</td>\n",
       "      <td>1.262863</td>\n",
       "      <td>1.933600</td>\n",
       "    </tr>\n",
       "    <tr>\n",
       "      <th>min</th>\n",
       "      <td>1.252200e+04</td>\n",
       "      <td>1.350000e+02</td>\n",
       "      <td>1.000000</td>\n",
       "      <td>1.000000</td>\n",
       "      <td>1.000000</td>\n",
       "      <td>1.000000</td>\n",
       "      <td>1.000000</td>\n",
       "      <td>0.000000</td>\n",
       "      <td>1.000000</td>\n",
       "      <td>0.000000</td>\n",
       "      <td>0.000000</td>\n",
       "      <td>0.000000</td>\n",
       "      <td>1.000000</td>\n",
       "    </tr>\n",
       "    <tr>\n",
       "      <th>25%</th>\n",
       "      <td>8.496119e+07</td>\n",
       "      <td>2.341322e+07</td>\n",
       "      <td>1.000000</td>\n",
       "      <td>1.000000</td>\n",
       "      <td>1.000000</td>\n",
       "      <td>2.000000</td>\n",
       "      <td>31.000000</td>\n",
       "      <td>0.000000</td>\n",
       "      <td>10.000000</td>\n",
       "      <td>0.000000</td>\n",
       "      <td>0.000000</td>\n",
       "      <td>0.000000</td>\n",
       "      <td>6.000000</td>\n",
       "    </tr>\n",
       "    <tr>\n",
       "      <th>50%</th>\n",
       "      <td>1.523890e+08</td>\n",
       "      <td>4.550514e+07</td>\n",
       "      <td>1.000000</td>\n",
       "      <td>1.000000</td>\n",
       "      <td>7.000000</td>\n",
       "      <td>4.000000</td>\n",
       "      <td>44.000000</td>\n",
       "      <td>1.000000</td>\n",
       "      <td>15.000000</td>\n",
       "      <td>0.000000</td>\n",
       "      <td>0.000000</td>\n",
       "      <td>0.000000</td>\n",
       "      <td>8.000000</td>\n",
       "    </tr>\n",
       "    <tr>\n",
       "      <th>75%</th>\n",
       "      <td>2.302709e+08</td>\n",
       "      <td>8.754595e+07</td>\n",
       "      <td>3.000000</td>\n",
       "      <td>4.000000</td>\n",
       "      <td>7.000000</td>\n",
       "      <td>6.000000</td>\n",
       "      <td>57.000000</td>\n",
       "      <td>2.000000</td>\n",
       "      <td>20.000000</td>\n",
       "      <td>0.000000</td>\n",
       "      <td>0.000000</td>\n",
       "      <td>1.000000</td>\n",
       "      <td>9.000000</td>\n",
       "    </tr>\n",
       "    <tr>\n",
       "      <th>max</th>\n",
       "      <td>4.438672e+08</td>\n",
       "      <td>1.895026e+08</td>\n",
       "      <td>8.000000</td>\n",
       "      <td>28.000000</td>\n",
       "      <td>25.000000</td>\n",
       "      <td>14.000000</td>\n",
       "      <td>132.000000</td>\n",
       "      <td>6.000000</td>\n",
       "      <td>81.000000</td>\n",
       "      <td>42.000000</td>\n",
       "      <td>76.000000</td>\n",
       "      <td>21.000000</td>\n",
       "      <td>16.000000</td>\n",
       "    </tr>\n",
       "  </tbody>\n",
       "</table>\n",
       "</div>"
      ],
      "text/plain": [
       "       encounter_id   patient_nbr  admission_type_id  \\\n",
       "count  1.017660e+05  1.017660e+05      101766.000000   \n",
       "mean   1.652016e+08  5.433040e+07           2.024006   \n",
       "std    1.026403e+08  3.869636e+07           1.445403   \n",
       "min    1.252200e+04  1.350000e+02           1.000000   \n",
       "25%    8.496119e+07  2.341322e+07           1.000000   \n",
       "50%    1.523890e+08  4.550514e+07           1.000000   \n",
       "75%    2.302709e+08  8.754595e+07           3.000000   \n",
       "max    4.438672e+08  1.895026e+08           8.000000   \n",
       "\n",
       "       discharge_disposition_id  admission_source_id  time_in_hospital  \\\n",
       "count             101766.000000        101766.000000     101766.000000   \n",
       "mean                   3.715642             5.754437          4.395987   \n",
       "std                    5.280166             4.064081          2.985108   \n",
       "min                    1.000000             1.000000          1.000000   \n",
       "25%                    1.000000             1.000000          2.000000   \n",
       "50%                    1.000000             7.000000          4.000000   \n",
       "75%                    4.000000             7.000000          6.000000   \n",
       "max                   28.000000            25.000000         14.000000   \n",
       "\n",
       "       num_lab_procedures  num_procedures  num_medications  number_outpatient  \\\n",
       "count       101766.000000   101766.000000    101766.000000      101766.000000   \n",
       "mean            43.095641        1.339730        16.021844           0.369357   \n",
       "std             19.674362        1.705807         8.127566           1.267265   \n",
       "min              1.000000        0.000000         1.000000           0.000000   \n",
       "25%             31.000000        0.000000        10.000000           0.000000   \n",
       "50%             44.000000        1.000000        15.000000           0.000000   \n",
       "75%             57.000000        2.000000        20.000000           0.000000   \n",
       "max            132.000000        6.000000        81.000000          42.000000   \n",
       "\n",
       "       number_emergency  number_inpatient  number_diagnoses  \n",
       "count     101766.000000     101766.000000     101766.000000  \n",
       "mean           0.197836          0.635566          7.422607  \n",
       "std            0.930472          1.262863          1.933600  \n",
       "min            0.000000          0.000000          1.000000  \n",
       "25%            0.000000          0.000000          6.000000  \n",
       "50%            0.000000          0.000000          8.000000  \n",
       "75%            0.000000          1.000000          9.000000  \n",
       "max           76.000000         21.000000         16.000000  "
      ]
     },
     "execution_count": 6,
     "metadata": {},
     "output_type": "execute_result"
    }
   ],
   "source": [
    "df_clean.describe()"
   ]
  },
  {
   "cell_type": "code",
   "execution_count": 8,
   "id": "6d140a4d-da7c-41d0-8890-54c4f35d3405",
   "metadata": {},
   "outputs": [
    {
     "name": "stdout",
     "output_type": "stream",
     "text": [
      "['encounter_id', 'patient_nbr', 'race', 'gender', 'age', 'weight', 'admission_type_id', 'discharge_disposition_id', 'admission_source_id', 'time_in_hospital', 'payer_code', 'medical_specialty', 'num_lab_procedures', 'num_procedures', 'num_medications', 'number_outpatient', 'number_emergency', 'number_inpatient', 'diag_1', 'diag_2', 'diag_3', 'number_diagnoses', 'max_glu_serum', 'A1Cresult', 'metformin', 'repaglinide', 'nateglinide', 'chlorpropamide', 'glimepiride', 'acetohexamide', 'glipizide', 'glyburide', 'tolbutamide', 'pioglitazone', 'rosiglitazone', 'acarbose', 'miglitol', 'troglitazone', 'tolazamide', 'examide', 'citoglipton', 'insulin', 'glyburide-metformin', 'glipizide-metformin', 'glimepiride-pioglitazone', 'metformin-rosiglitazone', 'metformin-pioglitazone', 'change', 'diabetesMed', 'readmitted']\n"
     ]
    }
   ],
   "source": [
    "print(list(df_clean))"
   ]
  },
  {
   "cell_type": "markdown",
   "id": "afc4d879",
   "metadata": {},
   "source": [
    "Data Cleaning "
   ]
  },
  {
   "cell_type": "code",
   "execution_count": 9,
   "id": "63b3c087-2e7b-4086-bc7a-4d2f5420f08e",
   "metadata": {},
   "outputs": [
    {
     "data": {
      "text/plain": [
       "patient_nbr\n",
       "88785891     40\n",
       "43140906     28\n",
       "1660293      23\n",
       "88227540     23\n",
       "23199021     23\n",
       "             ..\n",
       "11005362      1\n",
       "98252496      1\n",
       "1019673       1\n",
       "13396320      1\n",
       "175429310     1\n",
       "Name: count, Length: 71518, dtype: int64"
      ]
     },
     "execution_count": 9,
     "metadata": {},
     "output_type": "execute_result"
    }
   ],
   "source": [
    "#REMOVING DUPLICATE DATA'S\n",
    "df_clean['patient_nbr'].value_counts()"
   ]
  },
  {
   "cell_type": "code",
   "execution_count": 10,
   "id": "e9855497-1066-4b1e-93b3-241bf86f0efb",
   "metadata": {},
   "outputs": [],
   "source": [
    "df_clean = df_clean.drop_duplicates(subset=['patient_nbr'])\n",
    "#END REMOVING DUPLICATE DATA'S"
   ]
  },
  {
   "cell_type": "markdown",
   "id": "215ec990",
   "metadata": {},
   "source": [
    "There are 30,248 total of Duplicate Data's which the unique data consist only 71,518"
   ]
  },
  {
   "cell_type": "code",
   "execution_count": 11,
   "id": "1bca7cd8-29bc-472c-89ae-75e1512ab0c8",
   "metadata": {},
   "outputs": [
    {
     "name": "stdout",
     "output_type": "stream",
     "text": [
      "<class 'pandas.core.frame.DataFrame'>\n",
      "Index: 71518 entries, 0 to 101765\n",
      "Data columns (total 50 columns):\n",
      " #   Column                    Non-Null Count  Dtype \n",
      "---  ------                    --------------  ----- \n",
      " 0   encounter_id              71518 non-null  int64 \n",
      " 1   patient_nbr               71518 non-null  int64 \n",
      " 2   race                      71518 non-null  object\n",
      " 3   gender                    71518 non-null  object\n",
      " 4   age                       71518 non-null  object\n",
      " 5   weight                    71518 non-null  object\n",
      " 6   admission_type_id         71518 non-null  int64 \n",
      " 7   discharge_disposition_id  71518 non-null  int64 \n",
      " 8   admission_source_id       71518 non-null  int64 \n",
      " 9   time_in_hospital          71518 non-null  int64 \n",
      " 10  payer_code                71518 non-null  object\n",
      " 11  medical_specialty         71518 non-null  object\n",
      " 12  num_lab_procedures        71518 non-null  int64 \n",
      " 13  num_procedures            71518 non-null  int64 \n",
      " 14  num_medications           71518 non-null  int64 \n",
      " 15  number_outpatient         71518 non-null  int64 \n",
      " 16  number_emergency          71518 non-null  int64 \n",
      " 17  number_inpatient          71518 non-null  int64 \n",
      " 18  diag_1                    71518 non-null  object\n",
      " 19  diag_2                    71518 non-null  object\n",
      " 20  diag_3                    71518 non-null  object\n",
      " 21  number_diagnoses          71518 non-null  int64 \n",
      " 22  max_glu_serum             71518 non-null  object\n",
      " 23  A1Cresult                 71518 non-null  object\n",
      " 24  metformin                 71518 non-null  object\n",
      " 25  repaglinide               71518 non-null  object\n",
      " 26  nateglinide               71518 non-null  object\n",
      " 27  chlorpropamide            71518 non-null  object\n",
      " 28  glimepiride               71518 non-null  object\n",
      " 29  acetohexamide             71518 non-null  object\n",
      " 30  glipizide                 71518 non-null  object\n",
      " 31  glyburide                 71518 non-null  object\n",
      " 32  tolbutamide               71518 non-null  object\n",
      " 33  pioglitazone              71518 non-null  object\n",
      " 34  rosiglitazone             71518 non-null  object\n",
      " 35  acarbose                  71518 non-null  object\n",
      " 36  miglitol                  71518 non-null  object\n",
      " 37  troglitazone              71518 non-null  object\n",
      " 38  tolazamide                71518 non-null  object\n",
      " 39  examide                   71518 non-null  object\n",
      " 40  citoglipton               71518 non-null  object\n",
      " 41  insulin                   71518 non-null  object\n",
      " 42  glyburide-metformin       71518 non-null  object\n",
      " 43  glipizide-metformin       71518 non-null  object\n",
      " 44  glimepiride-pioglitazone  71518 non-null  object\n",
      " 45  metformin-rosiglitazone   71518 non-null  object\n",
      " 46  metformin-pioglitazone    71518 non-null  object\n",
      " 47  change                    71518 non-null  object\n",
      " 48  diabetesMed               71518 non-null  object\n",
      " 49  readmitted                71518 non-null  object\n",
      "dtypes: int64(13), object(37)\n",
      "memory usage: 27.8+ MB\n"
     ]
    }
   ],
   "source": [
    "df_clean.info()"
   ]
  },
  {
   "cell_type": "markdown",
   "id": "a0d9f547",
   "metadata": {},
   "source": [
    "Value of each drug that most patient uses"
   ]
  },
  {
   "cell_type": "code",
   "execution_count": 13,
   "id": "fa05a2a5",
   "metadata": {},
   "outputs": [
    {
     "name": "stdout",
     "output_type": "stream",
     "text": [
      "metformin\n",
      "No        56527\n",
      "Steady    13718\n",
      "Up          838\n",
      "Down        435\n",
      "Name: count, dtype: int64\n",
      "-----------------------------\n",
      "repaglinide\n",
      "No        70592\n",
      "Steady      824\n",
      "Up           73\n",
      "Down         29\n",
      "Name: count, dtype: int64\n",
      "-----------------------------\n",
      "nateglinide\n",
      "No        71020\n",
      "Steady      474\n",
      "Up           16\n",
      "Down          8\n",
      "Name: count, dtype: int64\n",
      "-----------------------------\n",
      "chlorpropamide\n",
      "No        71446\n",
      "Steady       67\n",
      "Up            4\n",
      "Down          1\n",
      "Name: count, dtype: int64\n"
     ]
    }
   ],
   "source": [
    "print(df_clean['metformin'].value_counts())\n",
    "print(\"-----------------------------\")\n",
    "print(df_clean['repaglinide'].value_counts())\n",
    "print(\"-----------------------------\")\n",
    "print(df_clean['nateglinide'].value_counts())\n",
    "print(\"-----------------------------\")\n",
    "print(df_clean['chlorpropamide'].value_counts())"
   ]
  },
  {
   "cell_type": "code",
   "execution_count": 14,
   "id": "a937c13b",
   "metadata": {},
   "outputs": [
    {
     "name": "stdout",
     "output_type": "stream",
     "text": [
      "glimepiride\n",
      "No        67773\n",
      "Steady     3372\n",
      "Up          235\n",
      "Down        138\n",
      "Name: count, dtype: int64\n",
      "-----------------------------\n",
      "acetohexamide\n",
      "No        71517\n",
      "Steady        1\n",
      "Name: count, dtype: int64\n",
      "-----------------------------\n",
      "glipizide\n",
      "No        62412\n",
      "Steady     8150\n",
      "Up          578\n",
      "Down        378\n",
      "Name: count, dtype: int64\n",
      "-----------------------------\n",
      "glyburide\n",
      "No        63664\n",
      "Steady     6812\n",
      "Up          621\n",
      "Down        421\n",
      "Name: count, dtype: int64\n"
     ]
    }
   ],
   "source": [
    "print(df_clean['glimepiride'].value_counts())\n",
    "print(\"-----------------------------\")\n",
    "print(df_clean['acetohexamide'].value_counts())\n",
    "print(\"-----------------------------\")\n",
    "print(df_clean['glipizide'].value_counts())\n",
    "print(\"-----------------------------\")\n",
    "print(df_clean['glyburide'].value_counts())\n"
   ]
  },
  {
   "cell_type": "code",
   "execution_count": 15,
   "id": "b77cbf2f",
   "metadata": {},
   "outputs": [
    {
     "name": "stdout",
     "output_type": "stream",
     "text": [
      "tolbutamide\n",
      "No        71499\n",
      "Steady       19\n",
      "Name: count, dtype: int64\n",
      "-----------------------------\n",
      "pioglitazone\n",
      "No        66210\n",
      "Steady     5047\n",
      "Up          180\n",
      "Down         81\n",
      "Name: count, dtype: int64\n",
      "-----------------------------\n",
      "rosiglitazone\n",
      "No        66817\n",
      "Steady     4490\n",
      "Up          136\n",
      "Down         75\n",
      "Name: count, dtype: int64\n",
      "-----------------------------\n",
      "acarbose\n",
      "No        71316\n",
      "Steady      192\n",
      "Up           10\n",
      "Name: count, dtype: int64\n"
     ]
    }
   ],
   "source": [
    "print(df_clean['tolbutamide'].value_counts())\n",
    "print(\"-----------------------------\")\n",
    "print(df_clean['pioglitazone'].value_counts())\n",
    "print(\"-----------------------------\")\n",
    "print(df_clean['rosiglitazone'].value_counts())\n",
    "print(\"-----------------------------\")\n",
    "print(df_clean['acarbose'].value_counts())"
   ]
  },
  {
   "cell_type": "code",
   "execution_count": 16,
   "id": "685bd26e",
   "metadata": {},
   "outputs": [
    {
     "name": "stdout",
     "output_type": "stream",
     "text": [
      "miglitol\n",
      "No        71498\n",
      "Steady       18\n",
      "Down          1\n",
      "Up            1\n",
      "Name: count, dtype: int64\n",
      "-----------------------------\n",
      "troglitazone\n",
      "No        71515\n",
      "Steady        3\n",
      "Name: count, dtype: int64\n",
      "-----------------------------\n",
      "tolazamide\n",
      "No        71488\n",
      "Steady       30\n",
      "Name: count, dtype: int64\n",
      "-----------------------------\n",
      "examide\n",
      "No    71518\n",
      "Name: count, dtype: int64\n"
     ]
    }
   ],
   "source": [
    "print(df_clean['miglitol'].value_counts())\n",
    "print(\"-----------------------------\")\n",
    "print(df_clean['troglitazone'].value_counts())\n",
    "print(\"-----------------------------\")\n",
    "print(df_clean['tolazamide'].value_counts())\n",
    "print(\"-----------------------------\")\n",
    "print(df_clean['examide'].value_counts())"
   ]
  },
  {
   "cell_type": "code",
   "execution_count": 17,
   "id": "94e8826b",
   "metadata": {},
   "outputs": [
    {
     "name": "stdout",
     "output_type": "stream",
     "text": [
      "citoglipton\n",
      "No    71518\n",
      "Name: count, dtype: int64\n",
      "-----------------------------\n",
      "insulin\n",
      "No        34921\n",
      "Steady    22129\n",
      "Down       7505\n",
      "Up         6963\n",
      "Name: count, dtype: int64\n",
      "-----------------------------\n",
      "glyburide-metformin\n",
      "No        71016\n",
      "Steady      491\n",
      "Up            7\n",
      "Down          4\n",
      "Name: count, dtype: int64\n",
      "-----------------------------\n",
      "glipizide-metformin\n",
      "No        71511\n",
      "Steady        7\n",
      "Name: count, dtype: int64\n"
     ]
    }
   ],
   "source": [
    "print(df_clean['citoglipton'].value_counts())\n",
    "print(\"-----------------------------\")\n",
    "print(df_clean['insulin'].value_counts())\n",
    "print(\"-----------------------------\")\n",
    "print(df_clean['glyburide-metformin'].value_counts())\n",
    "print(\"-----------------------------\")\n",
    "print(df_clean['glipizide-metformin'].value_counts())"
   ]
  },
  {
   "cell_type": "code",
   "execution_count": 31,
   "id": "e52eb279",
   "metadata": {},
   "outputs": [
    {
     "name": "stdout",
     "output_type": "stream",
     "text": [
      "glimepiride-pioglitazone\n",
      "No    71518\n",
      "Name: count, dtype: int64\n",
      "-----------------------------\n",
      "metformin-rosiglitazone\n",
      "No        71516\n",
      "Steady        2\n",
      "Name: count, dtype: int64\n",
      "-----------------------------\n",
      "metformin-pioglitazone\n",
      "No        71517\n",
      "Steady        1\n",
      "Name: count, dtype: int64\n"
     ]
    }
   ],
   "source": [
    "print(df_clean['glimepiride-pioglitazone'].value_counts())\n",
    "print(\"-----------------------------\")\n",
    "print(df_clean['metformin-rosiglitazone'].value_counts())\n",
    "print(\"-----------------------------\")\n",
    "print(df_clean['metformin-pioglitazone'].value_counts())"
   ]
  },
  {
   "cell_type": "code",
   "execution_count": 30,
   "id": "a9c81d85",
   "metadata": {},
   "outputs": [
    {
     "data": {
      "text/plain": [
       "medical_specialty\n",
       "?                                   48.207444\n",
       "InternalMedicine                    15.267485\n",
       "Family/GeneralPractice               7.156240\n",
       "Emergency/Trauma                     6.243184\n",
       "Cardiology                           5.964932\n",
       "                                      ...    \n",
       "SportsMedicine                       0.001398\n",
       "Dermatology                          0.001398\n",
       "Proctology                           0.001398\n",
       "Surgery-PlasticwithinHeadandNeck     0.001398\n",
       "Resident                             0.001398\n",
       "Name: proportion, Length: 71, dtype: float64"
      ]
     },
     "execution_count": 30,
     "metadata": {},
     "output_type": "execute_result"
    }
   ],
   "source": [
    "(df_clean.medical_specialty.value_counts(normalize=True, dropna=False) * 100)\n"
   ]
  },
  {
   "cell_type": "markdown",
   "id": "3cead83d",
   "metadata": {},
   "source": [
    "Removing features that is not useful for our target readmittied\n",
    "\n",
    "encounter_id  > Irrelevant \n",
    "\n",
    "Patient_nbr > Irrelevant\n",
    "\n",
    "Weight > Consist of 97% missing value\n",
    "\n",
    "Payer_code > Irrelevant\n",
    "\n",
    "Medicial_Speciality > 48% missing value\n",
    "\n",
    "Repaglinide\t> 71K samples not using the drug\n",
    "\n",
    "Nateglinide\t> 71K samples not using the drug\n",
    "\n",
    "Chlorpropamide > 71K samples not using the drug\n",
    "\n",
    "Acarbose > 71k samples not using the drug\n",
    "\n",
    "Miglitol > 71k samples not using the drug\n",
    "\n",
    "Troglitazone > Only 3 patients using the drug\n",
    "\n",
    "Tolazamide > Only 39 patients using the drug\n",
    "\n",
    "Examide\t> All patients not using the drug\n",
    "\n",
    "Citoglipton\t> All patients not using the drug\n",
    "\n",
    "Glyburide_metformin\t> 71k samples not using the drug\n",
    "\n",
    "Glipizide_metfotmin > Only 13 patients using the drug\n",
    "\n",
    "Glimepiride_pioglitazone > Only 1 patient using the drug\n",
    "\n",
    "Metformin_rosiglitazone > Only 2 patients using the drug\n",
    "\n",
    "Metformin_pioglitazone > Only 1 patient using the drug\n",
    "\n",
    "Acetohexamide > Only 1 patient using the drug\n",
    "\n",
    "tolbutamide > Only 23 patients using the drug\n",
    "\n"
   ]
  },
  {
   "cell_type": "code",
   "execution_count": 32,
   "id": "d4b2a6e2-c9e2-4380-bdf4-0b45a6047333",
   "metadata": {},
   "outputs": [],
   "source": [
    "features_drop_list = ['encounter_id', 'patient_nbr', 'weight', 'payer_code', 'medical_specialty', 'repaglinide', 'nateglinide', 'chlorpropamide', 'acarbose', 'miglitol', 'troglitazone', 'tolazamide', 'examide', 'citoglipton', 'glyburide-metformin', 'glipizide-metformin', 'glimepiride-pioglitazone', 'metformin-rosiglitazone','metformin-pioglitazone', 'acetohexamide', 'tolbutamide']\n",
    "df_clean.drop(features_drop_list, axis=1, inplace=True)"
   ]
  },
  {
   "cell_type": "code",
   "execution_count": 34,
   "id": "3c58ee30-71ce-4b06-bea0-d0a69fd81bab",
   "metadata": {},
   "outputs": [
    {
     "name": "stdout",
     "output_type": "stream",
     "text": [
      "<class 'pandas.core.frame.DataFrame'>\n",
      "Index: 71518 entries, 0 to 101765\n",
      "Data columns (total 29 columns):\n",
      " #   Column                    Non-Null Count  Dtype \n",
      "---  ------                    --------------  ----- \n",
      " 0   race                      71518 non-null  object\n",
      " 1   gender                    71518 non-null  object\n",
      " 2   age                       71518 non-null  object\n",
      " 3   admission_type_id         71518 non-null  int64 \n",
      " 4   discharge_disposition_id  71518 non-null  int64 \n",
      " 5   admission_source_id       71518 non-null  int64 \n",
      " 6   time_in_hospital          71518 non-null  int64 \n",
      " 7   num_lab_procedures        71518 non-null  int64 \n",
      " 8   num_procedures            71518 non-null  int64 \n",
      " 9   num_medications           71518 non-null  int64 \n",
      " 10  number_outpatient         71518 non-null  int64 \n",
      " 11  number_emergency          71518 non-null  int64 \n",
      " 12  number_inpatient          71518 non-null  int64 \n",
      " 13  diag_1                    71518 non-null  object\n",
      " 14  diag_2                    71518 non-null  object\n",
      " 15  diag_3                    71518 non-null  object\n",
      " 16  number_diagnoses          71518 non-null  int64 \n",
      " 17  max_glu_serum             71518 non-null  object\n",
      " 18  A1Cresult                 71518 non-null  object\n",
      " 19  metformin                 71518 non-null  object\n",
      " 20  glimepiride               71518 non-null  object\n",
      " 21  glipizide                 71518 non-null  object\n",
      " 22  glyburide                 71518 non-null  object\n",
      " 23  pioglitazone              71518 non-null  object\n",
      " 24  rosiglitazone             71518 non-null  object\n",
      " 25  insulin                   71518 non-null  object\n",
      " 26  change                    71518 non-null  object\n",
      " 27  diabetesMed               71518 non-null  object\n",
      " 28  readmitted                71518 non-null  object\n",
      "dtypes: int64(11), object(18)\n",
      "memory usage: 16.4+ MB\n"
     ]
    }
   ],
   "source": [
    "df_clean.info()"
   ]
  },
  {
   "cell_type": "markdown",
   "id": "f4e9bc5b",
   "metadata": {},
   "source": [
    "ICD 9 codes"
   ]
  },
  {
   "cell_type": "code",
   "execution_count": 35,
   "id": "b1729aef-e47e-4b74-bd68-b7bcd4f0f896",
   "metadata": {},
   "outputs": [],
   "source": [
    "#start by setting all values containing E or V into 0 (as one category)\n",
    "df_clean.loc[df_clean['diag_1'].str.contains('V',na=False,case=False), 'diag_1'] = 0\n",
    "df_clean.loc[df_clean['diag_1'].str.contains('E',na=False,case=False), 'diag_1'] = 0\n",
    "df_clean.loc[df_clean['diag_2'].str.contains('V',na=False,case=False), 'diag_2'] = 0\n",
    "df_clean.loc[df_clean['diag_2'].str.contains('E',na=False,case=False), 'diag_2'] = 0\n",
    "df_clean.loc[df_clean['diag_3'].str.contains('V',na=False,case=False), 'diag_3'] = 0\n",
    "df_clean.loc[df_clean['diag_3'].str.contains('E',na=False,case=False), 'diag_3'] = 0\n",
    "\n",
    "#setting all missing values into -1\n",
    "df_clean['diag_1'] = df_clean['diag_1'].replace('?', -1)\n",
    "df_clean['diag_2'] = df_clean['diag_2'].replace('?', -1)\n",
    "df_clean['diag_3'] = df_clean['diag_3'].replace('?', -1)\n",
    "\n",
    "#No all diag values can be converted into numeric values\n",
    "df_clean['diag_1'] = df_clean['diag_1'].astype(float)\n",
    "df_clean['diag_2'] = df_clean['diag_2'].astype(float)\n",
    "df_clean['diag_3'] = df_clean['diag_3'].astype(float)"
   ]
  },
  {
   "cell_type": "code",
   "execution_count": 37,
   "id": "9b38dcdd",
   "metadata": {},
   "outputs": [],
   "source": [
    "# First convert diagnosis columns to numeric type\n",
    "df_clean['diag_1'] = pd.to_numeric(df_clean['diag_1'], errors='coerce')\n",
    "df_clean['diag_2'] = pd.to_numeric(df_clean['diag_2'], errors='coerce')\n",
    "df_clean['diag_3'] = pd.to_numeric(df_clean['diag_3'], errors='coerce')\n",
    "\n",
    "# Define a function to categorize diagnosis codes\n",
    "def categorize_diagnosis(series):\n",
    "    conditions = [\n",
    "        (series >= 1) & (series < 140),\n",
    "        (series >= 140) & (series < 240),\n",
    "        (series >= 240) & (series < 280),\n",
    "        (series >= 280) & (series < 290),\n",
    "        (series >= 290) & (series < 320),\n",
    "        (series >= 320) & (series < 390),\n",
    "        (series >= 390) & (series < 460),\n",
    "        (series >= 460) & (series < 520),\n",
    "        (series >= 520) & (series < 580),\n",
    "        (series >= 580) & (series < 630),\n",
    "        (series >= 630) & (series < 680),\n",
    "        (series >= 680) & (series < 710),\n",
    "        (series >= 710) & (series < 740),\n",
    "        (series >= 740) & (series < 760),\n",
    "        (series >= 760) & (series < 780),\n",
    "        (series >= 780) & (series < 800),\n",
    "        (series >= 800) & (series < 1000)\n",
    "    ]\n",
    "    \n",
    "    choices = list(range(1, 18))\n",
    "    \n",
    "    # Handle missing values and set them to 0\n",
    "    result = np.select(conditions, choices, default=0)\n",
    "    return result\n",
    "\n",
    "# Apply categorization to each diagnosis column\n",
    "df_clean['diag_1'] = categorize_diagnosis(df['diag_1'])\n",
    "df_clean['diag_2'] = categorize_diagnosis(df['diag_2'])\n",
    "df_clean['diag_3'] = categorize_diagnosis(df['diag_3'])"
   ]
  },
  {
   "cell_type": "code",
   "execution_count": 84,
   "id": "a498f8de",
   "metadata": {},
   "outputs": [
    {
     "data": {
      "text/plain": [
       "array([250.83, 276.  , 648.  ,   8.  , 197.  , 414.  , 428.  , 398.  ,\n",
       "       434.  , 250.7 , 157.  , 518.  , 999.  , 410.  , 682.  , 402.  ,\n",
       "       737.  , 572.  ,   0.  , 189.  , 786.  , 427.  , 996.  , 277.  ,\n",
       "       584.  , 462.  , 473.  , 411.  , 174.  , 486.  , 998.  , 511.  ,\n",
       "       432.  , 626.  , 295.  , 196.  , 250.6 , 618.  , 182.  , 845.  ,\n",
       "       423.  , 808.  , 250.4 , 722.  , 403.  , 250.11, 784.  , 707.  ,\n",
       "       440.  , 151.  , 715.  , 997.  , 564.  , 812.  ,  38.  , 590.  ,\n",
       "       556.  , 578.  , 250.32, 433.  , 569.  , 185.  , 536.  , 255.  ,\n",
       "       250.13, 599.  , 558.  , 574.  , 491.  , 560.  , 244.  , 250.03,\n",
       "       577.  , 730.  , 188.  , 824.  , 250.8 , 332.  , 562.  , 291.  ,\n",
       "       296.  , 510.  , 401.  , 263.  , 438.  ,  70.  , 250.02, 493.  ,\n",
       "       642.  , 625.  , 571.  , 738.  , 593.  , 250.42, 807.  , 456.  ,\n",
       "       446.  , 575.  , 250.41, 820.  , 515.  , 780.  , 250.22, 995.  ,\n",
       "       235.  , 250.82, 721.  , 787.  , 162.  , 724.  , 282.  , 514.  ,\n",
       "       281.  , 250.33, 466.  , 435.  , 250.12, 789.  , 566.  , 822.  ,\n",
       "       191.  , 557.  , 733.  , 198.  , 455.  , 711.  , 482.  , 202.  ,\n",
       "       280.  , 553.  , 225.  , 154.  , 441.  , 250.81, 349.  ,  -1.  ,\n",
       "       962.  , 592.  , 507.  , 386.  , 156.  , 200.  , 728.  , 348.  ,\n",
       "       459.  , 426.  , 607.  , 337.  ,  82.  , 530.  , 596.  , 288.  ,\n",
       "       656.  , 531.  , 573.  , 492.  , 220.  , 516.  , 210.  , 922.  ,\n",
       "       286.  , 885.  , 958.  , 661.  , 969.  , 250.93, 227.  , 404.  ,\n",
       "       823.  , 532.  , 416.  , 346.  , 535.  , 453.  , 250.  , 595.  ,\n",
       "       211.  , 303.  , 250.01, 852.  , 218.  , 782.  , 540.  , 457.  ,\n",
       "       285.  , 431.  , 550.  ,  54.  , 351.  , 601.  , 723.  , 555.  ,\n",
       "       153.  , 443.  , 380.  , 204.  , 424.  , 241.  , 358.  , 694.  ,\n",
       "       331.  , 345.  , 681.  , 447.  , 290.  , 158.  , 579.  , 436.  ,\n",
       "       335.  , 309.  , 654.  , 805.  , 799.  , 292.  , 183.  ,  78.  ,\n",
       "       851.  , 458.  , 586.  , 311.  , 892.  , 293.  , 415.  , 591.  ,\n",
       "       794.  , 803.  ,  79.  , 655.  , 429.  , 658.  , 598.  , 729.  ,\n",
       "       585.  , 604.  , 727.  , 214.  , 444.  , 552.  , 284.  , 680.  ,\n",
       "       708.  ,  41.  , 644.  , 481.  , 821.  , 413.  , 437.  , 968.  ,\n",
       "       756.  , 359.  , 275.  , 512.  , 781.  , 278.  , 420.  , 368.  ,\n",
       "       522.  , 294.  , 825.  , 135.  , 304.  , 320.  , 250.31, 669.  ,\n",
       "       868.  , 250.43, 826.  , 567.  , 203.  ,  53.  , 251.  , 565.  ,\n",
       "       161.  , 495.  ,  49.  , 250.1 , 297.  , 576.  , 850.  , 250.2 ,\n",
       "       611.  , 840.  , 350.  , 726.  , 620.  , 180.  , 366.  , 783.  ,\n",
       "        11.  , 751.  , 716.  , 250.3 , 199.  , 580.  , 664.  , 283.  ,\n",
       "       287.  , 813.  , 496.  , 966.  , 289.  , 184.  , 480.  , 608.  ,\n",
       "       972.  , 212.  , 117.  , 924.  , 537.  , 621.  , 785.  , 714.  ,\n",
       "       942.  , 250.23, 710.  ,  47.  , 933.  , 508.  , 478.  , 333.  ,\n",
       "         7.  , 736.  , 233.  ,  42.  , 250.5 , 397.  , 395.  , 201.  ,\n",
       "       421.  , 253.  , 250.92, 494.  ,  39.  , 659.  , 312.  , 614.  ,\n",
       "       647.  , 652.  , 646.  , 861.  , 425.  , 527.  , 600.  , 451.  ,\n",
       "       485.  , 217.  , 442.  , 970.  , 959.  , 193.  , 160.  , 322.  ,\n",
       "       581.  , 475.  , 788.  , 374.  , 582.  , 568.  , 465.  , 238.  ,\n",
       "       801.  , 237.  , 376.  , 150.  , 461.  , 913.  , 226.  , 987.  ,\n",
       "       641.  , 790.  , 336.  , 362.  , 228.  , 513.  , 355.  , 383.  ,\n",
       "       746.  , 353.  , 911.  , 298.  , 155.  , 860.  , 534.  , 802.  ,\n",
       "       141.  , 396.  , 310.  , 341.  , 242.  , 305.  , 719.  , 239.  ,\n",
       "       616.  , 301.  ,   5.  , 965.  , 989.  , 230.  , 385.  , 300.  ,\n",
       "       853.  , 871.  , 570.  , 463.  , 340.  ,   9.  , 112.  , 250.21,\n",
       "       236.  , 361.  , 594.  , 501.  , 810.  , 643.  , 274.  , 430.  ,\n",
       "       528.  , 205.  , 791.  , 983.  , 992.  , 519.  , 490.  , 172.  ,\n",
       "       171.  , 622.  , 863.  , 864.  , 474.  , 660.  , 759.  ,   3.  ,\n",
       "       356.  , 634.  , 967.  , 695.  , 187.  , 732.  , 323.  , 308.  ,\n",
       "       370.  , 252.  , 152.  , 846.  , 164.  , 365.  , 718.  ,  48.  ,\n",
       "       266.  , 344.  , 797.  , 170.  , 878.  , 977.  , 904.  , 882.  ,\n",
       "       843.  , 709.  , 454.  , 686.  , 939.  , 487.  , 617.  , 483.  ,\n",
       "       357.  , 692.  , 796.  , 533.  , 693.  , 935.  , 844.  , 800.  ,\n",
       "       873.  , 920.  , 261.  , 307.  , 262.  , 250.9 , 145.  , 388.  ,\n",
       "       223.  , 839.  , 685.  , 663.  , 464.  , 179.  , 964.  , 136.  ,\n",
       "       334.  , 143.  , 526.  , 588.  , 917.  ,  88.  , 219.  , 325.  ,\n",
       "       792.  , 747.  , 717.  , 994.  , 990.  , 793.  , 207.  , 637.  ,\n",
       "       847.  ,  31.  , 306.  , 891.  , 814.  , 703.  , 865.  , 352.  ,\n",
       "       378.  , 342.  , 886.  , 369.  , 745.  , 705.  , 934.  , 541.  ,\n",
       "       986.  , 610.  , 633.  , 640.  , 753.  , 835.  , 551.  , 379.  ,\n",
       "       445.  , 272.  , 382.  , 945.  , 619.  , 881.  , 394.  , 250.52,\n",
       "       866.  , 831.  , 405.  , 916.  , 215.  , 893.  ,  75.  , 671.  ,\n",
       "       816.  , 928.  , 906.  , 897.  , 725.  , 867.  , 115.  , 890.  ,\n",
       "       734.  , 521.  , 623.  , 470.  , 834.  , 146.  , 524.  , 991.  ,\n",
       "       691.  , 384.  , 142.  , 879.  , 250.51, 246.  , 848.  , 208.  ,\n",
       "        34.  , 448.  , 955.  , 149.  , 245.  , 735.  , 883.  , 854.  ,\n",
       "       952.  , 192.  , 838.  ,  35.  , 194.  , 163.  , 216.  , 147.  ,\n",
       "       354.  ,  94.  ,  27.  , 477.  , 318.  , 880.  , 921.  , 377.  ,\n",
       "       471.  , 683.  , 175.  , 602.  , 250.91, 982.  , 195.  , 706.  ,\n",
       "       324.  , 375.  , 417.  , 131.  , 250.53, 347.  , 627.  , 720.  ,\n",
       "       870.  , 936.  , 148.  , 862.  ,  61.  , 653.  , 817.  , 674.  ,\n",
       "       914.  , 360.  , 684.  , 314.  ,  36.  , 173.  ,  57.  , 240.  ,\n",
       "       915.  , 980.  , 815.  , 971.  , 795.  , 452.  , 963.  , 327.  ,\n",
       "       842.  , 645.  , 665.  , 110.  , 944.  , 603.  , 412.  , 363.  ,\n",
       "       957.  , 976.  , 299.  , 700.  , 923.  , 529.  , 836.  ,  66.  ,\n",
       "        98.  , 605.  , 941.  ,  52.  , 806.  ,  84.  , 837.  , 657.  ,\n",
       "       338.  , 542.  , 114.  , 696.  , 273.  , 583.  , 422.  , 615.  ,\n",
       "       500.  , 903.  , 875.  , 229.  , 381.  , 632.  , 804.  , 704.  ,\n",
       "       649.  , 832.  , 133.  , 975.  , 833.  , 391.  , 690.  ,  10.  ])"
      ]
     },
     "execution_count": 84,
     "metadata": {},
     "output_type": "execute_result"
    }
   ],
   "source": [
    "#check the results\n",
    "df_clean.diag_1.unique()"
   ]
  },
  {
   "cell_type": "code",
   "execution_count": 83,
   "id": "f8488786",
   "metadata": {},
   "outputs": [
    {
     "name": "stdout",
     "output_type": "stream",
     "text": [
      "Distribution of diagnosis 1 categories:\n",
      "diag_1\n",
      "-1.0        11\n",
      " 0.0       928\n",
      " 3.0        12\n",
      " 5.0         8\n",
      " 7.0         2\n",
      "          ... \n",
      " 995.0      52\n",
      " 996.0    1125\n",
      " 997.0     255\n",
      " 998.0     457\n",
      " 999.0      18\n",
      "Name: count, Length: 680, dtype: int64\n"
     ]
    }
   ],
   "source": [
    "# 1. Basic value counts to see distribution of categories\n",
    "print(\"Distribution of diagnosis 1 categories:\")\n",
    "print(df_clean['diag_1'].value_counts().sort_index())\n"
   ]
  },
  {
   "cell_type": "code",
   "execution_count": 41,
   "id": "6c950c28",
   "metadata": {},
   "outputs": [
    {
     "name": "stdout",
     "output_type": "stream",
     "text": [
      "\n",
      "Distribution of diagnosis 2 categories:\n",
      "diag_2\n",
      "0      2894\n",
      "1      1931\n",
      "2      2547\n",
      "3     21017\n",
      "4      2926\n",
      "5      2657\n",
      "6      1286\n",
      "7     31365\n",
      "8     10251\n",
      "9      3962\n",
      "10     7987\n",
      "11      415\n",
      "12     3596\n",
      "13     1764\n",
      "14      108\n",
      "16     4632\n",
      "17     2428\n",
      "Name: count, dtype: int64\n"
     ]
    }
   ],
   "source": [
    "print(\"\\nDistribution of diagnosis 2 categories:\")\n",
    "print(df['diag_2'].value_counts().sort_index())"
   ]
  },
  {
   "cell_type": "code",
   "execution_count": 40,
   "id": "8a84167d",
   "metadata": {},
   "outputs": [
    {
     "name": "stdout",
     "output_type": "stream",
     "text": [
      "\n",
      "Distribution of diagnosis 3 categories:\n",
      "diag_3\n",
      "0      6481\n",
      "1      1861\n",
      "2      1856\n",
      "3     26308\n",
      "4      2490\n",
      "5      3136\n",
      "6      1766\n",
      "7     29918\n",
      "8      6774\n",
      "9      3572\n",
      "10     6327\n",
      "11      309\n",
      "12     2488\n",
      "13     1915\n",
      "14       96\n",
      "16     4523\n",
      "17     1946\n",
      "Name: count, dtype: int64\n"
     ]
    }
   ],
   "source": [
    "print(\"\\nDistribution of diagnosis 3 categories:\")\n",
    "print(df['diag_3'].value_counts().sort_index())"
   ]
  },
  {
   "cell_type": "code",
   "execution_count": 49,
   "id": "a4f22dd2-4587-40e9-83cc-4c19a6d032cb",
   "metadata": {},
   "outputs": [
    {
     "name": "stdout",
     "output_type": "stream",
     "text": [
      "              race  gender      age  admission_type_id  \\\n",
      "0        Caucasian  Female   [0-10)                  6   \n",
      "1        Caucasian  Female  [10-20)                  1   \n",
      "2  AfricanAmerican  Female  [20-30)                  1   \n",
      "3        Caucasian    Male  [30-40)                  1   \n",
      "4        Caucasian    Male  [40-50)                  1   \n",
      "\n",
      "   discharge_disposition_id  admission_source_id  time_in_hospital  \\\n",
      "0                        25                    1                 1   \n",
      "1                         1                    7                 3   \n",
      "2                         1                    7                 2   \n",
      "3                         1                    7                 2   \n",
      "4                         1                    7                 1   \n",
      "\n",
      "   num_lab_procedures  num_procedures  num_medications  ...  metformin  \\\n",
      "0                  41               0                1  ...         No   \n",
      "1                  59               0               18  ...         No   \n",
      "2                  11               5               13  ...         No   \n",
      "3                  44               1               16  ...         No   \n",
      "4                  51               0                8  ...         No   \n",
      "\n",
      "   glimepiride  glipizide  glyburide  pioglitazone  rosiglitazone  insulin  \\\n",
      "0           No         No         No            No             No       No   \n",
      "1           No         No         No            No             No       Up   \n",
      "2           No     Steady         No            No             No       No   \n",
      "3           No         No         No            No             No       Up   \n",
      "4           No     Steady         No            No             No   Steady   \n",
      "\n",
      "  change diabetesMed readmitted  \n",
      "0     No          No         NO  \n",
      "1     Ch         Yes        >30  \n",
      "2     No         Yes         NO  \n",
      "3     Ch         Yes         NO  \n",
      "4     Ch         Yes         NO  \n",
      "\n",
      "[5 rows x 29 columns]\n"
     ]
    }
   ],
   "source": [
    "print(df_clean.head())"
   ]
  },
  {
   "cell_type": "code",
   "execution_count": 50,
   "id": "63eeb9cf-5505-478c-b949-b5f71ce4f9c9",
   "metadata": {},
   "outputs": [],
   "source": [
    "df_clean['race'] = df_clean['race'].replace('?', 'Other')"
   ]
  },
  {
   "cell_type": "code",
   "execution_count": 51,
   "id": "a4143818-01ba-4d9a-a658-a92eb3810886",
   "metadata": {},
   "outputs": [
    {
     "data": {
      "text/plain": [
       "race\n",
       "Caucasian          53491\n",
       "AfricanAmerican    12887\n",
       "Other               3126\n",
       "Hispanic            1517\n",
       "Asian                497\n",
       "Name: count, dtype: int64"
      ]
     },
     "execution_count": 51,
     "metadata": {},
     "output_type": "execute_result"
    }
   ],
   "source": [
    "df_clean.race.value_counts()"
   ]
  },
  {
   "cell_type": "code",
   "execution_count": 52,
   "id": "e144915b-5338-4b4c-a96a-75e48b74f80e",
   "metadata": {},
   "outputs": [
    {
     "name": "stdout",
     "output_type": "stream",
     "text": [
      "0         False\n",
      "1         False\n",
      "2         False\n",
      "3         False\n",
      "4         False\n",
      "          ...  \n",
      "101754    False\n",
      "101755    False\n",
      "101756    False\n",
      "101758    False\n",
      "101765    False\n",
      "Name: race, Length: 71518, dtype: bool\n"
     ]
    }
   ],
   "source": [
    "print(df_clean['race'].isna())"
   ]
  },
  {
   "cell_type": "code",
   "execution_count": 53,
   "id": "7a695780-852d-4087-8cb5-5938dfca2120",
   "metadata": {},
   "outputs": [
    {
     "data": {
      "text/plain": [
       "gender\n",
       "Female             38025\n",
       "Male               33490\n",
       "Unknown/Invalid        3\n",
       "Name: count, dtype: int64"
      ]
     },
     "execution_count": 53,
     "metadata": {},
     "output_type": "execute_result"
    }
   ],
   "source": [
    "df_clean.gender.value_counts()"
   ]
  },
  {
   "cell_type": "code",
   "execution_count": 54,
   "id": "8ea34506-7da3-4d4d-b62e-530f16e921f2",
   "metadata": {},
   "outputs": [
    {
     "data": {
      "text/plain": [
       "gender\n",
       "Female    38028\n",
       "Male      33490\n",
       "Name: count, dtype: int64"
      ]
     },
     "execution_count": 54,
     "metadata": {},
     "output_type": "execute_result"
    }
   ],
   "source": [
    "df_clean['gender'] = df_clean['gender'].replace('Unknown/Invalid', 'Female')\n",
    "df_clean.gender.value_counts()"
   ]
  },
  {
   "cell_type": "code",
   "execution_count": 55,
   "id": "02bc7cb1-7557-4e07-b622-7a0fb1e31c1a",
   "metadata": {},
   "outputs": [
    {
     "data": {
      "text/plain": [
       "age\n",
       "[70-80)     18210\n",
       "[60-70)     15960\n",
       "[50-60)     12466\n",
       "[80-90)     11589\n",
       "[40-50)      6878\n",
       "[30-40)      2699\n",
       "[90-100)     1900\n",
       "[20-30)      1127\n",
       "[10-20)       535\n",
       "[0-10)        154\n",
       "Name: count, dtype: int64"
      ]
     },
     "execution_count": 55,
     "metadata": {},
     "output_type": "execute_result"
    }
   ],
   "source": [
    "df_clean.age.value_counts()\n"
   ]
  },
  {
   "cell_type": "code",
   "execution_count": 56,
   "id": "992a430a-4e86-4fac-8dea-a43dcd878a23",
   "metadata": {},
   "outputs": [
    {
     "name": "stderr",
     "output_type": "stream",
     "text": [
      "C:\\Users\\SnowPlay\\AppData\\Local\\Temp\\ipykernel_11628\\3365448648.py:4: FutureWarning: Downcasting behavior in `replace` is deprecated and will be removed in a future version. To retain the old behavior, explicitly call `result.infer_objects(copy=False)`. To opt-in to the future behavior, set `pd.set_option('future.no_silent_downcasting', True)`\n",
      "  df['age'] = df['age'].replace(age_range, midpoint)\n"
     ]
    }
   ],
   "source": [
    "for i in range(0, 10):\n",
    "    age_range = f'[{10*i}-{10*(i+1)})'\n",
    "    midpoint = i*10 + 5\n",
    "    df['age'] = df['age'].replace(age_range, midpoint)"
   ]
  },
  {
   "cell_type": "code",
   "execution_count": 57,
   "id": "2adaab1c-287a-429a-af24-8cf3807ad94c",
   "metadata": {},
   "outputs": [
    {
     "data": {
      "text/plain": [
       "age\n",
       "[70-80)     18210\n",
       "[60-70)     15960\n",
       "[50-60)     12466\n",
       "[80-90)     11589\n",
       "[40-50)      6878\n",
       "[30-40)      2699\n",
       "[90-100)     1900\n",
       "[20-30)      1127\n",
       "[10-20)       535\n",
       "[0-10)        154\n",
       "Name: count, dtype: int64"
      ]
     },
     "execution_count": 57,
     "metadata": {},
     "output_type": "execute_result"
    }
   ],
   "source": [
    "df_clean['age'].value_counts()"
   ]
  },
  {
   "cell_type": "code",
   "execution_count": 58,
   "id": "0a1ac834-f75b-462d-acfc-2e246763faef",
   "metadata": {},
   "outputs": [
    {
     "data": {
      "text/plain": [
       "max_glu_serum\n",
       "None    68062\n",
       "Norm     1731\n",
       ">200      969\n",
       ">300      756\n",
       "Name: count, dtype: int64"
      ]
     },
     "execution_count": 58,
     "metadata": {},
     "output_type": "execute_result"
    }
   ],
   "source": [
    "df_clean.max_glu_serum.value_counts()\n"
   ]
  },
  {
   "cell_type": "code",
   "execution_count": 59,
   "id": "6938d838-cd46-4805-a1bf-1b399b61621b",
   "metadata": {},
   "outputs": [],
   "source": [
    "label_encoder = LabelEncoder()\n",
    "df_clean['readmitted'] = label_encoder.fit_transform(df_clean['readmitted'])"
   ]
  },
  {
   "cell_type": "code",
   "execution_count": 60,
   "id": "8db28a23-d17d-47c9-a9c7-a97fd9d615d5",
   "metadata": {},
   "outputs": [],
   "source": [
    "X = df_clean.drop('readmitted', axis=1)  # Features\n",
    "y = df_clean['readmitted']               # Target variable\n"
   ]
  },
  {
   "cell_type": "code",
   "execution_count": 61,
   "id": "e9601a82-055e-4bc6-856d-66da688427be",
   "metadata": {},
   "outputs": [],
   "source": [
    "cat_features = [index for index, dtype in enumerate(X.dtypes) if dtype == 'object']\n"
   ]
  },
  {
   "cell_type": "code",
   "execution_count": 62,
   "id": "97284373-061e-41a7-bf71-caa072742a46",
   "metadata": {},
   "outputs": [
    {
     "name": "stdout",
     "output_type": "stream",
     "text": [
      "race             0\n",
      "gender           0\n",
      "age              0\n",
      "max_glu_serum    0\n",
      "A1Cresult        0\n",
      "metformin        0\n",
      "glimepiride      0\n",
      "glipizide        0\n",
      "glyburide        0\n",
      "pioglitazone     0\n",
      "rosiglitazone    0\n",
      "insulin          0\n",
      "change           0\n",
      "diabetesMed      0\n",
      "dtype: int64\n"
     ]
    }
   ],
   "source": [
    "print(X.iloc[:, cat_features].isnull().sum())\n"
   ]
  },
  {
   "cell_type": "code",
   "execution_count": 63,
   "id": "c7ad1bf0-a017-46d5-8fc9-418adad8b09c",
   "metadata": {},
   "outputs": [],
   "source": [
    "# Save as Excel\n",
    "df_clean.to_excel('clean_dataframe.xlsx', index=False, engine='openpyxl')"
   ]
  },
  {
   "cell_type": "code",
   "execution_count": 64,
   "id": "3253036f-abe7-4123-8182-9f940d379041",
   "metadata": {},
   "outputs": [
    {
     "data": {
      "text/html": [
       "<a href='clean_dataframe.xlsx' target='_blank'>clean_dataframe.xlsx</a><br>"
      ],
      "text/plain": [
       "d:\\optimizing-catboost-model-with-bayesian\\clean_dataframe.xlsx"
      ]
     },
     "execution_count": 64,
     "metadata": {},
     "output_type": "execute_result"
    }
   ],
   "source": [
    "FileLink('clean_dataframe.xlsx')"
   ]
  },
  {
   "cell_type": "markdown",
   "id": "2bc852b6",
   "metadata": {},
   "source": [
    "Training Model"
   ]
  },
  {
   "cell_type": "code",
   "execution_count": 90,
   "id": "57936b0b-cb1b-49f6-ab65-4a4da5976ac0",
   "metadata": {},
   "outputs": [],
   "source": [
    "X_train, X_valtest, y_train, y_valtest = train_test_split(X, y, test_size=0.3, random_state=101)\n",
    "X_val, X_test, y_val, y_test = train_test_split(X_valtest, y_valtest, test_size=0.5, random_state=101)\n"
   ]
  },
  {
   "cell_type": "code",
   "execution_count": 92,
   "id": "0a61f847-f398-48bb-9dc3-a6e56fd355e4",
   "metadata": {},
   "outputs": [],
   "source": [
    "train_pool = Pool(data=X_train, label=y_train, cat_features=cat_features)\n",
    "val_pool = Pool(\n",
    "    data=X_val,           # Feature set for validation\n",
    "    label=y_val,          # Target variable for validation\n",
    "    cat_features=cat_features     # Specify indices of categorical features if present\n",
    ")\n",
    "test_pool = Pool(data=X_test, label=y_test, cat_features=cat_features)\n"
   ]
  },
  {
   "cell_type": "code",
   "execution_count": 93,
   "id": "e330c891-3412-48b0-b59f-e2a9d6d953b8",
   "metadata": {},
   "outputs": [],
   "source": [
    "# Step 5: Train the CatBoost model\n",
    "model = CatBoostClassifier(\n",
    "    loss_function = 'MultiClass',\n",
    "    iterations=1000,          # Number of boosting rounds\n",
    "    learning_rate=0.05,       # Step size shrinkage\n",
    "    depth=6,                  # Depth of trees\n",
    "    verbose=100              # Display training logs\n",
    ")\n"
   ]
  },
  {
   "cell_type": "code",
   "execution_count": 94,
   "id": "97d8fd0a-f1bd-475b-8949-bc9b642996c9",
   "metadata": {},
   "outputs": [
    {
     "name": "stdout",
     "output_type": "stream",
     "text": [
      "0:\tlearn: 1.0776098\ttest: 1.0777598\tbest: 1.0777598 (0)\ttotal: 110ms\tremaining: 1m 50s\n",
      "50:\tlearn: 0.8514527\ttest: 0.8539671\tbest: 0.8539671 (50)\ttotal: 5.31s\tremaining: 1m 38s\n",
      "100:\tlearn: 0.8365138\ttest: 0.8427880\tbest: 0.8427880 (100)\ttotal: 10.9s\tremaining: 1m 37s\n",
      "150:\tlearn: 0.8301892\ttest: 0.8391821\tbest: 0.8391821 (150)\ttotal: 16.5s\tremaining: 1m 32s\n",
      "200:\tlearn: 0.8261884\ttest: 0.8374413\tbest: 0.8374332 (199)\ttotal: 22.1s\tremaining: 1m 27s\n",
      "250:\tlearn: 0.8208505\ttest: 0.8355392\tbest: 0.8355392 (250)\ttotal: 28.1s\tremaining: 1m 23s\n",
      "300:\tlearn: 0.8152538\ttest: 0.8329752\tbest: 0.8329752 (300)\ttotal: 33.9s\tremaining: 1m 18s\n",
      "350:\tlearn: 0.8106115\ttest: 0.8316798\tbest: 0.8316798 (350)\ttotal: 39.8s\tremaining: 1m 13s\n",
      "400:\tlearn: 0.8068081\ttest: 0.8307602\tbest: 0.8307462 (397)\ttotal: 45.8s\tremaining: 1m 8s\n",
      "450:\tlearn: 0.8031975\ttest: 0.8298277\tbest: 0.8298202 (449)\ttotal: 52.4s\tremaining: 1m 3s\n",
      "500:\tlearn: 0.7997367\ttest: 0.8291253\tbest: 0.8291223 (498)\ttotal: 58.4s\tremaining: 58.2s\n",
      "550:\tlearn: 0.7963742\ttest: 0.8285822\tbest: 0.8285662 (549)\ttotal: 1m 4s\tremaining: 52.6s\n",
      "600:\tlearn: 0.7933857\ttest: 0.8283413\tbest: 0.8283025 (589)\ttotal: 1m 10s\tremaining: 46.8s\n",
      "650:\tlearn: 0.7906366\ttest: 0.8280801\tbest: 0.8280678 (647)\ttotal: 1m 16s\tremaining: 40.9s\n",
      "700:\tlearn: 0.7877571\ttest: 0.8281087\tbest: 0.8280451 (661)\ttotal: 1m 22s\tremaining: 35s\n",
      "750:\tlearn: 0.7851652\ttest: 0.8277778\tbest: 0.8277778 (750)\ttotal: 1m 28s\tremaining: 29.3s\n",
      "800:\tlearn: 0.7825321\ttest: 0.8273555\tbest: 0.8273555 (800)\ttotal: 1m 34s\tremaining: 23.4s\n",
      "850:\tlearn: 0.7794629\ttest: 0.8271795\tbest: 0.8271694 (846)\ttotal: 1m 40s\tremaining: 17.6s\n",
      "900:\tlearn: 0.7767502\ttest: 0.8272245\tbest: 0.8271425 (897)\ttotal: 1m 46s\tremaining: 11.7s\n",
      "950:\tlearn: 0.7743997\ttest: 0.8269452\tbest: 0.8269445 (949)\ttotal: 1m 52s\tremaining: 5.78s\n",
      "999:\tlearn: 0.7719897\ttest: 0.8269116\tbest: 0.8269030 (969)\ttotal: 1m 58s\tremaining: 0us\n",
      "\n",
      "bestTest = 0.8269030231\n",
      "bestIteration = 969\n",
      "\n",
      "Shrink model to first 970 iterations.\n"
     ]
    },
    {
     "data": {
      "text/plain": [
       "<catboost.core.CatBoostClassifier at 0x1d9d92d2490>"
      ]
     },
     "execution_count": 94,
     "metadata": {},
     "output_type": "execute_result"
    }
   ],
   "source": [
    "model.fit(\n",
    "    X_train, y_train,\n",
    "    cat_features=cat_features,\n",
    "    eval_set=(X_test, y_test),\n",
    "\n",
    ")"
   ]
  },
  {
   "cell_type": "code",
   "execution_count": 102,
   "id": "2027b184-c4c3-4821-8bd7-a5e9a4d533fd",
   "metadata": {},
   "outputs": [],
   "source": [
    "# Step 9: Make predictions\n",
    "prediction = model.predict(X_val)"
   ]
  },
  {
   "cell_type": "code",
   "execution_count": 103,
   "id": "9a95e529",
   "metadata": {},
   "outputs": [
    {
     "name": "stdout",
     "output_type": "stream",
     "text": [
      "\n",
      "Catboost:\n",
      "-----------------------------------\n",
      "F1 Score        :  0.6151193139448173\n",
      "Confusion Matrix:\n",
      "  [[  11  194  732]\n",
      " [   6  666 2718]\n",
      " [   6  473 5922]]\n"
     ]
    }
   ],
   "source": [
    "print('\\nCatboost:')\n",
    "print('-----------------------------------')\n",
    "print('F1 Score        : ', metrics.f1_score(y_val, prediction,average='micro'))\n",
    "print('Confusion Matrix:\\n ', confusion_matrix(y_val, prediction))"
   ]
  },
  {
   "cell_type": "code",
   "execution_count": 106,
   "id": "ba844228-aefe-40d4-8ab8-b5f8fb27084c",
   "metadata": {},
   "outputs": [
    {
     "name": "stdout",
     "output_type": "stream",
     "text": [
      "Model Accuracy: 0.62\n"
     ]
    }
   ],
   "source": [
    "# Step 10: Evaluate the model\n",
    "accuracy = accuracy_score(y_val, prediction)\n",
    "print(f\"Model Accuracy: {accuracy:.2f}\")"
   ]
  },
  {
   "cell_type": "code",
   "execution_count": 71,
   "id": "cc874b27-e436-433a-8bed-6c254b240be6",
   "metadata": {},
   "outputs": [
    {
     "name": "stdout",
     "output_type": "stream",
     "text": [
      "                     Feature  Importance\n",
      "4   discharge_disposition_id   20.379270\n",
      "13                    diag_1    8.012305\n",
      "12          number_inpatient    7.195950\n",
      "14                    diag_2    6.232519\n",
      "2                        age    5.428857\n",
      "15                    diag_3    5.289500\n",
      "16          number_diagnoses    4.756848\n",
      "7         num_lab_procedures    4.712187\n",
      "5        admission_source_id    4.605473\n",
      "3          admission_type_id    3.986480\n",
      "6           time_in_hospital    3.938483\n",
      "9            num_medications    3.908597\n",
      "8             num_procedures    3.078356\n",
      "10         number_outpatient    2.546531\n",
      "11          number_emergency    2.203625\n",
      "25                   insulin    1.922001\n",
      "0                       race    1.779003\n",
      "27               diabetesMed    1.550935\n",
      "18                 A1Cresult    1.468835\n",
      "19                 metformin    1.255925\n",
      "1                     gender    1.084707\n",
      "21                 glipizide    0.917814\n",
      "23              pioglitazone    0.808475\n",
      "17             max_glu_serum    0.699274\n",
      "22                 glyburide    0.641117\n",
      "24             rosiglitazone    0.592608\n",
      "26                    change    0.552718\n",
      "20               glimepiride    0.451607\n"
     ]
    }
   ],
   "source": [
    "# Additional step: Visualize feature importance\n",
    "feature_importances = model.get_feature_importance()\n",
    "feature_names = X.columns\n",
    "importance_df = pd.DataFrame({'Feature': feature_names, 'Importance': feature_importances})\n",
    "importance_df = importance_df.sort_values(by='Importance', ascending=False)\n",
    "\n",
    "print(importance_df)"
   ]
  },
  {
   "cell_type": "code",
   "execution_count": 39,
   "id": "c32955fb-10fe-4b2e-a055-f96f2ed03a51",
   "metadata": {},
   "outputs": [],
   "source": [
    "model.save_model(\"catboost_model.cbm\", format=\"cbm\")"
   ]
  }
 ],
 "metadata": {
  "kernelspec": {
   "display_name": "env",
   "language": "python",
   "name": "python3"
  },
  "language_info": {
   "codemirror_mode": {
    "name": "ipython",
    "version": 3
   },
   "file_extension": ".py",
   "mimetype": "text/x-python",
   "name": "python",
   "nbconvert_exporter": "python",
   "pygments_lexer": "ipython3",
   "version": "3.11.0"
  }
 },
 "nbformat": 4,
 "nbformat_minor": 5
}
